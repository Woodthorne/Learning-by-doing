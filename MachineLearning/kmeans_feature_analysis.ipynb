{
 "cells": [
  {
   "cell_type": "markdown",
   "id": "3760020e",
   "metadata": {},
   "source": [
    "# K-Means klusteranalys av funktionsegenskaper\n",
    "\n",
    "I den här notebooken analyserar vi ett dataset med fyra egenskaper. Vi utför K-Means klusteranalys för varje par av egenskaper för att hitta det optimala antalet kluster baserat på silhuettmetoden.\n"
   ]
  },
  {
   "cell_type": "code",
   "execution_count": null,
   "id": "7e4c545b",
   "metadata": {},
   "outputs": [],
   "source": [
    "import pandas as pd\n",
    "\n",
    "data_path = 'smal_synthetic_cluster.csv'\n",
    "data = pd.read_csv(data_path)\n",
    "data.head()\n"
   ]
  },
  {
   "cell_type": "code",
   "execution_count": null,
   "id": "173fbb5d",
   "metadata": {},
   "outputs": [],
   "source": [
    "from sklearn.cluster import KMeans\n",
    "from sklearn.metrics import silhouette_score\n",
    "import matplotlib.pyplot as plt\n",
    "import numpy as np\n",
    "\n",
    "def optimal_kmeans(data, max_clusters=10):\n",
    "    silhouette_scores = []\n",
    "    k_values = range(2, max_clusters + 1)\n",
    "    for k in k_values:\n",
    "        kmeans = KMeans(n_clusters=k, random_state=42)\n",
    "        clusters = kmeans.fit_predict(data)\n",
    "        silhouette_avg = silhouette_score(data, clusters)\n",
    "        silhouette_scores.append(silhouette_avg)\n",
    "    optimal_k = k_values[silhouette_scores.index(max(silhouette_scores))]\n",
    "    return optimal_k, silhouette_scores\n",
    "\n",
    "def plot_clusters(data, title):\n",
    "    plt.figure(figsize=(8, 6))\n",
    "    plt.scatter(data[:, 0], data[:, 1], c=kmeans.labels_, cmap='viridis')\n",
    "    centers = kmeans.cluster_centers_\n",
    "    plt.scatter(centers[:, 0], centers[:, 1], c='red', s=200, alpha=0.75)\n",
    "    plt.title(title)\n",
    "    plt.xlabel('Feature 1')\n",
    "    plt.ylabel('Feature 2')\n",
    "    plt.show()\n",
    "\n",
    "features_pairs = [('Feature1', 'Feature2'), ('Feature1', 'Feature3'), ('Feature1', 'Feature4'),\n",
    "                  ('Feature2', 'Feature3'), ('Feature2', 'Feature4'), ('Feature3', 'Feature4')]\n",
    "\n",
    "for pair in features_pairs:\n",
    "    subset_data = data[list(pair)].values\n",
    "    optimal_k, silhouette_scores = optimal_kmeans(subset_data)\n",
    "    kmeans = KMeans(n_clusters=optimal_k, random_state=42).fit(subset_data)\n",
    "    plot_title = f\"Optimal K = {optimal_k} for {pair[0]} and {pair[1]}\"\n",
    "    plot_clusters(subset_data, plot_title)\n"
   ]
  }
 ],
 "metadata": {},
 "nbformat": 4,
 "nbformat_minor": 5
}
