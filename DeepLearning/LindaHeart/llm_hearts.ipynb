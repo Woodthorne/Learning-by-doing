{
 "cells": [
  {
   "cell_type": "markdown",
   "metadata": {},
   "source": [
    "# Lindas Lustfyllda Maskininlärning: Sjuknissarna AB - Hjärtsjukdomar\n",
    "Denna jupyter notebook innehåller en analys av datan i heart.csv och en efterföljande prediktionsmodell där målet är att ha lågt antal falska negativa klassificeringar."
   ]
  },
  {
   "cell_type": "markdown",
   "metadata": {},
   "source": [
    "#### Importerar bibliotek"
   ]
  },
  {
   "cell_type": "code",
   "execution_count": 1,
   "metadata": {},
   "outputs": [],
   "source": [
    "import numpy as np\n",
    "import pandas as pd\n",
    "import plotly.express as px\n",
    "import plotly.graph_objects as go\n",
    "from scipy import stats\n",
    "from sklearn.decomposition import PCA\n",
    "from sklearn.ensemble import RandomForestClassifier\n",
    "from sklearn.metrics import confusion_matrix\n",
    "from sklearn.model_selection import cross_validate, train_test_split"
   ]
  },
  {
   "cell_type": "markdown",
   "metadata": {},
   "source": [
    "#### Laddar datan"
   ]
  },
  {
   "cell_type": "code",
   "execution_count": 2,
   "metadata": {},
   "outputs": [],
   "source": [
    "heart_data = pd.read_csv('heart.csv')"
   ]
  },
  {
   "cell_type": "markdown",
   "metadata": {},
   "source": [
    "## Analys av data\n",
    "Till att börja med kan vi fastställa att vi har 1025 datapunkter att arbeta med och att ingen av dem saknar värde för något attribut."
   ]
  },
  {
   "cell_type": "code",
   "execution_count": 3,
   "metadata": {},
   "outputs": [
    {
     "data": {
      "text/plain": [
       "'rows: 1025'"
      ]
     },
     "metadata": {},
     "output_type": "display_data"
    }
   ],
   "source": [
    "display(f'rows: {heart_data.__len__()}')"
   ]
  },
  {
   "cell_type": "code",
   "execution_count": 4,
   "metadata": {},
   "outputs": [
    {
     "data": {
      "text/plain": [
       "'NaN values present: False'"
      ]
     },
     "metadata": {},
     "output_type": "display_data"
    }
   ],
   "source": [
    "display(f'NaN values present: {heart_data.isnull().values.any()}')"
   ]
  },
  {
   "cell_type": "code",
   "execution_count": 5,
   "metadata": {},
   "outputs": [
    {
     "data": {
      "text/html": [
       "<div>\n",
       "<style scoped>\n",
       "    .dataframe tbody tr th:only-of-type {\n",
       "        vertical-align: middle;\n",
       "    }\n",
       "\n",
       "    .dataframe tbody tr th {\n",
       "        vertical-align: top;\n",
       "    }\n",
       "\n",
       "    .dataframe thead th {\n",
       "        text-align: right;\n",
       "    }\n",
       "</style>\n",
       "<table border=\"1\" class=\"dataframe\">\n",
       "  <thead>\n",
       "    <tr style=\"text-align: right;\">\n",
       "      <th></th>\n",
       "      <th>age</th>\n",
       "      <th>sex</th>\n",
       "      <th>cp</th>\n",
       "      <th>trestbps</th>\n",
       "      <th>chol</th>\n",
       "      <th>fbs</th>\n",
       "      <th>restecg</th>\n",
       "      <th>thalach</th>\n",
       "      <th>exang</th>\n",
       "      <th>oldpeak</th>\n",
       "      <th>slope</th>\n",
       "      <th>ca</th>\n",
       "      <th>thal</th>\n",
       "      <th>target</th>\n",
       "    </tr>\n",
       "  </thead>\n",
       "  <tbody>\n",
       "    <tr>\n",
       "      <th>0</th>\n",
       "      <td>52</td>\n",
       "      <td>1</td>\n",
       "      <td>0</td>\n",
       "      <td>125</td>\n",
       "      <td>212</td>\n",
       "      <td>0</td>\n",
       "      <td>1</td>\n",
       "      <td>168</td>\n",
       "      <td>0</td>\n",
       "      <td>1.0</td>\n",
       "      <td>2</td>\n",
       "      <td>2</td>\n",
       "      <td>3</td>\n",
       "      <td>0</td>\n",
       "    </tr>\n",
       "    <tr>\n",
       "      <th>1</th>\n",
       "      <td>53</td>\n",
       "      <td>1</td>\n",
       "      <td>0</td>\n",
       "      <td>140</td>\n",
       "      <td>203</td>\n",
       "      <td>1</td>\n",
       "      <td>0</td>\n",
       "      <td>155</td>\n",
       "      <td>1</td>\n",
       "      <td>3.1</td>\n",
       "      <td>0</td>\n",
       "      <td>0</td>\n",
       "      <td>3</td>\n",
       "      <td>0</td>\n",
       "    </tr>\n",
       "    <tr>\n",
       "      <th>2</th>\n",
       "      <td>70</td>\n",
       "      <td>1</td>\n",
       "      <td>0</td>\n",
       "      <td>145</td>\n",
       "      <td>174</td>\n",
       "      <td>0</td>\n",
       "      <td>1</td>\n",
       "      <td>125</td>\n",
       "      <td>1</td>\n",
       "      <td>2.6</td>\n",
       "      <td>0</td>\n",
       "      <td>0</td>\n",
       "      <td>3</td>\n",
       "      <td>0</td>\n",
       "    </tr>\n",
       "    <tr>\n",
       "      <th>3</th>\n",
       "      <td>61</td>\n",
       "      <td>1</td>\n",
       "      <td>0</td>\n",
       "      <td>148</td>\n",
       "      <td>203</td>\n",
       "      <td>0</td>\n",
       "      <td>1</td>\n",
       "      <td>161</td>\n",
       "      <td>0</td>\n",
       "      <td>0.0</td>\n",
       "      <td>2</td>\n",
       "      <td>1</td>\n",
       "      <td>3</td>\n",
       "      <td>0</td>\n",
       "    </tr>\n",
       "    <tr>\n",
       "      <th>4</th>\n",
       "      <td>62</td>\n",
       "      <td>0</td>\n",
       "      <td>0</td>\n",
       "      <td>138</td>\n",
       "      <td>294</td>\n",
       "      <td>1</td>\n",
       "      <td>1</td>\n",
       "      <td>106</td>\n",
       "      <td>0</td>\n",
       "      <td>1.9</td>\n",
       "      <td>1</td>\n",
       "      <td>3</td>\n",
       "      <td>2</td>\n",
       "      <td>0</td>\n",
       "    </tr>\n",
       "  </tbody>\n",
       "</table>\n",
       "</div>"
      ],
      "text/plain": [
       "   age  sex  cp  trestbps  chol  fbs  restecg  thalach  exang  oldpeak  slope  \\\n",
       "0   52    1   0       125   212    0        1      168      0      1.0      2   \n",
       "1   53    1   0       140   203    1        0      155      1      3.1      0   \n",
       "2   70    1   0       145   174    0        1      125      1      2.6      0   \n",
       "3   61    1   0       148   203    0        1      161      0      0.0      2   \n",
       "4   62    0   0       138   294    1        1      106      0      1.9      1   \n",
       "\n",
       "   ca  thal  target  \n",
       "0   2     3       0  \n",
       "1   0     3       0  \n",
       "2   0     3       0  \n",
       "3   1     3       0  \n",
       "4   3     2       0  "
      ]
     },
     "metadata": {},
     "output_type": "display_data"
    }
   ],
   "source": [
    "display(heart_data.head())"
   ]
  },
  {
   "cell_type": "code",
   "execution_count": 6,
   "metadata": {},
   "outputs": [
    {
     "data": {
      "text/html": [
       "<div>\n",
       "<style scoped>\n",
       "    .dataframe tbody tr th:only-of-type {\n",
       "        vertical-align: middle;\n",
       "    }\n",
       "\n",
       "    .dataframe tbody tr th {\n",
       "        vertical-align: top;\n",
       "    }\n",
       "\n",
       "    .dataframe thead th {\n",
       "        text-align: right;\n",
       "    }\n",
       "</style>\n",
       "<table border=\"1\" class=\"dataframe\">\n",
       "  <thead>\n",
       "    <tr style=\"text-align: right;\">\n",
       "      <th></th>\n",
       "      <th>age</th>\n",
       "      <th>sex</th>\n",
       "      <th>cp</th>\n",
       "      <th>trestbps</th>\n",
       "      <th>chol</th>\n",
       "      <th>fbs</th>\n",
       "      <th>restecg</th>\n",
       "      <th>thalach</th>\n",
       "      <th>exang</th>\n",
       "      <th>oldpeak</th>\n",
       "      <th>slope</th>\n",
       "      <th>ca</th>\n",
       "      <th>thal</th>\n",
       "      <th>target</th>\n",
       "    </tr>\n",
       "  </thead>\n",
       "  <tbody>\n",
       "    <tr>\n",
       "      <th>count</th>\n",
       "      <td>1025.000000</td>\n",
       "      <td>1025.000000</td>\n",
       "      <td>1025.000000</td>\n",
       "      <td>1025.000000</td>\n",
       "      <td>1025.00000</td>\n",
       "      <td>1025.000000</td>\n",
       "      <td>1025.000000</td>\n",
       "      <td>1025.000000</td>\n",
       "      <td>1025.000000</td>\n",
       "      <td>1025.000000</td>\n",
       "      <td>1025.000000</td>\n",
       "      <td>1025.000000</td>\n",
       "      <td>1025.000000</td>\n",
       "      <td>1025.000000</td>\n",
       "    </tr>\n",
       "    <tr>\n",
       "      <th>mean</th>\n",
       "      <td>54.434146</td>\n",
       "      <td>0.695610</td>\n",
       "      <td>0.942439</td>\n",
       "      <td>131.611707</td>\n",
       "      <td>246.00000</td>\n",
       "      <td>0.149268</td>\n",
       "      <td>0.529756</td>\n",
       "      <td>149.114146</td>\n",
       "      <td>0.336585</td>\n",
       "      <td>1.071512</td>\n",
       "      <td>1.385366</td>\n",
       "      <td>0.754146</td>\n",
       "      <td>2.323902</td>\n",
       "      <td>0.513171</td>\n",
       "    </tr>\n",
       "    <tr>\n",
       "      <th>std</th>\n",
       "      <td>9.072290</td>\n",
       "      <td>0.460373</td>\n",
       "      <td>1.029641</td>\n",
       "      <td>17.516718</td>\n",
       "      <td>51.59251</td>\n",
       "      <td>0.356527</td>\n",
       "      <td>0.527878</td>\n",
       "      <td>23.005724</td>\n",
       "      <td>0.472772</td>\n",
       "      <td>1.175053</td>\n",
       "      <td>0.617755</td>\n",
       "      <td>1.030798</td>\n",
       "      <td>0.620660</td>\n",
       "      <td>0.500070</td>\n",
       "    </tr>\n",
       "    <tr>\n",
       "      <th>min</th>\n",
       "      <td>29.000000</td>\n",
       "      <td>0.000000</td>\n",
       "      <td>0.000000</td>\n",
       "      <td>94.000000</td>\n",
       "      <td>126.00000</td>\n",
       "      <td>0.000000</td>\n",
       "      <td>0.000000</td>\n",
       "      <td>71.000000</td>\n",
       "      <td>0.000000</td>\n",
       "      <td>0.000000</td>\n",
       "      <td>0.000000</td>\n",
       "      <td>0.000000</td>\n",
       "      <td>0.000000</td>\n",
       "      <td>0.000000</td>\n",
       "    </tr>\n",
       "    <tr>\n",
       "      <th>25%</th>\n",
       "      <td>48.000000</td>\n",
       "      <td>0.000000</td>\n",
       "      <td>0.000000</td>\n",
       "      <td>120.000000</td>\n",
       "      <td>211.00000</td>\n",
       "      <td>0.000000</td>\n",
       "      <td>0.000000</td>\n",
       "      <td>132.000000</td>\n",
       "      <td>0.000000</td>\n",
       "      <td>0.000000</td>\n",
       "      <td>1.000000</td>\n",
       "      <td>0.000000</td>\n",
       "      <td>2.000000</td>\n",
       "      <td>0.000000</td>\n",
       "    </tr>\n",
       "    <tr>\n",
       "      <th>50%</th>\n",
       "      <td>56.000000</td>\n",
       "      <td>1.000000</td>\n",
       "      <td>1.000000</td>\n",
       "      <td>130.000000</td>\n",
       "      <td>240.00000</td>\n",
       "      <td>0.000000</td>\n",
       "      <td>1.000000</td>\n",
       "      <td>152.000000</td>\n",
       "      <td>0.000000</td>\n",
       "      <td>0.800000</td>\n",
       "      <td>1.000000</td>\n",
       "      <td>0.000000</td>\n",
       "      <td>2.000000</td>\n",
       "      <td>1.000000</td>\n",
       "    </tr>\n",
       "    <tr>\n",
       "      <th>75%</th>\n",
       "      <td>61.000000</td>\n",
       "      <td>1.000000</td>\n",
       "      <td>2.000000</td>\n",
       "      <td>140.000000</td>\n",
       "      <td>275.00000</td>\n",
       "      <td>0.000000</td>\n",
       "      <td>1.000000</td>\n",
       "      <td>166.000000</td>\n",
       "      <td>1.000000</td>\n",
       "      <td>1.800000</td>\n",
       "      <td>2.000000</td>\n",
       "      <td>1.000000</td>\n",
       "      <td>3.000000</td>\n",
       "      <td>1.000000</td>\n",
       "    </tr>\n",
       "    <tr>\n",
       "      <th>max</th>\n",
       "      <td>77.000000</td>\n",
       "      <td>1.000000</td>\n",
       "      <td>3.000000</td>\n",
       "      <td>200.000000</td>\n",
       "      <td>564.00000</td>\n",
       "      <td>1.000000</td>\n",
       "      <td>2.000000</td>\n",
       "      <td>202.000000</td>\n",
       "      <td>1.000000</td>\n",
       "      <td>6.200000</td>\n",
       "      <td>2.000000</td>\n",
       "      <td>4.000000</td>\n",
       "      <td>3.000000</td>\n",
       "      <td>1.000000</td>\n",
       "    </tr>\n",
       "  </tbody>\n",
       "</table>\n",
       "</div>"
      ],
      "text/plain": [
       "               age          sex           cp     trestbps        chol  \\\n",
       "count  1025.000000  1025.000000  1025.000000  1025.000000  1025.00000   \n",
       "mean     54.434146     0.695610     0.942439   131.611707   246.00000   \n",
       "std       9.072290     0.460373     1.029641    17.516718    51.59251   \n",
       "min      29.000000     0.000000     0.000000    94.000000   126.00000   \n",
       "25%      48.000000     0.000000     0.000000   120.000000   211.00000   \n",
       "50%      56.000000     1.000000     1.000000   130.000000   240.00000   \n",
       "75%      61.000000     1.000000     2.000000   140.000000   275.00000   \n",
       "max      77.000000     1.000000     3.000000   200.000000   564.00000   \n",
       "\n",
       "               fbs      restecg      thalach        exang      oldpeak  \\\n",
       "count  1025.000000  1025.000000  1025.000000  1025.000000  1025.000000   \n",
       "mean      0.149268     0.529756   149.114146     0.336585     1.071512   \n",
       "std       0.356527     0.527878    23.005724     0.472772     1.175053   \n",
       "min       0.000000     0.000000    71.000000     0.000000     0.000000   \n",
       "25%       0.000000     0.000000   132.000000     0.000000     0.000000   \n",
       "50%       0.000000     1.000000   152.000000     0.000000     0.800000   \n",
       "75%       0.000000     1.000000   166.000000     1.000000     1.800000   \n",
       "max       1.000000     2.000000   202.000000     1.000000     6.200000   \n",
       "\n",
       "             slope           ca         thal       target  \n",
       "count  1025.000000  1025.000000  1025.000000  1025.000000  \n",
       "mean      1.385366     0.754146     2.323902     0.513171  \n",
       "std       0.617755     1.030798     0.620660     0.500070  \n",
       "min       0.000000     0.000000     0.000000     0.000000  \n",
       "25%       1.000000     0.000000     2.000000     0.000000  \n",
       "50%       1.000000     0.000000     2.000000     1.000000  \n",
       "75%       2.000000     1.000000     3.000000     1.000000  \n",
       "max       2.000000     4.000000     3.000000     1.000000  "
      ]
     },
     "metadata": {},
     "output_type": "display_data"
    }
   ],
   "source": [
    "display(heart_data.describe())"
   ]
  },
  {
   "cell_type": "code",
   "execution_count": 7,
   "metadata": {},
   "outputs": [
    {
     "data": {
      "image/png": "[encoded data removed]",
      "text/plain": [
       "<Figure size 640x480 with 16 Axes>"
      ]
     },
     "metadata": {},
     "output_type": "display_data"
    }
   ],
   "source": [
    "hist = heart_data.hist()"
   ]
  },
  {
   "cell_type": "markdown",
   "metadata": {},
   "source": [
    "#### Ritar ut transformerad data i 3D\n",
    "När vi ritar ut en skuggbild av datan i tre dimensioner kan vi se att det verkar finnas vissa punkter som kan bestå av extremvärden som vi kan eliminera."
   ]
  },
  {
   "cell_type": "code",
   "execution_count": 8,
   "metadata": {},
   "outputs": [],
   "source": [
    "def pca_transformation(df: pd.DataFrame, n_components: int = 3):\n",
    "    pca = PCA(n_components = n_components)\n",
    "    principal_components = pca.fit_transform(df)\n",
    "    principal_df = pd.DataFrame(data = principal_components,\n",
    "                                columns = [f'principal component {n + 1}' for n in range(n_components)],\n",
    "                                index = df.index\n",
    "                                )\n",
    "    return principal_df\n",
    "\n",
    "def plot_3d(df: pd.DataFrame, target_col: str = None):\n",
    "    if target_col:\n",
    "        targets = df[target_col]\n",
    "        df = df.drop(target_col, axis = 1)\n",
    "    \n",
    "    if len(df.columns) > 3:\n",
    "        df = pca_transformation(df)\n",
    "    \n",
    "    if target_col:\n",
    "        data = []\n",
    "        for target in targets.unique():\n",
    "            rows: pd.DataFrame = df.loc[targets == target]\n",
    "            data.append(go.Scatter3d(x = rows.iloc[:, 0],\n",
    "                                     y = rows.iloc[:, 1],\n",
    "                                     z = rows.iloc[:, 2],\n",
    "                                     mode='markers',\n",
    "                                     marker = dict(size = 5)\n",
    "                                     )\n",
    "                        )\n",
    "    else:\n",
    "        data = go.Scatter3d(x = df.iloc[:, 0],\n",
    "                            y = df.iloc[:, 1],\n",
    "                            z = df.iloc[:, 2],\n",
    "                            mode='markers',\n",
    "                            marker = dict(size = 5)\n",
    "                            )\n",
    "    fig = go.Figure(data = data)\n",
    "    fig.show()"
   ]
  },
  {
   "cell_type": "code",
   "execution_count": 9,
   "metadata": {},
   "outputs": [
    {
     "data": {
      "application/vnd.plotly.v1+json": {
       "config": {
        "plotlyServerURL": "https://plot.ly"
       },
       "data": [
        {
         "marker": {
          "size": 5
         },
         "mode": "markers",
         "type": "scatter3d",
         "x": [
          -34.615083475070094,
          -42.62527444429223,
          -70.20184255029224,
          -41.991082091500616,
          49.13121835869151,
          71.24856417931497,
          44.39919607758478,
          2.1441719361116225,
          39.88818285623133,
          94.5350661992174,
          52.551805116884545,
          -42.28680901671954,
          20.12681838758712,
          -60.305519610952715,
          61.84752164825398,
          73.16608642455739,
          10.058936423892499,
          83.7005786688802,
          -77.76314705238808,
          -114.24582985998246,
          25.516090969535277,
          -14.370817445464532,
          -17.051187094731517,
          83.72781558055989,
          2.1441719361116225,
          -15.401713679867044,
          -16.610741012149603,
          -4.102098883023488,
          -58.528398403565035,
          -27.956766924874035,
          -27.956766924874035,
          -32.4147684498084,
          -12.963302900350053,
          52.170278627390424,
          43.8575654837007,
          68.89506868118875,
          -80.02908995384023,
          82.05141843224305,
          -38.070200536601824,
          2.803562369544022,
          -68.42671913925864,
          9.625979093271079,
          -58.02370346606413,
          -12.933522544153892,
          -97.36301237396518,
          -14.370817445464532,
          5.368869142666309,
          22.535247203705723,
          -51.59445387005179,
          -58.02370346606413,
          -77.76314705238808,
          36.19679720416571,
          1.2320678059868213,
          27.997029258268295,
          52.82778767349755,
          35.30316099889719,
          -22.976259391614175,
          -40.428310360102614,
          -50.78290288789364,
          9.625979093271079,
          87.92916473687889,
          -27.821961222746882,
          61.84752164825398,
          8.285999786910503,
          -69.48284714755526,
          -77.76314705238808,
          36.921215337518305,
          13.795280086921194,
          -18.85204641313094,
          29.912197319247543,
          -48.73822927705373,
          -11.530010747524393,
          -79.99713530296357,
          -75.58608146276141,
          71.24856417931497,
          39.25712717565217,
          53.39685303063527,
          84.33462537196087,
          58.29223013211427,
          58.29223013211427,
          27.06245646228168,
          2.803562369544022,
          82.05141843224305,
          -61.162537037320234,
          37.55119223942874,
          -7.7474131428696245,
          45.60435132782197,
          37.55119223942874,
          0.5615922549685006,
          -50.78290288789364,
          162.82371313406827,
          -58.02370346606413,
          47.25459151433873,
          45.02567420270305,
          -79.99713530296357,
          2.803562369544022,
          8.285999786910503,
          63.177495279442155,
          42.41674889461053,
          -13.493714900664022,
          -45.14173386865653,
          -27.821961222746882,
          35.30316099889719,
          52.170278627390424,
          -1.9633453128329188,
          8.89774221217857,
          65.3414262923574,
          39.88818285623133,
          -10.300962377512986,
          8.285999786910503,
          -97.36301237396518,
          -15.401713679867044,
          53.39685303063527,
          11.99315412639149,
          -97.36301237396518,
          14.80453938760139,
          -16.610741012149603,
          -0.8401791303784566,
          -32.4147684498084,
          -60.305519610952715,
          39.25712717565217,
          65.3414262923574,
          27.997029258268295,
          107.05091250885924,
          45.02567420270305,
          -48.99857456619598,
          -16.67567798069691,
          -18.85204641313094,
          36.19679720416571,
          -7.952694771204844,
          -22.11635964424614,
          -40.428310360102614,
          37.55119223942874,
          44.39919607758478,
          -22.11635964424614,
          -22.976259391614175,
          13.213668126749265,
          45.60435132782197,
          52.170278627390424,
          -7.952694771204844,
          25.54022309584939,
          36.921215337518305,
          21.392523242037853,
          -27.821961222746882,
          13.795280086921194,
          9.625979093271079,
          25.516090969535277,
          -68.42671913925864,
          63.02703420909165,
          2.288357720077617,
          39.25712717565217,
          31.471319182794193,
          76.9589341220879,
          21.855867045651816,
          -39.51881439878203,
          25.54022309584939,
          10.058936423892499,
          7.206241688565243,
          2.288357720077617,
          -1.9633453128329188,
          0.6416443111325488,
          17.920782762750413,
          -45.14173386865653,
          87.92916473687889,
          14.80453938760139,
          -67.22513139861107,
          42.41674889461053,
          -41.78725658101297,
          -10.300962377512986,
          -17.012796399678304,
          -18.5645774679023,
          94.5350661992174,
          107.05091250885924,
          37.33434298790827,
          -7.952694771204844,
          -26.459723666863688,
          -22.11635964424614,
          -7.767499279445373,
          25.54022309584939,
          34.75180092961742,
          58.29223013211427,
          0.5615922549685006,
          73.16608642455739,
          16.736338350440732,
          -80.02908995384023,
          84.33462537196087,
          30.883140769897942,
          -79.99713530296357,
          -58.528398403565035,
          -38.070200536601824,
          10.058936423892499,
          -13.493714900664022,
          -14.370817445464532,
          2.803562369544022,
          31.471319182794193,
          76.9589341220879,
          43.8575654837007,
          73.16608642455739,
          63.02703420909165,
          58.75292594453537,
          0.6416443111325488,
          -4.516632128598367,
          -32.4147684498084,
          -19.110968026614003,
          5.368869142666309,
          -16.736590602671185,
          37.33434298790827,
          -0.8401791303784566,
          47.25459151433873,
          29.912197319247543,
          44.39919607758478,
          -17.19214451403936,
          161.85704315856154,
          -15.401713679867044,
          -19.110968026614003,
          -4.516632128598367,
          9.042602397707563,
          27.997029258268295,
          42.41674889461053,
          -18.5645774679023,
          45.02567420270305,
          -17.051187094731517,
          -29.706446384925005,
          58.75292594453537,
          161.85704315856154,
          52.551805116884545,
          1.2320678059868213,
          35.30316099889719,
          -75.58608146276141,
          8.89774221217857,
          63.177495279442155,
          107.05091250885924,
          30.883140769897942,
          -12.963302900350053,
          -4.516632128598367,
          13.795280086921194,
          45.60435132782197,
          83.7005786688802,
          -69.48284714755526,
          42.44932973815896,
          -40.428310360102614,
          -58.528398403565035,
          -39.51881439878203,
          -58.528398403565035,
          -41.991082091500616,
          -68.42671913925864,
          -41.991082091500616,
          -17.012796399678304,
          -80.02908995384023,
          13.012815971591243,
          -48.73822927705373,
          2.1441719361116225,
          13.213668126749265,
          -41.78725658101297,
          -18.5645774679023,
          76.9589341220879,
          9.042602397707563,
          39.88818285623133,
          94.5350661992174,
          -13.493714900664022,
          7.976200065891357,
          -68.42671913925864,
          -7.952694771204844,
          42.44932973815896,
          -61.162537037320234,
          36.921215337518305,
          42.44932973815896,
          11.99315412639149,
          76.9589341220879,
          -26.459723666863688,
          -69.48284714755526,
          107.05091250885924,
          63.177495279442155,
          -67.22513139861107,
          61.84752164825398,
          39.88818285623133,
          21.855867045651816,
          25.516090969535277,
          21.855867045651816,
          -32.62745741890965,
          -41.991082091500616,
          37.33434298790827,
          17.920782762750413,
          65.3414262923574,
          -34.18660219114867,
          68.89506868118875,
          -32.62745741890965,
          83.7005786688802,
          94.5350661992174,
          -40.79603582558336,
          -18.85204641313094,
          -27.956766924874035,
          58.75292594453537,
          1.2320678059868213,
          29.912197319247543,
          9.625979093271079,
          49.13121835869151,
          -11.530010747524393,
          9.042602397707563,
          -22.11635964424614,
          -16.67567798069691,
          36.32069521300567,
          16.736338350440732,
          -78.89680624929385,
          -34.61508347507001,
          5.368869142666309,
          36.32069521300567,
          162.82371313406827,
          -1.9633453128329188,
          -4.516632128598367,
          21.392523242037853,
          37.55119223942874,
          -10.300962377512986,
          63.177495279442155,
          -78.89680624929385,
          71.24856417931497,
          14.80453938760139,
          2.288357720077617,
          83.72781558055989,
          -34.61508347507001,
          84.33462537196087,
          -13.493714900664022,
          7.206241688565243,
          8.285999786910503,
          30.883140769897942,
          82.05141843224305,
          -67.22513139861107,
          -69.48284714755526,
          -60.305519610952715,
          161.85704315856154,
          -42.28680901671954,
          53.39685303063527,
          45.60435132782197,
          -42.62527444429223,
          -28.120937954251286,
          34.75180092961742,
          -32.4147684498084,
          -34.18660219114867,
          34.75180092961742,
          -48.99857456619598,
          -29.706446384925005,
          -17.051187094731517,
          16.736338350440732,
          -48.99857456619598,
          -40.79603582558336,
          10.058936423892499,
          89.48310406044149,
          13.012815971591243,
          27.06245646228168,
          65.3414262923574,
          -17.19214451403936,
          -42.28680901671954,
          -7.767499279445373,
          -16.736590602671185,
          53.39685303063527,
          8.535501950307266,
          84.33462537196087,
          89.48310406044149,
          -16.610741012149603,
          0.5615922549685006,
          83.72781558055989,
          31.471319182794193,
          -58.02370346606413,
          87.92916473687889,
          87.92916473687889,
          -51.59445387005179,
          -0.8401791303784566,
          -19.110968026614003,
          61.84752164825398,
          36.19679720416571,
          -41.78725658101297,
          -77.76314705238808,
          -26.459723666863688,
          44.39919607758478,
          7.976200065891357,
          52.551805116884545,
          49.13121835869151,
          35.30316099889719,
          -7.7474131428696245,
          -7.7474131428696245,
          -51.59445387005179,
          -11.530010747524393,
          -19.110968026614003,
          43.8575654837007,
          -16.736590602671185,
          -48.73822927705373,
          -17.19214451403936,
          31.471319182794193,
          -79.99713530296357,
          14.80453938760139,
          22.535247203705723,
          -42.62527444429223,
          -18.85204641313094,
          -38.070200536601824,
          22.535247203705723,
          7.206241688565243,
          -78.89680624929385,
          -17.051187094731517,
          20.12681838758712,
          -27.956766924874035,
          68.89506868118875,
          -97.36301237396518,
          -70.20184255029224,
          -17.012796399678304,
          28.86717831270707,
          47.25459151433873,
          -61.162537037320234,
          -78.89680624929385,
          8.535501950307266,
          37.33434298790827,
          8.535501950307266,
          -16.736590602671185,
          36.32069521300567,
          52.82778767349755,
          -17.19214451403936,
          89.48310406044149,
          43.8575654837007,
          -34.61508347507001,
          28.86717831270707,
          28.86717831270707,
          -39.51881439878203,
          -38.070200536601824,
          -57.961342118001696,
          -12.963302900350053,
          -114.24582985998246,
          27.06245646228168,
          -70.20184255029224,
          45.02567420270305,
          13.795280086921194,
          13.012815971591243,
          161.85704315856154,
          -40.79603582558336,
          -7.7474131428696245,
          -42.28680901671954,
          52.82778767349755,
          17.920782762750413,
          -11.530010747524393,
          22.535247203705723,
          -27.821961222746882,
          0.5615922549685006,
          21.392523242037853,
          -45.14173386865653,
          -12.933522544153892,
          73.16608642455739,
          -48.99857456619598,
          -34.18660219114867,
          2.1441719361116225,
          8.89774221217857,
          -41.78725658101297,
          -16.67567798069691,
          -28.120937954251286,
          -26.459723666863688,
          83.72781558055989,
          -114.24582985998246,
          -40.428310360102614,
          20.12681838758712,
          -39.51881439878203,
          8.89774221217857,
          -22.976259391614175,
          -16.67567798069691,
          89.48310406044149,
          -4.102098883023488,
          -15.401713679867044,
          -70.20184255029224,
          42.41674889461053,
          17.920782762750413,
          -12.933522544153892,
          -4.102098883023488,
          13.213668126749265,
          -42.62527444429223,
          -28.120937954251286,
          21.855867045651816,
          -50.78290288789364,
          63.02703420909165,
          -28.120937954251286,
          83.7005786688802,
          -12.963302900350053,
          47.25459151433873,
          -16.610741012149603,
          0.6416443111325488,
          -7.767499279445373,
          162.82371313406827,
          -57.961342118001696,
          68.89506868118875,
          7.976200065891357,
          -32.62745741890965,
          -34.18660219114867,
          -40.79603582558336,
          -22.976259391614175,
          52.82778767349755,
          -18.5645774679023,
          71.24856417931497,
          -29.706446384925005,
          36.32069521300567,
          36.19679720416571,
          -75.58608146276141,
          11.99315412639149,
          27.997029258268295,
          -57.961342118001696
         ],
         "y": [
          -18.62660346729175,
          -4.158630280682678,
          29.367477385115357,
          -8.036317426935051,
          42.96547292245616,
          6.347702539581759,
          5.481844606265328,
          2.467208493108635,
          30.628402830878937,
          8.541710169324054,
          25.47896496547502,
          -6.416900874772973,
          38.13828216182861,
          -2.528545111608114,
          3.816294272155462,
          -3.6892507167662907,
          6.845079886193498,
          33.699706727569456,
          4.1925786683595145,
          36.67620870027172,
          40.9681971026345,
          2.561886274673046,
          -0.3168980291730278,
          -20.62113202264017,
          2.467208493108635,
          -9.116471308872992,
          -10.503254193753175,
          26.882832210193293,
          9.465614599836437,
          39.00955417875641,
          39.00955417875641,
          3.899465158534307,
          -11.912540685595626,
          21.84330643957706,
          -6.732484075534982,
          20.116018159835672,
          9.978505765616722,
          11.048180174424397,
          13.770092248656724,
          4.675850350999798,
          -9.383498545709456,
          -2.3771250229099214,
          8.79148618200347,
          -13.36298449758079,
          22.987083588561358,
          2.561886274673046,
          10.311445652716687,
          -9.1052889096482,
          12.787235811647822,
          8.79148618200347,
          4.1925786683595145,
          51.202089392443064,
          -8.742867476575125,
          26.65019964033789,
          -24.621976910356526,
          44.66645184815431,
          -31.48983944053192,
          39.39846166600412,
          -29.774642074647456,
          -2.3771250229099214,
          2.421936079750821,
          15.849838394592734,
          3.816294272155462,
          3.2579392788332857,
          27.330151567520637,
          4.1925786683595145,
          8.245476530508862,
          8.814180192727317,
          7.530659327020262,
          61.405460138713316,
          14.934173484004768,
          5.701036727364461,
          32.0790357590549,
          -11.05371411410116,
          6.347702539581759,
          -40.8761712573439,
          -22.75210740331792,
          16.068789459002126,
          -10.690582561295505,
          -10.690582561295505,
          -19.03136381307574,
          4.675850350999798,
          11.048180174424397,
          45.14908252258874,
          44.44103274380951,
          20.975970944392536,
          20.92188067278,
          44.44103274380951,
          52.8032015761876,
          -29.774642074647456,
          -4.449839039618962,
          8.79148618200347,
          -19.93803962806077,
          26.85645695256754,
          32.0790357590549,
          4.675850350999798,
          3.2579392788332857,
          17.281866409735148,
          43.95397110008214,
          -8.51988828682093,
          24.105408540716923,
          15.849838394592734,
          44.66645184815431,
          21.84330643957706,
          21.5944017576938,
          23.661748164554368,
          26.182749352137094,
          30.628402830878937,
          -23.845080562624414,
          3.2579392788332857,
          22.987083588561358,
          -9.116471308872992,
          -22.75210740331792,
          8.12102218650655,
          22.987083588561358,
          7.347401275345697,
          -10.503254193753175,
          -1.8334002349446494,
          3.899465158534307,
          -2.528545111608114,
          -40.8761712573439,
          26.182749352137094,
          26.65019964033789,
          14.236855399564975,
          26.85645695256754,
          15.581022155496456,
          -35.693163711999276,
          7.530659327020262,
          51.202089392443064,
          78.00818451734274,
          -22.16937237186782,
          39.39846166600412,
          44.44103274380951,
          5.481844606265328,
          -22.16937237186782,
          -31.48983944053192,
          18.795926396448774,
          20.92188067278,
          21.84330643957706,
          78.00818451734274,
          38.941166042702996,
          8.245476530508862,
          48.97648840668738,
          15.849838394592734,
          8.814180192727317,
          -2.3771250229099214,
          40.9681971026345,
          -9.383498545709456,
          -0.25798197824462693,
          32.98112764850379,
          -40.8761712573439,
          37.64626729786679,
          40.05054247706901,
          -20.53366710257921,
          18.680864672066587,
          38.941166042702996,
          6.845079886193498,
          5.69416630994188,
          32.98112764850379,
          21.5944017576938,
          4.037683641416328,
          51.832251482376776,
          24.105408540716923,
          2.421936079750821,
          7.347401275345697,
          63.28069454272952,
          43.95397110008214,
          -10.598955276254094,
          -23.845080562624414,
          -16.191095939736087,
          -21.041697027428004,
          8.541710169324054,
          14.236855399564975,
          -11.983827957247916,
          78.00818451734274,
          45.82651893200422,
          -22.16937237186782,
          6.140787450688319,
          38.941166042702996,
          -11.549328963791078,
          -10.690582561295505,
          52.8032015761876,
          -3.6892507167662907,
          12.803632745217,
          9.978505765616722,
          16.068789459002126,
          4.913840743370162,
          32.0790357590549,
          9.465614599836437,
          13.770092248656724,
          6.845079886193498,
          -8.51988828682093,
          2.561886274673046,
          4.675850350999798,
          37.64626729786679,
          40.05054247706901,
          -6.732484075534982,
          -3.6892507167662907,
          -0.25798197824462693,
          4.7643079682677545,
          4.037683641416328,
          -6.112145708098923,
          3.899465158534307,
          38.395745636742966,
          10.311445652716687,
          21.420682582174322,
          -11.983827957247916,
          -1.8334002349446494,
          -19.93803962806077,
          61.405460138713316,
          5.481844606265328,
          -12.374598859910733,
          -5.694329410698584,
          -9.116471308872992,
          38.395745636742966,
          -6.112145708098923,
          6.142895653843732,
          26.65019964033789,
          43.95397110008214,
          -21.041697027428004,
          26.85645695256754,
          -0.3168980291730278,
          18.89502547007514,
          4.7643079682677545,
          -5.694329410698584,
          25.47896496547502,
          -8.742867476575125,
          44.66645184815431,
          -11.05371411410116,
          23.661748164554368,
          17.281866409735148,
          14.236855399564975,
          4.913840743370162,
          -11.912540685595626,
          -6.112145708098923,
          8.814180192727317,
          20.92188067278,
          33.699706727569456,
          27.330151567520637,
          -8.425224108762004,
          39.39846166600412,
          9.465614599836437,
          18.680864672066587,
          9.465614599836437,
          -8.036317426935051,
          -9.383498545709456,
          -8.036317426935051,
          -16.191095939736087,
          9.978505765616722,
          -5.439132045936001,
          14.934173484004768,
          2.467208493108635,
          18.795926396448774,
          -10.598955276254094,
          -21.041697027428004,
          40.05054247706901,
          6.142895653843732,
          30.628402830878937,
          8.541710169324054,
          -8.51988828682093,
          -12.162246342688613,
          -9.383498545709456,
          78.00818451734274,
          -8.425224108762004,
          45.14908252258874,
          8.245476530508862,
          -8.425224108762004,
          8.12102218650655,
          40.05054247706901,
          45.82651893200422,
          27.330151567520637,
          14.236855399564975,
          17.281866409735148,
          63.28069454272952,
          3.816294272155462,
          30.628402830878937,
          -20.53366710257921,
          40.9681971026345,
          -20.53366710257921,
          20.48460665355693,
          -8.036317426935051,
          -11.983827957247916,
          51.832251482376776,
          26.182749352137094,
          17.98518905354092,
          20.116018159835672,
          20.48460665355693,
          33.699706727569456,
          8.541710169324054,
          19.600573186422398,
          7.530659327020262,
          39.00955417875641,
          4.7643079682677545,
          -8.742867476575125,
          61.405460138713316,
          -2.3771250229099214,
          42.96547292245616,
          5.701036727364461,
          6.142895653843732,
          -22.16937237186782,
          -35.693163711999276,
          -22.923534080873594,
          12.803632745217,
          27.414760200265132,
          -18.626603467291723,
          10.311445652716687,
          -22.923534080873594,
          -4.449839039618962,
          21.5944017576938,
          -6.112145708098923,
          48.97648840668738,
          44.44103274380951,
          -23.845080562624414,
          17.281866409735148,
          27.414760200265132,
          6.347702539581759,
          7.347401275345697,
          32.98112764850379,
          -20.62113202264017,
          -18.626603467291723,
          16.068789459002126,
          -8.51988828682093,
          5.69416630994188,
          3.2579392788332857,
          4.913840743370162,
          11.048180174424397,
          63.28069454272952,
          27.330151567520637,
          -2.528545111608114,
          -5.694329410698584,
          -6.416900874772973,
          -22.75210740331792,
          20.92188067278,
          -4.158630280682663,
          5.765390973142838,
          -11.549328963791078,
          3.899465158534307,
          17.98518905354092,
          -11.549328963791078,
          15.581022155496456,
          18.89502547007514,
          -0.3168980291730278,
          12.803632745217,
          15.581022155496456,
          19.600573186422398,
          6.845079886193498,
          -8.61669002773243,
          -5.439132045936001,
          -19.03136381307574,
          26.182749352137094,
          -12.374598859910733,
          -6.416900874772973,
          6.140787450688319,
          21.420682582174322,
          -22.75210740331792,
          -12.614950961681116,
          16.068789459002126,
          -8.61669002773243,
          -10.503254193753175,
          52.8032015761876,
          -20.62113202264017,
          37.64626729786679,
          8.79148618200347,
          2.421936079750821,
          2.421936079750821,
          12.787235811647822,
          -1.8334002349446494,
          38.395745636742966,
          3.816294272155462,
          51.202089392443064,
          -10.598955276254094,
          4.1925786683595145,
          45.82651893200422,
          5.481844606265328,
          -12.162246342688613,
          25.47896496547502,
          42.96547292245616,
          44.66645184815431,
          20.975970944392536,
          20.975970944392536,
          12.787235811647822,
          5.701036727364461,
          38.395745636742966,
          -6.732484075534982,
          21.420682582174322,
          14.934173484004768,
          -12.374598859910733,
          37.64626729786679,
          32.0790357590549,
          7.347401275345697,
          -9.1052889096482,
          -4.158630280682663,
          7.530659327020262,
          13.770092248656724,
          -9.1052889096482,
          5.69416630994188,
          27.414760200265132,
          -0.3168980291730278,
          38.13828216182861,
          39.00955417875641,
          20.116018159835672,
          22.987083588561358,
          29.367477385115368,
          -16.191095939736087,
          26.10440007180878,
          -19.93803962806077,
          45.14908252258874,
          27.414760200265132,
          -12.614950961681116,
          -11.983827957247916,
          -12.614950961681116,
          21.420682582174322,
          -22.923534080873594,
          -24.621976910356526,
          -12.374598859910733,
          -8.61669002773243,
          -6.732484075534982,
          -18.626603467291723,
          26.10440007180878,
          26.10440007180878,
          18.680864672066587,
          13.770092248656724,
          35.82058784232534,
          -11.912540685595626,
          36.67620870027172,
          -19.03136381307574,
          29.367477385115368,
          26.85645695256754,
          8.814180192727317,
          -5.439132045936001,
          -5.694329410698584,
          19.600573186422398,
          20.975970944392536,
          -6.416900874772973,
          -24.621976910356526,
          51.832251482376776,
          5.701036727364461,
          -9.1052889096482,
          15.849838394592734,
          52.8032015761876,
          48.97648840668738,
          24.105408540716923,
          -13.36298449758079,
          -3.6892507167662907,
          15.581022155496456,
          17.98518905354092,
          2.467208493108635,
          23.661748164554368,
          -10.598955276254094,
          -35.693163711999276,
          5.765390973142838,
          45.82651893200422,
          -20.62113202264017,
          36.67620870027172,
          39.39846166600412,
          38.13828216182861,
          18.680864672066587,
          23.661748164554368,
          -31.48983944053192,
          -35.693163711999276,
          -8.61669002773243,
          26.882832210193293,
          -9.116471308872992,
          29.367477385115368,
          43.95397110008214,
          51.832251482376776,
          -13.36298449758079,
          26.882832210193293,
          18.795926396448774,
          -4.158630280682663,
          5.765390973142838,
          -20.53366710257921,
          -29.774642074647456,
          -0.25798197824462693,
          5.765390973142838,
          33.699706727569456,
          -11.912540685595626,
          -19.93803962806077,
          -10.503254193753175,
          4.037683641416328,
          6.140787450688319,
          -4.449839039618962,
          35.82058784232534,
          20.116018159835672,
          -12.162246342688613,
          20.48460665355693,
          17.98518905354092,
          19.600573186422398,
          -31.48983944053192,
          -24.621976910356526,
          -21.041697027428004,
          6.347702539581759,
          18.89502547007514,
          -22.923534080873594,
          51.202089392443064,
          -11.05371411410116,
          8.12102218650655,
          26.65019964033789,
          35.82058784232535
         ],
         "z": [
          -2.9617134392540905,
          11.003326712491544,
          16.30685951118114,
          20.511713822023463,
          0.014900556519141822,
          -21.6412467076747,
          25.298904959853097,
          -13.227098720685738,
          -15.226554711024807,
          -7.484807598209626,
          2.1505845227692255,
          -0.9080750493497461,
          -12.984190150759055,
          12.838958886493515,
          10.452677003828594,
          1.2440217327047416,
          -2.6878018715890346,
          39.934416172985976,
          -9.250137857859826,
          1.0536725180142024,
          24.66372178061513,
          17.616307526842697,
          -2.235866230259483,
          -3.018935174594927,
          -13.227098720685738,
          49.820388443190666,
          -11.640764394931088,
          5.970143565249197,
          -10.148037284189973,
          5.7180666819001935,
          5.7180666819001935,
          23.54926701931585,
          24.72092459257426,
          -34.95892154337368,
          37.24031967170026,
          -3.5314289875527796,
          32.82957606967086,
          33.175854302820575,
          9.928310712391614,
          -7.026130953371551,
          13.861719281702722,
          -2.835785534089756,
          11.915686781893848,
          9.90292271597124,
          -11.499009585518245,
          17.616307526842697,
          41.45872904220718,
          9.278451547682621,
          15.83917480050549,
          11.915686781893848,
          -9.250137857859826,
          -16.4706555509848,
          -19.076113894240095,
          -27.152413032197174,
          7.6412868841266075,
          -17.358378848677173,
          22.92431841570664,
          -23.738384510373525,
          -16.977160295986817,
          -2.835785534089756,
          -26.29149324887072,
          -5.109344094447374,
          10.452677003828594,
          -1.1537462317087588,
          -12.425665554817598,
          -9.250137857859826,
          11.228995230292396,
          -12.315684974166558,
          39.027823701548236,
          12.225735588192329,
          -5.2842749072164885,
          3.392379784247953,
          -22.784544630444806,
          -18.124606165279815,
          -21.6412467076747,
          62.459394428982584,
          -6.513155667984606,
          -6.782907824514983,
          -5.301422588389726,
          -5.301422588389726,
          -7.943885994923473,
          -7.026130953371551,
          33.175854302820575,
          -0.9801978791803013,
          -8.380745726190927,
          -23.480402926801688,
          63.582884281499204,
          -8.380745726190927,
          -16.025642296491156,
          -16.977160295986817,
          -5.922534108183217,
          11.915686781893848,
          8.778791836067397,
          28.189577611911485,
          -22.784544630444806,
          -7.026130953371551,
          -1.1537462317087588,
          -10.590127194093775,
          22.93869885403256,
          -29.29796339404557,
          11.516989028752402,
          -5.109344094447374,
          -17.358378848677173,
          -34.95892154337368,
          15.394514723887145,
          1.8445092115279653,
          0.5872978792548458,
          -15.226554711024807,
          1.9837174686956158,
          -1.1537462317087588,
          -11.499009585518245,
          49.820388443190666,
          -6.513155667984606,
          -7.309830820043995,
          -11.499009585518245,
          -8.860219662007554,
          -11.640764394931088,
          19.693424587151085,
          23.54926701931585,
          12.838958886493515,
          62.459394428982584,
          0.5872978792548458,
          -27.152413032197174,
          -7.0566071786878775,
          28.189577611911485,
          -13.460061605189512,
          -9.087332588606728,
          39.027823701548236,
          -16.4706555509848,
          -17.931229970906944,
          4.63839085955621,
          -23.738384510373525,
          -8.380745726190927,
          25.298904959853097,
          4.63839085955621,
          22.92431841570664,
          -5.860216686556818,
          63.582884281499204,
          -34.95892154337368,
          -17.931229970906944,
          13.104567949739641,
          11.228995230292396,
          -17.059206172718394,
          -5.109344094447374,
          -12.315684974166558,
          -2.835785534089756,
          24.66372178061513,
          13.861719281702722,
          5.482243967954754,
          26.21899856735944,
          62.459394428982584,
          12.774627583266922,
          -7.991224338433453,
          -21.185566648527537,
          -0.63469473062942,
          13.104567949739641,
          -2.6878018715890346,
          -1.8147715682174421,
          26.21899856735944,
          15.394514723887145,
          -1.7794259940115484,
          -7.221682897091325,
          11.516989028752402,
          -26.29149324887072,
          -8.860219662007554,
          29.67722843034007,
          22.93869885403256,
          6.560778693771906,
          1.9837174686956158,
          -16.25033724662679,
          -19.128026471023258,
          -7.484807598209626,
          -7.0566071786878775,
          -11.783278087715443,
          -17.931229970906944,
          11.262957843320594,
          4.63839085955621,
          -21.107655625816808,
          13.104567949739641,
          -9.143410624217843,
          -5.301422588389726,
          -16.025642296491156,
          1.2440217327047416,
          -25.282202118394604,
          32.82957606967086,
          -6.782907824514983,
          47.98633589415631,
          -22.784544630444806,
          -10.148037284189973,
          9.928310712391614,
          -2.6878018715890346,
          -29.29796339404557,
          17.616307526842697,
          -7.026130953371551,
          12.774627583266922,
          -7.991224338433453,
          37.24031967170026,
          1.2440217327047416,
          5.482243967954754,
          -5.912690180009338,
          -1.7794259940115484,
          -23.722682249261076,
          23.54926701931585,
          16.708076704049887,
          41.45872904220718,
          -11.130462791000213,
          -11.783278087715443,
          19.693424587151085,
          8.778791836067397,
          12.225735588192329,
          25.298904959853097,
          -17.597890080512208,
          11.28137182816832,
          49.820388443190666,
          16.708076704049887,
          -23.722682249261076,
          9.365753587561635,
          -27.152413032197174,
          22.93869885403256,
          -19.128026471023258,
          28.189577611911485,
          -2.235866230259483,
          -3.489691459162937,
          -5.912690180009338,
          11.28137182816832,
          2.1505845227692255,
          -19.076113894240095,
          -17.358378848677173,
          -18.124606165279815,
          1.8445092115279653,
          -10.590127194093775,
          -7.0566071786878775,
          47.98633589415631,
          24.72092459257426,
          -23.722682249261076,
          -12.315684974166558,
          63.582884281499204,
          39.934416172985976,
          -12.425665554817598,
          -22.532402347503606,
          -23.738384510373525,
          -10.148037284189973,
          -0.63469473062942,
          -10.148037284189973,
          20.511713822023463,
          13.861719281702722,
          20.511713822023463,
          -16.25033724662679,
          32.82957606967086,
          19.056712969602934,
          -5.2842749072164885,
          -13.227098720685738,
          -5.860216686556818,
          6.560778693771906,
          -19.128026471023258,
          -7.991224338433453,
          9.365753587561635,
          -15.226554711024807,
          -7.484807598209626,
          -29.29796339404557,
          -3.8234988927744484,
          13.861719281702722,
          -17.931229970906944,
          -22.532402347503606,
          -0.9801978791803013,
          11.228995230292396,
          -22.532402347503606,
          -7.309830820043995,
          -7.991224338433453,
          11.262957843320594,
          -12.425665554817598,
          -7.0566071786878775,
          -10.590127194093775,
          29.67722843034007,
          10.452677003828594,
          -15.226554711024807,
          -21.185566648527537,
          24.66372178061513,
          -21.185566648527537,
          14.315497396195108,
          20.511713822023463,
          -11.783278087715443,
          -7.221682897091325,
          0.5872978792548458,
          -17.9406203232107,
          -3.5314289875527796,
          14.315497396195108,
          39.934416172985976,
          -7.484807598209626,
          -3.415538680588433,
          39.027823701548236,
          5.7180666819001935,
          -5.912690180009338,
          -19.076113894240095,
          12.225735588192329,
          -2.835785534089756,
          0.014900556519141822,
          3.392379784247953,
          9.365753587561635,
          4.63839085955621,
          -9.087332588606728,
          8.47540365963852,
          -25.282202118394604,
          8.71176410608917,
          -2.9617134392540536,
          41.45872904220718,
          8.47540365963852,
          -5.922534108183217,
          15.394514723887145,
          -23.722682249261076,
          -17.059206172718394,
          -8.380745726190927,
          1.9837174686956158,
          -10.590127194093775,
          8.71176410608917,
          -21.6412467076747,
          -8.860219662007554,
          26.21899856735944,
          -3.018935174594927,
          -2.9617134392540536,
          -6.782907824514983,
          -29.29796339404557,
          -1.8147715682174421,
          -1.1537462317087588,
          47.98633589415631,
          33.175854302820575,
          29.67722843034007,
          -12.425665554817598,
          12.838958886493515,
          11.28137182816832,
          -0.9080750493497461,
          -6.513155667984606,
          63.582884281499204,
          11.003326712491647,
          -14.937081897246522,
          -9.143410624217843,
          23.54926701931585,
          -17.9406203232107,
          -9.143410624217843,
          -13.460061605189512,
          -3.489691459162937,
          -2.235866230259483,
          -25.282202118394604,
          -13.460061605189512,
          -3.415538680588433,
          -2.6878018715890346,
          5.742993818692983,
          19.056712969602934,
          -7.943885994923473,
          0.5872978792548458,
          -17.597890080512208,
          -0.9080750493497461,
          -21.107655625816808,
          -11.130462791000213,
          -6.513155667984606,
          -3.0528314228966607,
          -6.782907824514983,
          5.742993818692983,
          -11.640764394931088,
          -16.025642296491156,
          -3.018935174594927,
          12.774627583266922,
          11.915686781893848,
          -26.29149324887072,
          -26.29149324887072,
          15.83917480050549,
          19.693424587151085,
          16.708076704049887,
          10.452677003828594,
          -16.4706555509848,
          6.560778693771906,
          -9.250137857859826,
          11.262957843320594,
          25.298904959853097,
          -3.8234988927744484,
          2.1505845227692255,
          0.014900556519141822,
          -17.358378848677173,
          -23.480402926801688,
          -23.480402926801688,
          15.83917480050549,
          3.392379784247953,
          16.708076704049887,
          37.24031967170026,
          -11.130462791000213,
          -5.2842749072164885,
          -17.597890080512208,
          12.774627583266922,
          -22.784544630444806,
          -8.860219662007554,
          9.278451547682621,
          11.003326712491647,
          39.027823701548236,
          9.928310712391614,
          9.278451547682621,
          -1.8147715682174421,
          8.71176410608917,
          -2.235866230259483,
          -12.984190150759055,
          5.7180666819001935,
          -3.5314289875527796,
          -11.499009585518245,
          16.306859511181155,
          -16.25033724662679,
          24.457433862553614,
          8.778791836067397,
          -0.9801978791803013,
          8.71176410608917,
          -3.0528314228966607,
          -11.783278087715443,
          -3.0528314228966607,
          -11.130462791000213,
          8.47540365963852,
          7.6412868841266075,
          -17.597890080512208,
          5.742993818692983,
          37.24031967170026,
          -2.9617134392540536,
          24.457433862553614,
          24.457433862553614,
          -0.63469473062942,
          9.928310712391614,
          -12.387991333892906,
          24.72092459257426,
          1.0536725180142024,
          -7.943885994923473,
          16.306859511181155,
          28.189577611911485,
          -12.315684974166558,
          19.056712969602934,
          11.28137182816832,
          -3.415538680588433,
          -23.480402926801688,
          -0.9080750493497461,
          7.6412868841266075,
          -7.221682897091325,
          3.392379784247953,
          9.278451547682621,
          -5.109344094447374,
          -16.025642296491156,
          -17.059206172718394,
          11.516989028752402,
          9.90292271597124,
          1.2440217327047416,
          -13.460061605189512,
          -17.9406203232107,
          -13.227098720685738,
          1.8445092115279653,
          6.560778693771906,
          -9.087332588606728,
          -14.937081897246522,
          11.262957843320594,
          -3.018935174594927,
          1.0536725180142024,
          -23.738384510373525,
          -12.984190150759055,
          -0.63469473062942,
          1.8445092115279653,
          22.92431841570664,
          -9.087332588606728,
          5.742993818692983,
          5.970143565249197,
          49.820388443190666,
          16.306859511181155,
          22.93869885403256,
          -7.221682897091325,
          9.90292271597124,
          5.970143565249197,
          -5.860216686556818,
          11.003326712491647,
          -14.937081897246522,
          -21.185566648527537,
          -16.977160295986817,
          5.482243967954754,
          -14.937081897246522,
          39.934416172985976,
          24.72092459257426,
          8.778791836067397,
          -11.640764394931088,
          -1.7794259940115484,
          -21.107655625816808,
          -5.922534108183217,
          -12.387991333892906,
          -3.5314289875527796,
          -3.8234988927744484,
          14.315497396195108,
          -17.9406203232107,
          -3.415538680588433,
          22.92431841570664,
          7.6412868841266075,
          -19.128026471023258,
          -21.6412467076747,
          -3.489691459162937,
          8.47540365963852,
          -16.4706555509848,
          -18.124606165279815,
          -7.309830820043995,
          -27.152413032197174,
          -12.387991333892904
         ]
        },
        {
         "marker": {
          "size": 5
         },
         "mode": "markers",
         "type": "scatter3d",
         "x": [
          0.9531253289445883,
          -96.7464284609108,
          -38.03469041499279,
          -38.03469041499279,
          62.24091379330991,
          -2.934976543150006,
          -34.58856475232087,
          -23.605683746396117,
          -39.654316908055094,
          6.182335582751353,
          -38.34301051569894,
          -13.901626825945616,
          -2.934976543150006,
          -50.4029907568859,
          -33.06224173993791,
          24.98804460562136,
          17.792111708113836,
          115.56472114547444,
          11.406232171860928,
          95.59618072236727,
          -20.45588462642522,
          -43.054771401495664,
          33.0757499852578,
          37.794746905790674,
          -71.53494785004047,
          -53.57930274202695,
          -1.7756191630707039,
          -43.7716883745539,
          33.0757499852578,
          -32.940628289618594,
          -43.7716883745539,
          -49.07491672170531,
          -32.51894368636327,
          10.88757618421757,
          7.9742879843035634,
          -45.00947727623231,
          -45.00947727623231,
          -71.53494785004047,
          -32.51894368636327,
          -27.24356306564034,
          -34.58856475232087,
          19.51121981944517,
          -37.1834323040949,
          -37.663009905286344,
          -10.08634884094708,
          56.6649731785796,
          -47.13646327662887,
          -34.099421741673396,
          -119.05833601488723,
          61.57309458385426,
          10.88757618421757,
          -61.22377992606687,
          -18.966951316430634,
          -43.7716883745539,
          47.62317492996612,
          61.57309458385426,
          171.36592249893624,
          -5.157516677598523,
          55.74760340516817,
          -49.07491672170531,
          -23.01075797202805,
          -53.349345049953484,
          -5.157516677598523,
          9.75672334089651,
          -43.054771401495664,
          -50.4029907568859,
          61.57309458385426,
          95.59618072236727,
          81.55188329324659,
          10.88757618421757,
          -12.657738657681037,
          -65.7269182972209,
          -43.10397890680671,
          48.06387299500624,
          52.39080466744669,
          74.15695326702115,
          11.406232171860928,
          61.57309458385426,
          -47.47976312386035,
          11.406232171860928,
          316.84600873309813,
          -90.39686927327527,
          -25.57575811254535,
          107.09952454583168,
          68.1199122998153,
          -87.0199802968984,
          1.1359218580179384,
          -6.781702485242788,
          -49.81856067702194,
          -35.536743363997374,
          -66.46417011865637,
          61.004438514670035,
          2.043916511577068,
          -25.157882280005573,
          316.84600873309813,
          -9.720481264784613,
          -32.940628289618594,
          12.25570673618765,
          70.44574347454495,
          -37.1834323040949,
          -65.7269182972209,
          52.39080466744669,
          -16.748574324705395,
          33.0757499852578,
          -2.096966015229503,
          2.043916511577068,
          -71.53494785004047,
          -7.70272168636242,
          68.1199122998153,
          61.004438514670035,
          19.3442292521584,
          -90.39686927327527,
          -35.536743363997374,
          -49.81856067702194,
          14.726542016128414,
          -13.297956102585033,
          -5.094848416242527,
          -41.68196604846059,
          -10.897935154225602,
          58.84393160803518,
          22.451943685659632,
          -16.748574324705395,
          41.77262986674771,
          -71.53494785004047,
          -1.7032961893560021,
          -27.99503129034412,
          -26.302817350514218,
          -66.46417011865637,
          -87.0199802968984,
          148.29565667742742,
          -63.799795685887695,
          81.55188329324659,
          55.74760340516817,
          -21.2443036763595,
          -13.297956102585033,
          -25.2053881037483,
          95.59618072236727,
          -39.654316908055094,
          18.82914704207346,
          -36.63259081017232,
          15.62215704949294,
          -26.302817350514218,
          -15.922679794245465,
          -39.05632677132957,
          -27.99503129034412,
          -50.031640057697366,
          -12.802121709819334,
          -55.50745347388262,
          -42.85749410753786,
          -35.536743363997374,
          18.82914704207346,
          67.88364682577084,
          57.78533358690015,
          93.04020523815088,
          -23.01075797202805,
          -1.646887475263811,
          -32.940628289618594,
          -55.50745347388262,
          77.82758850619727,
          -43.8976103044347,
          -21.03754503875548,
          95.59618072236727,
          -50.053858695452966,
          -5.094848416242527,
          -27.24356306564034,
          48.32222498055922,
          23.56770376169601,
          -47.47976312386035,
          -2.096966015229503,
          67.88364682577084,
          6.182335582751353,
          -29.70182876457816,
          17.908364327788178,
          28.73035250361638,
          -1.7756191630707039,
          48.32222498055922,
          -29.70182876457816,
          -32.51894368636327,
          2.668068923241188,
          -33.14709668988998,
          -119.05833601488723,
          26.552643350375146,
          -71.53494785004047,
          -21.2443036763595,
          24.55498468780253,
          -45.17718560625677,
          -90.39686927327527,
          19.51121981944517,
          55.74760340516817,
          -45.548113774255896,
          -3.0609969081575867,
          -29.70182876457816,
          -25.2053881037483,
          -14.691926309086977,
          -34.099421741673396,
          -0.472703573807467,
          -0.472703573807467,
          -7.232305323340911,
          -71.69951563115444,
          -33.14709668988998,
          -68.83140552730704,
          -15.922679794245465,
          -24.55488226952728,
          57.57117499138386,
          -61.22377992606687,
          -71.69951563115444,
          -38.34301051569894,
          -11.972777409248089,
          -71.69951563115444,
          33.0757499852578,
          -15.922679794245465,
          -11.972777409248089,
          -96.7464284609108,
          0.9313926483900088,
          -43.8976103044347,
          -34.58856475232087,
          -3.0609969081575867,
          -50.031640057697366,
          -42.85749410753786,
          26.552643350375146,
          -23.01075797202805,
          -37.1834323040949,
          115.56472114547444,
          56.6649731785796,
          17.36016204417269,
          107.09952454583168,
          -43.70820414214812,
          -77.16445412877141,
          70.44574347454495,
          2.668068923241188,
          20.106515284378673,
          107.09952454583168,
          6.176279463302951,
          -77.16445412877141,
          6.176279463302951,
          -41.68196604846059,
          -0.472703573807467,
          48.06387299500624,
          24.658685056502616,
          24.658685056502616,
          -9.720481264784613,
          -26.302817350514218,
          1.1359218580179384,
          14.726542016128414,
          7.9742879843035634,
          -61.22377992606687,
          -36.63259081017232,
          316.84600873309813,
          -71.53494785004047,
          -27.99503129034412,
          -1.646887475263811,
          -5.157516677598523,
          67.88364682577084,
          -48.574787231335314,
          -32.8255804896059,
          -119.05833601488723,
          74.15695326702115,
          -55.50745347388262,
          41.77262986674771,
          -1.646887475263811,
          56.6649731785796,
          -77.16445412877141,
          -1.7032961893560021,
          -11.786147139982916,
          -6.739764996582345,
          -68.83140552730704,
          -96.7464284609108,
          -63.799795685887695,
          -68.83140552730704,
          -12.802121709819334,
          -5.094848416242527,
          -42.85749410753786,
          41.77262986674771,
          -27.24356306564034,
          -50.031640057697366,
          -26.050902042261463,
          32.135402806677675,
          9.75672334089651,
          -37.1834323040949,
          26.496185261802207,
          -9.720481264784613,
          24.55498468780253,
          -11.867706470387422,
          19.51121981944517,
          -47.13646327662887,
          -27.825278491529996,
          77.82758850619727,
          -16.748574324705395,
          -11.423374547673136,
          148.29565667742742,
          26.552643350375146,
          -23.605683746396117,
          48.06387299500624,
          30.78325790613645,
          -49.07491672170531,
          -25.2053881037483,
          -49.81856067702194,
          -48.574787231335314,
          24.55498468780253,
          -38.34301051569894,
          -11.867706470387422,
          6.590236173234982,
          -32.8255804896059,
          -43.70820414214812,
          -7.70272168636242,
          57.727587000284544,
          -65.7269182972209,
          1.1359218580179384,
          52.39080466744669,
          148.29565667742742,
          -50.85767440425482,
          -11.423374547673136,
          15.821005722509202,
          -47.47976312386035,
          23.56770376169601,
          -24.55488226952728,
          -71.53494785004047,
          -50.5399801057056,
          93.04020523815088,
          -50.5399801057056,
          6.176279463302951,
          18.82914704207346,
          -27.825278491529996,
          55.13684898639443,
          58.84393160803518,
          19.3442292521584,
          26.496185261802207,
          -5.999398199871145,
          19.3442292521584,
          -12.802121709819334,
          17.908364327788178,
          93.04020523815088,
          -48.574787231335314,
          -3.0609969081575867,
          17.792111708113836,
          -68.86810012663918,
          -21.2443036763595,
          57.57117499138386,
          -96.7464284609108,
          -12.802121709819334,
          -90.39686927327527,
          -18.08184666855806,
          58.84393160803518,
          -12.657738657681037,
          -26.302817350514218,
          24.98804460562136,
          -43.10397890680671,
          0.9531253289445883,
          -18.08184666855806,
          171.36592249893624,
          -55.50745347388262,
          -43.7716883745539,
          30.78325790613645,
          11.406232171860928,
          20.106515284378673,
          47.62317492996612,
          57.727587000284544,
          -7.232305323340911,
          4.01727455447756,
          -50.5399801057056,
          -27.825278491529996,
          -32.8255804896059,
          57.78533358690015,
          -45.548113774255896,
          -21.03754503875548,
          48.32222498055922,
          -67.46319740706689,
          -25.157882280005573,
          -87.0199802968984,
          -18.08184666855806,
          -33.06224173993791,
          0.9313926483900088,
          4.01727455447756,
          -14.210805557291861,
          12.25570673618765,
          32.135402806677675,
          -34.4692262712689,
          23.56770376169601,
          -25.157882280005573,
          4.01727455447756,
          -27.24356306564034,
          -21.03754503875548,
          -106.73578195870576,
          -50.4029907568859,
          -11.423374547673136,
          20.106515284378673,
          -26.050902042261463,
          70.44574347454495,
          -25.57575811254535,
          -21.2443036763595,
          -26.050902042261463,
          15.821005722509202,
          115.56472114547444,
          -1.7756191630707039,
          -68.86810012663918,
          9.75672334089651,
          7.9742879843035634,
          -15.922679794245465,
          -43.8976103044347,
          22.451943685659632,
          -25.157882280005573,
          37.794746905790674,
          -50.85767440425482,
          18.82914704207346,
          -43.054771401495664,
          -10.08634884094708,
          28.73035250361638,
          -25.57575811254535,
          -38.03469041499279,
          57.57117499138386,
          -6.781702485242788,
          -13.297956102585033,
          -67.46319740706689,
          -37.663009905286344,
          -43.054771401495664,
          55.13684898639443,
          -11.972777409248089,
          -48.574787231335314,
          -18.966951316430634,
          -13.901626825945616,
          -21.03754503875548,
          -33.14709668988998,
          -37.663009905286344,
          -7.232305323340911,
          0.9313926483900088,
          12.25570673618765,
          -2.096966015229503,
          -6.739764996582345,
          6.182335582751353,
          -66.46417011865637,
          -13.901626825945616,
          -25.57575811254535,
          -26.050902042261463,
          30.78325790613645,
          -11.867706470387422,
          -45.17718560625677,
          -33.06224173993791,
          14.726542016128414,
          -63.799795685887695,
          -63.799795685887695,
          37.794746905790674,
          2.668068923241188,
          -50.85767440425482,
          -34.4692262712689,
          55.13684898639443,
          -34.4692262712689,
          -5.157516677598523,
          2.043916511577068,
          -12.657738657681037,
          -6.781702485242788,
          -10.897935154225602,
          28.73035250361638,
          74.15695326702115,
          -16.748574324705395,
          -53.349345049953484,
          -34.099421741673396,
          24.98804460562136,
          -39.05632677132957,
          -45.548113774255896,
          81.55188329324659,
          26.496185261802207,
          -45.00947727623231,
          17.36016204417269,
          -11.786147139982916,
          17.36016204417269,
          15.821005722509202,
          -20.45588462642522,
          -2.934976543150006,
          -39.654316908055094,
          6.176279463302951,
          15.62215704949294,
          -6.739764996582345,
          -7.70272168636242,
          62.24091379330991,
          -66.46417011865637,
          -6.781702485242788,
          68.1199122998153,
          -18.966951316430634,
          24.658685056502616,
          -50.053858695452966,
          -5.999398199871145,
          -68.86810012663918,
          -53.57930274202695,
          32.135402806677675,
          -43.70820414214812,
          -39.05632677132957,
          57.727587000284544,
          -10.08634884094708,
          17.908364327788178,
          -14.691926309086977,
          22.451943685659632,
          171.36592249893624,
          -5.999398199871145,
          -50.053858695452966,
          0.9531253289445883,
          -14.210805557291861,
          -106.73578195870576,
          -47.13646327662887,
          -67.46319740706689,
          77.82758850619727,
          -71.53494785004047,
          -45.17718560625677,
          -61.22377992606687,
          -1.7032961893560021,
          -36.63259081017232,
          -41.68196604846059,
          -53.349345049953484,
          -23.605683746396117,
          17.792111708113836,
          -11.786147139982916,
          -14.691926309086977,
          57.78533358690015,
          -10.897935154225602,
          6.590236173234982,
          15.62215704949294,
          -20.45588462642522,
          -14.210805557291861,
          62.24091379330991,
          -34.58856475232087,
          -53.57930274202695,
          47.62317492996612,
          61.004438514670035,
          -106.73578195870576,
          -43.10397890680671,
          -24.55488226952728,
          6.590236173234982
         ],
         "y": [
          24.46759963100052,
          27.328136967654412,
          -45.88774510707657,
          -45.88774510707657,
          5.50827970673515,
          -14.361793089620992,
          -13.4005569400846,
          7.575086209255951,
          -1.899125153676161,
          -20.846272054550614,
          -25.684154072220725,
          -30.964959274635767,
          -14.361793089620992,
          -13.399123053792408,
          23.284726499305382,
          -31.545165041358068,
          44.187427772039094,
          -0.49601682766156435,
          0.6775928414816914,
          -18.855953787344834,
          -29.297363389938813,
          15.764892902591873,
          -0.4179475230090076,
          -11.420970192516442,
          -23.96781677726188,
          -12.02183494936805,
          -31.533724973551017,
          -55.404081714418794,
          -0.4179475230090076,
          -4.531628980765762,
          -55.404081714418794,
          -1.9876260039707327,
          -23.780830203510522,
          -7.8347528796363815,
          -27.40341611003124,
          -7.811870359728693,
          -7.811870359728693,
          -23.96781677726188,
          -23.780830203510522,
          -22.667523341454714,
          -13.4005569400846,
          -20.193864290995148,
          -12.025979440337872,
          10.87250054410571,
          -3.6878661257632643,
          -10.999241046213903,
          38.15817161661675,
          -17.595010924843915,
          -18.409395244744857,
          -10.455564226979778,
          -7.8347528796363815,
          -40.1999555626386,
          38.4805928267995,
          -55.404081714418794,
          -17.067034797161163,
          -10.455564226979778,
          -9.503487301778,
          -18.81180848303943,
          -2.228137617707811,
          -1.9876260039707327,
          -18.806398324986613,
          3.6057828524360516,
          -18.81180848303943,
          -0.9199183550773129,
          15.764892902591873,
          -13.399123053792408,
          -10.455564226979778,
          -18.855953787344834,
          -1.0116293362186572,
          -7.8347528796363815,
          -7.757979776343478,
          -27.575568523738802,
          4.060304049037825,
          -10.592463008862374,
          -28.345536407073038,
          -36.16285304426953,
          0.6775928414816914,
          -10.455564226979778,
          -28.970209169268,
          0.6775928414816914,
          -17.906825368941956,
          -33.36646329493365,
          3.299067125026996,
          -16.878069695222454,
          -16.514853758360108,
          9.71505771880519,
          -21.913345701449877,
          -20.06961424556029,
          -34.05857989444953,
          5.721027828174975,
          -1.5691374176968758,
          -24.029698450764485,
          -33.46338314998535,
          -12.877121356517167,
          -17.906825368941956,
          22.97984743932615,
          -4.531628980765762,
          -38.61394455567071,
          -14.069422381727977,
          -12.025979440337872,
          -27.575568523738802,
          -28.345536407073038,
          -0.3914954398813083,
          -0.4179475230090076,
          -29.07478770377115,
          -33.46338314998535,
          -23.96781677726188,
          -47.019918070445115,
          -16.514853758360108,
          -24.029698450764485,
          -23.071191809758574,
          -33.36646329493365,
          5.721027828174975,
          -34.05857989444953,
          -36.43662561038292,
          -13.748943693017372,
          -2.7967337048002125,
          -33.930858267394704,
          -28.796907320690153,
          -17.990539030098468,
          -15.30434772130586,
          -0.3914954398813083,
          -10.811344256267224,
          -23.96781677726188,
          -17.683780837948884,
          -39.43407505936768,
          -4.373390613836826,
          -1.5691374176968758,
          9.71505771880519,
          -9.415145566186427,
          -33.504835461188705,
          -1.0116293362186572,
          -2.228137617707811,
          -21.851638391463293,
          -13.748943693017372,
          -37.51604741280406,
          -18.855953787344834,
          -1.899125153676161,
          19.278774642231287,
          -14.62850479884742,
          -26.689394937305565,
          -4.373390613836826,
          15.800442534163649,
          -17.060620803422644,
          -39.43407505936768,
          -21.943720777028773,
          -26.87442645690444,
          -27.287855651943207,
          -23.873944392964507,
          5.721027828174975,
          19.278774642231287,
          16.447305899699856,
          -8.741177906576818,
          -25.21609302654324,
          -18.806398324986613,
          14.647521664853352,
          -4.531628980765762,
          -27.287855651943207,
          -25.870714494772947,
          -25.15016541070599,
          -8.138732286404997,
          -18.855953787344834,
          -18.322276347535727,
          -2.7967337048002125,
          -22.667523341454714,
          -4.035119089714152,
          29.398310690230034,
          -28.970209169268,
          -29.07478770377115,
          16.447305899699856,
          -20.846272054550614,
          33.579778159244675,
          5.144338744192093,
          7.870834998363261,
          -31.533724973551017,
          -4.035119089714152,
          33.579778159244675,
          -23.780830203510522,
          -40.39012299326468,
          -9.827838094777945,
          -18.409395244744857,
          -4.156752062946903,
          -23.96781677726188,
          -21.851638391463293,
          4.312302891228484,
          -8.477752164965823,
          -33.36646329493365,
          -20.193864290995148,
          -2.228137617707811,
          22.420368621017495,
          -3.6929145261924283,
          33.579778159244675,
          -37.51604741280406,
          4.642497452786648,
          -17.595010924843915,
          -23.81988652618092,
          -23.81988652618092,
          -6.293180067210218,
          24.907933265549513,
          -9.827838094777945,
          -9.520375644403687,
          15.800442534163649,
          -12.478496780595108,
          26.717762245074574,
          -40.1999555626386,
          24.907933265549513,
          -25.684154072220725,
          2.0949964564866725,
          24.907933265549513,
          -0.4179475230090076,
          15.800442534163649,
          2.0949964564866725,
          27.328136967654412,
          10.779056545069247,
          -25.15016541070599,
          -13.4005569400846,
          -3.6929145261924283,
          -21.943720777028773,
          -23.873944392964507,
          -4.156752062946903,
          -18.806398324986613,
          -12.025979440337872,
          -0.49601682766156435,
          -10.999241046213903,
          21.40081023313396,
          -16.878069695222454,
          -10.18132733049193,
          -20.435710819699317,
          -14.069422381727977,
          -40.39012299326468,
          -27.04809875089689,
          -16.878069695222454,
          -30.958833954369112,
          -20.435710819699317,
          -30.958833954369112,
          -33.930858267394704,
          -23.81988652618092,
          -10.592463008862374,
          -14.037046462214803,
          -14.037046462214803,
          22.97984743932615,
          -4.373390613836826,
          -21.913345701449877,
          -36.43662561038292,
          -27.40341611003124,
          -40.1999555626386,
          -14.62850479884742,
          -17.906825368941956,
          -23.96781677726188,
          -39.43407505936768,
          14.647521664853352,
          -18.81180848303943,
          16.447305899699856,
          19.47298256278634,
          -20.195942243149986,
          -18.409395244744857,
          -36.16285304426953,
          -27.287855651943207,
          -10.811344256267224,
          14.647521664853352,
          -10.999241046213903,
          -20.435710819699317,
          -17.683780837948884,
          -10.262905130575849,
          -9.859612832997675,
          -9.520375644403687,
          27.328136967654412,
          -33.504835461188705,
          -9.520375644403687,
          -26.87442645690444,
          -2.7967337048002125,
          -23.873944392964507,
          -10.811344256267224,
          -22.667523341454714,
          -21.943720777028773,
          5.752299639558066,
          -19.3228618189638,
          -0.9199183550773129,
          -12.025979440337872,
          8.20693096911804,
          22.97984743932615,
          4.312302891228484,
          -10.100121775294951,
          -20.193864290995148,
          38.15817161661675,
          -9.80421212972483,
          -25.870714494772947,
          -0.3914954398813083,
          -31.159240995638548,
          -9.415145566186427,
          -4.156752062946903,
          7.575086209255951,
          -10.592463008862374,
          -1.4323214422238666,
          -1.9876260039707327,
          -37.51604741280406,
          -34.05857989444953,
          19.47298256278634,
          4.312302891228484,
          -25.684154072220725,
          -10.100121775294951,
          -12.529051978321467,
          -20.195942243149986,
          -10.18132733049193,
          -47.019918070445115,
          -21.773198261348817,
          -27.575568523738802,
          -21.913345701449877,
          -28.345536407073038,
          -9.415145566186427,
          -9.627112956655504,
          -31.159240995638548,
          -6.248332084372928,
          -28.970209169268,
          29.398310690230034,
          -12.478496780595108,
          -23.96781677726188,
          -25.81410558008822,
          -25.21609302654324,
          -25.81410558008822,
          -30.958833954369112,
          19.278774642231287,
          -9.80421212972483,
          -36.096200311696585,
          -17.990539030098468,
          -23.071191809758574,
          8.20693096911804,
          1.5783147580630092,
          -23.071191809758574,
          -26.87442645690444,
          5.144338744192093,
          -25.21609302654324,
          19.47298256278634,
          -3.6929145261924283,
          44.187427772039094,
          11.52048751079197,
          -21.851638391463293,
          26.717762245074574,
          27.328136967654412,
          -26.87442645690444,
          -33.36646329493365,
          38.512917679479635,
          -17.990539030098468,
          -7.757979776343478,
          -4.373390613836826,
          -31.545165041358068,
          4.060304049037825,
          24.46759963100052,
          38.512917679479635,
          -9.503487301778,
          -27.287855651943207,
          -55.404081714418794,
          -1.4323214422238666,
          0.6775928414816914,
          -27.04809875089689,
          -17.067034797161163,
          -21.773198261348817,
          -6.293180067210218,
          -11.365400611126137,
          -25.81410558008822,
          -9.80421212972483,
          -20.195942243149986,
          -8.741177906576818,
          22.420368621017495,
          -8.138732286404997,
          -4.035119089714152,
          53.710681119220006,
          -12.877121356517167,
          9.71505771880519,
          38.512917679479635,
          23.284726499305382,
          10.779056545069247,
          -11.365400611126137,
          -0.02357058823462388,
          -38.61394455567071,
          -19.3228618189638,
          35.69493009114263,
          29.398310690230034,
          -12.877121356517167,
          -11.365400611126137,
          -22.667523341454714,
          -8.138732286404997,
          -26.589093474961235,
          -13.399123053792408,
          -31.159240995638548,
          -27.04809875089689,
          5.752299639558066,
          -14.069422381727977,
          3.299067125026996,
          -21.851638391463293,
          5.752299639558066,
          -6.248332084372928,
          -0.49601682766156435,
          -31.533724973551017,
          11.52048751079197,
          -0.9199183550773129,
          -27.40341611003124,
          15.800442534163649,
          -25.15016541070599,
          -15.30434772130586,
          -12.877121356517167,
          -11.420970192516442,
          -9.627112956655504,
          19.278774642231287,
          15.764892902591873,
          -3.6878661257632643,
          7.870834998363261,
          3.299067125026996,
          -45.88774510707657,
          26.717762245074574,
          -20.06961424556029,
          -13.748943693017372,
          53.710681119220006,
          10.87250054410571,
          15.764892902591873,
          -36.096200311696585,
          2.0949964564866725,
          19.47298256278634,
          38.4805928267995,
          -30.964959274635767,
          -8.138732286404997,
          -9.827838094777945,
          10.87250054410571,
          -6.293180067210218,
          10.779056545069247,
          -38.61394455567071,
          -29.07478770377115,
          -9.859612832997675,
          -20.846272054550614,
          -1.5691374176968758,
          -30.964959274635767,
          3.299067125026996,
          5.752299639558066,
          -1.4323214422238666,
          -10.100121775294951,
          -8.477752164965823,
          23.284726499305382,
          -36.43662561038292,
          -33.504835461188705,
          -33.504835461188705,
          -11.420970192516442,
          -40.39012299326468,
          -9.627112956655504,
          35.69493009114263,
          -36.096200311696585,
          35.69493009114263,
          -18.81180848303943,
          -33.46338314998535,
          -7.757979776343478,
          -20.06961424556029,
          -28.796907320690153,
          7.870834998363261,
          -36.16285304426953,
          -0.3914954398813083,
          3.6057828524360516,
          -17.595010924843915,
          -31.545165041358068,
          -17.060620803422644,
          22.420368621017495,
          -1.0116293362186572,
          8.20693096911804,
          -7.811870359728693,
          21.40081023313396,
          -10.262905130575849,
          21.40081023313396,
          -6.248332084372928,
          -29.297363389938813,
          -14.361793089620992,
          -1.899125153676161,
          -30.958833954369112,
          -26.689394937305565,
          -9.859612832997675,
          -47.019918070445115,
          5.50827970673515,
          -1.5691374176968758,
          -20.06961424556029,
          -16.514853758360108,
          38.4805928267995,
          -14.037046462214803,
          -18.322276347535727,
          1.5783147580630092,
          11.52048751079197,
          -12.02183494936805,
          -19.3228618189638,
          -10.18132733049193,
          -17.060620803422644,
          -21.773198261348817,
          -3.6878661257632643,
          5.144338744192093,
          4.642497452786648,
          -15.30434772130586,
          -9.503487301778,
          1.5783147580630092,
          -18.322276347535727,
          24.46759963100052,
          -0.02357058823462388,
          -26.589093474961235,
          38.15817161661675,
          53.710681119220006,
          -25.870714494772947,
          -23.96781677726188,
          -8.477752164965823,
          -40.1999555626386,
          -17.683780837948884,
          -14.62850479884742,
          -33.930858267394704,
          3.6057828524360516,
          7.575086209255951,
          44.187427772039094,
          -10.262905130575849,
          4.642497452786648,
          -8.741177906576818,
          -28.796907320690153,
          -12.529051978321467,
          -26.689394937305565,
          -29.297363389938813,
          -0.02357058823462388,
          5.50827970673515,
          -13.4005569400846,
          -12.02183494936805,
          -17.067034797161163,
          -24.029698450764485,
          -26.589093474961235,
          4.060304049037825,
          -12.478496780595108,
          -12.529051978321467
         ],
         "z": [
          -33.74824013516829,
          -14.74733332627881,
          -9.403548558962799,
          -9.403548558962799,
          3.7909106583125767,
          -10.481274865418959,
          12.28517146038456,
          -23.199528146473202,
          -26.4856917837871,
          6.601712692120059,
          -8.448946406950109,
          1.0413018075453637,
          -10.481274865418959,
          1.008306124953382,
          -7.832440835117522,
          9.131224076132648,
          -8.0830143266563,
          23.487167427519047,
          -12.350691041302506,
          -2.7561197133794453,
          10.876896760314718,
          2.0089359001284803,
          14.258282443985143,
          18.026492248827164,
          10.568941168309928,
          -7.013775533785625,
          1.0235706625519019,
          3.1823796047653863,
          14.258282443985143,
          21.33905250771954,
          3.1823796047653863,
          1.1382773871805976,
          -9.72853824232407,
          5.513494508914115,
          -5.945780963608744,
          5.379588613991815,
          5.379588613991815,
          10.568941168309928,
          -9.72853824232407,
          -9.112924513464721,
          12.28517146038456,
          -22.453276491367014,
          -3.0886797793784537,
          -1.6063656201598508,
          5.923394924110216,
          -5.162706056503753,
          9.93911126049886,
          -7.438291615394536,
          27.358340533391853,
          -25.877690224757742,
          5.513494508914115,
          -6.074465747833155,
          6.905574326212359,
          3.1823796047653863,
          -14.190457423069548,
          -25.877690224757742,
          1.463653357654783,
          21.521117552323492,
          -12.722502697297077,
          1.1382773871805976,
          9.375476780231505,
          11.285092317424816,
          21.521117552323492,
          -2.5631412179755584,
          2.0089359001284803,
          1.008306124953382,
          -25.877690224757742,
          -2.7561197133794453,
          45.198692953363626,
          5.513494508914115,
          -21.987756551866386,
          -9.894876723348736,
          -18.727035998295054,
          -13.58348407961493,
          20.19926176162515,
          5.947573895622821,
          -12.350691041302506,
          -25.877690224757742,
          12.075557124259072,
          -12.350691041302506,
          -30.30115760563856,
          -4.861851685671185,
          -30.957893458096105,
          -15.287065771579307,
          -5.244956397847605,
          -17.202649326034923,
          18.989477450085147,
          -8.751828652019181,
          -33.24218558275978,
          -18.76622115533028,
          0.3992666434683093,
          -5.740949777438195,
          -17.956376819358116,
          1.4347347194252618,
          -30.30115760563856,
          28.444929349489982,
          21.33905250771954,
          -14.374052171400066,
          -31.050258593338217,
          -3.0886797793784537,
          -9.894876723348736,
          20.19926176162515,
          40.650192430137054,
          14.258282443985143,
          17.840469180808856,
          -17.956376819358116,
          10.568941168309928,
          -7.768199443433283,
          -5.244956397847605,
          -5.740949777438195,
          -0.9427865627844125,
          -4.861851685671185,
          -18.76622115533028,
          -33.24218558275978,
          11.052203800708453,
          20.52995260065818,
          -14.522420945774405,
          2.10102307383469,
          -7.553322772349436,
          -8.878563281654714,
          -1.9860328572763517,
          40.650192430137054,
          -0.8059360276860723,
          10.568941168309928,
          -5.022172144709395,
          2.7578034114918495,
          6.012173668962087,
          0.3992666434683093,
          -17.202649326034923,
          2.282081937391356,
          10.738809405742469,
          45.198692953363626,
          -12.722502697297077,
          -9.532981560376609,
          20.52995260065818,
          -4.9935381277916875,
          -2.7561197133794453,
          -26.4856917837871,
          -22.270976304574184,
          -19.59930314898331,
          -11.047021606318935,
          6.012173668962087,
          29.140139041336234,
          4.806268077213843,
          2.7578034114918495,
          -23.31306759720133,
          0.6809282054537573,
          -6.3708785561758186,
          1.4306310227819212,
          -18.76622115533028,
          -22.270976304574184,
          4.168448574063377,
          28.50168906021852,
          -13.433005297740477,
          9.375476780231505,
          17.76707436088567,
          21.33905250771954,
          -6.3708785561758186,
          -13.407603216421295,
          -22.562983881756956,
          -35.93091475586098,
          -2.7561197133794453,
          8.817346324251059,
          -14.522420945774405,
          -9.112924513464721,
          6.355738834343202,
          -13.250510875821305,
          12.075557124259072,
          17.840469180808856,
          4.168448574063377,
          6.601712692120059,
          -5.903029793364266,
          -3.397268946527023,
          -5.0438889574141195,
          1.0235706625519019,
          6.355738834343202,
          -5.903029793364266,
          -9.72853824232407,
          0.17056460120879088,
          -18.66525365237195,
          27.358340533391853,
          -7.663880945027445,
          10.568941168309928,
          -9.532981560376609,
          23.024394170559393,
          43.33299584829138,
          -4.861851685671185,
          -22.453276491367014,
          -12.722502697297077,
          -21.119521564543597,
          5.6795378468680475,
          -5.903029793364266,
          -4.9935381277916875,
          -0.15814873655101178,
          -7.438291615394536,
          0.8559595957430514,
          0.8559595957430514,
          -24.894600858603123,
          -20.83758745864242,
          -18.66525365237195,
          13.994065790667962,
          29.140139041336234,
          11.763671056665906,
          -6.3366314733010904,
          -6.074465747833155,
          -20.83758745864242,
          -8.448946406950109,
          15.069908409650278,
          -20.83758745864242,
          14.258282443985143,
          29.140139041336234,
          15.069908409650278,
          -14.74733332627881,
          25.346162894188875,
          -22.562983881756956,
          12.28517146038456,
          5.6795378468680475,
          -23.31306759720133,
          1.4306310227819212,
          -7.663880945027445,
          9.375476780231505,
          -3.0886797793784537,
          23.487167427519047,
          -5.162706056503753,
          -34.7027875628094,
          -15.287065771579307,
          31.77414358745574,
          25.260149934712587,
          -31.050258593338217,
          0.17056460120879088,
          -19.66579281010663,
          -15.287065771579307,
          0.3642213672165579,
          25.260149934712587,
          0.3642213672165579,
          2.10102307383469,
          0.8559595957430514,
          -13.58348407961493,
          1.7446423826634316,
          1.7446423826634316,
          28.444929349489982,
          6.012173668962087,
          18.989477450085147,
          11.052203800708453,
          -5.945780963608744,
          -6.074465747833155,
          -19.59930314898331,
          -30.30115760563856,
          10.568941168309928,
          2.7578034114918495,
          17.76707436088567,
          21.521117552323492,
          4.168448574063377,
          -0.5524372473584914,
          0.478025817245782,
          27.358340533391853,
          5.947573895622821,
          -6.3708785561758186,
          -0.8059360276860723,
          17.76707436088567,
          -5.162706056503753,
          25.260149934712587,
          -5.022172144709395,
          5.831806083002275,
          9.751237680132459,
          13.994065790667962,
          -14.74733332627881,
          10.738809405742469,
          13.994065790667962,
          0.6809282054537573,
          -14.522420945774405,
          1.4306310227819212,
          -0.8059360276860723,
          -9.112924513464721,
          -23.31306759720133,
          -5.239918749080423,
          22.52827076126413,
          -2.5631412179755584,
          -3.0886797793784537,
          44.5701979088089,
          28.444929349489982,
          23.024394170559393,
          7.912559461234972,
          -22.453276491367014,
          9.93911126049886,
          -9.59058536006172,
          -13.407603216421295,
          40.650192430137054,
          10.88885505912577,
          2.282081937391356,
          -7.663880945027445,
          -23.199528146473202,
          -13.58348407961493,
          -13.105486945412784,
          1.1382773871805976,
          -4.9935381277916875,
          -33.24218558275978,
          -0.5524372473584914,
          23.024394170559393,
          -8.448946406950109,
          7.912559461234972,
          -21.19284016569319,
          0.478025817245782,
          31.77414358745574,
          -7.768199443433283,
          2.5069178005437154,
          -9.894876723348736,
          18.989477450085147,
          20.19926176162515,
          2.282081937391356,
          -27.880734732106436,
          10.88885505912577,
          -1.730548622892822,
          12.075557124259072,
          -13.250510875821305,
          11.763671056665906,
          10.568941168309928,
          15.292134184665578,
          -13.433005297740477,
          15.292134184665578,
          0.3642213672165579,
          -22.270976304574184,
          -9.59058536006172,
          -17.318218038135097,
          -8.878563281654714,
          -0.9427865627844125,
          44.5701979088089,
          10.696480235044268,
          -0.9427865627844125,
          0.6809282054537573,
          -3.397268946527023,
          -13.433005297740477,
          -0.5524372473584914,
          5.6795378468680475,
          -8.0830143266563,
          -7.477120636449173,
          -9.532981560376609,
          -6.3366314733010904,
          -14.74733332627881,
          0.6809282054537573,
          -4.861851685671185,
          16.796986380711953,
          -8.878563281654714,
          -21.987756551866386,
          6.012173668962087,
          9.131224076132648,
          -18.727035998295054,
          -33.74824013516829,
          16.796986380711953,
          1.463653357654783,
          -6.3708785561758186,
          3.1823796047653863,
          -13.105486945412784,
          -12.350691041302506,
          -19.66579281010663,
          -14.190457423069548,
          2.5069178005437154,
          -24.894600858603123,
          4.500527020056894,
          15.292134184665578,
          -9.59058536006172,
          0.478025817245782,
          28.50168906021852,
          -21.119521564543597,
          -35.93091475586098,
          6.355738834343202,
          -12.96934063075133,
          1.4347347194252618,
          -17.202649326034923,
          16.796986380711953,
          -7.832440835117522,
          25.346162894188875,
          4.500527020056894,
          -23.101611388188708,
          -14.374052171400066,
          22.52827076126413,
          -11.597989500707708,
          -13.250510875821305,
          1.4347347194252618,
          4.500527020056894,
          -9.112924513464721,
          -35.93091475586098,
          -16.204175734217284,
          1.008306124953382,
          10.88885505912577,
          -19.66579281010663,
          -5.239918749080423,
          -31.050258593338217,
          -30.957893458096105,
          -9.532981560376609,
          -5.239918749080423,
          -1.730548622892822,
          23.487167427519047,
          1.0235706625519019,
          -7.477120636449173,
          -2.5631412179755584,
          -5.945780963608744,
          29.140139041336234,
          -22.562983881756956,
          -1.9860328572763517,
          1.4347347194252618,
          18.026492248827164,
          -27.880734732106436,
          -22.270976304574184,
          2.0089359001284803,
          5.923394924110216,
          -5.0438889574141195,
          -30.957893458096105,
          -9.403548558962799,
          -6.3366314733010904,
          -8.751828652019181,
          20.52995260065818,
          -12.96934063075133,
          -1.6063656201598508,
          2.0089359001284803,
          -17.318218038135097,
          15.069908409650278,
          -0.5524372473584914,
          6.905574326212359,
          1.0413018075453637,
          -35.93091475586098,
          -18.66525365237195,
          -1.6063656201598508,
          -24.894600858603123,
          25.346162894188875,
          -14.374052171400066,
          17.840469180808856,
          9.751237680132459,
          6.601712692120059,
          0.3992666434683093,
          1.0413018075453637,
          -30.957893458096105,
          -5.239918749080423,
          -13.105486945412784,
          7.912559461234972,
          43.33299584829138,
          -7.832440835117522,
          11.052203800708453,
          10.738809405742469,
          10.738809405742469,
          18.026492248827164,
          0.17056460120879088,
          -27.880734732106436,
          -11.597989500707708,
          -17.318218038135097,
          -11.597989500707708,
          21.521117552323492,
          -17.956376819358116,
          -21.987756551866386,
          -8.751828652019181,
          -7.553322772349436,
          -5.0438889574141195,
          5.947573895622821,
          40.650192430137054,
          11.285092317424816,
          -7.438291615394536,
          9.131224076132648,
          4.806268077213843,
          -21.119521564543597,
          45.198692953363626,
          44.5701979088089,
          5.379588613991815,
          -34.7027875628094,
          5.831806083002275,
          -34.7027875628094,
          -1.730548622892822,
          10.876896760314718,
          -10.481274865418959,
          -26.4856917837871,
          0.3642213672165579,
          -11.047021606318935,
          9.751237680132459,
          -7.768199443433283,
          3.7909106583125767,
          0.3992666434683093,
          -8.751828652019181,
          -5.244956397847605,
          6.905574326212359,
          1.7446423826634316,
          8.817346324251059,
          10.696480235044268,
          -7.477120636449173,
          -7.013775533785625,
          22.52827076126413,
          31.77414358745574,
          4.806268077213843,
          2.5069178005437154,
          5.923394924110216,
          -3.397268946527023,
          -0.15814873655101178,
          -1.9860328572763517,
          1.463653357654783,
          10.696480235044268,
          8.817346324251059,
          -33.74824013516829,
          -23.101611388188708,
          -16.204175734217284,
          9.93911126049886,
          -12.96934063075133,
          -13.407603216421295,
          10.568941168309928,
          43.33299584829138,
          -6.074465747833155,
          -5.022172144709395,
          -19.59930314898331,
          2.10102307383469,
          11.285092317424816,
          -23.199528146473202,
          -8.0830143266563,
          5.831806083002275,
          -0.15814873655101178,
          28.50168906021852,
          -7.553322772349436,
          -21.19284016569319,
          -11.047021606318935,
          10.876896760314718,
          -23.101611388188708,
          3.7909106583125767,
          12.28517146038456,
          -7.013775533785625,
          -14.190457423069548,
          -5.740949777438195,
          -16.204175734217284,
          -18.727035998295054,
          11.763671056665906,
          -21.19284016569319
         ]
        }
       ],
       "layout": {
        "template": {
         "data": {
          "bar": [
           {
            "error_x": {
             "color": "#2a3f5f"
            },
            "error_y": {
             "color": "#2a3f5f"
            },
            "marker": {
             "line": {
              "color": "#E5ECF6",
              "width": 0.5
             },
             "pattern": {
              "fillmode": "overlay",
              "size": 10,
              "solidity": 0.2
             }
            },
            "type": "bar"
           }
          ],
          "barpolar": [
           {
            "marker": {
             "line": {
              "color": "#E5ECF6",
              "width": 0.5
             },
             "pattern": {
              "fillmode": "overlay",
              "size": 10,
              "solidity": 0.2
             }
            },
            "type": "barpolar"
           }
          ],
          "carpet": [
           {
            "aaxis": {
             "endlinecolor": "#2a3f5f",
             "gridcolor": "white",
             "linecolor": "white",
             "minorgridcolor": "white",
             "startlinecolor": "#2a3f5f"
            },
            "baxis": {
             "endlinecolor": "#2a3f5f",
             "gridcolor": "white",
             "linecolor": "white",
             "minorgridcolor": "white",
             "startlinecolor": "#2a3f5f"
            },
            "type": "carpet"
           }
          ],
          "choropleth": [
           {
            "colorbar": {
             "outlinewidth": 0,
             "ticks": ""
            },
            "type": "choropleth"
           }
          ],
          "contour": [
           {
            "colorbar": {
             "outlinewidth": 0,
             "ticks": ""
            },
            "colorscale": [
             [
              0,
              "#0d0887"
             ],
             [
              0.1111111111111111,
              "#46039f"
             ],
             [
              0.2222222222222222,
              "#7201a8"
             ],
             [
              0.3333333333333333,
              "#9c179e"
             ],
             [
              0.4444444444444444,
              "#bd3786"
             ],
             [
              0.5555555555555556,
              "#d8576b"
             ],
             [
              0.6666666666666666,
              "#ed7953"
             ],
             [
              0.7777777777777778,
              "#fb9f3a"
             ],
             [
              0.8888888888888888,
              "#fdca26"
             ],
             [
              1,
              "#f0f921"
             ]
            ],
            "type": "contour"
           }
          ],
          "contourcarpet": [
           {
            "colorbar": {
             "outlinewidth": 0,
             "ticks": ""
            },
            "type": "contourcarpet"
           }
          ],
          "heatmap": [
           {
            "colorbar": {
             "outlinewidth": 0,
             "ticks": ""
            },
            "colorscale": [
             [
              0,
              "#0d0887"
             ],
             [
              0.1111111111111111,
              "#46039f"
             ],
             [
              0.2222222222222222,
              "#7201a8"
             ],
             [
              0.3333333333333333,
              "#9c179e"
             ],
             [
              0.4444444444444444,
              "#bd3786"
             ],
             [
              0.5555555555555556,
              "#d8576b"
             ],
             [
              0.6666666666666666,
              "#ed7953"
             ],
             [
              0.7777777777777778,
              "#fb9f3a"
             ],
             [
              0.8888888888888888,
              "#fdca26"
             ],
             [
              1,
              "#f0f921"
             ]
            ],
            "type": "heatmap"
           }
          ],
          "heatmapgl": [
           {
            "colorbar": {
             "outlinewidth": 0,
             "ticks": ""
            },
            "colorscale": [
             [
              0,
              "#0d0887"
             ],
             [
              0.1111111111111111,
              "#46039f"
             ],
             [
              0.2222222222222222,
              "#7201a8"
             ],
             [
              0.3333333333333333,
              "#9c179e"
             ],
             [
              0.4444444444444444,
              "#bd3786"
             ],
             [
              0.5555555555555556,
              "#d8576b"
             ],
             [
              0.6666666666666666,
              "#ed7953"
             ],
             [
              0.7777777777777778,
              "#fb9f3a"
             ],
             [
              0.8888888888888888,
              "#fdca26"
             ],
             [
              1,
              "#f0f921"
             ]
            ],
            "type": "heatmapgl"
           }
          ],
          "histogram": [
           {
            "marker": {
             "pattern": {
              "fillmode": "overlay",
              "size": 10,
              "solidity": 0.2
             }
            },
            "type": "histogram"
           }
          ],
          "histogram2d": [
           {
            "colorbar": {
             "outlinewidth": 0,
             "ticks": ""
            },
            "colorscale": [
             [
              0,
              "#0d0887"
             ],
             [
              0.1111111111111111,
              "#46039f"
             ],
             [
              0.2222222222222222,
              "#7201a8"
             ],
             [
              0.3333333333333333,
              "#9c179e"
             ],
             [
              0.4444444444444444,
              "#bd3786"
             ],
             [
              0.5555555555555556,
              "#d8576b"
             ],
             [
              0.6666666666666666,
              "#ed7953"
             ],
             [
              0.7777777777777778,
              "#fb9f3a"
             ],
             [
              0.8888888888888888,
              "#fdca26"
             ],
             [
              1,
              "#f0f921"
             ]
            ],
            "type": "histogram2d"
           }
          ],
          "histogram2dcontour": [
           {
            "colorbar": {
             "outlinewidth": 0,
             "ticks": ""
            },
            "colorscale": [
             [
              0,
              "#0d0887"
             ],
             [
              0.1111111111111111,
              "#46039f"
             ],
             [
              0.2222222222222222,
              "#7201a8"
             ],
             [
              0.3333333333333333,
              "#9c179e"
             ],
             [
              0.4444444444444444,
              "#bd3786"
             ],
             [
              0.5555555555555556,
              "#d8576b"
             ],
             [
              0.6666666666666666,
              "#ed7953"
             ],
             [
              0.7777777777777778,
              "#fb9f3a"
             ],
             [
              0.8888888888888888,
              "#fdca26"
             ],
             [
              1,
              "#f0f921"
             ]
            ],
            "type": "histogram2dcontour"
           }
          ],
          "mesh3d": [
           {
            "colorbar": {
             "outlinewidth": 0,
             "ticks": ""
            },
            "type": "mesh3d"
           }
          ],
          "parcoords": [
           {
            "line": {
             "colorbar": {
              "outlinewidth": 0,
              "ticks": ""
             }
            },
            "type": "parcoords"
           }
          ],
          "pie": [
           {
            "automargin": true,
            "type": "pie"
           }
          ],
          "scatter": [
           {
            "fillpattern": {
             "fillmode": "overlay",
             "size": 10,
             "solidity": 0.2
            },
            "type": "scatter"
           }
          ],
          "scatter3d": [
           {
            "line": {
             "colorbar": {
              "outlinewidth": 0,
              "ticks": ""
             }
            },
            "marker": {
             "colorbar": {
              "outlinewidth": 0,
              "ticks": ""
             }
            },
            "type": "scatter3d"
           }
          ],
          "scattercarpet": [
           {
            "marker": {
             "colorbar": {
              "outlinewidth": 0,
              "ticks": ""
             }
            },
            "type": "scattercarpet"
           }
          ],
          "scattergeo": [
           {
            "marker": {
             "colorbar": {
              "outlinewidth": 0,
              "ticks": ""
             }
            },
            "type": "scattergeo"
           }
          ],
          "scattergl": [
           {
            "marker": {
             "colorbar": {
              "outlinewidth": 0,
              "ticks": ""
             }
            },
            "type": "scattergl"
           }
          ],
          "scattermapbox": [
           {
            "marker": {
             "colorbar": {
              "outlinewidth": 0,
              "ticks": ""
             }
            },
            "type": "scattermapbox"
           }
          ],
          "scatterpolar": [
           {
            "marker": {
             "colorbar": {
              "outlinewidth": 0,
              "ticks": ""
             }
            },
            "type": "scatterpolar"
           }
          ],
          "scatterpolargl": [
           {
            "marker": {
             "colorbar": {
              "outlinewidth": 0,
              "ticks": ""
             }
            },
            "type": "scatterpolargl"
           }
          ],
          "scatterternary": [
           {
            "marker": {
             "colorbar": {
              "outlinewidth": 0,
              "ticks": ""
             }
            },
            "type": "scatterternary"
           }
          ],
          "surface": [
           {
            "colorbar": {
             "outlinewidth": 0,
             "ticks": ""
            },
            "colorscale": [
             [
              0,
              "#0d0887"
             ],
             [
              0.1111111111111111,
              "#46039f"
             ],
             [
              0.2222222222222222,
              "#7201a8"
             ],
             [
              0.3333333333333333,
              "#9c179e"
             ],
             [
              0.4444444444444444,
              "#bd3786"
             ],
             [
              0.5555555555555556,
              "#d8576b"
             ],
             [
              0.6666666666666666,
              "#ed7953"
             ],
             [
              0.7777777777777778,
              "#fb9f3a"
             ],
             [
              0.8888888888888888,
              "#fdca26"
             ],
             [
              1,
              "#f0f921"
             ]
            ],
            "type": "surface"
           }
          ],
          "table": [
           {
            "cells": {
             "fill": {
              "color": "#EBF0F8"
             },
             "line": {
              "color": "white"
             }
            },
            "header": {
             "fill": {
              "color": "#C8D4E3"
             },
             "line": {
              "color": "white"
             }
            },
            "type": "table"
           }
          ]
         },
         "layout": {
          "annotationdefaults": {
           "arrowcolor": "#2a3f5f",
           "arrowhead": 0,
           "arrowwidth": 1
          },
          "autotypenumbers": "strict",
          "coloraxis": {
           "colorbar": {
            "outlinewidth": 0,
            "ticks": ""
           }
          },
          "colorscale": {
           "diverging": [
            [
             0,
             "#8e0152"
            ],
            [
             0.1,
             "#c51b7d"
            ],
            [
             0.2,
             "#de77ae"
            ],
            [
             0.3,
             "#f1b6da"
            ],
            [
             0.4,
             "#fde0ef"
            ],
            [
             0.5,
             "#f7f7f7"
            ],
            [
             0.6,
             "#e6f5d0"
            ],
            [
             0.7,
             "#b8e186"
            ],
            [
             0.8,
             "#7fbc41"
            ],
            [
             0.9,
             "#4d9221"
            ],
            [
             1,
             "#276419"
            ]
           ],
           "sequential": [
            [
             0,
             "#0d0887"
            ],
            [
             0.1111111111111111,
             "#46039f"
            ],
            [
             0.2222222222222222,
             "#7201a8"
            ],
            [
             0.3333333333333333,
             "#9c179e"
            ],
            [
             0.4444444444444444,
             "#bd3786"
            ],
            [
             0.5555555555555556,
             "#d8576b"
            ],
            [
             0.6666666666666666,
             "#ed7953"
            ],
            [
             0.7777777777777778,
             "#fb9f3a"
            ],
            [
             0.8888888888888888,
             "#fdca26"
            ],
            [
             1,
             "#f0f921"
            ]
           ],
           "sequentialminus": [
            [
             0,
             "#0d0887"
            ],
            [
             0.1111111111111111,
             "#46039f"
            ],
            [
             0.2222222222222222,
             "#7201a8"
            ],
            [
             0.3333333333333333,
             "#9c179e"
            ],
            [
             0.4444444444444444,
             "#bd3786"
            ],
            [
             0.5555555555555556,
             "#d8576b"
            ],
            [
             0.6666666666666666,
             "#ed7953"
            ],
            [
             0.7777777777777778,
             "#fb9f3a"
            ],
            [
             0.8888888888888888,
             "#fdca26"
            ],
            [
             1,
             "#f0f921"
            ]
           ]
          },
          "colorway": [
           "#636efa",
           "#EF553B",
           "#00cc96",
           "#ab63fa",
           "#FFA15A",
           "#19d3f3",
           "#FF6692",
           "#B6E880",
           "#FF97FF",
           "#FECB52"
          ],
          "font": {
           "color": "#2a3f5f"
          },
          "geo": {
           "bgcolor": "white",
           "lakecolor": "white",
           "landcolor": "#E5ECF6",
           "showlakes": true,
           "showland": true,
           "subunitcolor": "white"
          },
          "hoverlabel": {
           "align": "left"
          },
          "hovermode": "closest",
          "mapbox": {
           "style": "light"
          },
          "paper_bgcolor": "white",
          "plot_bgcolor": "#E5ECF6",
          "polar": {
           "angularaxis": {
            "gridcolor": "white",
            "linecolor": "white",
            "ticks": ""
           },
           "bgcolor": "#E5ECF6",
           "radialaxis": {
            "gridcolor": "white",
            "linecolor": "white",
            "ticks": ""
           }
          },
          "scene": {
           "xaxis": {
            "backgroundcolor": "#E5ECF6",
            "gridcolor": "white",
            "gridwidth": 2,
            "linecolor": "white",
            "showbackground": true,
            "ticks": "",
            "zerolinecolor": "white"
           },
           "yaxis": {
            "backgroundcolor": "#E5ECF6",
            "gridcolor": "white",
            "gridwidth": 2,
            "linecolor": "white",
            "showbackground": true,
            "ticks": "",
            "zerolinecolor": "white"
           },
           "zaxis": {
            "backgroundcolor": "#E5ECF6",
            "gridcolor": "white",
            "gridwidth": 2,
            "linecolor": "white",
            "showbackground": true,
            "ticks": "",
            "zerolinecolor": "white"
           }
          },
          "shapedefaults": {
           "line": {
            "color": "#2a3f5f"
           }
          },
          "ternary": {
           "aaxis": {
            "gridcolor": "white",
            "linecolor": "white",
            "ticks": ""
           },
           "baxis": {
            "gridcolor": "white",
            "linecolor": "white",
            "ticks": ""
           },
           "bgcolor": "#E5ECF6",
           "caxis": {
            "gridcolor": "white",
            "linecolor": "white",
            "ticks": ""
           }
          },
          "title": {
           "x": 0.05
          },
          "xaxis": {
           "automargin": true,
           "gridcolor": "white",
           "linecolor": "white",
           "ticks": "",
           "title": {
            "standoff": 15
           },
           "zerolinecolor": "white",
           "zerolinewidth": 2
          },
          "yaxis": {
           "automargin": true,
           "gridcolor": "white",
           "linecolor": "white",
           "ticks": "",
           "title": {
            "standoff": 15
           },
           "zerolinecolor": "white",
           "zerolinewidth": 2
          }
         }
        }
       }
      }
     },
     "metadata": {},
     "output_type": "display_data"
    }
   ],
   "source": [
    "plot_3d(heart_data, 'target')"
   ]
  },
  {
   "cell_type": "markdown",
   "metadata": {},
   "source": [
    "#### Eliminerar extremvärden\n",
    "Vi tappar 56 rader, vilket verkar överkommligt."
   ]
  },
  {
   "cell_type": "code",
   "execution_count": 10,
   "metadata": {},
   "outputs": [
    {
     "data": {
      "text/plain": [
       "'heart_data rows: 1025'"
      ]
     },
     "metadata": {},
     "output_type": "display_data"
    },
    {
     "data": {
      "text/plain": [
       "'heart2 rows: 969'"
      ]
     },
     "metadata": {},
     "output_type": "display_data"
    },
    {
     "data": {
      "text/plain": [
       "'rows lost: 56'"
      ]
     },
     "metadata": {},
     "output_type": "display_data"
    }
   ],
   "source": [
    "heart2 = heart_data[(np.abs(stats.zscore(heart_data)) < 3).all(axis = 1)]\n",
    "display(f'heart_data rows: {heart_data.__len__()}',\n",
    "        f'heart2 rows: {heart2.__len__()}',\n",
    "        f'rows lost: {heart_data.__len__() - heart2.__len__()}')"
   ]
  },
  {
   "cell_type": "markdown",
   "metadata": {},
   "source": [
    "#### Separerar klasskolumn (y2) från resterande data (X2)"
   ]
  },
  {
   "cell_type": "code",
   "execution_count": 11,
   "metadata": {},
   "outputs": [],
   "source": [
    "X2 = heart2.drop('target', axis=1)\n",
    "y2 = heart2['target']"
   ]
  },
  {
   "cell_type": "markdown",
   "metadata": {},
   "source": [
    "#### Ritar ut transformerad data i 3D\n",
    "Vår skuggbild har nu fått en annan form. Beroende på vilket typ av modell vi vill använda kan vi behöva normalisera datan."
   ]
  },
  {
   "cell_type": "code",
   "execution_count": 12,
   "metadata": {},
   "outputs": [
    {
     "data": {
      "application/vnd.plotly.v1+json": {
       "config": {
        "plotlyServerURL": "https://plot.ly"
       },
       "data": [
        {
         "marker": {
          "size": 5
         },
         "mode": "markers",
         "type": "scatter3d",
         "x": [
          -33.37917778900244,
          -41.00592295655097,
          -68.04670124884574,
          -40.37912675772374,
          51.40181920058942,
          72.68730847509052,
          46.32814916261577,
          3.668047190129373,
          41.83088721473846,
          96.24034737809276,
          54.60408244284486,
          22.220603868140753,
          -58.67858511599483,
          63.55908648157785,
          74.67262051667907,
          11.713247963042509,
          86.26561713611848,
          -76.16062453654035,
          -112.0510370634157,
          27.960722168437545,
          -12.527197193343678,
          -15.522649114872202,
          84.88218355120853,
          3.668047190129373,
          -13.530675342418734,
          -15.370140260016814,
          -2.020386434501773,
          -56.87090371883848,
          -30.60256934408395,
          -11.35095022756516,
          53.68671637820985,
          45.67742928178701,
          70.84802739713608,
          84.1336019946911,
          -36.19623588672036,
          4.374913822961992,
          -66.89680438656112,
          11.166360878165902,
          -56.227469439356234,
          -11.46291011789938,
          -95.48742691473599,
          -12.527197193343678,
          7.52602092473664,
          24.005096342263222,
          -49.71605635257808,
          -56.227469439356234,
          -76.16062453654035,
          38.48590146153728,
          2.3995882647353244,
          29.787040669407286,
          54.07819127534024,
          37.41946167368209,
          -21.624596222463353,
          -38.42455746160684,
          -49.83999466182837,
          11.166360878165902,
          89.25694103750304,
          -26.05761403916624,
          63.55908648157785,
          9.854582993580777,
          -67.51159641549138,
          -76.16062453654035,
          38.72177883532961,
          15.35287174843694,
          -16.76427175371785,
          32.65285530466224,
          -47.01304955155579,
          -9.86229703774751,
          -78.03555629466804,
          -74.31942619851532,
          72.68730847509052,
          54.49513933516598,
          86.06856602412141,
          59.50588456496756,
          59.50588456496756,
          28.262198769055363,
          4.374913822961992,
          84.1336019946911,
          -58.8361601913819,
          39.78990725176029,
          -6.058541916068465,
          39.78990725176029,
          2.8191249720723484,
          -49.83999466182837,
          -56.227469439356234,
          48.547711707537275,
          47.34134055653589,
          -78.03555629466804,
          4.374913822961992,
          9.854582993580777,
          64.88343506876892,
          44.91567226217872,
          -12.391421024328189,
          -43.0130241416407,
          -26.05761403916624,
          37.41946167368209,
          53.68671637820985,
          0.1625358264585013,
          10.835259712351831,
          67.41923813811866,
          41.83088721473846,
          -9.13090988662469,
          9.854582993580777,
          -95.48742691473599,
          -13.530675342418734,
          54.49513933516598,
          13.596788085080705,
          -95.48742691473599,
          16.39728143176976,
          -15.370140260016814,
          0.8636101105727733,
          -30.60256934408395,
          -58.67858511599483,
          67.41923813811866,
          29.787040669407286,
          108.7952743532863,
          47.34134055653589,
          -47.19311283349088,
          -15.72320194317559,
          -16.76427175371785,
          38.48590146153728,
          -20.8983194145328,
          -38.42455746160684,
          39.78990725176029,
          46.32814916261577,
          -20.8983194145328,
          -21.624596222463353,
          15.027295164090201,
          53.68671637820985,
          27.898408323136316,
          38.72177883532961,
          23.586810143007657,
          -26.05761403916624,
          15.35287174843694,
          11.166360878165902,
          27.960722168437545,
          -66.89680438656112,
          64.70958317435459,
          4.6392991522035905,
          33.81138890538188,
          79.05214177999589,
          22.809192730453866,
          -37.665206679522576,
          27.898408323136316,
          11.713247963042509,
          8.827380322620554,
          4.6392991522035905,
          0.1625358264585013,
          20.26483158676834,
          -43.0130241416407,
          89.25694103750304,
          16.39728143176976,
          -64.28372607716545,
          44.91567226217872,
          -40.354168412986155,
          -9.13090988662469,
          -15.910104813702121,
          -17.51827191285709,
          96.24034737809276,
          108.7952743532863,
          38.55864101712512,
          -24.004870751842144,
          -20.8983194145328,
          -6.335310397732864,
          27.898408323136316,
          36.14109214254168,
          59.50588456496756,
          2.8191249720723484,
          74.67262051667907,
          18.316499836818373,
          86.06856602412141,
          32.963399575207376,
          -78.03555629466804,
          -56.87090371883848,
          -36.19623588672036,
          11.713247963042509,
          -12.391421024328189,
          -12.527197193343678,
          4.374913822961992,
          33.81138890538188,
          79.05214177999589,
          45.67742928178701,
          74.67262051667907,
          64.70958317435459,
          60.36611282708219,
          -3.254219905382708,
          -30.60256934408395,
          -16.764108622515163,
          7.52602092473664,
          -14.983707875315064,
          38.55864101712512,
          0.8636101105727733,
          48.547711707537275,
          32.65285530466224,
          46.32814916261577,
          -16.000087266007615,
          -13.530675342418734,
          -16.764108622515163,
          -3.254219905382708,
          10.73694813792612,
          29.787040669407286,
          44.91567226217872,
          -17.51827191285709,
          47.34134055653589,
          -15.522649114872202,
          -27.866509505129844,
          60.36611282708219,
          54.60408244284486,
          2.3995882647353244,
          37.41946167368209,
          -74.31942619851532,
          10.835259712351831,
          64.88343506876892,
          108.7952743532863,
          32.963399575207376,
          -11.35095022756516,
          -3.254219905382708,
          15.35287174843694,
          86.26561713611848,
          -67.51159641549138,
          43.70399218029386,
          -38.42455746160684,
          -56.87090371883848,
          -37.665206679522576,
          -56.87090371883848,
          -40.37912675772374,
          -66.89680438656112,
          -40.37912675772374,
          -15.910104813702121,
          14.658906131392483,
          -47.01304955155579,
          3.668047190129373,
          15.027295164090201,
          -40.354168412986155,
          -17.51827191285709,
          79.05214177999589,
          10.73694813792612,
          41.83088721473846,
          96.24034737809276,
          -12.391421024328189,
          9.232233520289682,
          -66.89680438656112,
          43.70399218029386,
          -58.8361601913819,
          38.72177883532961,
          43.70399218029386,
          13.596788085080705,
          79.05214177999589,
          -24.004870751842144,
          -67.51159641549138,
          108.7952743532863,
          64.88343506876892,
          -64.28372607716545,
          63.55908648157785,
          41.83088721473846,
          22.809192730453866,
          27.960722168437545,
          22.809192730453866,
          -30.60778112293933,
          -40.37912675772374,
          38.55864101712512,
          20.26483158676834,
          67.41923813811866,
          -32.55621633049636,
          70.84802739713608,
          -30.60778112293933,
          86.26561713611848,
          96.24034737809276,
          -38.92767425015065,
          -16.76427175371785,
          60.36611282708219,
          2.3995882647353244,
          32.65285530466224,
          11.166360878165902,
          51.40181920058942,
          -9.86229703774751,
          10.73694813792612,
          -20.8983194145328,
          -15.72320194317559,
          37.5294567703136,
          18.316499836818373,
          -76.80415352397873,
          -33.379177789002476,
          7.52602092473664,
          37.5294567703136,
          0.1625358264585013,
          -3.254219905382708,
          23.586810143007657,
          39.78990725176029,
          -9.13090988662469,
          64.88343506876892,
          -76.80415352397873,
          72.68730847509052,
          16.39728143176976,
          4.6392991522035905,
          84.88218355120853,
          -33.379177789002476,
          86.06856602412141,
          -12.391421024328189,
          8.827380322620554,
          9.854582993580777,
          32.963399575207376,
          84.1336019946911,
          -64.28372607716545,
          -67.51159641549138,
          -58.67858511599483,
          54.49513933516598,
          -41.00592295655097,
          -26.5206255504531,
          36.14109214254168,
          -30.60256934408395,
          -32.55621633049636,
          36.14109214254168,
          -47.19311283349088,
          -27.866509505129844,
          -15.522649114872202,
          18.316499836818373,
          -47.19311283349088,
          -38.92767425015065,
          11.713247963042509,
          90.91821854464847,
          14.658906131392483,
          28.262198769055363,
          67.41923813811866,
          -16.000087266007615,
          -6.335310397732864,
          -14.983707875315064,
          54.49513933516598,
          9.87548860132808,
          86.06856602412141,
          90.91821854464847,
          -15.370140260016814,
          2.8191249720723484,
          84.88218355120853,
          33.81138890538188,
          -56.227469439356234,
          89.25694103750304,
          89.25694103750304,
          -49.71605635257808,
          0.8636101105727733,
          -16.764108622515163,
          63.55908648157785,
          38.48590146153728,
          -40.354168412986155,
          -76.16062453654035,
          -24.004870751842144,
          46.32814916261577,
          9.232233520289682,
          54.60408244284486,
          51.40181920058942,
          37.41946167368209,
          -6.058541916068465,
          -6.058541916068465,
          -49.71605635257808,
          -9.86229703774751,
          -16.764108622515163,
          45.67742928178701,
          -14.983707875315064,
          -47.01304955155579,
          -16.000087266007615,
          33.81138890538188,
          -78.03555629466804,
          16.39728143176976,
          24.005096342263222,
          -41.00592295655097,
          -16.76427175371785,
          -36.19623588672036,
          24.005096342263222,
          8.827380322620554,
          -76.80415352397873,
          -15.522649114872202,
          22.220603868140753,
          70.84802739713608,
          -95.48742691473599,
          -68.04670124884574,
          -15.910104813702121,
          31.117821063092087,
          48.547711707537275,
          -58.8361601913819,
          -76.80415352397873,
          9.87548860132808,
          38.55864101712512,
          9.87548860132808,
          -14.983707875315064,
          37.5294567703136,
          54.07819127534024,
          -16.000087266007615,
          90.91821854464847,
          45.67742928178701,
          -33.379177789002476,
          31.117821063092087,
          31.117821063092087,
          -37.665206679522576,
          -36.19623588672036,
          -55.90290574006668,
          -11.35095022756516,
          -112.0510370634157,
          28.262198769055363,
          -68.04670124884574,
          47.34134055653589,
          15.35287174843694,
          14.658906131392483,
          -38.92767425015065,
          -6.058541916068465,
          54.07819127534024,
          20.26483158676834,
          -9.86229703774751,
          24.005096342263222,
          -26.05761403916624,
          2.8191249720723484,
          23.586810143007657,
          -43.0130241416407,
          -11.46291011789938,
          74.67262051667907,
          -47.19311283349088,
          -32.55621633049636,
          3.668047190129373,
          10.835259712351831,
          -40.354168412986155,
          -15.72320194317559,
          -26.5206255504531,
          -24.004870751842144,
          84.88218355120853,
          -112.0510370634157,
          -38.42455746160684,
          22.220603868140753,
          -37.665206679522576,
          10.835259712351831,
          -21.624596222463353,
          -15.72320194317559,
          90.91821854464847,
          -2.020386434501773,
          -13.530675342418734,
          -68.04670124884574,
          44.91567226217872,
          20.26483158676834,
          -11.46291011789938,
          -2.020386434501773,
          15.027295164090201,
          -41.00592295655097,
          -26.5206255504531,
          22.809192730453866,
          -49.83999466182837,
          64.70958317435459,
          -26.5206255504531,
          86.26561713611848,
          -11.35095022756516,
          48.547711707537275,
          -15.370140260016814,
          -6.335310397732864,
          -55.90290574006668,
          70.84802739713608,
          9.232233520289682,
          -30.60778112293933,
          -32.55621633049636,
          -38.92767425015065,
          -21.624596222463353,
          54.07819127534024,
          -17.51827191285709,
          72.68730847509052,
          -27.866509505129844,
          37.5294567703136,
          38.48590146153728,
          -74.31942619851532,
          13.596788085080705,
          29.787040669407286,
          -55.902905740066686
         ],
         "y": [
          -17.933246001264937,
          -2.9060392945853564,
          31.232980527340008,
          -6.474997099761847,
          42.33012349998802,
          4.680009359193433,
          5.75201286354252,
          2.1987715795820435,
          29.65971544659608,
          6.920425013189934,
          24.858325599478004,
          37.56007913208888,
          -0.920126110096578,
          3.3289055095173206,
          -4.6477812041441915,
          6.790008389676836,
          33.75799710555489,
          5.364069179511322,
          38.76927969926685,
          41.5130437249883,
          3.546182639846257,
          0.09764748687208191,
          -21.87882773005254,
          2.1987715795820435,
          -7.053197537573215,
          -10.383246265298036,
          27.31972538990728,
          10.30105281867719,
          5.392354849572784,
          -10.69682745159801,
          20.064119087823887,
          -6.060574294325255,
          19.03416124727438,
          10.941301729461118,
          14.910272202463593,
          4.603332745833957,
          -7.597908875098211,
          -2.4258127821277404,
          10.331024077907832,
          -12.62568760929604,
          24.41101933094022,
          3.546182639846257,
          11.738256528322742,
          -8.967812845551997,
          14.346568200265972,
          10.331024077907832,
          5.364069179511322,
          50.238318872414965,
          -9.151586263503075,
          25.494124654874696,
          -25.03616528478977,
          43.70086631475185,
          -30.168288856652477,
          39.47818997608379,
          -29.261050888997968,
          -2.4258127821277404,
          0.33077383050301673,
          16.336409247082774,
          3.3289055095173206,
          3.2895307205489805,
          28.245529585366416,
          5.364069179511322,
          8.19366217596688,
          8.390662890998314,
          9.283608936060828,
          61.45365422448716,
          15.764526097327243,
          6.202663912986893,
          32.8317215091919,
          -10.187299417106605,
          4.680009359193433,
          -23.61539785791235,
          14.659996111443755,
          -11.586015987489567,
          -11.586015987489567,
          -19.523532578911965,
          4.603332745833957,
          10.941301729461118,
          46.29132096785347,
          43.71609892296124,
          20.536772219316,
          43.71609892296124,
          52.44759202817259,
          -29.261050888997968,
          10.331024077907832,
          -20.21440194942292,
          27.197340404082937,
          32.8317215091919,
          4.603332745833957,
          3.2895307205489805,
          16.093375760034235,
          44.16526171070052,
          -9.019309385270128,
          25.39254204204499,
          16.336409247082774,
          43.70086631475185,
          20.064119087823887,
          22.29207939479371,
          23.762602633190976,
          25.295618494436145,
          29.65971544659608,
          -23.38887504311045,
          3.2895307205489805,
          24.41101933094022,
          -7.053197537573215,
          -23.61539785791235,
          7.887479948416586,
          24.41101933094022,
          7.015706106890535,
          -10.383246265298036,
          -0.9864741096624715,
          5.392354849572784,
          -0.920126110096578,
          25.295618494436145,
          25.494124654874696,
          12.433239789444626,
          27.197340404082937,
          16.128050057078546,
          -35.49708079979037,
          9.283608936060828,
          50.238318872414965,
          -21.433058249108157,
          39.47818997608379,
          43.71609892296124,
          5.75201286354252,
          -21.433058249108157,
          -30.168288856652477,
          18.58027642984637,
          20.064119087823887,
          39.10719507808234,
          8.19366217596688,
          48.24870194936565,
          16.336409247082774,
          8.390662890998314,
          -2.4258127821277404,
          41.5130437249883,
          -7.597908875098211,
          -0.9255966534476262,
          33.968837145877536,
          37.70558921390989,
          38.7101851559324,
          -21.343545746278892,
          19.505150356368503,
          39.10719507808234,
          6.790008389676836,
          5.718241047850185,
          33.968837145877536,
          22.29207939479371,
          51.47099402467971,
          25.39254204204499,
          0.33077383050301673,
          7.015706106890535,
          65.49139199900476,
          44.16526171070052,
          -9.483099433927775,
          -23.38887504311045,
          -16.212010596645836,
          -21.135903433209698,
          6.920425013189934,
          12.433239789444626,
          -12.765996879936905,
          46.78750745570617,
          -21.433058249108157,
          5.79603306089822,
          39.10719507808234,
          -12.223568380729473,
          -11.586015987489567,
          52.44759202817259,
          -4.6477812041441915,
          11.900577759121617,
          14.659996111443755,
          6.139944708958668,
          32.8317215091919,
          10.30105281867719,
          14.910272202463593,
          6.790008389676836,
          -9.019309385270128,
          3.546182639846257,
          4.603332745833957,
          37.70558921390989,
          38.7101851559324,
          -6.060574294325255,
          -4.6477812041441915,
          -0.9255966534476262,
          3.796030543550505,
          -6.5964713152495245,
          5.392354849572784,
          39.427557465141426,
          11.738256528322742,
          21.53814958532554,
          -12.765996879936905,
          -0.9864741096624715,
          -20.21440194942292,
          61.45365422448716,
          5.75201286354252,
          -12.442680769594876,
          -7.053197537573215,
          39.427557465141426,
          -6.5964713152495245,
          6.505660729964424,
          25.494124654874696,
          44.16526171070052,
          -21.135903433209698,
          27.197340404082937,
          0.09764748687208191,
          19.46704199866382,
          3.796030543550505,
          24.858325599478004,
          -9.151586263503075,
          43.70086631475185,
          -10.187299417106605,
          23.762602633190976,
          16.093375760034235,
          12.433239789444626,
          6.139944708958668,
          -10.69682745159801,
          -6.5964713152495245,
          8.390662890998314,
          33.75799710555489,
          28.245529585366416,
          -9.645886560928805,
          39.47818997608379,
          10.30105281867719,
          19.505150356368503,
          10.30105281867719,
          -6.474997099761847,
          -7.597908875098211,
          -6.474997099761847,
          -16.212010596645836,
          -4.835842561118514,
          15.764526097327243,
          2.1987715795820435,
          18.58027642984637,
          -9.483099433927775,
          -21.135903433209698,
          38.7101851559324,
          6.505660729964424,
          29.65971544659608,
          6.920425013189934,
          -9.019309385270128,
          -12.19089129555049,
          -7.597908875098211,
          -9.645886560928805,
          46.29132096785347,
          8.19366217596688,
          -9.645886560928805,
          7.887479948416586,
          38.7101851559324,
          46.78750745570617,
          28.245529585366416,
          12.433239789444626,
          16.093375760034235,
          65.49139199900476,
          3.3289055095173206,
          29.65971544659608,
          -21.343545746278892,
          41.5130437249883,
          -21.343545746278892,
          21.672942043372615,
          -6.474997099761847,
          -12.765996879936905,
          51.47099402467971,
          25.295618494436145,
          18.175352058511713,
          19.03416124727438,
          21.672942043372615,
          33.75799710555489,
          6.920425013189934,
          20.349056717943192,
          9.283608936060828,
          3.796030543550505,
          -9.151586263503075,
          61.45365422448716,
          -2.4258127821277404,
          42.33012349998802,
          6.202663912986893,
          6.505660729964424,
          -21.433058249108157,
          -35.49708079979037,
          -23.024321831699897,
          11.900577759121617,
          29.176875752301445,
          -17.93324600126491,
          11.738256528322742,
          -23.024321831699897,
          22.29207939479371,
          -6.5964713152495245,
          48.24870194936565,
          43.71609892296124,
          -23.38887504311045,
          16.093375760034235,
          29.176875752301445,
          4.680009359193433,
          7.015706106890535,
          33.968837145877536,
          -21.87882773005254,
          -17.93324600126491,
          14.659996111443755,
          -9.019309385270128,
          5.718241047850185,
          3.2895307205489805,
          6.139944708958668,
          10.941301729461118,
          65.49139199900476,
          28.245529585366416,
          -0.920126110096578,
          -23.61539785791235,
          -2.9060392945854128,
          5.932239475094674,
          -12.223568380729473,
          5.392354849572784,
          18.175352058511713,
          -12.223568380729473,
          16.128050057078546,
          19.46704199866382,
          0.09764748687208191,
          11.900577759121617,
          16.128050057078546,
          20.349056717943192,
          6.790008389676836,
          -9.69659373997828,
          -4.835842561118514,
          -19.523532578911965,
          25.295618494436145,
          -12.442680769594876,
          5.79603306089822,
          21.53814958532554,
          -23.61539785791235,
          -12.643295791860314,
          14.659996111443755,
          -9.69659373997828,
          -10.383246265298036,
          52.44759202817259,
          -21.87882773005254,
          37.70558921390989,
          10.331024077907832,
          0.33077383050301673,
          0.33077383050301673,
          14.346568200265972,
          -0.9864741096624715,
          39.427557465141426,
          3.3289055095173206,
          50.238318872414965,
          -9.483099433927775,
          5.364069179511322,
          46.78750745570617,
          5.75201286354252,
          -12.19089129555049,
          24.858325599478004,
          42.33012349998802,
          43.70086631475185,
          20.536772219316,
          20.536772219316,
          14.346568200265972,
          6.202663912986893,
          39.427557465141426,
          -6.060574294325255,
          21.53814958532554,
          15.764526097327243,
          -12.442680769594876,
          37.70558921390989,
          32.8317215091919,
          7.015706106890535,
          -8.967812845551997,
          -2.9060392945854128,
          9.283608936060828,
          14.910272202463593,
          -8.967812845551997,
          5.718241047850185,
          29.176875752301445,
          0.09764748687208191,
          37.56007913208888,
          19.03416124727438,
          24.41101933094022,
          31.232980527340008,
          -16.212010596645836,
          26.589642917471256,
          -20.21440194942292,
          46.29132096785347,
          29.176875752301445,
          -12.643295791860314,
          -12.765996879936905,
          -12.643295791860314,
          21.53814958532554,
          -23.024321831699897,
          -25.03616528478977,
          -12.442680769594876,
          -9.69659373997828,
          -6.060574294325255,
          -17.93324600126491,
          26.589642917471256,
          26.589642917471256,
          19.505150356368503,
          14.910272202463593,
          36.5530566502839,
          -10.69682745159801,
          38.76927969926685,
          -19.523532578911965,
          31.232980527340008,
          27.197340404082937,
          8.390662890998314,
          -4.835842561118514,
          20.349056717943192,
          20.536772219316,
          -25.03616528478977,
          51.47099402467971,
          6.202663912986893,
          -8.967812845551997,
          16.336409247082774,
          52.44759202817259,
          48.24870194936565,
          25.39254204204499,
          -12.62568760929604,
          -4.6477812041441915,
          16.128050057078546,
          18.175352058511713,
          2.1987715795820435,
          23.762602633190976,
          -9.483099433927775,
          -35.49708079979037,
          5.932239475094674,
          46.78750745570617,
          -21.87882773005254,
          38.76927969926685,
          39.47818997608379,
          37.56007913208888,
          19.505150356368503,
          23.762602633190976,
          -30.168288856652477,
          -35.49708079979037,
          -9.69659373997828,
          27.31972538990728,
          -7.053197537573215,
          31.232980527340008,
          44.16526171070052,
          51.47099402467971,
          -12.62568760929604,
          27.31972538990728,
          18.58027642984637,
          -2.9060392945854128,
          5.932239475094674,
          -21.343545746278892,
          -29.261050888997968,
          -0.9255966534476262,
          5.932239475094674,
          33.75799710555489,
          -10.69682745159801,
          -20.21440194942292,
          -10.383246265298036,
          5.79603306089822,
          36.5530566502839,
          19.03416124727438,
          -12.19089129555049,
          21.672942043372615,
          18.175352058511713,
          20.349056717943192,
          -30.168288856652477,
          -25.03616528478977,
          -21.135903433209698,
          4.680009359193433,
          19.46704199866382,
          -23.0243218316999,
          50.238318872414965,
          -10.187299417106605,
          7.887479948416585,
          25.494124654874696,
          36.5530566502839
         ],
         "z": [
          -1.508401504082394,
          11.9838357016274,
          16.72890868470033,
          21.784723563682903,
          -1.3748598819874776,
          -21.95126665359878,
          25.061668612635884,
          -12.993501662103178,
          -16.208748913932123,
          -8.492048999217474,
          1.086123212796877,
          -14.042223719860504,
          14.099625184424001,
          10.297530762003799,
          1.212119767122995,
          -2.4971063819767125,
          38.230650718317186,
          -8.34835002046254,
          1.4104617689811818,
          23.68213529925225,
          17.892977505200236,
          -1.4961984776409636,
          -2.455591781420363,
          -12.993501662103178,
          50.864622708711835,
          -10.445369694485823,
          5.5693595182393,
          -9.514696355672378,
          24.427844716113743,
          25.73916697888351,
          -35.366407685726514,
          37.510015906922135,
          -4.730208927498345,
          32.41933021847593,
          10.40791829791809,
          -6.676632468443655,
          15.425030938062642,
          -2.5002074615449987,
          12.801741777418304,
          10.865137836606467,
          -10.95465827038876,
          17.892977505200236,
          41.47732036883182,
          9.99331016433636,
          16.619856280046225,
          12.801741777418304,
          -8.34835002046254,
          -18.17270076967416,
          -17.973953695364834,
          -27.97856998688866,
          8.380616838515413,
          -18.59689571638651,
          24.363464244182147,
          -24.1889595472074,
          -15.085321723499845,
          -2.5002074615449987,
          -26.622656255385305,
          -4.791331304048514,
          10.297530762003799,
          -0.6693964443555134,
          -12.452785176055363,
          -8.34835002046254,
          11.123635553615033,
          -12.098917357125956,
          39.35790699148585,
          10.211118591740718,
          -4.626946185792219,
          3.924233481337472,
          -22.90701774831227,
          -16.722375290282482,
          -21.95126665359878,
          -5.635110293405845,
          -7.507128315451078,
          -4.476427431593638,
          -4.476427431593638,
          -7.157491790136884,
          -6.676632468443655,
          32.41933021847593,
          -1.4751228673079622,
          -9.806024986731616,
          -23.60434619629176,
          -9.806024986731616,
          -17.174796148182974,
          -15.085321723499845,
          12.801741777418304,
          9.601191639338639,
          27.203323019542538,
          -22.90701774831227,
          -6.676632468443655,
          -0.6693964443555134,
          -11.09415610850797,
          21.61138843388918,
          -28.176985635181126,
          11.44133586283327,
          -4.791331304048514,
          -18.59689571638651,
          -35.366407685726514,
          14.958916888874164,
          1.6176276396969462,
          -0.7277754675808665,
          -16.208748913932123,
          3.4884662149769996,
          -0.6693964443555134,
          -10.95465827038876,
          50.864622708711835,
          -5.635110293405845,
          -7.089471028789168,
          -10.95465827038876,
          -8.68691378006502,
          -10.445369694485823,
          20.356766283094125,
          24.427844716113743,
          14.099625184424001,
          -0.7277754675808665,
          -27.97856998688866,
          -8.115714981210482,
          27.203323019542538,
          -13.445273428441256,
          -7.494675812757614,
          39.35790699148585,
          -18.17270076967416,
          6.201515416402998,
          -24.1889595472074,
          -9.806024986731616,
          25.061668612635884,
          6.201515416402998,
          24.363464244182147,
          -6.092744569288483,
          -35.366407685726514,
          11.96866729795872,
          11.123635553615033,
          -18.322883940653306,
          -4.791331304048514,
          -12.098917357125956,
          -2.5002074615449987,
          23.68213529925225,
          15.425030938062642,
          5.103889706600039,
          25.661559049400235,
          11.602815495634825,
          -9.341305196289712,
          -19.909207512799377,
          -0.30799622505331875,
          11.96866729795872,
          -2.4971063819767125,
          -1.473348917328302,
          25.661559049400235,
          14.958916888874164,
          -8.579348538653012,
          11.44133586283327,
          -26.622656255385305,
          -8.68691378006502,
          28.545345123732176,
          21.61138843388918,
          7.931282697164307,
          3.4884662149769996,
          -14.871049022451356,
          -17.77225674268417,
          -8.492048999217474,
          -8.115714981210482,
          -11.109443521450054,
          10.396961432525604,
          6.201515416402998,
          -20.585254674261364,
          11.96866729795872,
          -8.99672836732399,
          -4.476427431593638,
          -17.174796148182974,
          1.212119767122995,
          -25.54016079946647,
          -7.507128315451078,
          48.12576182299604,
          -22.90701774831227,
          -9.514696355672378,
          10.40791829791809,
          -2.4971063819767125,
          -28.176985635181126,
          17.892977505200236,
          -6.676632468443655,
          11.602815495634825,
          -9.341305196289712,
          37.510015906922135,
          1.212119767122995,
          5.103889706600039,
          -6.2413104515873075,
          -23.042437109008677,
          24.427844716113743,
          16.17288100446594,
          41.47732036883182,
          -10.930267515924454,
          -11.109443521450054,
          20.356766283094125,
          9.601191639338639,
          10.211118591740718,
          25.061668612635884,
          -16.481168719716084,
          50.864622708711835,
          16.17288100446594,
          -23.042437109008677,
          9.83294091841169,
          -27.97856998688866,
          21.61138843388918,
          -17.77225674268417,
          27.203323019542538,
          -1.4961984776409636,
          -3.3073013235192583,
          -6.2413104515873075,
          1.086123212796877,
          -17.973953695364834,
          -18.59689571638651,
          -16.722375290282482,
          1.6176276396969462,
          -11.09415610850797,
          -8.115714981210482,
          48.12576182299604,
          25.73916697888351,
          -23.042437109008677,
          -12.098917357125956,
          38.230650718317186,
          -12.452785176055363,
          -22.31995392879377,
          -24.1889595472074,
          -9.514696355672378,
          -0.30799622505331875,
          -9.514696355672378,
          21.784723563682903,
          15.425030938062642,
          21.784723563682903,
          -14.871049022451356,
          19.6552118762404,
          -4.626946185792219,
          -12.993501662103178,
          -6.092744569288483,
          7.931282697164307,
          -17.77225674268417,
          -9.341305196289712,
          9.83294091841169,
          -16.208748913932123,
          -8.492048999217474,
          -28.176985635181126,
          -2.677512723154319,
          15.425030938062642,
          -22.31995392879377,
          -1.4751228673079622,
          11.123635553615033,
          -22.31995392879377,
          -7.089471028789168,
          -9.341305196289712,
          10.396961432525604,
          -12.452785176055363,
          -8.115714981210482,
          -11.09415610850797,
          28.545345123732176,
          10.297530762003799,
          -16.208748913932123,
          -19.909207512799377,
          23.68213529925225,
          -19.909207512799377,
          14.549738503629634,
          21.784723563682903,
          -11.109443521450054,
          -8.579348538653012,
          -0.7277754675808665,
          -17.425834923964295,
          -4.730208927498345,
          14.549738503629634,
          38.230650718317186,
          -8.492048999217474,
          -3.2083963002887588,
          39.35790699148585,
          -6.2413104515873075,
          -17.973953695364834,
          10.211118591740718,
          -2.5002074615449987,
          -1.3748598819874776,
          3.924233481337472,
          9.83294091841169,
          6.201515416402998,
          -7.494675812757614,
          9.642060663765843,
          -25.54016079946647,
          9.106099939965274,
          -1.5084015040822707,
          41.47732036883182,
          9.642060663765843,
          14.958916888874164,
          -23.042437109008677,
          -18.322883940653306,
          -9.806024986731616,
          3.4884662149769996,
          -11.09415610850797,
          9.106099939965274,
          -21.95126665359878,
          -8.68691378006502,
          25.661559049400235,
          -2.455591781420363,
          -1.5084015040822707,
          -7.507128315451078,
          -28.176985635181126,
          -1.473348917328302,
          -0.6693964443555134,
          48.12576182299604,
          32.41933021847593,
          28.545345123732176,
          -12.452785176055363,
          14.099625184424001,
          -5.635110293405845,
          11.983835701627429,
          -14.67721642267873,
          -8.99672836732399,
          24.427844716113743,
          -17.425834923964295,
          -8.99672836732399,
          -13.445273428441256,
          -3.3073013235192583,
          -1.4961984776409636,
          -25.54016079946647,
          -13.445273428441256,
          -3.2083963002887588,
          -2.4971063819767125,
          5.858278344517658,
          19.6552118762404,
          -7.157491790136884,
          -0.7277754675808665,
          -16.481168719716084,
          -20.585254674261364,
          -10.930267515924454,
          -5.635110293405845,
          -2.2399292982765813,
          -7.507128315451078,
          5.858278344517658,
          -10.445369694485823,
          -17.174796148182974,
          -2.455591781420363,
          11.602815495634825,
          12.801741777418304,
          -26.622656255385305,
          -26.622656255385305,
          16.619856280046225,
          20.356766283094125,
          16.17288100446594,
          10.297530762003799,
          -18.17270076967416,
          7.931282697164307,
          -8.34835002046254,
          10.396961432525604,
          25.061668612635884,
          -2.677512723154319,
          1.086123212796877,
          -1.3748598819874776,
          -18.59689571638651,
          -23.60434619629176,
          -23.60434619629176,
          16.619856280046225,
          3.924233481337472,
          16.17288100446594,
          37.510015906922135,
          -10.930267515924454,
          -4.626946185792219,
          -16.481168719716084,
          11.602815495634825,
          -22.90701774831227,
          -8.68691378006502,
          9.99331016433636,
          11.983835701627429,
          39.35790699148585,
          10.40791829791809,
          9.99331016433636,
          -1.473348917328302,
          9.106099939965274,
          -1.4961984776409636,
          -14.042223719860504,
          -4.730208927498345,
          -10.95465827038876,
          16.728908684700308,
          -14.871049022451356,
          23.743431029015447,
          9.601191639338639,
          -1.4751228673079622,
          9.106099939965274,
          -2.2399292982765813,
          -11.109443521450054,
          -2.2399292982765813,
          -10.930267515924454,
          9.642060663765843,
          8.380616838515413,
          -16.481168719716084,
          5.858278344517658,
          37.510015906922135,
          -1.5084015040822707,
          23.743431029015447,
          23.743431029015447,
          -0.30799622505331875,
          10.40791829791809,
          -12.581577553298247,
          25.73916697888351,
          1.4104617689811818,
          -7.157491790136884,
          16.728908684700308,
          27.203323019542538,
          -12.098917357125956,
          19.6552118762404,
          -3.2083963002887588,
          -23.60434619629176,
          8.380616838515413,
          -8.579348538653012,
          3.924233481337472,
          9.99331016433636,
          -4.791331304048514,
          -17.174796148182974,
          -18.322883940653306,
          11.44133586283327,
          10.865137836606467,
          1.212119767122995,
          -13.445273428441256,
          -17.425834923964295,
          -12.993501662103178,
          1.6176276396969462,
          7.931282697164307,
          -7.494675812757614,
          -14.67721642267873,
          10.396961432525604,
          -2.455591781420363,
          1.4104617689811818,
          -24.1889595472074,
          -14.042223719860504,
          -0.30799622505331875,
          1.6176276396969462,
          24.363464244182147,
          -7.494675812757614,
          5.858278344517658,
          5.5693595182393,
          50.864622708711835,
          16.728908684700308,
          21.61138843388918,
          -8.579348538653012,
          10.865137836606467,
          5.5693595182393,
          -6.092744569288483,
          11.983835701627429,
          -14.67721642267873,
          -19.909207512799377,
          -15.085321723499845,
          5.103889706600039,
          -14.67721642267873,
          38.230650718317186,
          25.73916697888351,
          9.601191639338639,
          -10.445369694485823,
          -20.585254674261364,
          -12.581577553298247,
          -4.730208927498345,
          -2.677512723154319,
          14.549738503629634,
          -17.425834923964295,
          -3.2083963002887588,
          24.363464244182147,
          8.380616838515413,
          -17.77225674268417,
          -21.95126665359878,
          -3.3073013235192583,
          9.642060663765843,
          -18.17270076967416,
          -16.722375290282482,
          -7.089471028789168,
          -27.97856998688866,
          -12.581577553298242
         ]
        },
        {
         "marker": {
          "size": 5
         },
         "mode": "markers",
         "type": "scatter3d",
         "x": [
          2.5734015295837716,
          -94.95511124285743,
          -37.234880117370956,
          -37.234880117370956,
          63.96802044258008,
          -1.693751524176744,
          -33.13894877832961,
          -22.213466466154188,
          -38.34099361113992,
          7.4183049533625365,
          -37.23134770312858,
          -12.791393400179997,
          -1.693751524176744,
          -49.026269350377504,
          -31.154439342449248,
          26.09102914889642,
          19.98720002281116,
          117.31784724828073,
          12.863445608545598,
          96.81637474532566,
          -19.20259526185558,
          -41.11615624757537,
          34.72662473294582,
          39.33901629095398,
          -52.29961800984041,
          -0.6975402135244382,
          -42.975775662207866,
          34.72662473294582,
          -31.251004330408477,
          -42.975775662207866,
          -47.52006399723484,
          -31.35954381773382,
          12.4251712607079,
          9.052842548105312,
          -43.501858398548805,
          -43.501858398548805,
          -31.35954381773382,
          -26.096632624162545,
          -33.13894877832961,
          20.506258751121933,
          -35.891774946133964,
          -35.96365215620095,
          -8.462839123328544,
          57.98413492519169,
          -44.92814070740502,
          -32.84404015517628,
          -117.53464810908065,
          62.701727924725596,
          12.4251712607079,
          -60.39285242901439,
          -16.65427670570929,
          -42.975775662207866,
          48.82711448565355,
          62.701727924725596,
          -3.7156589915003955,
          57.08726730328133,
          -47.52006399723484,
          -51.61214289124113,
          -3.7156589915003955,
          11.305621147741645,
          -41.11615624757537,
          -49.026269350377504,
          62.701727924725596,
          96.81637474532566,
          83.52894743666515,
          12.4251712607079,
          -11.371916680568313,
          -64.61931391633408,
          -41.615595230599666,
          49.33326834995536,
          53.70102208447719,
          75.2598826496537,
          12.863445608545598,
          62.701727924725596,
          -46.201169048966634,
          12.863445608545598,
          -89.37475491438941,
          -24.251563693188103,
          108.21348831883466,
          69.42028984575883,
          -85.41020779947996,
          2.5942862965865494,
          -5.6532586017474715,
          -49.09227327268157,
          -34.11817373525364,
          -64.84682356102392,
          62.16027186527017,
          2.9308080222416097,
          -23.800908237135197,
          -7.538831686413667,
          -31.251004330408477,
          13.070040154124396,
          71.42585466114686,
          -35.891774946133964,
          -64.61931391633408,
          53.70102208447719,
          -14.81477807982296,
          34.72662473294582,
          -0.7676439225131614,
          2.9308080222416097,
          -6.950313565384352,
          69.42028984575883,
          62.16027186527017,
          20.54263582341888,
          -89.37475491438941,
          -34.11817373525364,
          -49.09227327268157,
          15.80999674311336,
          -11.747268414235155,
          -3.6632792686639495,
          -40.65665210305112,
          -9.906915721946694,
          60.09294928967677,
          23.773417038676914,
          -14.81477807982296,
          43.15621216084888,
          -0.46982970072345515,
          -27.01255654204615,
          -24.65768857344373,
          -64.84682356102392,
          -85.41020779947996,
          149.69284276846005,
          -62.584342415364034,
          83.52894743666515,
          57.08726730328133,
          -20.087966142272336,
          -11.747268414235155,
          -24.292532509235862,
          96.81637474532566,
          -38.34099361113992,
          20.40918397901176,
          -35.45193110808633,
          16.680870193882313,
          -24.65768857344373,
          -13.840825203010114,
          -37.74101858872993,
          -27.01255654204615,
          -49.004028732956,
          -11.632111576062751,
          -54.362087773290696,
          -41.60735493345515,
          -34.11817373525364,
          20.40918397901176,
          69.73043367114155,
          59.41643986060048,
          94.02386620159176,
          0.32491939456042124,
          -31.251004330408477,
          -54.362087773290696,
          78.83382012983893,
          -42.94556545619685,
          -19.95969186603782,
          96.81637474532566,
          -48.69265565552555,
          -3.6632792686639495,
          -26.096632624162545,
          49.88349490461766,
          25.399351544930195,
          -46.201169048966634,
          -0.7676439225131614,
          69.73043367114155,
          7.4183049533625365,
          19.542367991624804,
          30.422344860356564,
          -0.6975402135244382,
          49.88349490461766,
          -31.35954381773382,
          3.6434706473750715,
          -31.937953029990734,
          -117.53464810908065,
          27.977180429093877,
          -20.087966142272336,
          26.382976891208422,
          -43.287132583144356,
          -89.37475491438941,
          20.506258751121933,
          57.08726730328133,
          -43.82629818008144,
          -1.445255233011287,
          -24.292532509235862,
          -13.083775471260612,
          -32.84404015517628,
          0.7103205321906468,
          0.7103205321906468,
          -6.048364884160822,
          -69.9000566301352,
          -31.937953029990734,
          -67.2338305869065,
          -13.840825203010114,
          -23.09891939129496,
          59.485290128631,
          -60.39285242901439,
          -69.9000566301352,
          -37.23134770312858,
          -10.257924881813228,
          -69.9000566301352,
          34.72662473294582,
          -13.840825203010114,
          -10.257924881813228,
          -94.95511124285743,
          2.8669193185756567,
          -42.94556545619685,
          -33.13894877832961,
          -1.445255233011287,
          -49.004028732956,
          -41.60735493345515,
          27.977180429093877,
          -35.891774946133964,
          117.31784724828073,
          57.98413492519169,
          19.007975126130546,
          108.21348831883466,
          -41.97741808234474,
          -75.69716165283133,
          71.42585466114686,
          3.6434706473750715,
          21.085626943886364,
          108.21348831883466,
          7.263756851759653,
          -75.69716165283133,
          7.263756851759653,
          -40.65665210305112,
          0.7103205321906468,
          49.33326834995536,
          26.040079595410266,
          26.040079595410266,
          -7.538831686413667,
          -24.65768857344373,
          2.5942862965865494,
          15.80999674311336,
          9.052842548105312,
          -60.39285242901439,
          -35.45193110808633,
          -27.01255654204615,
          0.32491939456042124,
          -3.7156589915003955,
          69.73043367114155,
          -46.69527086430269,
          -31.52281669871318,
          -117.53464810908065,
          75.2598826496537,
          -54.362087773290696,
          43.15621216084888,
          0.32491939456042124,
          57.98413492519169,
          -75.69716165283133,
          -0.46982970072345515,
          -10.354653360849124,
          -5.232158362264463,
          -67.2338305869065,
          -94.95511124285743,
          -62.584342415364034,
          -67.2338305869065,
          -11.632111576062751,
          -3.6632792686639495,
          -41.60735493345515,
          43.15621216084888,
          -26.096632624162545,
          -49.004028732956,
          33.543285164530076,
          11.305621147741645,
          -35.891774946133964,
          28.644181291988932,
          -7.538831686413667,
          26.382976891208422,
          -10.377771033327448,
          20.506258751121933,
          -44.92814070740502,
          -26.498693195554207,
          78.83382012983893,
          -14.81477807982296,
          -10.214036756472368,
          149.69284276846005,
          27.977180429093877,
          -22.213466466154188,
          49.33326834995536,
          32.12007753644872,
          -47.52006399723484,
          -24.292532509235862,
          -49.09227327268157,
          -46.69527086430269,
          26.382976891208422,
          -37.23134770312858,
          -10.377771033327448,
          7.752599902697035,
          -31.52281669871318,
          -41.97741808234474,
          -6.950313565384352,
          58.957311313881085,
          -64.61931391633408,
          2.5942862965865494,
          53.70102208447719,
          149.69284276846005,
          -49.695274218305975,
          -10.214036756472368,
          17.266819053525374,
          -46.201169048966634,
          25.399351544930195,
          -23.09891939129496,
          -49.298387310972636,
          94.02386620159176,
          -49.298387310972636,
          7.263756851759653,
          20.40918397901176,
          -26.498693195554207,
          55.97541120860325,
          60.09294928967677,
          20.54263582341888,
          28.644181291988932,
          -4.3700256236693225,
          20.54263582341888,
          -11.632111576062751,
          19.542367991624804,
          94.02386620159176,
          -46.69527086430269,
          -1.445255233011287,
          19.98720002281116,
          -67.2365836147729,
          -20.087966142272336,
          59.485290128631,
          -94.95511124285743,
          -11.632111576062751,
          -89.37475491438941,
          -15.741792760517312,
          60.09294928967677,
          -11.371916680568313,
          -24.65768857344373,
          26.09102914889642,
          -41.615595230599666,
          2.5734015295837716,
          -15.741792760517312,
          -54.362087773290696,
          -42.975775662207866,
          32.12007753644872,
          12.863445608545598,
          21.085626943886364,
          48.82711448565355,
          58.957311313881085,
          -6.048364884160822,
          5.4373399252127985,
          -49.298387310972636,
          -26.498693195554207,
          -31.52281669871318,
          59.41643986060048,
          -43.82629818008144,
          -19.95969186603782,
          49.88349490461766,
          -65.13755605028574,
          -23.800908237135197,
          -85.41020779947996,
          -15.741792760517312,
          -31.154439342449248,
          2.8669193185756567,
          5.4373399252127985,
          -12.863432637408104,
          13.070040154124396,
          33.543285164530076,
          -32.48381460767991,
          25.399351544930195,
          -23.800908237135197,
          5.4373399252127985,
          -26.096632624162545,
          -19.95969186603782,
          -105.73458911731134,
          -49.026269350377504,
          -10.214036756472368,
          21.085626943886364,
          71.42585466114686,
          -24.251563693188103,
          -20.087966142272336,
          17.266819053525374,
          117.31784724828073,
          -0.6975402135244382,
          -67.2365836147729,
          11.305621147741645,
          9.052842548105312,
          -13.840825203010114,
          -42.94556545619685,
          23.773417038676914,
          -23.800908237135197,
          39.33901629095398,
          -49.695274218305975,
          20.40918397901176,
          -41.11615624757537,
          -8.462839123328544,
          30.422344860356564,
          -24.251563693188103,
          -37.234880117370956,
          59.485290128631,
          -5.6532586017474715,
          -11.747268414235155,
          -65.13755605028574,
          -35.96365215620095,
          -41.11615624757537,
          55.97541120860325,
          -10.257924881813228,
          -46.69527086430269,
          -16.65427670570929,
          -12.791393400179997,
          -19.95969186603782,
          -31.937953029990734,
          -35.96365215620095,
          -6.048364884160822,
          2.8669193185756567,
          13.070040154124396,
          -0.7676439225131614,
          -5.232158362264463,
          7.4183049533625365,
          -64.84682356102392,
          -12.791393400179997,
          -24.251563693188103,
          32.12007753644872,
          -10.377771033327448,
          -43.287132583144356,
          -31.154439342449248,
          15.80999674311336,
          -62.584342415364034,
          -62.584342415364034,
          39.33901629095398,
          3.6434706473750715,
          -49.695274218305975,
          -32.48381460767991,
          55.97541120860325,
          -32.48381460767991,
          -3.7156589915003955,
          2.9308080222416097,
          -11.371916680568313,
          -5.6532586017474715,
          -9.906915721946694,
          30.422344860356564,
          75.2598826496537,
          -14.81477807982296,
          -51.61214289124113,
          -32.84404015517628,
          26.09102914889642,
          -37.74101858872993,
          -43.82629818008144,
          83.52894743666515,
          28.644181291988932,
          -43.501858398548805,
          19.007975126130546,
          -10.354653360849124,
          19.007975126130546,
          17.266819053525374,
          -19.20259526185558,
          -1.693751524176744,
          -38.34099361113992,
          7.263756851759653,
          16.680870193882313,
          -5.232158362264463,
          -6.950313565384352,
          63.96802044258008,
          -64.84682356102392,
          -5.6532586017474715,
          69.42028984575883,
          -16.65427670570929,
          26.040079595410266,
          -48.69265565552555,
          -4.3700256236693225,
          -67.2365836147729,
          -52.29961800984041,
          33.543285164530076,
          -41.97741808234474,
          -37.74101858872993,
          58.957311313881085,
          -8.462839123328544,
          19.542367991624804,
          -13.083775471260612,
          23.773417038676914,
          -4.3700256236693225,
          -48.69265565552555,
          2.5734015295837716,
          -12.863432637408104,
          -105.73458911731134,
          -44.92814070740502,
          -65.13755605028574,
          78.83382012983893,
          -43.287132583144356,
          -60.39285242901439,
          -0.46982970072345515,
          -35.45193110808633,
          -40.65665210305112,
          -51.61214289124113,
          -22.213466466154188,
          19.98720002281116,
          -10.354653360849124,
          -13.083775471260612,
          59.41643986060048,
          -9.906915721946694,
          7.752599902697035,
          16.680870193882313,
          -19.20259526185558,
          -12.863432637408104,
          63.96802044258008,
          -33.13894877832961,
          -52.29961800984041,
          48.82711448565355,
          62.16027186527017,
          -105.73458911731134,
          -41.615595230599666,
          -23.09891939129496,
          7.752599902697035
         ],
         "y": [
          23.556541563041584,
          28.644977088512782,
          -45.342706390346706,
          -45.342706390346706,
          4.7937414544773915,
          -14.442294171243862,
          -12.224293706536153,
          7.433851213034288,
          -1.8996947401344262,
          -20.514028667441206,
          -25.11212646172532,
          -30.487373947955607,
          -14.442294171243862,
          -12.328643294812801,
          23.760116735181086,
          -31.43814591664966,
          43.809903340025734,
          -1.4475784578116364,
          0.2936037436475572,
          -20.309294730164748,
          -28.401835391618096,
          16.712772232783145,
          -0.2974711938312451,
          -11.25963102452874,
          -11.151400100081148,
          -31.25341182612481,
          -54.358766105201475,
          -0.2974711938312451,
          -3.102101964738237,
          -54.358766105201475,
          -0.9431123856051411,
          -23.351596396450283,
          -7.639944766101818,
          -27.503920955229088,
          -6.692348284036662,
          -6.692348284036662,
          -23.351596396450283,
          -22.300349190917082,
          -12.224293706536153,
          -21.016635525495005,
          -11.29540694821861,
          11.640254970731974,
          -3.1398153712652728,
          -11.887262668813833,
          39.4391588826844,
          -17.06674405961882,
          -15.35188749902452,
          -12.089960680703447,
          -7.639944766101818,
          -39.152983295323196,
          39.18063153777529,
          -54.358766105201475,
          -18.10453383845886,
          -12.089960680703447,
          -17.82194114961055,
          -3.343951935309479,
          -0.9431123856051411,
          5.043252059482533,
          -17.82194114961055,
          -0.9665959136044717,
          16.712772232783145,
          -12.328643294812801,
          -12.089960680703447,
          -20.309294730164748,
          -0.7096147891727712,
          -7.639944766101818,
          -8.057009603181163,
          -26.602065058265243,
          4.363450343653269,
          -11.615233941104508,
          -28.347703007553054,
          -36.98325322031985,
          0.2936037436475572,
          -12.089960680703447,
          -27.591889972425975,
          0.2936037436475572,
          -31.814813346949386,
          2.9267945178088914,
          -18.919939821685738,
          -17.60417972385109,
          10.785449302006052,
          -21.12238500947889,
          -20.020616135429595,
          -34.082895311191386,
          5.911748772565166,
          -0.26982133289604787,
          -25.010189099493534,
          -33.855381167723124,
          -12.204546702935717,
          24.243315808655897,
          -3.102101964738237,
          -39.052909576980944,
          -16.004549450945586,
          -11.29540694821861,
          -26.602065058265243,
          -28.347703007553054,
          1.3890148084906577,
          -0.2974711938312451,
          -28.255099056733215,
          -33.855381167723124,
          -46.91521239734025,
          -17.60417972385109,
          -25.010189099493534,
          -23.208660035599912,
          -31.814813346949386,
          5.911748772565166,
          -34.082895311191386,
          -36.10185000568427,
          -12.665932501361139,
          -2.981964773786649,
          -32.95130588986818,
          -28.634737524403914,
          -19.0444421718427,
          -15.532722843066436,
          1.3890148084906577,
          -11.316808353226849,
          -17.6078037056096,
          -38.6621703196939,
          -3.5594393362476096,
          -0.26982133289604787,
          10.785449302006052,
          -11.5799197729158,
          -31.902450519630015,
          -0.7096147891727712,
          -3.343951935309479,
          -21.59729134816332,
          -12.665932501361139,
          -37.03549708013648,
          -20.309294730164748,
          -1.8996947401344262,
          18.45891050971826,
          -14.447887157995908,
          -27.088073222156954,
          -3.5594393362476096,
          17.18591991272609,
          -16.046868652685905,
          -38.6621703196939,
          -21.653817267680164,
          -26.430123546219644,
          -26.370965679518907,
          -22.915957578378702,
          5.911748772565166,
          18.45891050971826,
          15.65341822541794,
          -8.561406611097464,
          -26.958134859979076,
          15.433173586804244,
          -3.102101964738237,
          -26.370965679518907,
          -27.365920063970293,
          -24.933053047487697,
          -8.730619427731515,
          -20.309294730164748,
          -17.003217586745418,
          -2.981964773786649,
          -22.300349190917082,
          -4.4286780384266615,
          28.78211403755762,
          -27.591889972425975,
          -28.255099056733215,
          15.65341822541794,
          -20.514028667441206,
          4.932493562794383,
          7.421855958947223,
          -31.25341182612481,
          -4.4286780384266615,
          -23.351596396450283,
          -40.21662465140121,
          -9.670780729302171,
          -15.35188749902452,
          -4.635779373365966,
          -21.59729134816332,
          4.8448425703070885,
          -6.146785462377344,
          -31.814813346949386,
          -21.016635525495005,
          -3.343951935309479,
          22.680054816396414,
          -3.2675476792554456,
          -37.03549708013648,
          5.08844306332851,
          -17.06674405961882,
          -23.559610257823465,
          -23.559610257823465,
          -6.759633919881291,
          25.60280364811909,
          -9.670780729302171,
          -7.740072356182115,
          17.18591991272609,
          -11.484510517255272,
          25.753048338507348,
          -39.152983295323196,
          25.60280364811909,
          -25.11212646172532,
          2.9754717861879953,
          25.60280364811909,
          -0.2974711938312451,
          17.18591991272609,
          2.9754717861879953,
          28.644977088512782,
          11.775976286660407,
          -24.933053047487697,
          -12.224293706536153,
          -3.2675476792554456,
          -21.653817267680164,
          -22.915957578378702,
          -4.635779373365966,
          -11.29540694821861,
          -1.4475784578116364,
          -11.887262668813833,
          20.17660932303705,
          -18.919939821685738,
          -8.237383995351665,
          -18.13962501530504,
          -16.004549450945586,
          -40.21662465140121,
          -27.797765674057093,
          -18.919939821685738,
          -30.83167112571795,
          -18.13962501530504,
          -30.83167112571795,
          -32.95130588986818,
          -23.559610257823465,
          -11.615233941104508,
          -14.183993001752947,
          -14.183993001752947,
          24.243315808655897,
          -3.5594393362476096,
          -21.12238500947889,
          -36.10185000568427,
          -27.503920955229088,
          -39.152983295323196,
          -14.447887157995908,
          -38.6621703196939,
          15.433173586804244,
          -17.82194114961055,
          15.65341822541794,
          20.442212187198415,
          -19.43733650786062,
          -15.35188749902452,
          -36.98325322031985,
          -26.370965679518907,
          -11.316808353226849,
          15.433173586804244,
          -11.887262668813833,
          -18.13962501530504,
          -17.6078037056096,
          -9.671731453790848,
          -9.232549406892458,
          -7.740072356182115,
          28.644977088512782,
          -31.902450519630015,
          -7.740072356182115,
          -26.430123546219644,
          -2.981964773786649,
          -22.915957578378702,
          -11.316808353226849,
          -22.300349190917082,
          -21.653817267680164,
          -18.90679835021459,
          -0.9665959136044717,
          -11.29540694821861,
          9.382823994726607,
          24.243315808655897,
          4.8448425703070885,
          -9.446558397029914,
          -21.016635525495005,
          39.4391588826844,
          -9.449474452009877,
          -27.365920063970293,
          1.3890148084906577,
          -30.40830286871839,
          -11.5799197729158,
          -4.635779373365966,
          7.433851213034288,
          -11.615233941104508,
          -2.1437375157876026,
          -0.9431123856051411,
          -37.03549708013648,
          -34.082895311191386,
          20.442212187198415,
          4.8448425703070885,
          -25.11212646172532,
          -9.446558397029914,
          -13.108802486122327,
          -19.43733650786062,
          -8.237383995351665,
          -46.91521239734025,
          -22.43050193174573,
          -26.602065058265243,
          -21.12238500947889,
          -28.347703007553054,
          -11.5799197729158,
          -9.476620543674587,
          -30.40830286871839,
          -6.360412517687781,
          -27.591889972425975,
          28.78211403755762,
          -11.484510517255272,
          -24.259377308913326,
          -26.958134859979076,
          -24.259377308913326,
          -30.83167112571795,
          18.45891050971826,
          -9.449474452009877,
          -37.34277580448835,
          -19.0444421718427,
          -23.208660035599912,
          9.382823994726607,
          2.2329476416687633,
          -23.208660035599912,
          -26.430123546219644,
          4.932493562794383,
          -26.958134859979076,
          20.442212187198415,
          -3.2675476792554456,
          43.809903340025734,
          12.61823304306709,
          -21.59729134816332,
          25.753048338507348,
          28.644977088512782,
          -26.430123546219644,
          -31.814813346949386,
          39.52200302933428,
          -19.0444421718427,
          -8.057009603181163,
          -3.5594393362476096,
          -31.43814591664966,
          4.363450343653269,
          23.556541563041584,
          39.52200302933428,
          -26.370965679518907,
          -54.358766105201475,
          -2.1437375157876026,
          0.2936037436475572,
          -27.797765674057093,
          -18.10453383845886,
          -22.43050193174573,
          -6.759633919881291,
          -11.081418009507635,
          -24.259377308913326,
          -9.449474452009877,
          -19.43733650786062,
          -8.561406611097464,
          22.680054816396414,
          -8.730619427731515,
          -4.4286780384266615,
          54.57135141942106,
          -12.204546702935717,
          10.785449302006052,
          39.52200302933428,
          23.760116735181086,
          11.775976286660407,
          -11.081418009507635,
          -0.3209378159059065,
          -39.052909576980944,
          -18.90679835021459,
          36.0750046502975,
          28.78211403755762,
          -12.204546702935717,
          -11.081418009507635,
          -22.300349190917082,
          -8.730619427731515,
          -25.132765722963615,
          -12.328643294812801,
          -30.40830286871839,
          -27.797765674057093,
          -16.004549450945586,
          2.9267945178088914,
          -21.59729134816332,
          -6.360412517687781,
          -1.4475784578116364,
          -31.25341182612481,
          12.61823304306709,
          -0.9665959136044717,
          -27.503920955229088,
          17.18591991272609,
          -24.933053047487697,
          -15.532722843066436,
          -12.204546702935717,
          -11.25963102452874,
          -9.476620543674587,
          18.45891050971826,
          16.712772232783145,
          -3.1398153712652728,
          7.421855958947223,
          2.9267945178088914,
          -45.342706390346706,
          25.753048338507348,
          -20.020616135429595,
          -12.665932501361139,
          54.57135141942106,
          11.640254970731974,
          16.712772232783145,
          -37.34277580448835,
          2.9754717861879953,
          20.442212187198415,
          39.18063153777529,
          -30.487373947955607,
          -8.730619427731515,
          -9.670780729302171,
          11.640254970731974,
          -6.759633919881291,
          11.775976286660407,
          -39.052909576980944,
          -28.255099056733215,
          -9.232549406892458,
          -20.514028667441206,
          -0.26982133289604787,
          -30.487373947955607,
          2.9267945178088914,
          -2.1437375157876026,
          -9.446558397029914,
          -6.146785462377344,
          23.760116735181086,
          -36.10185000568427,
          -31.902450519630015,
          -31.902450519630015,
          -11.25963102452874,
          -40.21662465140121,
          -9.476620543674587,
          36.0750046502975,
          -37.34277580448835,
          36.0750046502975,
          -17.82194114961055,
          -33.855381167723124,
          -8.057009603181163,
          -20.020616135429595,
          -28.634737524403914,
          7.421855958947223,
          -36.98325322031985,
          1.3890148084906577,
          5.043252059482533,
          -17.06674405961882,
          -31.43814591664966,
          -16.046868652685905,
          22.680054816396414,
          -0.7096147891727712,
          9.382823994726607,
          -6.692348284036662,
          20.17660932303705,
          -9.671731453790848,
          20.17660932303705,
          -6.360412517687781,
          -28.401835391618096,
          -14.442294171243862,
          -1.8996947401344262,
          -30.83167112571795,
          -27.088073222156954,
          -9.232549406892458,
          -46.91521239734025,
          4.7937414544773915,
          -0.26982133289604787,
          -20.020616135429595,
          -17.60417972385109,
          39.18063153777529,
          -14.183993001752947,
          -17.003217586745418,
          2.2329476416687633,
          12.61823304306709,
          -11.151400100081148,
          -18.90679835021459,
          -8.237383995351665,
          -16.046868652685905,
          -22.43050193174573,
          -3.1398153712652728,
          4.932493562794383,
          5.08844306332851,
          -15.532722843066436,
          2.2329476416687633,
          -17.003217586745418,
          23.556541563041584,
          -0.3209378159059065,
          -25.132765722963615,
          39.4391588826844,
          54.57135141942106,
          -27.365920063970293,
          -6.146785462377344,
          -39.152983295323196,
          -17.6078037056096,
          -14.447887157995908,
          -32.95130588986818,
          5.043252059482533,
          7.433851213034288,
          43.809903340025734,
          -9.671731453790848,
          5.08844306332851,
          -8.561406611097464,
          -28.634737524403914,
          -13.108802486122327,
          -27.088073222156954,
          -28.401835391618096,
          -0.3209378159059065,
          4.7937414544773915,
          -12.224293706536153,
          -11.151400100081148,
          -18.10453383845886,
          -25.010189099493534,
          -25.132765722963615,
          4.363450343653269,
          -11.484510517255272,
          -13.108802486122327
         ],
         "z": [
          -33.943611991224884,
          -13.842873862154905,
          -7.312905858446199,
          -7.312905858446199,
          3.366809113551366,
          -9.50560386957344,
          13.647937995727316,
          -22.376248038936296,
          -25.659252757671943,
          7.962154587986976,
          -6.898759164752822,
          2.5481292583176036,
          -9.50560386957344,
          2.3867388981143125,
          -7.900768124695711,
          10.583674441367103,
          -9.116067776594603,
          23.0033557620678,
          -11.958810549409707,
          -2.5154728981773116,
          12.303859181840794,
          2.0496549235133337,
          14.650122437397163,
          18.572888995457994,
          -5.492039597193464,
          2.519737714967288,
          5.51350338451997,
          14.650122437397163,
          22.35031313211957,
          5.51350338451997,
          2.1542923393221742,
          -8.41469324816637,
          5.993330747692344,
          -4.67328296445603,
          6.523963356790203,
          6.523963356790203,
          -8.41469324816637,
          -7.734736850145526,
          13.647937995727316,
          -21.349314979478333,
          -1.6046073005012376,
          -0.9463768967843234,
          6.408398533183828,
          -4.764160075722434,
          9.988738457141057,
          -6.203368913518072,
          29.660543262888133,
          -25.534621766186497,
          5.993330747692344,
          -3.547606737556484,
          6.140826069581983,
          5.51350338451997,
          -13.788626999115042,
          -25.534621766186497,
          22.796696365468325,
          -12.393642788074889,
          2.1542923393221742,
          12.197773731290056,
          22.796696365468325,
          -2.2010466278318486,
          2.0496549235133337,
          2.3867388981143125,
          -25.534621766186497,
          -2.5154728981773116,
          44.96747563024681,
          5.993330747692344,
          -21.314016908121832,
          -8.179339401229672,
          -18.05173615838666,
          -13.21460375110929,
          21.061448087133826,
          6.630895218004439,
          -11.958810549409707,
          -25.534621766186497,
          13.710146054984042,
          -11.958810549409707,
          -2.5526898223211694,
          -30.293242837070075,
          -15.140833674461314,
          -5.085589760253591,
          -16.343221534794555,
          19.922750633418975,
          -7.397995517669841,
          -31.252047457443286,
          -17.835043315483603,
          1.3293809081442012,
          -5.184309410591725,
          -16.51551675125445,
          2.675160769860968,
          28.43929478160526,
          22.35031313211957,
          -12.775550632476852,
          -30.508477191687327,
          -1.6046073005012376,
          -8.179339401229672,
          21.061448087133826,
          41.39752502291518,
          14.650122437397163,
          19.046485460383867,
          -16.51551675125445,
          -5.762105446363864,
          -5.085589760253591,
          -5.184309410591725,
          0.06800994644109845,
          -2.5526898223211694,
          -17.835043315483603,
          -31.252047457443286,
          12.59117440548413,
          21.56347016881278,
          -14.065168726826679,
          4.172098653922704,
          -5.849105005788462,
          -8.598426818592976,
          -1.2828430660683035,
          41.39752502291518,
          -0.34928139467001823,
          -3.93962425900368,
          4.703353770973122,
          6.551364679778649,
          1.3293809081442012,
          -16.343221534794555,
          1.795553341337284,
          12.584089491290156,
          44.96747563024681,
          -12.393642788074889,
          -8.240231809263596,
          21.56347016881278,
          -3.0262973427851203,
          -2.5154728981773116,
          -25.659252757671943,
          -22.195461850500763,
          -18.404924232387604,
          -9.9457752496816,
          6.551364679778649,
          29.375222061398365,
          6.344365350161044,
          4.703353770973122,
          -21.75418056269582,
          2.049681315856515,
          -4.76178327448615,
          2.8944192949641536,
          -17.835043315483603,
          -22.195461850500763,
          3.5995674963582105,
          29.003468599094536,
          -12.822543023532955,
          17.834590187517225,
          22.35031313211957,
          -4.76178327448615,
          -12.762881712204223,
          -20.833433048801894,
          -34.88092668296324,
          -2.5154728981773116,
          10.384907170057433,
          -14.065168726826679,
          -7.734736850145526,
          6.521552727465672,
          -13.554680801889344,
          13.710146054984042,
          19.046485460383867,
          3.5995674963582105,
          7.962154587986976,
          -3.2910733573112765,
          -5.246491373428506,
          2.519737714967288,
          6.521552727465672,
          -8.41469324816637,
          1.681739648234517,
          -17.429276794938563,
          29.660543262888133,
          -7.270100287922683,
          -8.240231809263596,
          23.277770960210773,
          44.368198046619334,
          -2.5526898223211694,
          -21.349314979478333,
          -12.393642788074889,
          -20.847130733502787,
          6.119249491894565,
          -3.0262973427851203,
          0.47500029419412787,
          -6.203368913518072,
          2.169440165139095,
          2.169440165139095,
          -23.928031737411146,
          -20.525360706239123,
          -17.429276794938563,
          15.26831155195683,
          29.375222061398365,
          13.015785623181506,
          -7.151796469294559,
          -3.547606737556484,
          -20.525360706239123,
          -6.898759164752822,
          15.74731822824536,
          -20.525360706239123,
          14.650122437397163,
          29.375222061398365,
          15.74731822824536,
          -13.842873862154905,
          25.70913079178913,
          -20.833433048801894,
          13.647937995727316,
          6.119249491894565,
          -21.75418056269582,
          2.8944192949641536,
          -7.270100287922683,
          -1.6046073005012376,
          23.0033557620678,
          -4.764160075722434,
          -35.31545021661432,
          -15.140833674461314,
          32.94403533851045,
          27.225478146360754,
          -30.508477191687327,
          1.681739648234517,
          -18.631432460605893,
          -15.140833674461314,
          1.7440830251451684,
          27.225478146360754,
          1.7440830251451684,
          4.172098653922704,
          2.169440165139095,
          -13.21460375110929,
          2.3676543612832996,
          2.3676543612832996,
          28.43929478160526,
          6.551364679778649,
          19.922750633418975,
          12.59117440548413,
          -4.67328296445603,
          -3.547606737556484,
          -18.404924232387604,
          4.703353770973122,
          17.834590187517225,
          22.796696365468325,
          3.5995674963582105,
          -0.19459381149975005,
          1.7122268787264516,
          29.660543262888133,
          6.630895218004439,
          -4.76178327448615,
          -0.34928139467001823,
          17.834590187517225,
          -4.764160075722434,
          27.225478146360754,
          -3.93962425900368,
          6.893011580267801,
          10.617558949229112,
          15.26831155195683,
          -13.842873862154905,
          12.584089491290156,
          15.26831155195683,
          2.049681315856515,
          -14.065168726826679,
          2.8944192949641536,
          -0.34928139467001823,
          -7.734736850145526,
          -21.75418056269582,
          23.60474225355072,
          -2.2010466278318486,
          -1.6046073005012376,
          44.43308011307903,
          28.43929478160526,
          23.277770960210773,
          8.825791371969046,
          -21.349314979478333,
          9.988738457141057,
          -8.534422759993626,
          -12.762881712204223,
          41.39752502291518,
          12.342944477340923,
          1.795553341337284,
          -7.270100287922683,
          -22.376248038936296,
          -13.21460375110929,
          -12.509690516035203,
          2.1542923393221742,
          -3.0262973427851203,
          -31.252047457443286,
          -0.19459381149975005,
          23.277770960210773,
          -6.898759164752822,
          8.825791371969046,
          -20.33766817016942,
          1.7122268787264516,
          32.94403533851045,
          -5.762105446363864,
          3.1943169699826695,
          -8.179339401229672,
          19.922750633418975,
          21.061448087133826,
          1.795553341337284,
          -26.622635251624565,
          12.342944477340923,
          -1.1476177840111514,
          13.710146054984042,
          -13.554680801889344,
          13.015785623181506,
          17.356163683635756,
          -12.822543023532955,
          17.356163683635756,
          1.7440830251451684,
          -22.195461850500763,
          -8.534422759993626,
          -16.278166271144585,
          -8.598426818592976,
          0.06800994644109845,
          44.43308011307903,
          11.482558549963311,
          0.06800994644109845,
          2.049681315856515,
          -3.2910733573112765,
          -12.822543023532955,
          -0.19459381149975005,
          6.119249491894565,
          -9.116067776594603,
          -6.442417346397465,
          -8.240231809263596,
          -7.151796469294559,
          -13.842873862154905,
          2.049681315856515,
          -2.5526898223211694,
          16.28363266167712,
          -8.598426818592976,
          -21.314016908121832,
          6.551364679778649,
          10.583674441367103,
          -18.05173615838666,
          -33.943611991224884,
          16.28363266167712,
          -4.76178327448615,
          5.51350338451997,
          -12.509690516035203,
          -11.958810549409707,
          -18.631432460605893,
          -13.788626999115042,
          3.1943169699826695,
          -23.928031737411146,
          5.356186880500178,
          17.356163683635756,
          -8.534422759993626,
          1.7122268787264516,
          29.003468599094536,
          -20.847130733502787,
          -34.88092668296324,
          6.521552727465672,
          -13.557467891450978,
          2.675160769860968,
          -16.343221534794555,
          16.28363266167712,
          -7.900768124695711,
          25.70913079178913,
          5.356186880500178,
          -22.448719647518857,
          -12.775550632476852,
          23.60474225355072,
          -11.693046658016877,
          -13.554680801889344,
          2.675160769860968,
          5.356186880500178,
          -7.734736850145526,
          -34.88092668296324,
          -13.865987057058426,
          2.3867388981143125,
          12.342944477340923,
          -18.631432460605893,
          -30.508477191687327,
          -30.293242837070075,
          -8.240231809263596,
          -1.1476177840111514,
          23.0033557620678,
          2.519737714967288,
          -6.442417346397465,
          -2.2010466278318486,
          -4.67328296445603,
          29.375222061398365,
          -20.833433048801894,
          -1.2828430660683035,
          2.675160769860968,
          18.572888995457994,
          -26.622635251624565,
          -22.195461850500763,
          2.0496549235133337,
          6.408398533183828,
          -5.246491373428506,
          -30.293242837070075,
          -7.312905858446199,
          -7.151796469294559,
          -7.397995517669841,
          21.56347016881278,
          -13.557467891450978,
          -0.9463768967843234,
          2.0496549235133337,
          -16.278166271144585,
          15.74731822824536,
          -0.19459381149975005,
          6.140826069581983,
          2.5481292583176036,
          -34.88092668296324,
          -17.429276794938563,
          -0.9463768967843234,
          -23.928031737411146,
          25.70913079178913,
          -12.775550632476852,
          19.046485460383867,
          10.617558949229112,
          7.962154587986976,
          1.3293809081442012,
          2.5481292583176036,
          -30.293242837070075,
          -12.509690516035203,
          8.825791371969046,
          44.368198046619334,
          -7.900768124695711,
          12.59117440548413,
          12.584089491290156,
          12.584089491290156,
          18.572888995457994,
          1.681739648234517,
          -26.622635251624565,
          -11.693046658016877,
          -16.278166271144585,
          -11.693046658016877,
          22.796696365468325,
          -16.51551675125445,
          -21.314016908121832,
          -7.397995517669841,
          -5.849105005788462,
          -5.246491373428506,
          6.630895218004439,
          41.39752502291518,
          12.197773731290056,
          -6.203368913518072,
          10.583674441367103,
          6.344365350161044,
          -20.847130733502787,
          44.96747563024681,
          44.43308011307903,
          6.523963356790203,
          -35.31545021661432,
          6.893011580267801,
          -35.31545021661432,
          -1.1476177840111514,
          12.303859181840794,
          -9.50560386957344,
          -25.659252757671943,
          1.7440830251451684,
          -9.9457752496816,
          10.617558949229112,
          -5.762105446363864,
          3.366809113551366,
          1.3293809081442012,
          -7.397995517669841,
          -5.085589760253591,
          6.140826069581983,
          2.3676543612832996,
          10.384907170057433,
          11.482558549963311,
          -6.442417346397465,
          -5.492039597193464,
          23.60474225355072,
          32.94403533851045,
          6.344365350161044,
          3.1943169699826695,
          6.408398533183828,
          -3.2910733573112765,
          0.47500029419412787,
          -1.2828430660683035,
          11.482558549963311,
          10.384907170057433,
          -33.943611991224884,
          -22.448719647518857,
          -13.865987057058426,
          9.988738457141057,
          -13.557467891450978,
          -12.762881712204223,
          44.368198046619334,
          -3.547606737556484,
          -3.93962425900368,
          -18.404924232387604,
          4.172098653922704,
          12.197773731290056,
          -22.376248038936296,
          -9.116067776594603,
          6.893011580267801,
          0.47500029419412787,
          29.003468599094536,
          -5.849105005788462,
          -20.33766817016942,
          -9.9457752496816,
          12.303859181840794,
          -22.448719647518857,
          3.366809113551366,
          13.647937995727316,
          -5.492039597193464,
          -13.788626999115042,
          -5.184309410591725,
          -13.865987057058426,
          -18.05173615838666,
          13.015785623181506,
          -20.33766817016942
         ]
        }
       ],
       "layout": {
        "template": {
         "data": {
          "bar": [
           {
            "error_x": {
             "color": "#2a3f5f"
            },
            "error_y": {
             "color": "#2a3f5f"
            },
            "marker": {
             "line": {
              "color": "#E5ECF6",
              "width": 0.5
             },
             "pattern": {
              "fillmode": "overlay",
              "size": 10,
              "solidity": 0.2
             }
            },
            "type": "bar"
           }
          ],
          "barpolar": [
           {
            "marker": {
             "line": {
              "color": "#E5ECF6",
              "width": 0.5
             },
             "pattern": {
              "fillmode": "overlay",
              "size": 10,
              "solidity": 0.2
             }
            },
            "type": "barpolar"
           }
          ],
          "carpet": [
           {
            "aaxis": {
             "endlinecolor": "#2a3f5f",
             "gridcolor": "white",
             "linecolor": "white",
             "minorgridcolor": "white",
             "startlinecolor": "#2a3f5f"
            },
            "baxis": {
             "endlinecolor": "#2a3f5f",
             "gridcolor": "white",
             "linecolor": "white",
             "minorgridcolor": "white",
             "startlinecolor": "#2a3f5f"
            },
            "type": "carpet"
           }
          ],
          "choropleth": [
           {
            "colorbar": {
             "outlinewidth": 0,
             "ticks": ""
            },
            "type": "choropleth"
           }
          ],
          "contour": [
           {
            "colorbar": {
             "outlinewidth": 0,
             "ticks": ""
            },
            "colorscale": [
             [
              0,
              "#0d0887"
             ],
             [
              0.1111111111111111,
              "#46039f"
             ],
             [
              0.2222222222222222,
              "#7201a8"
             ],
             [
              0.3333333333333333,
              "#9c179e"
             ],
             [
              0.4444444444444444,
              "#bd3786"
             ],
             [
              0.5555555555555556,
              "#d8576b"
             ],
             [
              0.6666666666666666,
              "#ed7953"
             ],
             [
              0.7777777777777778,
              "#fb9f3a"
             ],
             [
              0.8888888888888888,
              "#fdca26"
             ],
             [
              1,
              "#f0f921"
             ]
            ],
            "type": "contour"
           }
          ],
          "contourcarpet": [
           {
            "colorbar": {
             "outlinewidth": 0,
             "ticks": ""
            },
            "type": "contourcarpet"
           }
          ],
          "heatmap": [
           {
            "colorbar": {
             "outlinewidth": 0,
             "ticks": ""
            },
            "colorscale": [
             [
              0,
              "#0d0887"
             ],
             [
              0.1111111111111111,
              "#46039f"
             ],
             [
              0.2222222222222222,
              "#7201a8"
             ],
             [
              0.3333333333333333,
              "#9c179e"
             ],
             [
              0.4444444444444444,
              "#bd3786"
             ],
             [
              0.5555555555555556,
              "#d8576b"
             ],
             [
              0.6666666666666666,
              "#ed7953"
             ],
             [
              0.7777777777777778,
              "#fb9f3a"
             ],
             [
              0.8888888888888888,
              "#fdca26"
             ],
             [
              1,
              "#f0f921"
             ]
            ],
            "type": "heatmap"
           }
          ],
          "heatmapgl": [
           {
            "colorbar": {
             "outlinewidth": 0,
             "ticks": ""
            },
            "colorscale": [
             [
              0,
              "#0d0887"
             ],
             [
              0.1111111111111111,
              "#46039f"
             ],
             [
              0.2222222222222222,
              "#7201a8"
             ],
             [
              0.3333333333333333,
              "#9c179e"
             ],
             [
              0.4444444444444444,
              "#bd3786"
             ],
             [
              0.5555555555555556,
              "#d8576b"
             ],
             [
              0.6666666666666666,
              "#ed7953"
             ],
             [
              0.7777777777777778,
              "#fb9f3a"
             ],
             [
              0.8888888888888888,
              "#fdca26"
             ],
             [
              1,
              "#f0f921"
             ]
            ],
            "type": "heatmapgl"
           }
          ],
          "histogram": [
           {
            "marker": {
             "pattern": {
              "fillmode": "overlay",
              "size": 10,
              "solidity": 0.2
             }
            },
            "type": "histogram"
           }
          ],
          "histogram2d": [
           {
            "colorbar": {
             "outlinewidth": 0,
             "ticks": ""
            },
            "colorscale": [
             [
              0,
              "#0d0887"
             ],
             [
              0.1111111111111111,
              "#46039f"
             ],
             [
              0.2222222222222222,
              "#7201a8"
             ],
             [
              0.3333333333333333,
              "#9c179e"
             ],
             [
              0.4444444444444444,
              "#bd3786"
             ],
             [
              0.5555555555555556,
              "#d8576b"
             ],
             [
              0.6666666666666666,
              "#ed7953"
             ],
             [
              0.7777777777777778,
              "#fb9f3a"
             ],
             [
              0.8888888888888888,
              "#fdca26"
             ],
             [
              1,
              "#f0f921"
             ]
            ],
            "type": "histogram2d"
           }
          ],
          "histogram2dcontour": [
           {
            "colorbar": {
             "outlinewidth": 0,
             "ticks": ""
            },
            "colorscale": [
             [
              0,
              "#0d0887"
             ],
             [
              0.1111111111111111,
              "#46039f"
             ],
             [
              0.2222222222222222,
              "#7201a8"
             ],
             [
              0.3333333333333333,
              "#9c179e"
             ],
             [
              0.4444444444444444,
              "#bd3786"
             ],
             [
              0.5555555555555556,
              "#d8576b"
             ],
             [
              0.6666666666666666,
              "#ed7953"
             ],
             [
              0.7777777777777778,
              "#fb9f3a"
             ],
             [
              0.8888888888888888,
              "#fdca26"
             ],
             [
              1,
              "#f0f921"
             ]
            ],
            "type": "histogram2dcontour"
           }
          ],
          "mesh3d": [
           {
            "colorbar": {
             "outlinewidth": 0,
             "ticks": ""
            },
            "type": "mesh3d"
           }
          ],
          "parcoords": [
           {
            "line": {
             "colorbar": {
              "outlinewidth": 0,
              "ticks": ""
             }
            },
            "type": "parcoords"
           }
          ],
          "pie": [
           {
            "automargin": true,
            "type": "pie"
           }
          ],
          "scatter": [
           {
            "fillpattern": {
             "fillmode": "overlay",
             "size": 10,
             "solidity": 0.2
            },
            "type": "scatter"
           }
          ],
          "scatter3d": [
           {
            "line": {
             "colorbar": {
              "outlinewidth": 0,
              "ticks": ""
             }
            },
            "marker": {
             "colorbar": {
              "outlinewidth": 0,
              "ticks": ""
             }
            },
            "type": "scatter3d"
           }
          ],
          "scattercarpet": [
           {
            "marker": {
             "colorbar": {
              "outlinewidth": 0,
              "ticks": ""
             }
            },
            "type": "scattercarpet"
           }
          ],
          "scattergeo": [
           {
            "marker": {
             "colorbar": {
              "outlinewidth": 0,
              "ticks": ""
             }
            },
            "type": "scattergeo"
           }
          ],
          "scattergl": [
           {
            "marker": {
             "colorbar": {
              "outlinewidth": 0,
              "ticks": ""
             }
            },
            "type": "scattergl"
           }
          ],
          "scattermapbox": [
           {
            "marker": {
             "colorbar": {
              "outlinewidth": 0,
              "ticks": ""
             }
            },
            "type": "scattermapbox"
           }
          ],
          "scatterpolar": [
           {
            "marker": {
             "colorbar": {
              "outlinewidth": 0,
              "ticks": ""
             }
            },
            "type": "scatterpolar"
           }
          ],
          "scatterpolargl": [
           {
            "marker": {
             "colorbar": {
              "outlinewidth": 0,
              "ticks": ""
             }
            },
            "type": "scatterpolargl"
           }
          ],
          "scatterternary": [
           {
            "marker": {
             "colorbar": {
              "outlinewidth": 0,
              "ticks": ""
             }
            },
            "type": "scatterternary"
           }
          ],
          "surface": [
           {
            "colorbar": {
             "outlinewidth": 0,
             "ticks": ""
            },
            "colorscale": [
             [
              0,
              "#0d0887"
             ],
             [
              0.1111111111111111,
              "#46039f"
             ],
             [
              0.2222222222222222,
              "#7201a8"
             ],
             [
              0.3333333333333333,
              "#9c179e"
             ],
             [
              0.4444444444444444,
              "#bd3786"
             ],
             [
              0.5555555555555556,
              "#d8576b"
             ],
             [
              0.6666666666666666,
              "#ed7953"
             ],
             [
              0.7777777777777778,
              "#fb9f3a"
             ],
             [
              0.8888888888888888,
              "#fdca26"
             ],
             [
              1,
              "#f0f921"
             ]
            ],
            "type": "surface"
           }
          ],
          "table": [
           {
            "cells": {
             "fill": {
              "color": "#EBF0F8"
             },
             "line": {
              "color": "white"
             }
            },
            "header": {
             "fill": {
              "color": "#C8D4E3"
             },
             "line": {
              "color": "white"
             }
            },
            "type": "table"
           }
          ]
         },
         "layout": {
          "annotationdefaults": {
           "arrowcolor": "#2a3f5f",
           "arrowhead": 0,
           "arrowwidth": 1
          },
          "autotypenumbers": "strict",
          "coloraxis": {
           "colorbar": {
            "outlinewidth": 0,
            "ticks": ""
           }
          },
          "colorscale": {
           "diverging": [
            [
             0,
             "#8e0152"
            ],
            [
             0.1,
             "#c51b7d"
            ],
            [
             0.2,
             "#de77ae"
            ],
            [
             0.3,
             "#f1b6da"
            ],
            [
             0.4,
             "#fde0ef"
            ],
            [
             0.5,
             "#f7f7f7"
            ],
            [
             0.6,
             "#e6f5d0"
            ],
            [
             0.7,
             "#b8e186"
            ],
            [
             0.8,
             "#7fbc41"
            ],
            [
             0.9,
             "#4d9221"
            ],
            [
             1,
             "#276419"
            ]
           ],
           "sequential": [
            [
             0,
             "#0d0887"
            ],
            [
             0.1111111111111111,
             "#46039f"
            ],
            [
             0.2222222222222222,
             "#7201a8"
            ],
            [
             0.3333333333333333,
             "#9c179e"
            ],
            [
             0.4444444444444444,
             "#bd3786"
            ],
            [
             0.5555555555555556,
             "#d8576b"
            ],
            [
             0.6666666666666666,
             "#ed7953"
            ],
            [
             0.7777777777777778,
             "#fb9f3a"
            ],
            [
             0.8888888888888888,
             "#fdca26"
            ],
            [
             1,
             "#f0f921"
            ]
           ],
           "sequentialminus": [
            [
             0,
             "#0d0887"
            ],
            [
             0.1111111111111111,
             "#46039f"
            ],
            [
             0.2222222222222222,
             "#7201a8"
            ],
            [
             0.3333333333333333,
             "#9c179e"
            ],
            [
             0.4444444444444444,
             "#bd3786"
            ],
            [
             0.5555555555555556,
             "#d8576b"
            ],
            [
             0.6666666666666666,
             "#ed7953"
            ],
            [
             0.7777777777777778,
             "#fb9f3a"
            ],
            [
             0.8888888888888888,
             "#fdca26"
            ],
            [
             1,
             "#f0f921"
            ]
           ]
          },
          "colorway": [
           "#636efa",
           "#EF553B",
           "#00cc96",
           "#ab63fa",
           "#FFA15A",
           "#19d3f3",
           "#FF6692",
           "#B6E880",
           "#FF97FF",
           "#FECB52"
          ],
          "font": {
           "color": "#2a3f5f"
          },
          "geo": {
           "bgcolor": "white",
           "lakecolor": "white",
           "landcolor": "#E5ECF6",
           "showlakes": true,
           "showland": true,
           "subunitcolor": "white"
          },
          "hoverlabel": {
           "align": "left"
          },
          "hovermode": "closest",
          "mapbox": {
           "style": "light"
          },
          "paper_bgcolor": "white",
          "plot_bgcolor": "#E5ECF6",
          "polar": {
           "angularaxis": {
            "gridcolor": "white",
            "linecolor": "white",
            "ticks": ""
           },
           "bgcolor": "#E5ECF6",
           "radialaxis": {
            "gridcolor": "white",
            "linecolor": "white",
            "ticks": ""
           }
          },
          "scene": {
           "xaxis": {
            "backgroundcolor": "#E5ECF6",
            "gridcolor": "white",
            "gridwidth": 2,
            "linecolor": "white",
            "showbackground": true,
            "ticks": "",
            "zerolinecolor": "white"
           },
           "yaxis": {
            "backgroundcolor": "#E5ECF6",
            "gridcolor": "white",
            "gridwidth": 2,
            "linecolor": "white",
            "showbackground": true,
            "ticks": "",
            "zerolinecolor": "white"
           },
           "zaxis": {
            "backgroundcolor": "#E5ECF6",
            "gridcolor": "white",
            "gridwidth": 2,
            "linecolor": "white",
            "showbackground": true,
            "ticks": "",
            "zerolinecolor": "white"
           }
          },
          "shapedefaults": {
           "line": {
            "color": "#2a3f5f"
           }
          },
          "ternary": {
           "aaxis": {
            "gridcolor": "white",
            "linecolor": "white",
            "ticks": ""
           },
           "baxis": {
            "gridcolor": "white",
            "linecolor": "white",
            "ticks": ""
           },
           "bgcolor": "#E5ECF6",
           "caxis": {
            "gridcolor": "white",
            "linecolor": "white",
            "ticks": ""
           }
          },
          "title": {
           "x": 0.05
          },
          "xaxis": {
           "automargin": true,
           "gridcolor": "white",
           "linecolor": "white",
           "ticks": "",
           "title": {
            "standoff": 15
           },
           "zerolinecolor": "white",
           "zerolinewidth": 2
          },
          "yaxis": {
           "automargin": true,
           "gridcolor": "white",
           "linecolor": "white",
           "ticks": "",
           "title": {
            "standoff": 15
           },
           "zerolinecolor": "white",
           "zerolinewidth": 2
          }
         }
        }
       }
      }
     },
     "metadata": {},
     "output_type": "display_data"
    }
   ],
   "source": [
    "plot_3d(heart2, 'target')"
   ]
  },
  {
   "cell_type": "markdown",
   "metadata": {},
   "source": [
    "## Modellering: RandomForest\n",
    "Vi börjar med att bygga en klass som kan hålla reda på alla variabler för modellen."
   ]
  },
  {
   "cell_type": "code",
   "execution_count": 13,
   "metadata": {},
   "outputs": [],
   "source": [
    "class ForestWrap:\n",
    "    def __init__(self,\n",
    "                 df: pd.DataFrame,\n",
    "                 target_col: str,\n",
    "                 test_size: float = 0.3,\n",
    "                 n_estimators: int = 100,\n",
    "                 criterion: str = 'gini',\n",
    "                 max_depth: int = None,\n",
    "                 min_samples_split: int|float = 2,\n",
    "                 min_samples_leaf: int|float = 1,\n",
    "                 max_leaf_nodes: int = None,\n",
    "                 random_state: int = 309\n",
    "                 ) -> None:\n",
    "        self.df = df\n",
    "        self.X = df.drop(target_col, axis=1)\n",
    "        self.y = df[target_col]\n",
    "        self.X_train, self.X_test, self.y_train, self.y_test = train_test_split(self.X,\n",
    "                                                                                self.y,\n",
    "                                                                                test_size = test_size,\n",
    "                                                                                random_state = random_state\n",
    "                                                                                )\n",
    "\n",
    "        self.clf = RandomForestClassifier(n_estimators = n_estimators,\n",
    "                                          criterion = criterion,\n",
    "                                          max_depth = max_depth,\n",
    "                                          min_samples_split = min_samples_split,\n",
    "                                          min_samples_leaf = min_samples_leaf,\n",
    "                                          max_leaf_nodes = max_leaf_nodes,\n",
    "                                          random_state = random_state\n",
    "                                          )\n",
    "        self.clf.fit(self.X_train, self.y_train)\n",
    "\n",
    "        self.y_pred = self.clf.predict(self.X_test)\n",
    "        self.cv_results = cross_validate(self.clf, self.X, self.y)\n",
    "        self.feature_importance = pd.DataFrame(self.clf.feature_importances_.reshape(1, self.clf.n_features_in_),\n",
    "                                               columns = self.clf.feature_names_in_\n",
    "                                               )\n",
    "\n",
    "    def predict(self, X: pd.DataFrame):\n",
    "        return self.clf.predict(X)\n",
    "\n",
    "    def score(self, X: pd.DataFrame, y: pd.Series) -> float:\n",
    "         return self.clf.score(X, y)\n",
    "    \n",
    "    def cv_scores(self):\n",
    "        return self.cv_results['test_score']\n",
    "\n",
    "    def display_confusion(self, y_true, y_pred):\n",
    "        c_matrix = confusion_matrix(y_true, y_pred)\n",
    "        fig = px.imshow(c_matrix,\n",
    "                        text_auto = True,\n",
    "                        labels = dict(x = 'Predicted',\n",
    "                                      y = 'True'))\n",
    "        fig.show()\n"
   ]
  },
  {
   "cell_type": "markdown",
   "metadata": {},
   "source": [
    "#### Lastar in datan i modellen"
   ]
  },
  {
   "cell_type": "code",
   "execution_count": 14,
   "metadata": {},
   "outputs": [],
   "source": [
    "model_forest = ForestWrap(df = heart2, target_col = 'target')"
   ]
  },
  {
   "cell_type": "markdown",
   "metadata": {},
   "source": [
    "#### Läser ut resultaten\n",
    "Vi har fått en modell som har hög träffsäkerhet (0.976 - 1) och inte ser ut att ge några falska negativa diagnoser."
   ]
  },
  {
   "cell_type": "code",
   "execution_count": 15,
   "metadata": {},
   "outputs": [
    {
     "data": {
      "text/plain": [
       "'test score: 0.976'"
      ]
     },
     "metadata": {},
     "output_type": "display_data"
    },
    {
     "data": {
      "text/plain": [
       "'cv score: 1.000'"
      ]
     },
     "metadata": {},
     "output_type": "display_data"
    },
    {
     "data": {
      "text/plain": [
       "'cv score: 1.000'"
      ]
     },
     "metadata": {},
     "output_type": "display_data"
    },
    {
     "data": {
      "text/plain": [
       "'cv score: 0.985'"
      ]
     },
     "metadata": {},
     "output_type": "display_data"
    },
    {
     "data": {
      "text/plain": [
       "'cv score: 1.000'"
      ]
     },
     "metadata": {},
     "output_type": "display_data"
    },
    {
     "data": {
      "text/plain": [
       "'cv score: 0.984'"
      ]
     },
     "metadata": {},
     "output_type": "display_data"
    },
    {
     "data": {
      "application/vnd.plotly.v1+json": {
       "config": {
        "plotlyServerURL": "https://plot.ly"
       },
       "data": [
        {
         "coloraxis": "coloraxis",
         "hovertemplate": "Predicted: %{x}<br>True: %{y}<br>color: %{z}<extra></extra>",
         "name": "0",
         "texttemplate": "%{z}",
         "type": "heatmap",
         "xaxis": "x",
         "yaxis": "y",
         "z": [
          [
           138,
           7
          ],
          [
           0,
           146
          ]
         ]
        }
       ],
       "layout": {
        "coloraxis": {
         "colorscale": [
          [
           0,
           "#0d0887"
          ],
          [
           0.1111111111111111,
           "#46039f"
          ],
          [
           0.2222222222222222,
           "#7201a8"
          ],
          [
           0.3333333333333333,
           "#9c179e"
          ],
          [
           0.4444444444444444,
           "#bd3786"
          ],
          [
           0.5555555555555556,
           "#d8576b"
          ],
          [
           0.6666666666666666,
           "#ed7953"
          ],
          [
           0.7777777777777778,
           "#fb9f3a"
          ],
          [
           0.8888888888888888,
           "#fdca26"
          ],
          [
           1,
           "#f0f921"
          ]
         ]
        },
        "margin": {
         "t": 60
        },
        "template": {
         "data": {
          "bar": [
           {
            "error_x": {
             "color": "#2a3f5f"
            },
            "error_y": {
             "color": "#2a3f5f"
            },
            "marker": {
             "line": {
              "color": "#E5ECF6",
              "width": 0.5
             },
             "pattern": {
              "fillmode": "overlay",
              "size": 10,
              "solidity": 0.2
             }
            },
            "type": "bar"
           }
          ],
          "barpolar": [
           {
            "marker": {
             "line": {
              "color": "#E5ECF6",
              "width": 0.5
             },
             "pattern": {
              "fillmode": "overlay",
              "size": 10,
              "solidity": 0.2
             }
            },
            "type": "barpolar"
           }
          ],
          "carpet": [
           {
            "aaxis": {
             "endlinecolor": "#2a3f5f",
             "gridcolor": "white",
             "linecolor": "white",
             "minorgridcolor": "white",
             "startlinecolor": "#2a3f5f"
            },
            "baxis": {
             "endlinecolor": "#2a3f5f",
             "gridcolor": "white",
             "linecolor": "white",
             "minorgridcolor": "white",
             "startlinecolor": "#2a3f5f"
            },
            "type": "carpet"
           }
          ],
          "choropleth": [
           {
            "colorbar": {
             "outlinewidth": 0,
             "ticks": ""
            },
            "type": "choropleth"
           }
          ],
          "contour": [
           {
            "colorbar": {
             "outlinewidth": 0,
             "ticks": ""
            },
            "colorscale": [
             [
              0,
              "#0d0887"
             ],
             [
              0.1111111111111111,
              "#46039f"
             ],
             [
              0.2222222222222222,
              "#7201a8"
             ],
             [
              0.3333333333333333,
              "#9c179e"
             ],
             [
              0.4444444444444444,
              "#bd3786"
             ],
             [
              0.5555555555555556,
              "#d8576b"
             ],
             [
              0.6666666666666666,
              "#ed7953"
             ],
             [
              0.7777777777777778,
              "#fb9f3a"
             ],
             [
              0.8888888888888888,
              "#fdca26"
             ],
             [
              1,
              "#f0f921"
             ]
            ],
            "type": "contour"
           }
          ],
          "contourcarpet": [
           {
            "colorbar": {
             "outlinewidth": 0,
             "ticks": ""
            },
            "type": "contourcarpet"
           }
          ],
          "heatmap": [
           {
            "colorbar": {
             "outlinewidth": 0,
             "ticks": ""
            },
            "colorscale": [
             [
              0,
              "#0d0887"
             ],
             [
              0.1111111111111111,
              "#46039f"
             ],
             [
              0.2222222222222222,
              "#7201a8"
             ],
             [
              0.3333333333333333,
              "#9c179e"
             ],
             [
              0.4444444444444444,
              "#bd3786"
             ],
             [
              0.5555555555555556,
              "#d8576b"
             ],
             [
              0.6666666666666666,
              "#ed7953"
             ],
             [
              0.7777777777777778,
              "#fb9f3a"
             ],
             [
              0.8888888888888888,
              "#fdca26"
             ],
             [
              1,
              "#f0f921"
             ]
            ],
            "type": "heatmap"
           }
          ],
          "heatmapgl": [
           {
            "colorbar": {
             "outlinewidth": 0,
             "ticks": ""
            },
            "colorscale": [
             [
              0,
              "#0d0887"
             ],
             [
              0.1111111111111111,
              "#46039f"
             ],
             [
              0.2222222222222222,
              "#7201a8"
             ],
             [
              0.3333333333333333,
              "#9c179e"
             ],
             [
              0.4444444444444444,
              "#bd3786"
             ],
             [
              0.5555555555555556,
              "#d8576b"
             ],
             [
              0.6666666666666666,
              "#ed7953"
             ],
             [
              0.7777777777777778,
              "#fb9f3a"
             ],
             [
              0.8888888888888888,
              "#fdca26"
             ],
             [
              1,
              "#f0f921"
             ]
            ],
            "type": "heatmapgl"
           }
          ],
          "histogram": [
           {
            "marker": {
             "pattern": {
              "fillmode": "overlay",
              "size": 10,
              "solidity": 0.2
             }
            },
            "type": "histogram"
           }
          ],
          "histogram2d": [
           {
            "colorbar": {
             "outlinewidth": 0,
             "ticks": ""
            },
            "colorscale": [
             [
              0,
              "#0d0887"
             ],
             [
              0.1111111111111111,
              "#46039f"
             ],
             [
              0.2222222222222222,
              "#7201a8"
             ],
             [
              0.3333333333333333,
              "#9c179e"
             ],
             [
              0.4444444444444444,
              "#bd3786"
             ],
             [
              0.5555555555555556,
              "#d8576b"
             ],
             [
              0.6666666666666666,
              "#ed7953"
             ],
             [
              0.7777777777777778,
              "#fb9f3a"
             ],
             [
              0.8888888888888888,
              "#fdca26"
             ],
             [
              1,
              "#f0f921"
             ]
            ],
            "type": "histogram2d"
           }
          ],
          "histogram2dcontour": [
           {
            "colorbar": {
             "outlinewidth": 0,
             "ticks": ""
            },
            "colorscale": [
             [
              0,
              "#0d0887"
             ],
             [
              0.1111111111111111,
              "#46039f"
             ],
             [
              0.2222222222222222,
              "#7201a8"
             ],
             [
              0.3333333333333333,
              "#9c179e"
             ],
             [
              0.4444444444444444,
              "#bd3786"
             ],
             [
              0.5555555555555556,
              "#d8576b"
             ],
             [
              0.6666666666666666,
              "#ed7953"
             ],
             [
              0.7777777777777778,
              "#fb9f3a"
             ],
             [
              0.8888888888888888,
              "#fdca26"
             ],
             [
              1,
              "#f0f921"
             ]
            ],
            "type": "histogram2dcontour"
           }
          ],
          "mesh3d": [
           {
            "colorbar": {
             "outlinewidth": 0,
             "ticks": ""
            },
            "type": "mesh3d"
           }
          ],
          "parcoords": [
           {
            "line": {
             "colorbar": {
              "outlinewidth": 0,
              "ticks": ""
             }
            },
            "type": "parcoords"
           }
          ],
          "pie": [
           {
            "automargin": true,
            "type": "pie"
           }
          ],
          "scatter": [
           {
            "fillpattern": {
             "fillmode": "overlay",
             "size": 10,
             "solidity": 0.2
            },
            "type": "scatter"
           }
          ],
          "scatter3d": [
           {
            "line": {
             "colorbar": {
              "outlinewidth": 0,
              "ticks": ""
             }
            },
            "marker": {
             "colorbar": {
              "outlinewidth": 0,
              "ticks": ""
             }
            },
            "type": "scatter3d"
           }
          ],
          "scattercarpet": [
           {
            "marker": {
             "colorbar": {
              "outlinewidth": 0,
              "ticks": ""
             }
            },
            "type": "scattercarpet"
           }
          ],
          "scattergeo": [
           {
            "marker": {
             "colorbar": {
              "outlinewidth": 0,
              "ticks": ""
             }
            },
            "type": "scattergeo"
           }
          ],
          "scattergl": [
           {
            "marker": {
             "colorbar": {
              "outlinewidth": 0,
              "ticks": ""
             }
            },
            "type": "scattergl"
           }
          ],
          "scattermapbox": [
           {
            "marker": {
             "colorbar": {
              "outlinewidth": 0,
              "ticks": ""
             }
            },
            "type": "scattermapbox"
           }
          ],
          "scatterpolar": [
           {
            "marker": {
             "colorbar": {
              "outlinewidth": 0,
              "ticks": ""
             }
            },
            "type": "scatterpolar"
           }
          ],
          "scatterpolargl": [
           {
            "marker": {
             "colorbar": {
              "outlinewidth": 0,
              "ticks": ""
             }
            },
            "type": "scatterpolargl"
           }
          ],
          "scatterternary": [
           {
            "marker": {
             "colorbar": {
              "outlinewidth": 0,
              "ticks": ""
             }
            },
            "type": "scatterternary"
           }
          ],
          "surface": [
           {
            "colorbar": {
             "outlinewidth": 0,
             "ticks": ""
            },
            "colorscale": [
             [
              0,
              "#0d0887"
             ],
             [
              0.1111111111111111,
              "#46039f"
             ],
             [
              0.2222222222222222,
              "#7201a8"
             ],
             [
              0.3333333333333333,
              "#9c179e"
             ],
             [
              0.4444444444444444,
              "#bd3786"
             ],
             [
              0.5555555555555556,
              "#d8576b"
             ],
             [
              0.6666666666666666,
              "#ed7953"
             ],
             [
              0.7777777777777778,
              "#fb9f3a"
             ],
             [
              0.8888888888888888,
              "#fdca26"
             ],
             [
              1,
              "#f0f921"
             ]
            ],
            "type": "surface"
           }
          ],
          "table": [
           {
            "cells": {
             "fill": {
              "color": "#EBF0F8"
             },
             "line": {
              "color": "white"
             }
            },
            "header": {
             "fill": {
              "color": "#C8D4E3"
             },
             "line": {
              "color": "white"
             }
            },
            "type": "table"
           }
          ]
         },
         "layout": {
          "annotationdefaults": {
           "arrowcolor": "#2a3f5f",
           "arrowhead": 0,
           "arrowwidth": 1
          },
          "autotypenumbers": "strict",
          "coloraxis": {
           "colorbar": {
            "outlinewidth": 0,
            "ticks": ""
           }
          },
          "colorscale": {
           "diverging": [
            [
             0,
             "#8e0152"
            ],
            [
             0.1,
             "#c51b7d"
            ],
            [
             0.2,
             "#de77ae"
            ],
            [
             0.3,
             "#f1b6da"
            ],
            [
             0.4,
             "#fde0ef"
            ],
            [
             0.5,
             "#f7f7f7"
            ],
            [
             0.6,
             "#e6f5d0"
            ],
            [
             0.7,
             "#b8e186"
            ],
            [
             0.8,
             "#7fbc41"
            ],
            [
             0.9,
             "#4d9221"
            ],
            [
             1,
             "#276419"
            ]
           ],
           "sequential": [
            [
             0,
             "#0d0887"
            ],
            [
             0.1111111111111111,
             "#46039f"
            ],
            [
             0.2222222222222222,
             "#7201a8"
            ],
            [
             0.3333333333333333,
             "#9c179e"
            ],
            [
             0.4444444444444444,
             "#bd3786"
            ],
            [
             0.5555555555555556,
             "#d8576b"
            ],
            [
             0.6666666666666666,
             "#ed7953"
            ],
            [
             0.7777777777777778,
             "#fb9f3a"
            ],
            [
             0.8888888888888888,
             "#fdca26"
            ],
            [
             1,
             "#f0f921"
            ]
           ],
           "sequentialminus": [
            [
             0,
             "#0d0887"
            ],
            [
             0.1111111111111111,
             "#46039f"
            ],
            [
             0.2222222222222222,
             "#7201a8"
            ],
            [
             0.3333333333333333,
             "#9c179e"
            ],
            [
             0.4444444444444444,
             "#bd3786"
            ],
            [
             0.5555555555555556,
             "#d8576b"
            ],
            [
             0.6666666666666666,
             "#ed7953"
            ],
            [
             0.7777777777777778,
             "#fb9f3a"
            ],
            [
             0.8888888888888888,
             "#fdca26"
            ],
            [
             1,
             "#f0f921"
            ]
           ]
          },
          "colorway": [
           "#636efa",
           "#EF553B",
           "#00cc96",
           "#ab63fa",
           "#FFA15A",
           "#19d3f3",
           "#FF6692",
           "#B6E880",
           "#FF97FF",
           "#FECB52"
          ],
          "font": {
           "color": "#2a3f5f"
          },
          "geo": {
           "bgcolor": "white",
           "lakecolor": "white",
           "landcolor": "#E5ECF6",
           "showlakes": true,
           "showland": true,
           "subunitcolor": "white"
          },
          "hoverlabel": {
           "align": "left"
          },
          "hovermode": "closest",
          "mapbox": {
           "style": "light"
          },
          "paper_bgcolor": "white",
          "plot_bgcolor": "#E5ECF6",
          "polar": {
           "angularaxis": {
            "gridcolor": "white",
            "linecolor": "white",
            "ticks": ""
           },
           "bgcolor": "#E5ECF6",
           "radialaxis": {
            "gridcolor": "white",
            "linecolor": "white",
            "ticks": ""
           }
          },
          "scene": {
           "xaxis": {
            "backgroundcolor": "#E5ECF6",
            "gridcolor": "white",
            "gridwidth": 2,
            "linecolor": "white",
            "showbackground": true,
            "ticks": "",
            "zerolinecolor": "white"
           },
           "yaxis": {
            "backgroundcolor": "#E5ECF6",
            "gridcolor": "white",
            "gridwidth": 2,
            "linecolor": "white",
            "showbackground": true,
            "ticks": "",
            "zerolinecolor": "white"
           },
           "zaxis": {
            "backgroundcolor": "#E5ECF6",
            "gridcolor": "white",
            "gridwidth": 2,
            "linecolor": "white",
            "showbackground": true,
            "ticks": "",
            "zerolinecolor": "white"
           }
          },
          "shapedefaults": {
           "line": {
            "color": "#2a3f5f"
           }
          },
          "ternary": {
           "aaxis": {
            "gridcolor": "white",
            "linecolor": "white",
            "ticks": ""
           },
           "baxis": {
            "gridcolor": "white",
            "linecolor": "white",
            "ticks": ""
           },
           "bgcolor": "#E5ECF6",
           "caxis": {
            "gridcolor": "white",
            "linecolor": "white",
            "ticks": ""
           }
          },
          "title": {
           "x": 0.05
          },
          "xaxis": {
           "automargin": true,
           "gridcolor": "white",
           "linecolor": "white",
           "ticks": "",
           "title": {
            "standoff": 15
           },
           "zerolinecolor": "white",
           "zerolinewidth": 2
          },
          "yaxis": {
           "automargin": true,
           "gridcolor": "white",
           "linecolor": "white",
           "ticks": "",
           "title": {
            "standoff": 15
           },
           "zerolinecolor": "white",
           "zerolinewidth": 2
          }
         }
        },
        "xaxis": {
         "anchor": "y",
         "constrain": "domain",
         "domain": [
          0,
          1
         ],
         "scaleanchor": "y",
         "title": {
          "text": "Predicted"
         }
        },
        "yaxis": {
         "anchor": "x",
         "autorange": "reversed",
         "constrain": "domain",
         "domain": [
          0,
          1
         ],
         "title": {
          "text": "True"
         }
        }
       }
      }
     },
     "metadata": {},
     "output_type": "display_data"
    }
   ],
   "source": [
    "display('test score: {:.3f}'.format(model_forest.score(model_forest.X_test, model_forest.y_test)))\n",
    "for score in model_forest.cv_scores():\n",
    "    display('cv score: {:.3f}'.format(score))\n",
    "model_forest.display_confusion(model_forest.y_test, model_forest.y_pred)"
   ]
  },
  {
   "cell_type": "markdown",
   "metadata": {},
   "source": [
    "#### Testar diagnotisera hela datan"
   ]
  },
  {
   "cell_type": "code",
   "execution_count": 16,
   "metadata": {},
   "outputs": [],
   "source": [
    "def predict(model: ForestWrap, df: pd.DataFrame, target_col: str):\n",
    "    X = df.drop(target_col, axis = 1)\n",
    "    y_true = df[target_col]\n",
    "    y_pred = model.predict(X)\n",
    "    display('accuracy score: {:.3f}'.format(model.score(X, y_true)))\n",
    "    model.display_confusion(y_true, y_pred)"
   ]
  },
  {
   "cell_type": "code",
   "execution_count": 17,
   "metadata": {},
   "outputs": [
    {
     "data": {
      "text/plain": [
       "'accuracy score: 0.976'"
      ]
     },
     "metadata": {},
     "output_type": "display_data"
    },
    {
     "data": {
      "application/vnd.plotly.v1+json": {
       "config": {
        "plotlyServerURL": "https://plot.ly"
       },
       "data": [
        {
         "coloraxis": "coloraxis",
         "hovertemplate": "Predicted: %{x}<br>True: %{y}<br>color: %{z}<extra></extra>",
         "name": "0",
         "texttemplate": "%{z}",
         "type": "heatmap",
         "xaxis": "x",
         "yaxis": "y",
         "z": [
          [
           481,
           18
          ],
          [
           7,
           519
          ]
         ]
        }
       ],
       "layout": {
        "coloraxis": {
         "colorscale": [
          [
           0,
           "#0d0887"
          ],
          [
           0.1111111111111111,
           "#46039f"
          ],
          [
           0.2222222222222222,
           "#7201a8"
          ],
          [
           0.3333333333333333,
           "#9c179e"
          ],
          [
           0.4444444444444444,
           "#bd3786"
          ],
          [
           0.5555555555555556,
           "#d8576b"
          ],
          [
           0.6666666666666666,
           "#ed7953"
          ],
          [
           0.7777777777777778,
           "#fb9f3a"
          ],
          [
           0.8888888888888888,
           "#fdca26"
          ],
          [
           1,
           "#f0f921"
          ]
         ]
        },
        "margin": {
         "t": 60
        },
        "template": {
         "data": {
          "bar": [
           {
            "error_x": {
             "color": "#2a3f5f"
            },
            "error_y": {
             "color": "#2a3f5f"
            },
            "marker": {
             "line": {
              "color": "#E5ECF6",
              "width": 0.5
             },
             "pattern": {
              "fillmode": "overlay",
              "size": 10,
              "solidity": 0.2
             }
            },
            "type": "bar"
           }
          ],
          "barpolar": [
           {
            "marker": {
             "line": {
              "color": "#E5ECF6",
              "width": 0.5
             },
             "pattern": {
              "fillmode": "overlay",
              "size": 10,
              "solidity": 0.2
             }
            },
            "type": "barpolar"
           }
          ],
          "carpet": [
           {
            "aaxis": {
             "endlinecolor": "#2a3f5f",
             "gridcolor": "white",
             "linecolor": "white",
             "minorgridcolor": "white",
             "startlinecolor": "#2a3f5f"
            },
            "baxis": {
             "endlinecolor": "#2a3f5f",
             "gridcolor": "white",
             "linecolor": "white",
             "minorgridcolor": "white",
             "startlinecolor": "#2a3f5f"
            },
            "type": "carpet"
           }
          ],
          "choropleth": [
           {
            "colorbar": {
             "outlinewidth": 0,
             "ticks": ""
            },
            "type": "choropleth"
           }
          ],
          "contour": [
           {
            "colorbar": {
             "outlinewidth": 0,
             "ticks": ""
            },
            "colorscale": [
             [
              0,
              "#0d0887"
             ],
             [
              0.1111111111111111,
              "#46039f"
             ],
             [
              0.2222222222222222,
              "#7201a8"
             ],
             [
              0.3333333333333333,
              "#9c179e"
             ],
             [
              0.4444444444444444,
              "#bd3786"
             ],
             [
              0.5555555555555556,
              "#d8576b"
             ],
             [
              0.6666666666666666,
              "#ed7953"
             ],
             [
              0.7777777777777778,
              "#fb9f3a"
             ],
             [
              0.8888888888888888,
              "#fdca26"
             ],
             [
              1,
              "#f0f921"
             ]
            ],
            "type": "contour"
           }
          ],
          "contourcarpet": [
           {
            "colorbar": {
             "outlinewidth": 0,
             "ticks": ""
            },
            "type": "contourcarpet"
           }
          ],
          "heatmap": [
           {
            "colorbar": {
             "outlinewidth": 0,
             "ticks": ""
            },
            "colorscale": [
             [
              0,
              "#0d0887"
             ],
             [
              0.1111111111111111,
              "#46039f"
             ],
             [
              0.2222222222222222,
              "#7201a8"
             ],
             [
              0.3333333333333333,
              "#9c179e"
             ],
             [
              0.4444444444444444,
              "#bd3786"
             ],
             [
              0.5555555555555556,
              "#d8576b"
             ],
             [
              0.6666666666666666,
              "#ed7953"
             ],
             [
              0.7777777777777778,
              "#fb9f3a"
             ],
             [
              0.8888888888888888,
              "#fdca26"
             ],
             [
              1,
              "#f0f921"
             ]
            ],
            "type": "heatmap"
           }
          ],
          "heatmapgl": [
           {
            "colorbar": {
             "outlinewidth": 0,
             "ticks": ""
            },
            "colorscale": [
             [
              0,
              "#0d0887"
             ],
             [
              0.1111111111111111,
              "#46039f"
             ],
             [
              0.2222222222222222,
              "#7201a8"
             ],
             [
              0.3333333333333333,
              "#9c179e"
             ],
             [
              0.4444444444444444,
              "#bd3786"
             ],
             [
              0.5555555555555556,
              "#d8576b"
             ],
             [
              0.6666666666666666,
              "#ed7953"
             ],
             [
              0.7777777777777778,
              "#fb9f3a"
             ],
             [
              0.8888888888888888,
              "#fdca26"
             ],
             [
              1,
              "#f0f921"
             ]
            ],
            "type": "heatmapgl"
           }
          ],
          "histogram": [
           {
            "marker": {
             "pattern": {
              "fillmode": "overlay",
              "size": 10,
              "solidity": 0.2
             }
            },
            "type": "histogram"
           }
          ],
          "histogram2d": [
           {
            "colorbar": {
             "outlinewidth": 0,
             "ticks": ""
            },
            "colorscale": [
             [
              0,
              "#0d0887"
             ],
             [
              0.1111111111111111,
              "#46039f"
             ],
             [
              0.2222222222222222,
              "#7201a8"
             ],
             [
              0.3333333333333333,
              "#9c179e"
             ],
             [
              0.4444444444444444,
              "#bd3786"
             ],
             [
              0.5555555555555556,
              "#d8576b"
             ],
             [
              0.6666666666666666,
              "#ed7953"
             ],
             [
              0.7777777777777778,
              "#fb9f3a"
             ],
             [
              0.8888888888888888,
              "#fdca26"
             ],
             [
              1,
              "#f0f921"
             ]
            ],
            "type": "histogram2d"
           }
          ],
          "histogram2dcontour": [
           {
            "colorbar": {
             "outlinewidth": 0,
             "ticks": ""
            },
            "colorscale": [
             [
              0,
              "#0d0887"
             ],
             [
              0.1111111111111111,
              "#46039f"
             ],
             [
              0.2222222222222222,
              "#7201a8"
             ],
             [
              0.3333333333333333,
              "#9c179e"
             ],
             [
              0.4444444444444444,
              "#bd3786"
             ],
             [
              0.5555555555555556,
              "#d8576b"
             ],
             [
              0.6666666666666666,
              "#ed7953"
             ],
             [
              0.7777777777777778,
              "#fb9f3a"
             ],
             [
              0.8888888888888888,
              "#fdca26"
             ],
             [
              1,
              "#f0f921"
             ]
            ],
            "type": "histogram2dcontour"
           }
          ],
          "mesh3d": [
           {
            "colorbar": {
             "outlinewidth": 0,
             "ticks": ""
            },
            "type": "mesh3d"
           }
          ],
          "parcoords": [
           {
            "line": {
             "colorbar": {
              "outlinewidth": 0,
              "ticks": ""
             }
            },
            "type": "parcoords"
           }
          ],
          "pie": [
           {
            "automargin": true,
            "type": "pie"
           }
          ],
          "scatter": [
           {
            "fillpattern": {
             "fillmode": "overlay",
             "size": 10,
             "solidity": 0.2
            },
            "type": "scatter"
           }
          ],
          "scatter3d": [
           {
            "line": {
             "colorbar": {
              "outlinewidth": 0,
              "ticks": ""
             }
            },
            "marker": {
             "colorbar": {
              "outlinewidth": 0,
              "ticks": ""
             }
            },
            "type": "scatter3d"
           }
          ],
          "scattercarpet": [
           {
            "marker": {
             "colorbar": {
              "outlinewidth": 0,
              "ticks": ""
             }
            },
            "type": "scattercarpet"
           }
          ],
          "scattergeo": [
           {
            "marker": {
             "colorbar": {
              "outlinewidth": 0,
              "ticks": ""
             }
            },
            "type": "scattergeo"
           }
          ],
          "scattergl": [
           {
            "marker": {
             "colorbar": {
              "outlinewidth": 0,
              "ticks": ""
             }
            },
            "type": "scattergl"
           }
          ],
          "scattermapbox": [
           {
            "marker": {
             "colorbar": {
              "outlinewidth": 0,
              "ticks": ""
             }
            },
            "type": "scattermapbox"
           }
          ],
          "scatterpolar": [
           {
            "marker": {
             "colorbar": {
              "outlinewidth": 0,
              "ticks": ""
             }
            },
            "type": "scatterpolar"
           }
          ],
          "scatterpolargl": [
           {
            "marker": {
             "colorbar": {
              "outlinewidth": 0,
              "ticks": ""
             }
            },
            "type": "scatterpolargl"
           }
          ],
          "scatterternary": [
           {
            "marker": {
             "colorbar": {
              "outlinewidth": 0,
              "ticks": ""
             }
            },
            "type": "scatterternary"
           }
          ],
          "surface": [
           {
            "colorbar": {
             "outlinewidth": 0,
             "ticks": ""
            },
            "colorscale": [
             [
              0,
              "#0d0887"
             ],
             [
              0.1111111111111111,
              "#46039f"
             ],
             [
              0.2222222222222222,
              "#7201a8"
             ],
             [
              0.3333333333333333,
              "#9c179e"
             ],
             [
              0.4444444444444444,
              "#bd3786"
             ],
             [
              0.5555555555555556,
              "#d8576b"
             ],
             [
              0.6666666666666666,
              "#ed7953"
             ],
             [
              0.7777777777777778,
              "#fb9f3a"
             ],
             [
              0.8888888888888888,
              "#fdca26"
             ],
             [
              1,
              "#f0f921"
             ]
            ],
            "type": "surface"
           }
          ],
          "table": [
           {
            "cells": {
             "fill": {
              "color": "#EBF0F8"
             },
             "line": {
              "color": "white"
             }
            },
            "header": {
             "fill": {
              "color": "#C8D4E3"
             },
             "line": {
              "color": "white"
             }
            },
            "type": "table"
           }
          ]
         },
         "layout": {
          "annotationdefaults": {
           "arrowcolor": "#2a3f5f",
           "arrowhead": 0,
           "arrowwidth": 1
          },
          "autotypenumbers": "strict",
          "coloraxis": {
           "colorbar": {
            "outlinewidth": 0,
            "ticks": ""
           }
          },
          "colorscale": {
           "diverging": [
            [
             0,
             "#8e0152"
            ],
            [
             0.1,
             "#c51b7d"
            ],
            [
             0.2,
             "#de77ae"
            ],
            [
             0.3,
             "#f1b6da"
            ],
            [
             0.4,
             "#fde0ef"
            ],
            [
             0.5,
             "#f7f7f7"
            ],
            [
             0.6,
             "#e6f5d0"
            ],
            [
             0.7,
             "#b8e186"
            ],
            [
             0.8,
             "#7fbc41"
            ],
            [
             0.9,
             "#4d9221"
            ],
            [
             1,
             "#276419"
            ]
           ],
           "sequential": [
            [
             0,
             "#0d0887"
            ],
            [
             0.1111111111111111,
             "#46039f"
            ],
            [
             0.2222222222222222,
             "#7201a8"
            ],
            [
             0.3333333333333333,
             "#9c179e"
            ],
            [
             0.4444444444444444,
             "#bd3786"
            ],
            [
             0.5555555555555556,
             "#d8576b"
            ],
            [
             0.6666666666666666,
             "#ed7953"
            ],
            [
             0.7777777777777778,
             "#fb9f3a"
            ],
            [
             0.8888888888888888,
             "#fdca26"
            ],
            [
             1,
             "#f0f921"
            ]
           ],
           "sequentialminus": [
            [
             0,
             "#0d0887"
            ],
            [
             0.1111111111111111,
             "#46039f"
            ],
            [
             0.2222222222222222,
             "#7201a8"
            ],
            [
             0.3333333333333333,
             "#9c179e"
            ],
            [
             0.4444444444444444,
             "#bd3786"
            ],
            [
             0.5555555555555556,
             "#d8576b"
            ],
            [
             0.6666666666666666,
             "#ed7953"
            ],
            [
             0.7777777777777778,
             "#fb9f3a"
            ],
            [
             0.8888888888888888,
             "#fdca26"
            ],
            [
             1,
             "#f0f921"
            ]
           ]
          },
          "colorway": [
           "#636efa",
           "#EF553B",
           "#00cc96",
           "#ab63fa",
           "#FFA15A",
           "#19d3f3",
           "#FF6692",
           "#B6E880",
           "#FF97FF",
           "#FECB52"
          ],
          "font": {
           "color": "#2a3f5f"
          },
          "geo": {
           "bgcolor": "white",
           "lakecolor": "white",
           "landcolor": "#E5ECF6",
           "showlakes": true,
           "showland": true,
           "subunitcolor": "white"
          },
          "hoverlabel": {
           "align": "left"
          },
          "hovermode": "closest",
          "mapbox": {
           "style": "light"
          },
          "paper_bgcolor": "white",
          "plot_bgcolor": "#E5ECF6",
          "polar": {
           "angularaxis": {
            "gridcolor": "white",
            "linecolor": "white",
            "ticks": ""
           },
           "bgcolor": "#E5ECF6",
           "radialaxis": {
            "gridcolor": "white",
            "linecolor": "white",
            "ticks": ""
           }
          },
          "scene": {
           "xaxis": {
            "backgroundcolor": "#E5ECF6",
            "gridcolor": "white",
            "gridwidth": 2,
            "linecolor": "white",
            "showbackground": true,
            "ticks": "",
            "zerolinecolor": "white"
           },
           "yaxis": {
            "backgroundcolor": "#E5ECF6",
            "gridcolor": "white",
            "gridwidth": 2,
            "linecolor": "white",
            "showbackground": true,
            "ticks": "",
            "zerolinecolor": "white"
           },
           "zaxis": {
            "backgroundcolor": "#E5ECF6",
            "gridcolor": "white",
            "gridwidth": 2,
            "linecolor": "white",
            "showbackground": true,
            "ticks": "",
            "zerolinecolor": "white"
           }
          },
          "shapedefaults": {
           "line": {
            "color": "#2a3f5f"
           }
          },
          "ternary": {
           "aaxis": {
            "gridcolor": "white",
            "linecolor": "white",
            "ticks": ""
           },
           "baxis": {
            "gridcolor": "white",
            "linecolor": "white",
            "ticks": ""
           },
           "bgcolor": "#E5ECF6",
           "caxis": {
            "gridcolor": "white",
            "linecolor": "white",
            "ticks": ""
           }
          },
          "title": {
           "x": 0.05
          },
          "xaxis": {
           "automargin": true,
           "gridcolor": "white",
           "linecolor": "white",
           "ticks": "",
           "title": {
            "standoff": 15
           },
           "zerolinecolor": "white",
           "zerolinewidth": 2
          },
          "yaxis": {
           "automargin": true,
           "gridcolor": "white",
           "linecolor": "white",
           "ticks": "",
           "title": {
            "standoff": 15
           },
           "zerolinecolor": "white",
           "zerolinewidth": 2
          }
         }
        },
        "xaxis": {
         "anchor": "y",
         "constrain": "domain",
         "domain": [
          0,
          1
         ],
         "scaleanchor": "y",
         "title": {
          "text": "Predicted"
         }
        },
        "yaxis": {
         "anchor": "x",
         "autorange": "reversed",
         "constrain": "domain",
         "domain": [
          0,
          1
         ],
         "title": {
          "text": "True"
         }
        }
       }
      }
     },
     "metadata": {},
     "output_type": "display_data"
    }
   ],
   "source": [
    "predict(model_forest, heart_data, 'target')"
   ]
  }
 ],
 "metadata": {
  "kernelspec": {
   "display_name": "jupyter-venv",
   "language": "python",
   "name": "python3"
  },
  "language_info": {
   "codemirror_mode": {
    "name": "ipython",
    "version": 3
   },
   "file_extension": ".py",
   "mimetype": "text/x-python",
   "name": "python",
   "nbconvert_exporter": "python",
   "pygments_lexer": "ipython3",
   "version": "3.11.5"
  }
 },
 "nbformat": 4,
 "nbformat_minor": 2
}
