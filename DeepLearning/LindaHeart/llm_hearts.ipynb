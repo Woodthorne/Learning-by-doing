{
 "cells": [
  {
   "cell_type": "markdown",
   "metadata": {},
   "source": [
    "# Lindas Lustfyllda Maskininlärning: Sjuknissarna AB - Hjärtsjukdomar\n",
    "Denna jupyter notebook innehåller en analys av datan i heart.csv och en efterföljande prediktionsmodell där målet är att ha lågt antal falska negativa klassificeringar."
   ]
  },
  {
   "cell_type": "markdown",
   "metadata": {},
   "source": [
    "#### Importerar bibliotek"
   ]
  },
  {
   "cell_type": "code",
   "execution_count": 1,
   "metadata": {},
   "outputs": [],
   "source": [
    "import numpy as np\n",
    "import pandas as pd\n",
    "import plotly.express as px\n",
    "import plotly.graph_objects as go\n",
    "from scipy import stats\n",
    "from sklearn.decomposition import PCA\n",
    "from sklearn.ensemble import RandomForestClassifier\n",
    "from sklearn.metrics import confusion_matrix\n",
    "from sklearn.model_selection import cross_validate, train_test_split"
   ]
  },
  {
   "cell_type": "markdown",
   "metadata": {},
   "source": [
    "#### Laddar datan"
   ]
  },
  {
   "cell_type": "code",
   "execution_count": 2,
   "metadata": {},
   "outputs": [],
   "source": [
    "heart_data = pd.read_csv('heart.csv')"
   ]
  },
  {
   "cell_type": "markdown",
   "metadata": {},
   "source": [
    "## Analys av data\n",
    "Till att börja med kan vi fastställa att vi har 1025 datapunkter att arbeta med och att ingen av dem saknar värde för något attribut."
   ]
  },
  {
   "cell_type": "code",
   "execution_count": 3,
   "metadata": {},
   "outputs": [
    {
     "data": {
      "text/plain": [
       "'rows: 1025'"
      ]
     },
     "metadata": {},
     "output_type": "display_data"
    }
   ],
   "source": [
    "display(f'rows: {heart_data.__len__()}')"
   ]
  },
  {
   "cell_type": "code",
   "execution_count": 4,
   "metadata": {},
   "outputs": [
    {
     "data": {
      "text/plain": [
       "'NaN values present: False'"
      ]
     },
     "metadata": {},
     "output_type": "display_data"
    }
   ],
   "source": [
    "display(f'NaN values present: {heart_data.isnull().values.any()}')"
   ]
  },
  {
   "cell_type": "code",
   "execution_count": 5,
   "metadata": {},
   "outputs": [
    {
     "data": {
      "text/html": [
       "<div>\n",
       "<style scoped>\n",
       "    .dataframe tbody tr th:only-of-type {\n",
       "        vertical-align: middle;\n",
       "    }\n",
       "\n",
       "    .dataframe tbody tr th {\n",
       "        vertical-align: top;\n",
       "    }\n",
       "\n",
       "    .dataframe thead th {\n",
       "        text-align: right;\n",
       "    }\n",
       "</style>\n",
       "<table border=\"1\" class=\"dataframe\">\n",
       "  <thead>\n",
       "    <tr style=\"text-align: right;\">\n",
       "      <th></th>\n",
       "      <th>age</th>\n",
       "      <th>sex</th>\n",
       "      <th>cp</th>\n",
       "      <th>trestbps</th>\n",
       "      <th>chol</th>\n",
       "      <th>fbs</th>\n",
       "      <th>restecg</th>\n",
       "      <th>thalach</th>\n",
       "      <th>exang</th>\n",
       "      <th>oldpeak</th>\n",
       "      <th>slope</th>\n",
       "      <th>ca</th>\n",
       "      <th>thal</th>\n",
       "      <th>target</th>\n",
       "    </tr>\n",
       "  </thead>\n",
       "  <tbody>\n",
       "    <tr>\n",
       "      <th>0</th>\n",
       "      <td>52</td>\n",
       "      <td>1</td>\n",
       "      <td>0</td>\n",
       "      <td>125</td>\n",
       "      <td>212</td>\n",
       "      <td>0</td>\n",
       "      <td>1</td>\n",
       "      <td>168</td>\n",
       "      <td>0</td>\n",
       "      <td>1.0</td>\n",
       "      <td>2</td>\n",
       "      <td>2</td>\n",
       "      <td>3</td>\n",
       "      <td>0</td>\n",
       "    </tr>\n",
       "    <tr>\n",
       "      <th>1</th>\n",
       "      <td>53</td>\n",
       "      <td>1</td>\n",
       "      <td>0</td>\n",
       "      <td>140</td>\n",
       "      <td>203</td>\n",
       "      <td>1</td>\n",
       "      <td>0</td>\n",
       "      <td>155</td>\n",
       "      <td>1</td>\n",
       "      <td>3.1</td>\n",
       "      <td>0</td>\n",
       "      <td>0</td>\n",
       "      <td>3</td>\n",
       "      <td>0</td>\n",
       "    </tr>\n",
       "    <tr>\n",
       "      <th>2</th>\n",
       "      <td>70</td>\n",
       "      <td>1</td>\n",
       "      <td>0</td>\n",
       "      <td>145</td>\n",
       "      <td>174</td>\n",
       "      <td>0</td>\n",
       "      <td>1</td>\n",
       "      <td>125</td>\n",
       "      <td>1</td>\n",
       "      <td>2.6</td>\n",
       "      <td>0</td>\n",
       "      <td>0</td>\n",
       "      <td>3</td>\n",
       "      <td>0</td>\n",
       "    </tr>\n",
       "    <tr>\n",
       "      <th>3</th>\n",
       "      <td>61</td>\n",
       "      <td>1</td>\n",
       "      <td>0</td>\n",
       "      <td>148</td>\n",
       "      <td>203</td>\n",
       "      <td>0</td>\n",
       "      <td>1</td>\n",
       "      <td>161</td>\n",
       "      <td>0</td>\n",
       "      <td>0.0</td>\n",
       "      <td>2</td>\n",
       "      <td>1</td>\n",
       "      <td>3</td>\n",
       "      <td>0</td>\n",
       "    </tr>\n",
       "    <tr>\n",
       "      <th>4</th>\n",
       "      <td>62</td>\n",
       "      <td>0</td>\n",
       "      <td>0</td>\n",
       "      <td>138</td>\n",
       "      <td>294</td>\n",
       "      <td>1</td>\n",
       "      <td>1</td>\n",
       "      <td>106</td>\n",
       "      <td>0</td>\n",
       "      <td>1.9</td>\n",
       "      <td>1</td>\n",
       "      <td>3</td>\n",
       "      <td>2</td>\n",
       "      <td>0</td>\n",
       "    </tr>\n",
       "  </tbody>\n",
       "</table>\n",
       "</div>"
      ],
      "text/plain": [
       "   age  sex  cp  trestbps  chol  fbs  restecg  thalach  exang  oldpeak  slope  \\\n",
       "0   52    1   0       125   212    0        1      168      0      1.0      2   \n",
       "1   53    1   0       140   203    1        0      155      1      3.1      0   \n",
       "2   70    1   0       145   174    0        1      125      1      2.6      0   \n",
       "3   61    1   0       148   203    0        1      161      0      0.0      2   \n",
       "4   62    0   0       138   294    1        1      106      0      1.9      1   \n",
       "\n",
       "   ca  thal  target  \n",
       "0   2     3       0  \n",
       "1   0     3       0  \n",
       "2   0     3       0  \n",
       "3   1     3       0  \n",
       "4   3     2       0  "
      ]
     },
     "metadata": {},
     "output_type": "display_data"
    }
   ],
   "source": [
    "display(heart_data.head())"
   ]
  },
  {
   "cell_type": "code",
   "execution_count": 6,
   "metadata": {},
   "outputs": [
    {
     "data": {
      "text/html": [
       "<div>\n",
       "<style scoped>\n",
       "    .dataframe tbody tr th:only-of-type {\n",
       "        vertical-align: middle;\n",
       "    }\n",
       "\n",
       "    .dataframe tbody tr th {\n",
       "        vertical-align: top;\n",
       "    }\n",
       "\n",
       "    .dataframe thead th {\n",
       "        text-align: right;\n",
       "    }\n",
       "</style>\n",
       "<table border=\"1\" class=\"dataframe\">\n",
       "  <thead>\n",
       "    <tr style=\"text-align: right;\">\n",
       "      <th></th>\n",
       "      <th>age</th>\n",
       "      <th>sex</th>\n",
       "      <th>cp</th>\n",
       "      <th>trestbps</th>\n",
       "      <th>chol</th>\n",
       "      <th>fbs</th>\n",
       "      <th>restecg</th>\n",
       "      <th>thalach</th>\n",
       "      <th>exang</th>\n",
       "      <th>oldpeak</th>\n",
       "      <th>slope</th>\n",
       "      <th>ca</th>\n",
       "      <th>thal</th>\n",
       "      <th>target</th>\n",
       "    </tr>\n",
       "  </thead>\n",
       "  <tbody>\n",
       "    <tr>\n",
       "      <th>count</th>\n",
       "      <td>1025.000000</td>\n",
       "      <td>1025.000000</td>\n",
       "      <td>1025.000000</td>\n",
       "      <td>1025.000000</td>\n",
       "      <td>1025.00000</td>\n",
       "      <td>1025.000000</td>\n",
       "      <td>1025.000000</td>\n",
       "      <td>1025.000000</td>\n",
       "      <td>1025.000000</td>\n",
       "      <td>1025.000000</td>\n",
       "      <td>1025.000000</td>\n",
       "      <td>1025.000000</td>\n",
       "      <td>1025.000000</td>\n",
       "      <td>1025.000000</td>\n",
       "    </tr>\n",
       "    <tr>\n",
       "      <th>mean</th>\n",
       "      <td>54.434146</td>\n",
       "      <td>0.695610</td>\n",
       "      <td>0.942439</td>\n",
       "      <td>131.611707</td>\n",
       "      <td>246.00000</td>\n",
       "      <td>0.149268</td>\n",
       "      <td>0.529756</td>\n",
       "      <td>149.114146</td>\n",
       "      <td>0.336585</td>\n",
       "      <td>1.071512</td>\n",
       "      <td>1.385366</td>\n",
       "      <td>0.754146</td>\n",
       "      <td>2.323902</td>\n",
       "      <td>0.513171</td>\n",
       "    </tr>\n",
       "    <tr>\n",
       "      <th>std</th>\n",
       "      <td>9.072290</td>\n",
       "      <td>0.460373</td>\n",
       "      <td>1.029641</td>\n",
       "      <td>17.516718</td>\n",
       "      <td>51.59251</td>\n",
       "      <td>0.356527</td>\n",
       "      <td>0.527878</td>\n",
       "      <td>23.005724</td>\n",
       "      <td>0.472772</td>\n",
       "      <td>1.175053</td>\n",
       "      <td>0.617755</td>\n",
       "      <td>1.030798</td>\n",
       "      <td>0.620660</td>\n",
       "      <td>0.500070</td>\n",
       "    </tr>\n",
       "    <tr>\n",
       "      <th>min</th>\n",
       "      <td>29.000000</td>\n",
       "      <td>0.000000</td>\n",
       "      <td>0.000000</td>\n",
       "      <td>94.000000</td>\n",
       "      <td>126.00000</td>\n",
       "      <td>0.000000</td>\n",
       "      <td>0.000000</td>\n",
       "      <td>71.000000</td>\n",
       "      <td>0.000000</td>\n",
       "      <td>0.000000</td>\n",
       "      <td>0.000000</td>\n",
       "      <td>0.000000</td>\n",
       "      <td>0.000000</td>\n",
       "      <td>0.000000</td>\n",
       "    </tr>\n",
       "    <tr>\n",
       "      <th>25%</th>\n",
       "      <td>48.000000</td>\n",
       "      <td>0.000000</td>\n",
       "      <td>0.000000</td>\n",
       "      <td>120.000000</td>\n",
       "      <td>211.00000</td>\n",
       "      <td>0.000000</td>\n",
       "      <td>0.000000</td>\n",
       "      <td>132.000000</td>\n",
       "      <td>0.000000</td>\n",
       "      <td>0.000000</td>\n",
       "      <td>1.000000</td>\n",
       "      <td>0.000000</td>\n",
       "      <td>2.000000</td>\n",
       "      <td>0.000000</td>\n",
       "    </tr>\n",
       "    <tr>\n",
       "      <th>50%</th>\n",
       "      <td>56.000000</td>\n",
       "      <td>1.000000</td>\n",
       "      <td>1.000000</td>\n",
       "      <td>130.000000</td>\n",
       "      <td>240.00000</td>\n",
       "      <td>0.000000</td>\n",
       "      <td>1.000000</td>\n",
       "      <td>152.000000</td>\n",
       "      <td>0.000000</td>\n",
       "      <td>0.800000</td>\n",
       "      <td>1.000000</td>\n",
       "      <td>0.000000</td>\n",
       "      <td>2.000000</td>\n",
       "      <td>1.000000</td>\n",
       "    </tr>\n",
       "    <tr>\n",
       "      <th>75%</th>\n",
       "      <td>61.000000</td>\n",
       "      <td>1.000000</td>\n",
       "      <td>2.000000</td>\n",
       "      <td>140.000000</td>\n",
       "      <td>275.00000</td>\n",
       "      <td>0.000000</td>\n",
       "      <td>1.000000</td>\n",
       "      <td>166.000000</td>\n",
       "      <td>1.000000</td>\n",
       "      <td>1.800000</td>\n",
       "      <td>2.000000</td>\n",
       "      <td>1.000000</td>\n",
       "      <td>3.000000</td>\n",
       "      <td>1.000000</td>\n",
       "    </tr>\n",
       "    <tr>\n",
       "      <th>max</th>\n",
       "      <td>77.000000</td>\n",
       "      <td>1.000000</td>\n",
       "      <td>3.000000</td>\n",
       "      <td>200.000000</td>\n",
       "      <td>564.00000</td>\n",
       "      <td>1.000000</td>\n",
       "      <td>2.000000</td>\n",
       "      <td>202.000000</td>\n",
       "      <td>1.000000</td>\n",
       "      <td>6.200000</td>\n",
       "      <td>2.000000</td>\n",
       "      <td>4.000000</td>\n",
       "      <td>3.000000</td>\n",
       "      <td>1.000000</td>\n",
       "    </tr>\n",
       "  </tbody>\n",
       "</table>\n",
       "</div>"
      ],
      "text/plain": [
       "               age          sex           cp     trestbps        chol  \\\n",
       "count  1025.000000  1025.000000  1025.000000  1025.000000  1025.00000   \n",
       "mean     54.434146     0.695610     0.942439   131.611707   246.00000   \n",
       "std       9.072290     0.460373     1.029641    17.516718    51.59251   \n",
       "min      29.000000     0.000000     0.000000    94.000000   126.00000   \n",
       "25%      48.000000     0.000000     0.000000   120.000000   211.00000   \n",
       "50%      56.000000     1.000000     1.000000   130.000000   240.00000   \n",
       "75%      61.000000     1.000000     2.000000   140.000000   275.00000   \n",
       "max      77.000000     1.000000     3.000000   200.000000   564.00000   \n",
       "\n",
       "               fbs      restecg      thalach        exang      oldpeak  \\\n",
       "count  1025.000000  1025.000000  1025.000000  1025.000000  1025.000000   \n",
       "mean      0.149268     0.529756   149.114146     0.336585     1.071512   \n",
       "std       0.356527     0.527878    23.005724     0.472772     1.175053   \n",
       "min       0.000000     0.000000    71.000000     0.000000     0.000000   \n",
       "25%       0.000000     0.000000   132.000000     0.000000     0.000000   \n",
       "50%       0.000000     1.000000   152.000000     0.000000     0.800000   \n",
       "75%       0.000000     1.000000   166.000000     1.000000     1.800000   \n",
       "max       1.000000     2.000000   202.000000     1.000000     6.200000   \n",
       "\n",
       "             slope           ca         thal       target  \n",
       "count  1025.000000  1025.000000  1025.000000  1025.000000  \n",
       "mean      1.385366     0.754146     2.323902     0.513171  \n",
       "std       0.617755     1.030798     0.620660     0.500070  \n",
       "min       0.000000     0.000000     0.000000     0.000000  \n",
       "25%       1.000000     0.000000     2.000000     0.000000  \n",
       "50%       1.000000     0.000000     2.000000     1.000000  \n",
       "75%       2.000000     1.000000     3.000000     1.000000  \n",
       "max       2.000000     4.000000     3.000000     1.000000  "
      ]
     },
     "metadata": {},
     "output_type": "display_data"
    }
   ],
   "source": [
    "display(heart_data.describe())"
   ]
  },
  {
   "cell_type": "code",
   "execution_count": 7,
   "metadata": {},
   "outputs": [
    {
     "data": {
      "image/png": "[encoded data removed]",
      "text/plain": [
       "<Figure size 640x480 with 16 Axes>"
      ]
     },
     "metadata": {},
     "output_type": "display_data"
    }
   ],
   "source": [
    "hist = heart_data.hist()"
   ]
  },
  {
   "cell_type": "markdown",
   "metadata": {},
   "source": [
    "#### Ritar ut transformerad data i 3D\n",
    "När vi ritar ut en skuggbild av datan i tre dimensioner kan vi se att det verkar finnas vissa punkter som kan bestå av extremvärden som vi kan eliminera."
   ]
  },
  {
   "cell_type": "code",
   "execution_count": 8,
   "metadata": {},
   "outputs": [],
   "source": [
    "def pca_transformation(df: pd.DataFrame, n_components: int = 3):\n",
    "    pca = PCA(n_components = n_components)\n",
    "    principal_components = pca.fit_transform(df)\n",
    "    principal_df = pd.DataFrame(data = principal_components,\n",
    "                                columns = [f'principal component {n + 1}' for n in range(n_components)],\n",
    "                                index = df.index\n",
    "                                )\n",
    "    return principal_df\n",
    "\n",
    "def plot_3d(df: pd.DataFrame, target_col: str = None):\n",
    "    if target_col:\n",
    "        targets = df[target_col]\n",
    "        df = df.drop(target_col, axis = 1)\n",
    "    \n",
    "    if len(df.columns) > 3:\n",
    "        df = pca_transformation(df)\n",
    "    \n",
    "    if target_col:\n",
    "        data = []\n",
    "        for target in targets.unique():\n",
    "            rows: pd.DataFrame = df.loc[targets == target]\n",
    "            data.append(go.Scatter3d(x = rows.iloc[:, 0],\n",
    "                                     y = rows.iloc[:, 1],\n",
    "                                     z = rows.iloc[:, 2],\n",
    "                                     mode='markers',\n",
    "                                     marker = dict(size = 5)\n",
    "                                     )\n",
    "                        )\n",
    "    else:\n",
    "        data = go.Scatter3d(x = df.iloc[:, 0],\n",
    "                            y = df.iloc[:, 1],\n",
    "                            z = df.iloc[:, 2],\n",
    "                            mode='markers',\n",
    "                            marker = dict(size = 5)\n",
    "                            )\n",
    "    fig = go.Figure(data = data)\n",
    "    fig.show()"
   ]
  },
  {
   "cell_type": "code",
   "execution_count": 9,
   "metadata": {},
   "outputs": [
    {
     "data": {
      "application/vnd.plotly.v1+json": {
       "config": {
        "plotlyServerURL": "https://plot.ly"
       },
       "data": [
        {
         "marker": {
          "size": 5
         },
         "mode": "markers",
         "type": "scatter3d",
         "x": [
          -34.615083475069824,
          -42.62527444429218,
          -70.2018425502922,
          -41.991082091500566,
          49.1312183586915,
          71.2485641793149,
          44.399196077584804,
          2.1441719361115927,
          39.88818285623129,
          94.53506619921734,
          52.551805116884516,
          -42.28680901671952,
          20.126818387587083,
          -60.30551961095268,
          61.84752164825398,
          73.16608642455739,
          10.058936423892492,
          83.70057866888018,
          -77.76314705238809,
          -114.24582985998246,
          25.51609096953531,
          -14.370817445464526,
          -17.051187094731514,
          83.7278155805599,
          2.1441719361115927,
          -15.40171367986696,
          -16.610741012149575,
          -4.102098883023489,
          -58.528398403564985,
          -27.956766924874035,
          -27.956766924874035,
          -32.414768449808335,
          -12.963302900350016,
          52.17027862739039,
          43.857565483700746,
          68.89506868118866,
          -80.02908995384013,
          82.0514184322431,
          -38.07020053660179,
          2.8035623695440184,
          -68.42671913925855,
          9.625979093271075,
          -58.0237034660641,
          -12.933522544153886,
          -97.36301237396516,
          -14.370817445464526,
          5.368869142666353,
          22.53524720370573,
          -51.59445387005173,
          -58.0237034660641,
          -77.76314705238809,
          36.19679720416567,
          1.2320678059868264,
          27.997029258268245,
          52.82778767349757,
          35.30316099889717,
          -22.976259391614157,
          -40.428310360102635,
          -50.78290288789365,
          9.625979093271075,
          87.92916473687885,
          -27.821961222746868,
          61.84752164825398,
          8.28599978691051,
          -69.48284714755526,
          -77.76314705238809,
          36.92121533751832,
          13.795280086921192,
          -18.852046413130893,
          29.912197319247532,
          -48.73822927705372,
          -11.53001074752438,
          -79.99713530296356,
          -75.5860814627614,
          71.2485641793149,
          39.25712717565223,
          53.39685303063527,
          84.3346253719609,
          58.29223013211429,
          58.29223013211429,
          27.062456462281656,
          2.8035623695440184,
          82.0514184322431,
          -61.162537037320234,
          37.55119223942871,
          -7.747413142869647,
          45.604351327822016,
          37.55119223942871,
          0.5615922549684781,
          -50.78290288789365,
          162.82371313406816,
          -58.0237034660641,
          47.254591514338756,
          45.025674202703065,
          -79.99713530296356,
          2.8035623695440184,
          8.28599978691051,
          63.17749527944216,
          42.41674889461055,
          -13.493714900664033,
          -45.14173386865653,
          -27.821961222746868,
          35.30316099889717,
          52.17027862739039,
          -1.963345312832927,
          8.897742212178574,
          65.34142629235734,
          39.88818285623129,
          -10.30096237751297,
          8.28599978691051,
          -97.36301237396516,
          -15.40171367986696,
          53.39685303063527,
          11.993154126391492,
          -97.36301237396516,
          14.804539387601372,
          -16.610741012149575,
          -0.8401791303784233,
          -32.414768449808335,
          -60.30551961095268,
          39.25712717565223,
          65.34142629235734,
          27.997029258268245,
          107.05091250885917,
          45.025674202703065,
          -48.998574566195984,
          -16.675677980696918,
          -18.852046413130893,
          36.19679720416567,
          -7.95269477120488,
          -22.116359644246103,
          -40.428310360102635,
          37.55119223942871,
          44.399196077584804,
          -22.116359644246103,
          -22.976259391614157,
          13.21366812674926,
          45.604351327822016,
          52.17027862739039,
          -7.95269477120488,
          25.540223095849388,
          36.92121533751832,
          21.392523242037832,
          -27.821961222746868,
          13.795280086921192,
          9.625979093271075,
          25.51609096953531,
          -68.42671913925855,
          63.02703420909165,
          2.288357720077658,
          39.25712717565223,
          31.471319182794186,
          76.95893412208788,
          21.85586704565183,
          -39.518814398782006,
          25.540223095849388,
          10.058936423892492,
          7.206241688565262,
          2.288357720077658,
          -1.963345312832927,
          0.6416443111325405,
          17.92078276275038,
          -45.14173386865653,
          87.92916473687885,
          14.804539387601372,
          -67.22513139861104,
          42.41674889461055,
          -41.787256581012954,
          -10.30096237751297,
          -17.01279639967831,
          -18.56457746790232,
          94.53506619921734,
          107.05091250885917,
          37.33434298790824,
          -7.95269477120488,
          -26.45972366686368,
          -22.116359644246103,
          -7.767499279445375,
          25.540223095849388,
          34.751800929617374,
          58.29223013211429,
          0.5615922549684781,
          73.16608642455739,
          16.736338350440672,
          -80.02908995384013,
          84.3346253719609,
          30.883140769898,
          -79.99713530296356,
          -58.528398403564985,
          -38.07020053660179,
          10.058936423892492,
          -13.493714900664033,
          -14.370817445464526,
          2.8035623695440184,
          31.471319182794186,
          76.95893412208788,
          43.857565483700746,
          73.16608642455739,
          63.02703420909165,
          58.752925944535384,
          0.6416443111325405,
          -4.516632128598397,
          -32.414768449808335,
          -19.11096802661399,
          5.368869142666353,
          -16.73659060267117,
          37.33434298790824,
          -0.8401791303784233,
          47.254591514338756,
          29.912197319247532,
          44.399196077584804,
          -17.192144514039363,
          161.85704315856142,
          -15.40171367986696,
          -19.11096802661399,
          -4.516632128598397,
          9.042602397707592,
          27.997029258268245,
          42.41674889461055,
          -18.56457746790232,
          45.025674202703065,
          -17.051187094731514,
          -29.706446384924984,
          58.752925944535384,
          161.85704315856142,
          52.551805116884516,
          1.2320678059868264,
          35.30316099889717,
          -75.5860814627614,
          8.897742212178574,
          63.17749527944216,
          107.05091250885917,
          30.883140769898,
          -12.963302900350016,
          -4.516632128598397,
          13.795280086921192,
          45.604351327822016,
          83.70057866888018,
          -69.48284714755526,
          42.44932973815891,
          -40.428310360102635,
          -58.528398403564985,
          -39.518814398782006,
          -58.528398403564985,
          -41.991082091500566,
          -68.42671913925855,
          -41.991082091500566,
          -17.01279639967831,
          -80.02908995384013,
          13.01281597159127,
          -48.73822927705372,
          2.1441719361115927,
          13.21366812674926,
          -41.787256581012954,
          -18.56457746790232,
          76.95893412208788,
          9.042602397707592,
          39.88818285623129,
          94.53506619921734,
          -13.493714900664033,
          7.97620006589138,
          -68.42671913925855,
          -7.95269477120488,
          42.44932973815891,
          -61.162537037320234,
          36.92121533751832,
          42.44932973815891,
          11.993154126391492,
          76.95893412208788,
          -26.45972366686368,
          -69.48284714755526,
          107.05091250885917,
          63.17749527944216,
          -67.22513139861104,
          61.84752164825398,
          39.88818285623129,
          21.85586704565183,
          25.51609096953531,
          21.85586704565183,
          -32.627457418909614,
          -41.991082091500566,
          37.33434298790824,
          17.92078276275038,
          65.34142629235734,
          -34.18660219114867,
          68.89506868118866,
          -32.627457418909614,
          83.70057866888018,
          94.53506619921734,
          -40.796035825583346,
          -18.852046413130893,
          -27.956766924874035,
          58.752925944535384,
          1.2320678059868264,
          29.912197319247532,
          9.625979093271075,
          49.1312183586915,
          -11.53001074752438,
          9.042602397707592,
          -22.116359644246103,
          -16.675677980696918,
          36.320695213005706,
          16.736338350440672,
          -78.89680624929379,
          -34.615083475069994,
          5.368869142666353,
          36.320695213005706,
          162.82371313406816,
          -1.963345312832927,
          -4.516632128598397,
          21.392523242037832,
          37.55119223942871,
          -10.30096237751297,
          63.17749527944216,
          -78.89680624929379,
          71.2485641793149,
          14.804539387601372,
          2.288357720077658,
          83.7278155805599,
          -34.615083475069994,
          84.3346253719609,
          -13.493714900664033,
          7.206241688565262,
          8.28599978691051,
          30.883140769898,
          82.0514184322431,
          -67.22513139861104,
          -69.48284714755526,
          -60.30551961095268,
          161.85704315856142,
          -42.28680901671952,
          53.39685303063527,
          45.604351327822016,
          -42.62527444429218,
          -28.120937954251318,
          34.751800929617374,
          -32.414768449808335,
          -34.18660219114867,
          34.751800929617374,
          -48.998574566195984,
          -29.706446384924984,
          -17.051187094731514,
          16.736338350440672,
          -48.998574566195984,
          -40.796035825583346,
          10.058936423892492,
          89.48310406044149,
          13.01281597159127,
          27.062456462281656,
          65.34142629235734,
          -17.192144514039363,
          -42.28680901671952,
          -7.767499279445375,
          -16.73659060267117,
          53.39685303063527,
          8.535501950307273,
          84.3346253719609,
          89.48310406044149,
          -16.610741012149575,
          0.5615922549684781,
          83.7278155805599,
          31.471319182794186,
          -58.0237034660641,
          87.92916473687885,
          87.92916473687885,
          -51.59445387005173,
          -0.8401791303784233,
          -19.11096802661399,
          61.84752164825398,
          36.19679720416567,
          -41.787256581012954,
          -77.76314705238809,
          -26.45972366686368,
          44.399196077584804,
          7.97620006589138,
          52.551805116884516,
          49.1312183586915,
          35.30316099889717,
          -7.747413142869647,
          -7.747413142869647,
          -51.59445387005173,
          -11.53001074752438,
          -19.11096802661399,
          43.857565483700746,
          -16.73659060267117,
          -48.73822927705372,
          -17.192144514039363,
          31.471319182794186,
          -79.99713530296356,
          14.804539387601372,
          22.53524720370573,
          -42.62527444429218,
          -18.852046413130893,
          -38.07020053660179,
          22.53524720370573,
          7.206241688565262,
          -78.89680624929379,
          -17.051187094731514,
          20.126818387587083,
          -27.956766924874035,
          68.89506868118866,
          -97.36301237396516,
          -70.2018425502922,
          -17.01279639967831,
          28.867178312707075,
          47.254591514338756,
          -61.162537037320234,
          -78.89680624929379,
          8.535501950307273,
          37.33434298790824,
          8.535501950307273,
          -16.73659060267117,
          36.320695213005706,
          52.82778767349757,
          -17.192144514039363,
          89.48310406044149,
          43.857565483700746,
          -34.615083475069994,
          28.867178312707075,
          28.867178312707075,
          -39.518814398782006,
          -38.07020053660179,
          -57.9613421180017,
          -12.963302900350016,
          -114.24582985998246,
          27.062456462281656,
          -70.2018425502922,
          45.025674202703065,
          13.795280086921192,
          13.01281597159127,
          161.85704315856142,
          -40.796035825583346,
          -7.747413142869647,
          -42.28680901671952,
          52.82778767349757,
          17.92078276275038,
          -11.53001074752438,
          22.53524720370573,
          -27.821961222746868,
          0.5615922549684781,
          21.392523242037832,
          -45.14173386865653,
          -12.933522544153886,
          73.16608642455739,
          -48.998574566195984,
          -34.18660219114867,
          2.1441719361115927,
          8.897742212178574,
          -41.787256581012954,
          -16.675677980696918,
          -28.120937954251318,
          -26.45972366686368,
          83.7278155805599,
          -114.24582985998246,
          -40.428310360102635,
          20.126818387587083,
          -39.518814398782006,
          8.897742212178574,
          -22.976259391614157,
          -16.675677980696918,
          89.48310406044149,
          -4.102098883023489,
          -15.40171367986696,
          -70.2018425502922,
          42.41674889461055,
          17.92078276275038,
          -12.933522544153886,
          -4.102098883023489,
          13.21366812674926,
          -42.62527444429218,
          -28.120937954251318,
          21.85586704565183,
          -50.78290288789365,
          63.02703420909165,
          -28.120937954251318,
          83.70057866888018,
          -12.963302900350016,
          47.254591514338756,
          -16.610741012149575,
          0.6416443111325405,
          -7.767499279445375,
          162.82371313406816,
          -57.9613421180017,
          68.89506868118866,
          7.97620006589138,
          -32.627457418909614,
          -34.18660219114867,
          -40.796035825583346,
          -22.976259391614157,
          52.82778767349757,
          -18.56457746790232,
          71.2485641793149,
          -29.706446384924984,
          36.320695213005706,
          36.19679720416567,
          -75.5860814627614,
          11.993154126391492,
          27.997029258268245,
          -57.9613421180017
         ],
         "y": [
          -18.626603467291645,
          -4.158630280682602,
          29.367477385115347,
          -8.03631742693507,
          42.96547292245614,
          6.34770253958179,
          5.481844606265268,
          2.4672084931086546,
          30.62840283087893,
          8.541710169324043,
          25.478964965474997,
          -6.416900874772968,
          38.13828216182861,
          -2.5285451116081283,
          3.8162942721554383,
          -3.6892507167662982,
          6.845079886193497,
          33.69970672756936,
          4.192578668359527,
          36.67620870027171,
          40.96819710263443,
          2.5618862746729945,
          -0.31689802917301757,
          -20.621132022640165,
          2.4672084931086546,
          -9.11647130887308,
          -10.503254193753133,
          26.882832210193282,
          9.465614599836456,
          39.00955417875636,
          39.00955417875636,
          3.8994651585342703,
          -11.912540685595673,
          21.843306439577137,
          -6.732484075535055,
          20.116018159835647,
          9.978505765616655,
          11.048180174424303,
          13.77009224865671,
          4.67585035099981,
          -9.38349854570946,
          -2.3771250229099206,
          8.791486182003458,
          -13.362984497580804,
          22.987083588561376,
          2.5618862746729945,
          10.311445652716605,
          -9.10528890964822,
          12.787235811647799,
          8.791486182003458,
          4.192578668359527,
          51.20208939244305,
          -8.742867476575066,
          26.650199640337934,
          -24.621976910356548,
          44.66645184815432,
          -31.489839440531956,
          39.39846166600415,
          -29.774642074647403,
          -2.3771250229099206,
          2.421936079750867,
          15.849838394592739,
          3.8162942721554383,
          3.257939278833293,
          27.33015156752063,
          4.192578668359527,
          8.245476530508835,
          8.814180192727346,
          7.530659327020172,
          61.405460138713245,
          14.93417348400478,
          5.701036727364458,
          32.07903575905491,
          -11.053714114101117,
          6.34770253958179,
          -40.87617125734405,
          -22.752107403317897,
          16.068789459002126,
          -10.690582561295468,
          -10.690582561295468,
          -19.03136381307573,
          4.67585035099981,
          11.048180174424303,
          45.149082522588735,
          44.44103274380949,
          20.975970944392575,
          20.92188067277985,
          44.44103274380949,
          52.803201576187575,
          -29.774642074647403,
          -4.4498390396189675,
          8.791486182003458,
          -19.938039628060782,
          26.856456952567456,
          32.07903575905491,
          4.67585035099981,
          3.257939278833293,
          17.281866409735166,
          43.953971100082065,
          -8.519888286820851,
          24.105408540716876,
          15.849838394592739,
          44.66645184815432,
          21.843306439577137,
          21.59440175769375,
          23.661748164554368,
          26.182749352137073,
          30.62840283087893,
          -23.845080562624414,
          3.257939278833293,
          22.987083588561376,
          -9.11647130887308,
          -22.752107403317897,
          8.121022186506567,
          22.987083588561376,
          7.347401275345716,
          -10.503254193753133,
          -1.8334002349446854,
          3.8994651585342703,
          -2.5285451116081283,
          -40.87617125734405,
          26.182749352137073,
          26.650199640337934,
          14.236855399564964,
          26.856456952567456,
          15.58102215549646,
          -35.69316371199925,
          7.530659327020172,
          51.20208939244305,
          78.00818451734274,
          -22.16937237186782,
          39.39846166600415,
          44.44103274380949,
          5.481844606265268,
          -22.16937237186782,
          -31.489839440531956,
          18.795926396448777,
          20.92188067277985,
          21.843306439577137,
          78.00818451734274,
          38.941166042702946,
          8.245476530508835,
          48.97648840668737,
          15.849838394592739,
          8.814180192727346,
          -2.3771250229099206,
          40.96819710263443,
          -9.38349854570946,
          -0.2579819782446515,
          32.98112764850373,
          -40.87617125734405,
          37.64626729786676,
          40.050542477068994,
          -20.53366710257915,
          18.680864672066587,
          38.941166042702946,
          6.845079886193497,
          5.69416630994189,
          32.98112764850373,
          21.59440175769375,
          4.037683641416321,
          51.83225148237676,
          24.105408540716876,
          2.421936079750867,
          7.347401275345716,
          63.28069454272942,
          43.953971100082065,
          -10.59895527625409,
          -23.845080562624414,
          -16.191095939736034,
          -21.04169702742795,
          8.541710169324043,
          14.236855399564964,
          -11.98382795724789,
          78.00818451734274,
          45.82651893200418,
          -22.16937237186782,
          6.140787450688366,
          38.941166042702946,
          -11.549328963791071,
          -10.690582561295468,
          52.803201576187575,
          -3.6892507167662982,
          12.803632745217028,
          9.978505765616655,
          16.068789459002126,
          4.9138407433700575,
          32.07903575905491,
          9.465614599836456,
          13.77009224865671,
          6.845079886193497,
          -8.519888286820851,
          2.5618862746729945,
          4.67585035099981,
          37.64626729786676,
          40.050542477068994,
          -6.732484075535055,
          -3.6892507167662982,
          -0.2579819782446515,
          4.764307968267755,
          4.037683641416321,
          -6.112145708098876,
          3.8994651585342703,
          38.39574563674291,
          10.311445652716605,
          21.42068258217435,
          -11.98382795724789,
          -1.8334002349446854,
          -19.938039628060782,
          61.405460138713245,
          5.481844606265268,
          -12.374598859910684,
          -5.694329410698618,
          -9.11647130887308,
          38.39574563674291,
          -6.112145708098876,
          6.142895653843723,
          26.650199640337934,
          43.953971100082065,
          -21.04169702742795,
          26.856456952567456,
          -0.31689802917301757,
          18.89502547007514,
          4.764307968267755,
          -5.694329410698618,
          25.478964965474997,
          -8.742867476575066,
          44.66645184815432,
          -11.053714114101117,
          23.661748164554368,
          17.281866409735166,
          14.236855399564964,
          4.9138407433700575,
          -11.912540685595673,
          -6.112145708098876,
          8.814180192727346,
          20.92188067277985,
          33.69970672756936,
          27.33015156752063,
          -8.425224108761963,
          39.39846166600415,
          9.465614599836456,
          18.680864672066587,
          9.465614599836456,
          -8.03631742693507,
          -9.38349854570946,
          -8.03631742693507,
          -16.191095939736034,
          9.978505765616655,
          -5.439132045936038,
          14.93417348400478,
          2.4672084931086546,
          18.795926396448777,
          -10.59895527625409,
          -21.04169702742795,
          40.050542477068994,
          6.142895653843723,
          30.62840283087893,
          8.541710169324043,
          -8.519888286820851,
          -12.16224634268859,
          -9.38349854570946,
          78.00818451734274,
          -8.425224108761963,
          45.149082522588735,
          8.245476530508835,
          -8.425224108761963,
          8.121022186506567,
          40.050542477068994,
          45.82651893200418,
          27.33015156752063,
          14.236855399564964,
          17.281866409735166,
          63.28069454272942,
          3.8162942721554383,
          30.62840283087893,
          -20.53366710257915,
          40.96819710263443,
          -20.53366710257915,
          20.48460665355689,
          -8.03631742693507,
          -11.98382795724789,
          51.83225148237676,
          26.182749352137073,
          17.985189053540953,
          20.116018159835647,
          20.48460665355689,
          33.69970672756936,
          8.541710169324043,
          19.600573186422398,
          7.530659327020172,
          39.00955417875636,
          4.764307968267755,
          -8.742867476575066,
          61.405460138713245,
          -2.3771250229099206,
          42.96547292245614,
          5.701036727364458,
          6.142895653843723,
          -22.16937237186782,
          -35.69316371199925,
          -22.923534080873598,
          12.803632745217028,
          27.41476020026511,
          -18.6266034672917,
          10.311445652716605,
          -22.923534080873598,
          -4.4498390396189675,
          21.59440175769375,
          -6.112145708098876,
          48.97648840668737,
          44.44103274380949,
          -23.845080562624414,
          17.281866409735166,
          27.41476020026511,
          6.34770253958179,
          7.347401275345716,
          32.98112764850373,
          -20.621132022640165,
          -18.6266034672917,
          16.068789459002126,
          -8.519888286820851,
          5.69416630994189,
          3.257939278833293,
          4.9138407433700575,
          11.048180174424303,
          63.28069454272942,
          27.33015156752063,
          -2.5285451116081283,
          -5.694329410698618,
          -6.416900874772968,
          -22.752107403317897,
          20.92188067277985,
          -4.158630280682683,
          5.765390973142854,
          -11.549328963791071,
          3.8994651585342703,
          17.985189053540953,
          -11.549328963791071,
          15.58102215549646,
          18.89502547007514,
          -0.31689802917301757,
          12.803632745217028,
          15.58102215549646,
          19.600573186422398,
          6.845079886193497,
          -8.616690027732439,
          -5.439132045936038,
          -19.03136381307573,
          26.182749352137073,
          -12.374598859910684,
          -6.416900874772968,
          6.140787450688366,
          21.42068258217435,
          -22.752107403317897,
          -12.614950961681098,
          16.068789459002126,
          -8.616690027732439,
          -10.503254193753133,
          52.803201576187575,
          -20.621132022640165,
          37.64626729786676,
          8.791486182003458,
          2.421936079750867,
          2.421936079750867,
          12.787235811647799,
          -1.8334002349446854,
          38.39574563674291,
          3.8162942721554383,
          51.20208939244305,
          -10.59895527625409,
          4.192578668359527,
          45.82651893200418,
          5.481844606265268,
          -12.16224634268859,
          25.478964965474997,
          42.96547292245614,
          44.66645184815432,
          20.975970944392575,
          20.975970944392575,
          12.787235811647799,
          5.701036727364458,
          38.39574563674291,
          -6.732484075535055,
          21.42068258217435,
          14.93417348400478,
          -12.374598859910684,
          37.64626729786676,
          32.07903575905491,
          7.347401275345716,
          -9.10528890964822,
          -4.158630280682683,
          7.530659327020172,
          13.77009224865671,
          -9.10528890964822,
          5.69416630994189,
          27.41476020026511,
          -0.31689802917301757,
          38.13828216182861,
          39.00955417875636,
          20.116018159835647,
          22.987083588561376,
          29.36747738511534,
          -16.191095939736034,
          26.104400071808712,
          -19.938039628060782,
          45.149082522588735,
          27.41476020026511,
          -12.614950961681098,
          -11.98382795724789,
          -12.614950961681098,
          21.42068258217435,
          -22.923534080873598,
          -24.621976910356548,
          -12.374598859910684,
          -8.616690027732439,
          -6.732484075535055,
          -18.6266034672917,
          26.104400071808712,
          26.104400071808712,
          18.680864672066587,
          13.77009224865671,
          35.82058784232537,
          -11.912540685595673,
          36.67620870027171,
          -19.03136381307573,
          29.36747738511534,
          26.856456952567456,
          8.814180192727346,
          -5.439132045936038,
          -5.694329410698618,
          19.600573186422398,
          20.975970944392575,
          -6.416900874772968,
          -24.621976910356548,
          51.83225148237676,
          5.701036727364458,
          -9.10528890964822,
          15.849838394592739,
          52.803201576187575,
          48.97648840668737,
          24.105408540716876,
          -13.362984497580804,
          -3.6892507167662982,
          15.58102215549646,
          17.985189053540953,
          2.4672084931086546,
          23.661748164554368,
          -10.59895527625409,
          -35.69316371199925,
          5.765390973142854,
          45.82651893200418,
          -20.621132022640165,
          36.67620870027171,
          39.39846166600415,
          38.13828216182861,
          18.680864672066587,
          23.661748164554368,
          -31.489839440531956,
          -35.69316371199925,
          -8.616690027732439,
          26.882832210193282,
          -9.11647130887308,
          29.36747738511534,
          43.953971100082065,
          51.83225148237676,
          -13.362984497580804,
          26.882832210193282,
          18.795926396448777,
          -4.158630280682683,
          5.765390973142854,
          -20.53366710257915,
          -29.774642074647403,
          -0.2579819782446515,
          5.765390973142854,
          33.69970672756936,
          -11.912540685595673,
          -19.938039628060782,
          -10.503254193753133,
          4.037683641416321,
          6.140787450688366,
          -4.4498390396189675,
          35.82058784232537,
          20.116018159835647,
          -12.16224634268859,
          20.48460665355689,
          17.985189053540953,
          19.600573186422398,
          -31.489839440531956,
          -24.621976910356548,
          -21.04169702742795,
          6.34770253958179,
          18.89502547007514,
          -22.923534080873598,
          51.20208939244305,
          -11.053714114101117,
          8.121022186506567,
          26.650199640337934,
          35.82058784232537
         ],
         "z": [
          -2.9617134392539586,
          11.00332671249162,
          16.306859511181116,
          20.511713822023435,
          0.014900556519176279,
          -21.641246707674643,
          25.298904959853058,
          -13.227098720685719,
          -15.226554711024752,
          -7.484807598209624,
          2.1505845227692353,
          -0.9080750493497449,
          -12.984190150759005,
          12.8389588864935,
          10.45267700382858,
          1.2440217327047298,
          -2.68780187158902,
          39.93441617298594,
          -9.250137857859805,
          1.0536725180142412,
          24.663721780615127,
          17.61630752684265,
          -2.2358662302594747,
          -3.0189351745949424,
          -13.227098720685719,
          49.82038844319056,
          -11.640764394931066,
          5.970143565249206,
          -10.148037284189948,
          5.718066681900224,
          5.718066681900224,
          23.549267019315824,
          24.72092459257421,
          -34.95892154337358,
          37.24031967170017,
          -3.531428987552775,
          32.82957606967082,
          33.17585430282051,
          9.928310712391617,
          -7.026130953371532,
          13.8617192817027,
          -2.835785534089758,
          11.915686781893854,
          9.902922715971208,
          -11.49900958551819,
          17.61630752684265,
          41.45872904220712,
          9.278451547682597,
          15.839174800505486,
          11.915686781893854,
          -9.250137857859805,
          -16.470655550984738,
          -19.07611389424005,
          -27.152413032197117,
          7.641286884126564,
          -17.358378848677106,
          22.924318415706576,
          -23.73838451037344,
          -16.977160295986796,
          -2.835785534089758,
          -26.29149324887068,
          -5.109344094447339,
          10.45267700382858,
          -1.1537462317087481,
          -12.425665554817549,
          -9.250137857859805,
          11.228995230292387,
          -12.315684974166523,
          39.02782370154815,
          12.225735588192359,
          -5.28427490721646,
          3.392379784247962,
          -22.784544630444746,
          -18.124606165279786,
          -21.641246707674643,
          62.459394428982414,
          -6.513155667984615,
          -6.782907824514957,
          -5.301422588389713,
          -5.301422588389713,
          -7.94388599492348,
          -7.026130953371532,
          33.17585430282051,
          -0.9801978791802528,
          -8.380745726190877,
          -23.480402926801624,
          63.582884281499105,
          -8.380745726190877,
          -16.02564229649107,
          -16.977160295986796,
          -5.922534108183227,
          11.915686781893854,
          8.778791836067361,
          28.189577611911435,
          -22.784544630444746,
          -7.026130953371532,
          -1.1537462317087481,
          -10.590127194093743,
          22.938698854032562,
          -29.29796339404552,
          11.516989028752402,
          -5.109344094447339,
          -17.358378848677106,
          -34.95892154337358,
          15.39451472388713,
          1.8445092115279897,
          0.58729787925485,
          -15.226554711024752,
          1.9837174686955967,
          -1.1537462317087481,
          -11.49900958551819,
          49.82038844319056,
          -6.513155667984615,
          -7.309830820043973,
          -11.49900958551819,
          -8.860219662007532,
          -11.640764394931066,
          19.693424587151046,
          23.549267019315824,
          12.8389588864935,
          62.459394428982414,
          0.58729787925485,
          -27.152413032197117,
          -7.056607178687867,
          28.189577611911435,
          -13.460061605189484,
          -9.087332588606749,
          39.02782370154815,
          -16.470655550984738,
          -17.931229970906845,
          4.638390859556192,
          -23.73838451037344,
          -8.380745726190877,
          25.298904959853058,
          4.638390859556192,
          22.924318415706576,
          -5.860216686556787,
          63.582884281499105,
          -34.95892154337358,
          -17.931229970906845,
          13.104567949739643,
          11.228995230292387,
          -17.059206172718323,
          -5.109344094447339,
          -12.315684974166523,
          -2.835785534089758,
          24.663721780615127,
          13.8617192817027,
          5.482243967954728,
          26.21899856735942,
          62.459394428982414,
          12.774627583266936,
          -7.991224338433399,
          -21.185566648527505,
          -0.634694730629394,
          13.104567949739643,
          -2.68780187158902,
          -1.814771568217434,
          26.21899856735942,
          15.39451472388713,
          -1.7794259940115498,
          -7.221682897091263,
          11.516989028752402,
          -26.29149324887068,
          -8.860219662007532,
          29.677228430340058,
          22.938698854032562,
          6.560778693771895,
          1.9837174686955967,
          -16.250337246626753,
          -19.12802647102326,
          -7.484807598209624,
          -7.056607178687867,
          -11.783278087715429,
          -17.931229970906845,
          11.262957843320613,
          4.638390859556192,
          -21.107655625816754,
          13.104567949739643,
          -9.143410624217852,
          -5.301422588389713,
          -16.02564229649107,
          1.2440217327047298,
          -25.282202118394558,
          32.82957606967082,
          -6.782907824514957,
          47.986335894156234,
          -22.784544630444746,
          -10.148037284189948,
          9.928310712391617,
          -2.68780187158902,
          -29.29796339404552,
          17.61630752684265,
          -7.026130953371532,
          12.774627583266936,
          -7.991224338433399,
          37.24031967170017,
          1.2440217327047298,
          5.482243967954728,
          -5.912690180009337,
          -1.7794259940115498,
          -23.722682249261034,
          23.549267019315824,
          16.708076704049898,
          41.45872904220712,
          -11.130462791000161,
          -11.783278087715429,
          19.693424587151046,
          8.778791836067361,
          12.225735588192359,
          25.298904959853058,
          -17.59789008051217,
          11.281371828168295,
          49.82038844319056,
          16.708076704049898,
          -23.722682249261034,
          9.365753587561638,
          -27.152413032197117,
          22.938698854032562,
          -19.12802647102326,
          28.189577611911435,
          -2.2358662302594747,
          -3.489691459162907,
          -5.912690180009337,
          11.281371828168295,
          2.1505845227692353,
          -19.07611389424005,
          -17.358378848677106,
          -18.124606165279786,
          1.8445092115279897,
          -10.590127194093743,
          -7.056607178687867,
          47.986335894156234,
          24.72092459257421,
          -23.722682249261034,
          -12.315684974166523,
          63.582884281499105,
          39.93441617298594,
          -12.425665554817549,
          -22.53240234750357,
          -23.73838451037344,
          -10.148037284189948,
          -0.634694730629394,
          -10.148037284189948,
          20.511713822023435,
          13.8617192817027,
          20.511713822023435,
          -16.250337246626753,
          32.82957606967082,
          19.0567129696029,
          -5.28427490721646,
          -13.227098720685719,
          -5.860216686556787,
          6.560778693771895,
          -19.12802647102326,
          -7.991224338433399,
          9.365753587561638,
          -15.226554711024752,
          -7.484807598209624,
          -29.29796339404552,
          -3.823498892774441,
          13.8617192817027,
          -17.931229970906845,
          -22.53240234750357,
          -0.9801978791802528,
          11.228995230292387,
          -22.53240234750357,
          -7.309830820043973,
          -7.991224338433399,
          11.262957843320613,
          -12.425665554817549,
          -7.056607178687867,
          -10.590127194093743,
          29.677228430340058,
          10.45267700382858,
          -15.226554711024752,
          -21.185566648527505,
          24.663721780615127,
          -21.185566648527505,
          14.31549739619511,
          20.511713822023435,
          -11.783278087715429,
          -7.221682897091263,
          0.58729787925485,
          -17.94062032321063,
          -3.531428987552775,
          14.31549739619511,
          39.93441617298594,
          -7.484807598209624,
          -3.4155386805884103,
          39.02782370154815,
          5.718066681900224,
          -5.912690180009337,
          -19.07611389424005,
          12.225735588192359,
          -2.835785534089758,
          0.014900556519176279,
          3.392379784247962,
          9.365753587561638,
          4.638390859556192,
          -9.087332588606749,
          8.475403659638495,
          -25.282202118394558,
          8.711764106089193,
          -2.961713439254061,
          41.45872904220712,
          8.475403659638495,
          -5.922534108183227,
          15.39451472388713,
          -23.722682249261034,
          -17.059206172718323,
          -8.380745726190877,
          1.9837174686955967,
          -10.590127194093743,
          8.711764106089193,
          -21.641246707674643,
          -8.860219662007532,
          26.21899856735942,
          -3.0189351745949424,
          -2.961713439254061,
          -6.782907824514957,
          -29.29796339404552,
          -1.814771568217434,
          -1.1537462317087481,
          47.986335894156234,
          33.17585430282051,
          29.677228430340058,
          -12.425665554817549,
          12.8389588864935,
          11.281371828168295,
          -0.9080750493497449,
          -6.513155667984615,
          63.582884281499105,
          11.003326712491626,
          -14.937081897246491,
          -9.143410624217852,
          23.549267019315824,
          -17.94062032321063,
          -9.143410624217852,
          -13.460061605189484,
          -3.489691459162907,
          -2.2358662302594747,
          -25.282202118394558,
          -13.460061605189484,
          -3.4155386805884103,
          -2.68780187158902,
          5.742993818692959,
          19.0567129696029,
          -7.94388599492348,
          0.58729787925485,
          -17.59789008051217,
          -0.9080750493497449,
          -21.107655625816754,
          -11.130462791000161,
          -6.513155667984615,
          -3.052831422896669,
          -6.782907824514957,
          5.742993818692959,
          -11.640764394931066,
          -16.02564229649107,
          -3.0189351745949424,
          12.774627583266936,
          11.915686781893854,
          -26.29149324887068,
          -26.29149324887068,
          15.839174800505486,
          19.693424587151046,
          16.708076704049898,
          10.45267700382858,
          -16.470655550984738,
          6.560778693771895,
          -9.250137857859805,
          11.262957843320613,
          25.298904959853058,
          -3.823498892774441,
          2.1505845227692353,
          0.014900556519176279,
          -17.358378848677106,
          -23.480402926801624,
          -23.480402926801624,
          15.839174800505486,
          3.392379784247962,
          16.708076704049898,
          37.24031967170017,
          -11.130462791000161,
          -5.28427490721646,
          -17.59789008051217,
          12.774627583266936,
          -22.784544630444746,
          -8.860219662007532,
          9.278451547682597,
          11.003326712491626,
          39.02782370154815,
          9.928310712391617,
          9.278451547682597,
          -1.814771568217434,
          8.711764106089193,
          -2.2358662302594747,
          -12.984190150759005,
          5.718066681900224,
          -3.531428987552775,
          -11.49900958551819,
          16.30685951118117,
          -16.250337246626753,
          24.457433862553604,
          8.778791836067361,
          -0.9801978791802528,
          8.711764106089193,
          -3.052831422896669,
          -11.783278087715429,
          -3.052831422896669,
          -11.130462791000161,
          8.475403659638495,
          7.641286884126564,
          -17.59789008051217,
          5.742993818692959,
          37.24031967170017,
          -2.961713439254061,
          24.457433862553604,
          24.457433862553604,
          -0.634694730629394,
          9.928310712391617,
          -12.38799133389285,
          24.72092459257421,
          1.0536725180142412,
          -7.94388599492348,
          16.30685951118117,
          28.189577611911435,
          -12.315684974166523,
          19.0567129696029,
          11.281371828168295,
          -3.4155386805884103,
          -23.480402926801624,
          -0.9080750493497449,
          7.641286884126564,
          -7.221682897091263,
          3.392379784247962,
          9.278451547682597,
          -5.109344094447339,
          -16.02564229649107,
          -17.059206172718323,
          11.516989028752402,
          9.902922715971208,
          1.2440217327047298,
          -13.460061605189484,
          -17.94062032321063,
          -13.227098720685719,
          1.8445092115279897,
          6.560778693771895,
          -9.087332588606749,
          -14.937081897246491,
          11.262957843320613,
          -3.0189351745949424,
          1.0536725180142412,
          -23.73838451037344,
          -12.984190150759005,
          -0.634694730629394,
          1.8445092115279897,
          22.924318415706576,
          -9.087332588606749,
          5.742993818692959,
          5.970143565249206,
          49.82038844319056,
          16.30685951118117,
          22.938698854032562,
          -7.221682897091263,
          9.902922715971208,
          5.970143565249206,
          -5.860216686556787,
          11.003326712491626,
          -14.937081897246491,
          -21.185566648527505,
          -16.977160295986796,
          5.482243967954728,
          -14.937081897246491,
          39.93441617298594,
          24.72092459257421,
          8.778791836067361,
          -11.640764394931066,
          -1.7794259940115498,
          -21.107655625816754,
          -5.922534108183227,
          -12.38799133389285,
          -3.531428987552775,
          -3.823498892774441,
          14.31549739619511,
          -17.94062032321063,
          -3.4155386805884103,
          22.924318415706576,
          7.641286884126564,
          -19.12802647102326,
          -21.641246707674643,
          -3.489691459162907,
          8.475403659638495,
          -16.470655550984738,
          -18.124606165279786,
          -7.309830820043973,
          -27.152413032197117,
          -12.387991333892849
         ]
        },
        {
         "marker": {
          "size": 5
         },
         "mode": "markers",
         "type": "scatter3d",
         "x": [
          0.9531253289445383,
          -96.74642846091076,
          -38.034690414992795,
          -38.034690414992795,
          62.24091379330992,
          -2.9349765431500208,
          -34.588564752320806,
          -23.605683746396117,
          -39.654316908055144,
          6.182335582751377,
          -38.34301051569895,
          -13.901626825945607,
          -2.9349765431500208,
          -50.402990756885885,
          -33.06224173993792,
          24.988044605621383,
          17.79211170811384,
          115.56472114547444,
          11.406232171860902,
          95.59618072236724,
          -20.455884626425203,
          -43.05477140149567,
          33.07574998525781,
          37.79474690579068,
          -71.53494785004041,
          -53.57930274202691,
          -1.7756191630707043,
          -43.771688374553904,
          33.07574998525781,
          -32.94062828961854,
          -43.771688374553904,
          -49.07491672170531,
          -32.51894368636329,
          10.887576184217558,
          7.9742879843035555,
          -45.00947727623229,
          -45.00947727623229,
          -71.53494785004041,
          -32.51894368636329,
          -27.24356306564034,
          -34.588564752320806,
          19.511219819445138,
          -37.18343230409486,
          -37.66300990528632,
          -10.086348840947085,
          56.6649731785796,
          -47.136463276628845,
          -34.09942174167341,
          -119.05833601488715,
          61.5730945838542,
          10.887576184217558,
          -61.22377992606683,
          -18.96695131643064,
          -43.771688374553904,
          47.623174929966076,
          61.5730945838542,
          171.36592249893616,
          -5.157516677598486,
          55.747603405168135,
          -49.07491672170531,
          -23.010757972028014,
          -53.34934504995346,
          -5.157516677598486,
          9.756723340896487,
          -43.05477140149567,
          -50.402990756885885,
          61.5730945838542,
          95.59618072236724,
          81.55188329324663,
          10.887576184217558,
          -12.657738657681074,
          -65.72691829722088,
          -43.103978906806724,
          48.063872995006214,
          52.39080466744673,
          74.15695326702115,
          11.406232171860902,
          61.5730945838542,
          -47.47976312386033,
          11.406232171860902,
          316.8460087330981,
          -90.39686927327526,
          -25.57575811254538,
          107.09952454583168,
          68.11991229981525,
          -87.01998029689842,
          1.1359218580179473,
          -6.781702485242789,
          -49.81856067702197,
          -35.53674336399736,
          -66.46417011865636,
          61.00443851466998,
          2.0439165115770437,
          -25.157882280005563,
          316.8460087330981,
          -9.72048126478458,
          -32.94062828961854,
          12.255706736187632,
          70.44574347454494,
          -37.18343230409486,
          -65.72691829722088,
          52.39080466744673,
          -16.74857432470535,
          33.07574998525781,
          -2.0969660152294898,
          2.0439165115770437,
          -71.53494785004041,
          -7.702721686362427,
          68.11991229981525,
          61.00443851466998,
          19.344229252158396,
          -90.39686927327526,
          -35.53674336399736,
          -49.81856067702197,
          14.72654201612844,
          -13.297956102585006,
          -5.094848416242559,
          -41.681966048460566,
          -10.897935154225591,
          58.843931608035135,
          22.451943685659618,
          -16.74857432470535,
          41.7726298667477,
          -71.53494785004041,
          -1.703296189356011,
          -27.9950312903441,
          -26.302817350514232,
          -66.46417011865636,
          -87.01998029689842,
          148.2956566774274,
          -63.79979568588768,
          81.55188329324663,
          55.747603405168135,
          -21.244303676359504,
          -13.297956102585006,
          -25.205388103748295,
          95.59618072236724,
          -39.654316908055144,
          18.829147042073437,
          -36.63259081017233,
          15.622157049492928,
          -26.302817350514232,
          -15.92267979424543,
          -39.056326771329545,
          -27.9950312903441,
          -50.031640057697395,
          -12.802121709819357,
          -55.507453473882634,
          -42.85749410753787,
          -35.53674336399736,
          18.829147042073437,
          67.88364682577084,
          57.78533358690021,
          93.04020523815086,
          -23.010757972028014,
          -1.6468874752637865,
          -32.94062828961854,
          -55.507453473882634,
          77.82758850619723,
          -43.89761030443472,
          -21.037545038755496,
          95.59618072236724,
          -50.053858695452945,
          -5.094848416242559,
          -27.24356306564034,
          48.322224980559206,
          23.567703761696016,
          -47.47976312386033,
          -2.0969660152294898,
          67.88364682577084,
          6.182335582751377,
          -29.701828764578195,
          17.908364327788142,
          28.73035250361635,
          -1.7756191630707043,
          48.322224980559206,
          -29.701828764578195,
          -32.51894368636329,
          2.66806892324117,
          -33.14709668988999,
          -119.05833601488715,
          26.552643350375146,
          -71.53494785004041,
          -21.244303676359504,
          24.55498468780256,
          -45.17718560625669,
          -90.39686927327526,
          19.511219819445138,
          55.747603405168135,
          -45.5481137742559,
          -3.0609969081575943,
          -29.701828764578195,
          -25.205388103748295,
          -14.69192630908696,
          -34.09942174167341,
          -0.4727035738074526,
          -0.4727035738074526,
          -7.23230532334092,
          -71.69951563115447,
          -33.14709668988999,
          -68.83140552730698,
          -15.92267979424543,
          -24.554882269527234,
          57.571174991383835,
          -61.22377992606683,
          -71.69951563115447,
          -38.34301051569895,
          -11.972777409248069,
          -71.69951563115447,
          33.07574998525781,
          -15.92267979424543,
          -11.972777409248069,
          -96.74642846091076,
          0.9313926483900493,
          -43.89761030443472,
          -34.588564752320806,
          -3.0609969081575943,
          -50.031640057697395,
          -42.85749410753787,
          26.552643350375146,
          -23.010757972028014,
          -37.18343230409486,
          115.56472114547444,
          56.6649731785796,
          17.3601620441726,
          107.09952454583168,
          -43.708204142148084,
          -77.16445412877135,
          70.44574347454494,
          2.66806892324117,
          20.106515284378645,
          107.09952454583168,
          6.17627946330295,
          -77.16445412877135,
          6.17627946330295,
          -41.681966048460566,
          -0.4727035738074526,
          48.063872995006214,
          24.6586850565026,
          24.6586850565026,
          -9.72048126478458,
          -26.302817350514232,
          1.1359218580179473,
          14.72654201612844,
          7.9742879843035555,
          -61.22377992606683,
          -36.63259081017233,
          316.8460087330981,
          -71.53494785004041,
          -27.9950312903441,
          -1.6468874752637865,
          -5.157516677598486,
          67.88364682577084,
          -48.57478723133533,
          -32.825580489605926,
          -119.05833601488715,
          74.15695326702115,
          -55.507453473882634,
          41.7726298667477,
          -1.6468874752637865,
          56.6649731785796,
          -77.16445412877135,
          -1.703296189356011,
          -11.786147139982903,
          -6.739764996582329,
          -68.83140552730698,
          -96.74642846091076,
          -63.79979568588768,
          -68.83140552730698,
          -12.802121709819357,
          -5.094848416242559,
          -42.85749410753787,
          41.7726298667477,
          -27.24356306564034,
          -50.031640057697395,
          -26.050902042261455,
          32.1354028066777,
          9.756723340896487,
          -37.18343230409486,
          26.496185261802225,
          -9.72048126478458,
          24.55498468780256,
          -11.867706470387422,
          19.511219819445138,
          -47.136463276628845,
          -27.82527849153001,
          77.82758850619723,
          -16.74857432470535,
          -11.423374547673125,
          148.2956566774274,
          26.552643350375146,
          -23.605683746396117,
          48.063872995006214,
          30.783257906136473,
          -49.07491672170531,
          -25.205388103748295,
          -49.81856067702197,
          -48.57478723133533,
          24.55498468780256,
          -38.34301051569895,
          -11.867706470387422,
          6.59023617323495,
          -32.825580489605926,
          -43.708204142148084,
          -7.702721686362427,
          57.72758700028456,
          -65.72691829722088,
          1.1359218580179473,
          52.39080466744673,
          148.2956566774274,
          -50.85767440425485,
          -11.423374547673125,
          15.821005722509195,
          -47.47976312386033,
          23.567703761696016,
          -24.554882269527234,
          -71.53494785004041,
          -50.539980105705546,
          93.04020523815086,
          -50.539980105705546,
          6.17627946330295,
          18.829147042073437,
          -27.82527849153001,
          55.1368489863944,
          58.843931608035135,
          19.344229252158396,
          26.496185261802225,
          -5.99939819987111,
          19.344229252158396,
          -12.802121709819357,
          17.908364327788142,
          93.04020523815086,
          -48.57478723133533,
          -3.0609969081575943,
          17.79211170811384,
          -68.86810012663915,
          -21.244303676359504,
          57.571174991383835,
          -96.74642846091076,
          -12.802121709819357,
          -90.39686927327526,
          -18.081846668558047,
          58.843931608035135,
          -12.657738657681074,
          -26.302817350514232,
          24.988044605621383,
          -43.103978906806724,
          0.9531253289445383,
          -18.081846668558047,
          171.36592249893616,
          -55.507453473882634,
          -43.771688374553904,
          30.783257906136473,
          11.406232171860902,
          20.106515284378645,
          47.623174929966076,
          57.72758700028456,
          -7.23230532334092,
          4.017274554477559,
          -50.539980105705546,
          -27.82527849153001,
          -32.825580489605926,
          57.78533358690021,
          -45.5481137742559,
          -21.037545038755496,
          48.322224980559206,
          -67.46319740706694,
          -25.157882280005563,
          -87.01998029689842,
          -18.081846668558047,
          -33.06224173993792,
          0.9313926483900493,
          4.017274554477559,
          -14.210805557291884,
          12.255706736187632,
          32.1354028066777,
          -34.4692262712689,
          23.567703761696016,
          -25.157882280005563,
          4.017274554477559,
          -27.24356306564034,
          -21.037545038755496,
          -106.7357819587057,
          -50.402990756885885,
          -11.423374547673125,
          20.106515284378645,
          -26.050902042261455,
          70.44574347454494,
          -25.57575811254538,
          -21.244303676359504,
          -26.050902042261455,
          15.821005722509195,
          115.56472114547444,
          -1.7756191630707043,
          -68.86810012663915,
          9.756723340896487,
          7.9742879843035555,
          -15.92267979424543,
          -43.89761030443472,
          22.451943685659618,
          -25.157882280005563,
          37.79474690579068,
          -50.85767440425485,
          18.829147042073437,
          -43.05477140149567,
          -10.086348840947085,
          28.73035250361635,
          -25.57575811254538,
          -38.034690414992795,
          57.571174991383835,
          -6.781702485242789,
          -13.297956102585006,
          -67.46319740706694,
          -37.66300990528632,
          -43.05477140149567,
          55.1368489863944,
          -11.972777409248069,
          -48.57478723133533,
          -18.96695131643064,
          -13.901626825945607,
          -21.037545038755496,
          -33.14709668988999,
          -37.66300990528632,
          -7.23230532334092,
          0.9313926483900493,
          12.255706736187632,
          -2.0969660152294898,
          -6.739764996582329,
          6.182335582751377,
          -66.46417011865636,
          -13.901626825945607,
          -25.57575811254538,
          -26.050902042261455,
          30.783257906136473,
          -11.867706470387422,
          -45.17718560625669,
          -33.06224173993792,
          14.72654201612844,
          -63.79979568588768,
          -63.79979568588768,
          37.79474690579068,
          2.66806892324117,
          -50.85767440425485,
          -34.4692262712689,
          55.1368489863944,
          -34.4692262712689,
          -5.157516677598486,
          2.0439165115770437,
          -12.657738657681074,
          -6.781702485242789,
          -10.897935154225591,
          28.73035250361635,
          74.15695326702115,
          -16.74857432470535,
          -53.34934504995346,
          -34.09942174167341,
          24.988044605621383,
          -39.056326771329545,
          -45.5481137742559,
          81.55188329324663,
          26.496185261802225,
          -45.00947727623229,
          17.3601620441726,
          -11.786147139982903,
          17.3601620441726,
          15.821005722509195,
          -20.455884626425203,
          -2.9349765431500208,
          -39.654316908055144,
          6.17627946330295,
          15.622157049492928,
          -6.739764996582329,
          -7.702721686362427,
          62.24091379330992,
          -66.46417011865636,
          -6.781702485242789,
          68.11991229981525,
          -18.96695131643064,
          24.6586850565026,
          -50.053858695452945,
          -5.99939819987111,
          -68.86810012663915,
          -53.57930274202691,
          32.1354028066777,
          -43.708204142148084,
          -39.056326771329545,
          57.72758700028456,
          -10.086348840947085,
          17.908364327788142,
          -14.69192630908696,
          22.451943685659618,
          171.36592249893616,
          -5.99939819987111,
          -50.053858695452945,
          0.9531253289445383,
          -14.210805557291884,
          -106.7357819587057,
          -47.136463276628845,
          -67.46319740706694,
          77.82758850619723,
          -71.53494785004041,
          -45.17718560625669,
          -61.22377992606683,
          -1.703296189356011,
          -36.63259081017233,
          -41.681966048460566,
          -53.34934504995346,
          -23.605683746396117,
          17.79211170811384,
          -11.786147139982903,
          -14.69192630908696,
          57.78533358690021,
          -10.897935154225591,
          6.59023617323495,
          15.622157049492928,
          -20.455884626425203,
          -14.210805557291884,
          62.24091379330992,
          -34.588564752320806,
          -53.57930274202691,
          47.623174929966076,
          61.00443851466998,
          -106.7357819587057,
          -43.103978906806724,
          -24.554882269527234,
          6.59023617323495
         ],
         "y": [
          24.467599631000578,
          27.32813696765446,
          -45.88774510707653,
          -45.88774510707653,
          5.508279706735123,
          -14.361793089620962,
          -13.400556940084611,
          7.575086209256013,
          -1.8991251536761087,
          -20.846272054550607,
          -25.684154072220693,
          -30.964959274635735,
          -14.361793089620962,
          -13.399123053792405,
          23.284726499305382,
          -31.545165041358068,
          44.18742777203909,
          -0.4960168276616174,
          0.6775928414817147,
          -18.85595378734483,
          -29.29736338993883,
          15.764892902591845,
          -0.41794752300902505,
          -11.420970192516469,
          -23.9678167772619,
          -12.021834949368015,
          -31.533724973551017,
          -55.40408171441877,
          -0.41794752300902505,
          -4.531628980765802,
          -55.40408171441877,
          -1.9876260039707325,
          -23.780830203510504,
          -7.834752879636399,
          -27.403416110031216,
          -7.811870359728696,
          -7.811870359728696,
          -23.9678167772619,
          -23.780830203510504,
          -22.667523341454693,
          -13.400556940084611,
          -20.193864290995087,
          -12.025979440337842,
          10.872500544105716,
          -3.6878661257632834,
          -10.999241046213887,
          38.15817161661671,
          -17.595010924843898,
          -18.409395244744886,
          -10.455564226979726,
          -7.834752879636399,
          -40.19995556263854,
          38.48059282679946,
          -55.40408171441877,
          -17.067034797161142,
          -10.455564226979726,
          -9.503487301778014,
          -18.811808483039464,
          -2.228137617707781,
          -1.9876260039707325,
          -18.806398324986617,
          3.605782852436034,
          -18.811808483039464,
          -0.9199183550773132,
          15.764892902591845,
          -13.399123053792405,
          -10.455564226979726,
          -18.85595378734483,
          -1.0116293362187558,
          -7.834752879636399,
          -7.757979776343441,
          -27.57556852373877,
          4.060304049037863,
          -10.592463008862348,
          -28.345536407073077,
          -36.162853044269525,
          0.6775928414817147,
          -10.455564226979726,
          -28.970209169268035,
          0.6775928414817147,
          -17.90682536894192,
          -33.36646329493363,
          3.299067125027061,
          -16.878069695222415,
          -16.514853758360108,
          9.715057718805214,
          -21.913345701449927,
          -20.06961424556026,
          -34.05857989444944,
          5.721027828175022,
          -1.569137417696879,
          -24.029698450764492,
          -33.46338314998529,
          -12.87712135651716,
          -17.90682536894192,
          22.9798474393261,
          -4.531628980765802,
          -38.613944555670656,
          -14.069422381727906,
          -12.025979440337842,
          -27.57556852373877,
          -28.345536407073077,
          -0.39149543988138424,
          -0.41794752300902505,
          -29.074787703771168,
          -33.46338314998529,
          -23.9678167772619,
          -47.019918070445115,
          -16.514853758360108,
          -24.029698450764492,
          -23.071191809758563,
          -33.36646329493363,
          5.721027828175022,
          -34.05857989444944,
          -36.43662561038292,
          -13.748943693017406,
          -2.7967337048001886,
          -33.93085826739468,
          -28.79690732069012,
          -17.990539030098457,
          -15.304347721305854,
          -0.39149543988138424,
          -10.811344256267219,
          -23.9678167772619,
          -17.68378083794887,
          -39.434075059367665,
          -4.3733906138368495,
          -1.569137417696879,
          9.715057718805214,
          -9.41514556618644,
          -33.504835461188705,
          -1.0116293362187558,
          -2.228137617707781,
          -21.851638391463265,
          -13.748943693017406,
          -37.51604741280403,
          -18.85595378734483,
          -1.8991251536761087,
          19.278774642231344,
          -14.628504798847375,
          -26.689394937305536,
          -4.3733906138368495,
          15.800442534163578,
          -17.060620803422633,
          -39.434075059367665,
          -21.943720777028712,
          -26.874426456904427,
          -27.287855651943197,
          -23.873944392964514,
          5.721027828175022,
          19.278774642231344,
          16.447305899699842,
          -8.741177906576862,
          -25.216093026543206,
          -18.806398324986617,
          14.647521664853317,
          -4.531628980765802,
          -27.287855651943197,
          -25.87071449477291,
          -25.15016541070593,
          -8.138732286404903,
          -18.85595378734483,
          -18.32227634753574,
          -2.7967337048001886,
          -22.667523341454693,
          -4.03511908971417,
          29.398310690230065,
          -28.970209169268035,
          -29.074787703771168,
          16.447305899699842,
          -20.846272054550607,
          33.57977815924468,
          5.14433874419209,
          7.870834998363255,
          -31.533724973551017,
          -4.03511908971417,
          33.57977815924468,
          -23.780830203510504,
          -40.390122993264676,
          -9.827838094777896,
          -18.409395244744886,
          -4.156752062946891,
          -23.9678167772619,
          -21.851638391463265,
          4.312302891228441,
          -8.47775216496591,
          -33.36646329493363,
          -20.193864290995087,
          -2.228137617707781,
          22.420368621017538,
          -3.6929145261924456,
          33.57977815924468,
          -37.51604741280403,
          4.642497452786657,
          -17.595010924843898,
          -23.819886526180902,
          -23.819886526180902,
          -6.293180067210159,
          24.907933265549552,
          -9.827838094777896,
          -9.520375644403721,
          15.800442534163578,
          -12.478496780595112,
          26.71776224507456,
          -40.19995556263854,
          24.907933265549552,
          -25.684154072220693,
          2.094996456486643,
          24.907933265549552,
          -0.41794752300902505,
          15.800442534163578,
          2.094996456486643,
          27.32813696765446,
          10.7790565450692,
          -25.15016541070593,
          -13.400556940084611,
          -3.6929145261924456,
          -21.943720777028712,
          -23.873944392964514,
          -4.156752062946891,
          -18.806398324986617,
          -12.025979440337842,
          -0.4960168276616174,
          -10.999241046213887,
          21.400810233134017,
          -16.878069695222415,
          -10.181327330491989,
          -20.435710819699327,
          -14.069422381727906,
          -40.390122993264676,
          -27.048098750896855,
          -16.878069695222415,
          -30.9588339543691,
          -20.435710819699327,
          -30.9588339543691,
          -33.93085826739468,
          -23.819886526180902,
          -10.592463008862348,
          -14.037046462214802,
          -14.037046462214802,
          22.9798474393261,
          -4.3733906138368495,
          -21.913345701449927,
          -36.43662561038292,
          -27.403416110031216,
          -40.19995556263854,
          -14.628504798847375,
          -17.90682536894192,
          -23.9678167772619,
          -39.434075059367665,
          14.647521664853317,
          -18.811808483039464,
          16.447305899699842,
          19.472982562786342,
          -20.195942243149982,
          -18.409395244744886,
          -36.162853044269525,
          -27.287855651943197,
          -10.811344256267219,
          14.647521664853317,
          -10.999241046213887,
          -20.435710819699327,
          -17.68378083794887,
          -10.262905130575842,
          -9.859612832997689,
          -9.520375644403721,
          27.32813696765446,
          -33.504835461188705,
          -9.520375644403721,
          -26.874426456904427,
          -2.7967337048001886,
          -23.873944392964514,
          -10.811344256267219,
          -22.667523341454693,
          -21.943720777028712,
          5.752299639558087,
          -19.32286181896383,
          -0.9199183550773132,
          -12.025979440337842,
          8.206930969117938,
          22.9798474393261,
          4.312302891228441,
          -10.100121775294962,
          -20.193864290995087,
          38.15817161661671,
          -9.804212129724803,
          -25.87071449477291,
          -0.39149543988138424,
          -31.159240995638577,
          -9.41514556618644,
          -4.156752062946891,
          7.575086209256013,
          -10.592463008862348,
          -1.432321442223826,
          -1.9876260039707325,
          -37.51604741280403,
          -34.05857989444944,
          19.472982562786342,
          4.312302891228441,
          -25.684154072220693,
          -10.100121775294962,
          -12.529051978321414,
          -20.195942243149982,
          -10.181327330491989,
          -47.019918070445115,
          -21.77319826134882,
          -27.57556852373877,
          -21.913345701449927,
          -28.345536407073077,
          -9.41514556618644,
          -9.62711295665544,
          -31.159240995638577,
          -6.248332084372921,
          -28.970209169268035,
          29.398310690230065,
          -12.478496780595112,
          -23.9678167772619,
          -25.81410558008823,
          -25.216093026543206,
          -25.81410558008823,
          -30.9588339543691,
          19.278774642231344,
          -9.804212129724803,
          -36.09620031169655,
          -17.990539030098457,
          -23.071191809758563,
          8.206930969117938,
          1.5783147580629988,
          -23.071191809758563,
          -26.874426456904427,
          5.14433874419209,
          -25.216093026543206,
          19.472982562786342,
          -3.6929145261924456,
          44.18742777203909,
          11.520487510792004,
          -21.851638391463265,
          26.71776224507456,
          27.32813696765446,
          -26.874426456904427,
          -33.36646329493363,
          38.512917679479585,
          -17.990539030098457,
          -7.757979776343441,
          -4.3733906138368495,
          -31.545165041358068,
          4.060304049037863,
          24.467599631000578,
          38.512917679479585,
          -9.503487301778014,
          -27.287855651943197,
          -55.40408171441877,
          -1.432321442223826,
          0.6775928414817147,
          -27.048098750896855,
          -17.067034797161142,
          -21.77319826134882,
          -6.293180067210159,
          -11.365400611126145,
          -25.81410558008823,
          -9.804212129724803,
          -20.195942243149982,
          -8.741177906576862,
          22.420368621017538,
          -8.138732286404903,
          -4.03511908971417,
          53.71068111922,
          -12.87712135651716,
          9.715057718805214,
          38.512917679479585,
          23.284726499305382,
          10.7790565450692,
          -11.365400611126145,
          -0.023570588234573534,
          -38.613944555670656,
          -19.32286181896383,
          35.69493009114265,
          29.398310690230065,
          -12.87712135651716,
          -11.365400611126145,
          -22.667523341454693,
          -8.138732286404903,
          -26.58909347496118,
          -13.399123053792405,
          -31.159240995638577,
          -27.048098750896855,
          5.752299639558087,
          -14.069422381727906,
          3.299067125027061,
          -21.851638391463265,
          5.752299639558087,
          -6.248332084372921,
          -0.4960168276616174,
          -31.533724973551017,
          11.520487510792004,
          -0.9199183550773132,
          -27.403416110031216,
          15.800442534163578,
          -25.15016541070593,
          -15.304347721305854,
          -12.87712135651716,
          -11.420970192516469,
          -9.62711295665544,
          19.278774642231344,
          15.764892902591845,
          -3.6878661257632834,
          7.870834998363255,
          3.299067125027061,
          -45.88774510707653,
          26.71776224507456,
          -20.06961424556026,
          -13.748943693017406,
          53.71068111922,
          10.872500544105716,
          15.764892902591845,
          -36.09620031169655,
          2.094996456486643,
          19.472982562786342,
          38.48059282679946,
          -30.964959274635735,
          -8.138732286404903,
          -9.827838094777896,
          10.872500544105716,
          -6.293180067210159,
          10.7790565450692,
          -38.613944555670656,
          -29.074787703771168,
          -9.859612832997689,
          -20.846272054550607,
          -1.569137417696879,
          -30.964959274635735,
          3.299067125027061,
          5.752299639558087,
          -1.432321442223826,
          -10.100121775294962,
          -8.47775216496591,
          23.284726499305382,
          -36.43662561038292,
          -33.504835461188705,
          -33.504835461188705,
          -11.420970192516469,
          -40.390122993264676,
          -9.62711295665544,
          35.69493009114265,
          -36.09620031169655,
          35.69493009114265,
          -18.811808483039464,
          -33.46338314998529,
          -7.757979776343441,
          -20.06961424556026,
          -28.79690732069012,
          7.870834998363255,
          -36.162853044269525,
          -0.39149543988138424,
          3.605782852436034,
          -17.595010924843898,
          -31.545165041358068,
          -17.060620803422633,
          22.420368621017538,
          -1.0116293362187558,
          8.206930969117938,
          -7.811870359728696,
          21.400810233134017,
          -10.262905130575842,
          21.400810233134017,
          -6.248332084372921,
          -29.29736338993883,
          -14.361793089620962,
          -1.8991251536761087,
          -30.9588339543691,
          -26.689394937305536,
          -9.859612832997689,
          -47.019918070445115,
          5.508279706735123,
          -1.569137417696879,
          -20.06961424556026,
          -16.514853758360108,
          38.48059282679946,
          -14.037046462214802,
          -18.32227634753574,
          1.5783147580629988,
          11.520487510792004,
          -12.021834949368015,
          -19.32286181896383,
          -10.181327330491989,
          -17.060620803422633,
          -21.77319826134882,
          -3.6878661257632834,
          5.14433874419209,
          4.642497452786657,
          -15.304347721305854,
          -9.503487301778014,
          1.5783147580629988,
          -18.32227634753574,
          24.467599631000578,
          -0.023570588234573534,
          -26.58909347496118,
          38.15817161661671,
          53.71068111922,
          -25.87071449477291,
          -23.9678167772619,
          -8.47775216496591,
          -40.19995556263854,
          -17.68378083794887,
          -14.628504798847375,
          -33.93085826739468,
          3.605782852436034,
          7.575086209256013,
          44.18742777203909,
          -10.262905130575842,
          4.642497452786657,
          -8.741177906576862,
          -28.79690732069012,
          -12.529051978321414,
          -26.689394937305536,
          -29.29736338993883,
          -0.023570588234573534,
          5.508279706735123,
          -13.400556940084611,
          -12.021834949368015,
          -17.067034797161142,
          -24.029698450764492,
          -26.58909347496118,
          4.060304049037863,
          -12.478496780595112,
          -12.529051978321414
         ],
         "z": [
          -33.748240135168196,
          -14.747333326278737,
          -9.403548558962823,
          -9.403548558962823,
          3.790910658312564,
          -10.481274865418948,
          12.285171460384532,
          -23.199528146473135,
          -26.48569178378705,
          6.601712692120034,
          -8.44894640695012,
          1.0413018075453264,
          -10.481274865418948,
          1.0083061249533702,
          -7.832440835117488,
          9.131224076132604,
          -8.083014326656247,
          23.487167427519005,
          -12.350691041302488,
          -2.756119713379464,
          10.876896760314658,
          2.0089359001284834,
          14.258282443985133,
          18.02649224882713,
          10.568941168309886,
          -7.013775533785616,
          1.0235706625518706,
          3.1823796047653223,
          14.258282443985133,
          21.339052507719515,
          3.1823796047653223,
          1.138277387180602,
          -9.728538242324086,
          5.513494508914091,
          -5.945780963608759,
          5.379588613991801,
          5.379588613991801,
          10.568941168309886,
          -9.728538242324086,
          -9.112924513464725,
          12.285171460384532,
          -22.453276491366974,
          -3.0886797793784515,
          -1.6063656201598282,
          5.923394924110193,
          -5.162706056503753,
          9.93911126049889,
          -7.43829161539454,
          27.358340533391807,
          -25.877690224757707,
          5.513494508914091,
          -6.074465747833165,
          6.905574326212374,
          3.1823796047653223,
          -14.190457423069553,
          -25.877690224757707,
          1.463653357654765,
          21.52111755232345,
          -12.72250269729705,
          1.138277387180602,
          9.375476780231477,
          11.285092317424798,
          21.52111755232345,
          -2.5631412179755584,
          2.0089359001284834,
          1.0083061249533702,
          -25.877690224757707,
          -2.756119713379464,
          45.198692953363526,
          5.513494508914091,
          -21.987756551866354,
          -9.894876723348736,
          -18.72703599829502,
          -13.583484079614925,
          20.199261761625078,
          5.947573895622759,
          -12.350691041302488,
          -25.877690224757707,
          12.075557124259019,
          -12.350691041302488,
          -30.301157605638544,
          -4.861851685671206,
          -30.957893458096045,
          -15.287065771579307,
          -5.244956397847624,
          -17.202649326034877,
          18.989477450085086,
          -8.751828652019183,
          -33.24218558275974,
          -18.76622115533022,
          0.3992666434683022,
          -5.740949777438217,
          -17.956376819358105,
          1.434734719425251,
          -30.301157605638544,
          28.444929349489968,
          21.339052507719515,
          -14.374052171400075,
          -31.050258593338157,
          -3.0886797793784515,
          -9.894876723348736,
          20.199261761625078,
          40.650192430136975,
          14.258282443985133,
          17.84046918080879,
          -17.956376819358105,
          10.568941168309886,
          -7.768199443433315,
          -5.244956397847624,
          -5.740949777438217,
          -0.9427865627844361,
          -4.861851685671206,
          -18.76622115533022,
          -33.24218558275974,
          11.052203800708403,
          20.529952600658135,
          -14.52242094577439,
          2.101023073834664,
          -7.5533227723494445,
          -8.878563281654735,
          -1.9860328572763708,
          40.650192430136975,
          -0.8059360276860849,
          10.568941168309886,
          -5.022172144709397,
          2.7578034114918055,
          6.012173668962061,
          0.3992666434683022,
          -17.202649326034877,
          2.2820819373913306,
          10.73880940574241,
          45.198692953363526,
          -12.72250269729705,
          -9.532981560376612,
          20.529952600658135,
          -4.993538127791709,
          -2.756119713379464,
          -26.48569178378705,
          -22.270976304574102,
          -19.599303148983285,
          -11.047021606318951,
          6.012173668962061,
          29.140139041336212,
          4.806268077213821,
          2.7578034114918055,
          -23.313067597201304,
          0.6809282054537289,
          -6.37087855617584,
          1.4306310227818961,
          -18.76622115533022,
          -22.270976304574102,
          4.168448574063379,
          28.501689060218478,
          -13.43300529774048,
          9.375476780231477,
          17.767074360885655,
          21.339052507719515,
          -6.37087855617584,
          -13.407603216421307,
          -22.56298388175693,
          -35.930914755860925,
          -2.756119713379464,
          8.81734632425103,
          -14.52242094577439,
          -9.112924513464725,
          6.355738834343185,
          -13.250510875821249,
          12.075557124259019,
          17.84046918080879,
          4.168448574063379,
          6.601712692120034,
          -5.903029793364222,
          -3.397268946527015,
          -5.043888957414115,
          1.0235706625518706,
          6.355738834343185,
          -5.903029793364222,
          -9.728538242324086,
          0.17056460120874545,
          -18.665253652371913,
          27.358340533391807,
          -7.663880945027435,
          10.568941168309886,
          -9.532981560376612,
          23.024394170559354,
          43.33299584829129,
          -4.861851685671206,
          -22.453276491366974,
          -12.72250269729705,
          -21.119521564543533,
          5.6795378468680235,
          -5.903029793364222,
          -4.993538127791709,
          -0.15814873655099784,
          -7.43829161539454,
          0.8559595957430375,
          0.8559595957430375,
          -24.894600858603077,
          -20.83758745864235,
          -18.665253652371913,
          13.994065790667925,
          29.140139041336212,
          11.763671056665872,
          -6.336631473301055,
          -6.074465747833165,
          -20.83758745864235,
          -8.44894640695012,
          15.069908409650267,
          -20.83758745864235,
          14.258282443985133,
          29.140139041336212,
          15.069908409650267,
          -14.747333326278737,
          25.346162894188847,
          -22.56298388175693,
          12.285171460384532,
          5.6795378468680235,
          -23.313067597201304,
          1.4306310227818961,
          -7.663880945027435,
          9.375476780231477,
          -3.0886797793784515,
          23.487167427519005,
          -5.162706056503753,
          -34.70278756280932,
          -15.287065771579307,
          31.774143587455683,
          25.260149934712533,
          -31.050258593338157,
          0.17056460120874545,
          -19.665792810106627,
          -15.287065771579307,
          0.3642213672165231,
          25.260149934712533,
          0.3642213672165231,
          2.101023073834664,
          0.8559595957430375,
          -13.583484079614925,
          1.7446423826634079,
          1.7446423826634079,
          28.444929349489968,
          6.012173668962061,
          18.989477450085086,
          11.052203800708403,
          -5.945780963608759,
          -6.074465747833165,
          -19.599303148983285,
          -30.301157605638544,
          10.568941168309886,
          2.7578034114918055,
          17.767074360885655,
          21.52111755232345,
          4.168448574063379,
          -0.5524372473584681,
          0.4780258172457603,
          27.358340533391807,
          5.947573895622759,
          -6.37087855617584,
          -0.8059360276860849,
          17.767074360885655,
          -5.162706056503753,
          25.260149934712533,
          -5.022172144709397,
          5.831806083002255,
          9.751237680132434,
          13.994065790667925,
          -14.747333326278737,
          10.73880940574241,
          13.994065790667925,
          0.6809282054537289,
          -14.52242094577439,
          1.4306310227818961,
          -0.8059360276860849,
          -9.112924513464725,
          -23.313067597201304,
          -5.239918749080402,
          22.528270761264082,
          -2.5631412179755584,
          -3.0886797793784515,
          44.57019790880882,
          28.444929349489968,
          23.024394170559354,
          7.912559461234945,
          -22.453276491366974,
          9.93911126049889,
          -9.590585360061711,
          -13.407603216421307,
          40.650192430136975,
          10.88885505912572,
          2.2820819373913306,
          -7.663880945027435,
          -23.199528146473135,
          -13.583484079614925,
          -13.105486945412753,
          1.138277387180602,
          -4.993538127791709,
          -33.24218558275974,
          -0.5524372473584681,
          23.024394170559354,
          -8.44894640695012,
          7.912559461234945,
          -21.192840165693163,
          0.4780258172457603,
          31.774143587455683,
          -7.768199443433315,
          2.506917800543685,
          -9.894876723348736,
          18.989477450085086,
          20.199261761625078,
          2.2820819373913306,
          -27.880734732106387,
          10.88885505912572,
          -1.7305486228928257,
          12.075557124259019,
          -13.250510875821249,
          11.763671056665872,
          10.568941168309886,
          15.292134184665535,
          -13.43300529774048,
          15.292134184665535,
          0.3642213672165231,
          -22.270976304574102,
          -9.590585360061711,
          -17.318218038135107,
          -8.878563281654735,
          -0.9427865627844361,
          44.57019790880882,
          10.696480235044262,
          -0.9427865627844361,
          0.6809282054537289,
          -3.397268946527015,
          -13.43300529774048,
          -0.5524372473584681,
          5.6795378468680235,
          -8.083014326656247,
          -7.477120636449138,
          -9.532981560376612,
          -6.336631473301055,
          -14.747333326278737,
          0.6809282054537289,
          -4.861851685671206,
          16.796986380711964,
          -8.878563281654735,
          -21.987756551866354,
          6.012173668962061,
          9.131224076132604,
          -18.72703599829502,
          -33.748240135168196,
          16.796986380711964,
          1.463653357654765,
          -6.37087855617584,
          3.1823796047653223,
          -13.105486945412753,
          -12.350691041302488,
          -19.665792810106627,
          -14.190457423069553,
          2.506917800543685,
          -24.894600858603077,
          4.500527020056876,
          15.292134184665535,
          -9.590585360061711,
          0.4780258172457603,
          28.501689060218478,
          -21.119521564543533,
          -35.930914755860925,
          6.355738834343185,
          -12.969340630751248,
          1.434734719425251,
          -17.202649326034877,
          16.796986380711964,
          -7.832440835117488,
          25.346162894188847,
          4.500527020056876,
          -23.10161138818866,
          -14.374052171400075,
          22.528270761264082,
          -11.597989500707646,
          -13.250510875821249,
          1.434734719425251,
          4.500527020056876,
          -9.112924513464725,
          -35.930914755860925,
          -16.204175734217277,
          1.0083061249533702,
          10.88885505912572,
          -19.665792810106627,
          -5.239918749080402,
          -31.050258593338157,
          -30.957893458096045,
          -9.532981560376612,
          -5.239918749080402,
          -1.7305486228928257,
          23.487167427519005,
          1.0235706625518706,
          -7.477120636449138,
          -2.5631412179755584,
          -5.945780963608759,
          29.140139041336212,
          -22.56298388175693,
          -1.9860328572763708,
          1.434734719425251,
          18.02649224882713,
          -27.880734732106387,
          -22.270976304574102,
          2.0089359001284834,
          5.923394924110193,
          -5.043888957414115,
          -30.957893458096045,
          -9.403548558962823,
          -6.336631473301055,
          -8.751828652019183,
          20.529952600658135,
          -12.969340630751248,
          -1.6063656201598282,
          2.0089359001284834,
          -17.318218038135107,
          15.069908409650267,
          -0.5524372473584681,
          6.905574326212374,
          1.0413018075453264,
          -35.930914755860925,
          -18.665253652371913,
          -1.6063656201598282,
          -24.894600858603077,
          25.346162894188847,
          -14.374052171400075,
          17.84046918080879,
          9.751237680132434,
          6.601712692120034,
          0.3992666434683022,
          1.0413018075453264,
          -30.957893458096045,
          -5.239918749080402,
          -13.105486945412753,
          7.912559461234945,
          43.33299584829129,
          -7.832440835117488,
          11.052203800708403,
          10.73880940574241,
          10.73880940574241,
          18.02649224882713,
          0.17056460120874545,
          -27.880734732106387,
          -11.597989500707646,
          -17.318218038135107,
          -11.597989500707646,
          21.52111755232345,
          -17.956376819358105,
          -21.987756551866354,
          -8.751828652019183,
          -7.5533227723494445,
          -5.043888957414115,
          5.947573895622759,
          40.650192430136975,
          11.285092317424798,
          -7.43829161539454,
          9.131224076132604,
          4.806268077213821,
          -21.119521564543533,
          45.198692953363526,
          44.57019790880882,
          5.379588613991801,
          -34.70278756280932,
          5.831806083002255,
          -34.70278756280932,
          -1.7305486228928257,
          10.876896760314658,
          -10.481274865418948,
          -26.48569178378705,
          0.3642213672165231,
          -11.047021606318951,
          9.751237680132434,
          -7.768199443433315,
          3.790910658312564,
          0.3992666434683022,
          -8.751828652019183,
          -5.244956397847624,
          6.905574326212374,
          1.7446423826634079,
          8.81734632425103,
          10.696480235044262,
          -7.477120636449138,
          -7.013775533785616,
          22.528270761264082,
          31.774143587455683,
          4.806268077213821,
          2.506917800543685,
          5.923394924110193,
          -3.397268946527015,
          -0.15814873655099784,
          -1.9860328572763708,
          1.463653357654765,
          10.696480235044262,
          8.81734632425103,
          -33.748240135168196,
          -23.10161138818866,
          -16.204175734217277,
          9.93911126049889,
          -12.969340630751248,
          -13.407603216421307,
          10.568941168309886,
          43.33299584829129,
          -6.074465747833165,
          -5.022172144709397,
          -19.599303148983285,
          2.101023073834664,
          11.285092317424798,
          -23.199528146473135,
          -8.083014326656247,
          5.831806083002255,
          -0.15814873655099784,
          28.501689060218478,
          -7.5533227723494445,
          -21.192840165693163,
          -11.047021606318951,
          10.876896760314658,
          -23.10161138818866,
          3.790910658312564,
          12.285171460384532,
          -7.013775533785616,
          -14.190457423069553,
          -5.740949777438217,
          -16.204175734217277,
          -18.72703599829502,
          11.763671056665872,
          -21.192840165693163
         ]
        }
       ],
       "layout": {
        "template": {
         "data": {
          "bar": [
           {
            "error_x": {
             "color": "#2a3f5f"
            },
            "error_y": {
             "color": "#2a3f5f"
            },
            "marker": {
             "line": {
              "color": "#E5ECF6",
              "width": 0.5
             },
             "pattern": {
              "fillmode": "overlay",
              "size": 10,
              "solidity": 0.2
             }
            },
            "type": "bar"
           }
          ],
          "barpolar": [
           {
            "marker": {
             "line": {
              "color": "#E5ECF6",
              "width": 0.5
             },
             "pattern": {
              "fillmode": "overlay",
              "size": 10,
              "solidity": 0.2
             }
            },
            "type": "barpolar"
           }
          ],
          "carpet": [
           {
            "aaxis": {
             "endlinecolor": "#2a3f5f",
             "gridcolor": "white",
             "linecolor": "white",
             "minorgridcolor": "white",
             "startlinecolor": "#2a3f5f"
            },
            "baxis": {
             "endlinecolor": "#2a3f5f",
             "gridcolor": "white",
             "linecolor": "white",
             "minorgridcolor": "white",
             "startlinecolor": "#2a3f5f"
            },
            "type": "carpet"
           }
          ],
          "choropleth": [
           {
            "colorbar": {
             "outlinewidth": 0,
             "ticks": ""
            },
            "type": "choropleth"
           }
          ],
          "contour": [
           {
            "colorbar": {
             "outlinewidth": 0,
             "ticks": ""
            },
            "colorscale": [
             [
              0,
              "#0d0887"
             ],
             [
              0.1111111111111111,
              "#46039f"
             ],
             [
              0.2222222222222222,
              "#7201a8"
             ],
             [
              0.3333333333333333,
              "#9c179e"
             ],
             [
              0.4444444444444444,
              "#bd3786"
             ],
             [
              0.5555555555555556,
              "#d8576b"
             ],
             [
              0.6666666666666666,
              "#ed7953"
             ],
             [
              0.7777777777777778,
              "#fb9f3a"
             ],
             [
              0.8888888888888888,
              "#fdca26"
             ],
             [
              1,
              "#f0f921"
             ]
            ],
            "type": "contour"
           }
          ],
          "contourcarpet": [
           {
            "colorbar": {
             "outlinewidth": 0,
             "ticks": ""
            },
            "type": "contourcarpet"
           }
          ],
          "heatmap": [
           {
            "colorbar": {
             "outlinewidth": 0,
             "ticks": ""
            },
            "colorscale": [
             [
              0,
              "#0d0887"
             ],
             [
              0.1111111111111111,
              "#46039f"
             ],
             [
              0.2222222222222222,
              "#7201a8"
             ],
             [
              0.3333333333333333,
              "#9c179e"
             ],
             [
              0.4444444444444444,
              "#bd3786"
             ],
             [
              0.5555555555555556,
              "#d8576b"
             ],
             [
              0.6666666666666666,
              "#ed7953"
             ],
             [
              0.7777777777777778,
              "#fb9f3a"
             ],
             [
              0.8888888888888888,
              "#fdca26"
             ],
             [
              1,
              "#f0f921"
             ]
            ],
            "type": "heatmap"
           }
          ],
          "heatmapgl": [
           {
            "colorbar": {
             "outlinewidth": 0,
             "ticks": ""
            },
            "colorscale": [
             [
              0,
              "#0d0887"
             ],
             [
              0.1111111111111111,
              "#46039f"
             ],
             [
              0.2222222222222222,
              "#7201a8"
             ],
             [
              0.3333333333333333,
              "#9c179e"
             ],
             [
              0.4444444444444444,
              "#bd3786"
             ],
             [
              0.5555555555555556,
              "#d8576b"
             ],
             [
              0.6666666666666666,
              "#ed7953"
             ],
             [
              0.7777777777777778,
              "#fb9f3a"
             ],
             [
              0.8888888888888888,
              "#fdca26"
             ],
             [
              1,
              "#f0f921"
             ]
            ],
            "type": "heatmapgl"
           }
          ],
          "histogram": [
           {
            "marker": {
             "pattern": {
              "fillmode": "overlay",
              "size": 10,
              "solidity": 0.2
             }
            },
            "type": "histogram"
           }
          ],
          "histogram2d": [
           {
            "colorbar": {
             "outlinewidth": 0,
             "ticks": ""
            },
            "colorscale": [
             [
              0,
              "#0d0887"
             ],
             [
              0.1111111111111111,
              "#46039f"
             ],
             [
              0.2222222222222222,
              "#7201a8"
             ],
             [
              0.3333333333333333,
              "#9c179e"
             ],
             [
              0.4444444444444444,
              "#bd3786"
             ],
             [
              0.5555555555555556,
              "#d8576b"
             ],
             [
              0.6666666666666666,
              "#ed7953"
             ],
             [
              0.7777777777777778,
              "#fb9f3a"
             ],
             [
              0.8888888888888888,
              "#fdca26"
             ],
             [
              1,
              "#f0f921"
             ]
            ],
            "type": "histogram2d"
           }
          ],
          "histogram2dcontour": [
           {
            "colorbar": {
             "outlinewidth": 0,
             "ticks": ""
            },
            "colorscale": [
             [
              0,
              "#0d0887"
             ],
             [
              0.1111111111111111,
              "#46039f"
             ],
             [
              0.2222222222222222,
              "#7201a8"
             ],
             [
              0.3333333333333333,
              "#9c179e"
             ],
             [
              0.4444444444444444,
              "#bd3786"
             ],
             [
              0.5555555555555556,
              "#d8576b"
             ],
             [
              0.6666666666666666,
              "#ed7953"
             ],
             [
              0.7777777777777778,
              "#fb9f3a"
             ],
             [
              0.8888888888888888,
              "#fdca26"
             ],
             [
              1,
              "#f0f921"
             ]
            ],
            "type": "histogram2dcontour"
           }
          ],
          "mesh3d": [
           {
            "colorbar": {
             "outlinewidth": 0,
             "ticks": ""
            },
            "type": "mesh3d"
           }
          ],
          "parcoords": [
           {
            "line": {
             "colorbar": {
              "outlinewidth": 0,
              "ticks": ""
             }
            },
            "type": "parcoords"
           }
          ],
          "pie": [
           {
            "automargin": true,
            "type": "pie"
           }
          ],
          "scatter": [
           {
            "fillpattern": {
             "fillmode": "overlay",
             "size": 10,
             "solidity": 0.2
            },
            "type": "scatter"
           }
          ],
          "scatter3d": [
           {
            "line": {
             "colorbar": {
              "outlinewidth": 0,
              "ticks": ""
             }
            },
            "marker": {
             "colorbar": {
              "outlinewidth": 0,
              "ticks": ""
             }
            },
            "type": "scatter3d"
           }
          ],
          "scattercarpet": [
           {
            "marker": {
             "colorbar": {
              "outlinewidth": 0,
              "ticks": ""
             }
            },
            "type": "scattercarpet"
           }
          ],
          "scattergeo": [
           {
            "marker": {
             "colorbar": {
              "outlinewidth": 0,
              "ticks": ""
             }
            },
            "type": "scattergeo"
           }
          ],
          "scattergl": [
           {
            "marker": {
             "colorbar": {
              "outlinewidth": 0,
              "ticks": ""
             }
            },
            "type": "scattergl"
           }
          ],
          "scattermapbox": [
           {
            "marker": {
             "colorbar": {
              "outlinewidth": 0,
              "ticks": ""
             }
            },
            "type": "scattermapbox"
           }
          ],
          "scatterpolar": [
           {
            "marker": {
             "colorbar": {
              "outlinewidth": 0,
              "ticks": ""
             }
            },
            "type": "scatterpolar"
           }
          ],
          "scatterpolargl": [
           {
            "marker": {
             "colorbar": {
              "outlinewidth": 0,
              "ticks": ""
             }
            },
            "type": "scatterpolargl"
           }
          ],
          "scatterternary": [
           {
            "marker": {
             "colorbar": {
              "outlinewidth": 0,
              "ticks": ""
             }
            },
            "type": "scatterternary"
           }
          ],
          "surface": [
           {
            "colorbar": {
             "outlinewidth": 0,
             "ticks": ""
            },
            "colorscale": [
             [
              0,
              "#0d0887"
             ],
             [
              0.1111111111111111,
              "#46039f"
             ],
             [
              0.2222222222222222,
              "#7201a8"
             ],
             [
              0.3333333333333333,
              "#9c179e"
             ],
             [
              0.4444444444444444,
              "#bd3786"
             ],
             [
              0.5555555555555556,
              "#d8576b"
             ],
             [
              0.6666666666666666,
              "#ed7953"
             ],
             [
              0.7777777777777778,
              "#fb9f3a"
             ],
             [
              0.8888888888888888,
              "#fdca26"
             ],
             [
              1,
              "#f0f921"
             ]
            ],
            "type": "surface"
           }
          ],
          "table": [
           {
            "cells": {
             "fill": {
              "color": "#EBF0F8"
             },
             "line": {
              "color": "white"
             }
            },
            "header": {
             "fill": {
              "color": "#C8D4E3"
             },
             "line": {
              "color": "white"
             }
            },
            "type": "table"
           }
          ]
         },
         "layout": {
          "annotationdefaults": {
           "arrowcolor": "#2a3f5f",
           "arrowhead": 0,
           "arrowwidth": 1
          },
          "autotypenumbers": "strict",
          "coloraxis": {
           "colorbar": {
            "outlinewidth": 0,
            "ticks": ""
           }
          },
          "colorscale": {
           "diverging": [
            [
             0,
             "#8e0152"
            ],
            [
             0.1,
             "#c51b7d"
            ],
            [
             0.2,
             "#de77ae"
            ],
            [
             0.3,
             "#f1b6da"
            ],
            [
             0.4,
             "#fde0ef"
            ],
            [
             0.5,
             "#f7f7f7"
            ],
            [
             0.6,
             "#e6f5d0"
            ],
            [
             0.7,
             "#b8e186"
            ],
            [
             0.8,
             "#7fbc41"
            ],
            [
             0.9,
             "#4d9221"
            ],
            [
             1,
             "#276419"
            ]
           ],
           "sequential": [
            [
             0,
             "#0d0887"
            ],
            [
             0.1111111111111111,
             "#46039f"
            ],
            [
             0.2222222222222222,
             "#7201a8"
            ],
            [
             0.3333333333333333,
             "#9c179e"
            ],
            [
             0.4444444444444444,
             "#bd3786"
            ],
            [
             0.5555555555555556,
             "#d8576b"
            ],
            [
             0.6666666666666666,
             "#ed7953"
            ],
            [
             0.7777777777777778,
             "#fb9f3a"
            ],
            [
             0.8888888888888888,
             "#fdca26"
            ],
            [
             1,
             "#f0f921"
            ]
           ],
           "sequentialminus": [
            [
             0,
             "#0d0887"
            ],
            [
             0.1111111111111111,
             "#46039f"
            ],
            [
             0.2222222222222222,
             "#7201a8"
            ],
            [
             0.3333333333333333,
             "#9c179e"
            ],
            [
             0.4444444444444444,
             "#bd3786"
            ],
            [
             0.5555555555555556,
             "#d8576b"
            ],
            [
             0.6666666666666666,
             "#ed7953"
            ],
            [
             0.7777777777777778,
             "#fb9f3a"
            ],
            [
             0.8888888888888888,
             "#fdca26"
            ],
            [
             1,
             "#f0f921"
            ]
           ]
          },
          "colorway": [
           "#636efa",
           "#EF553B",
           "#00cc96",
           "#ab63fa",
           "#FFA15A",
           "#19d3f3",
           "#FF6692",
           "#B6E880",
           "#FF97FF",
           "#FECB52"
          ],
          "font": {
           "color": "#2a3f5f"
          },
          "geo": {
           "bgcolor": "white",
           "lakecolor": "white",
           "landcolor": "#E5ECF6",
           "showlakes": true,
           "showland": true,
           "subunitcolor": "white"
          },
          "hoverlabel": {
           "align": "left"
          },
          "hovermode": "closest",
          "mapbox": {
           "style": "light"
          },
          "paper_bgcolor": "white",
          "plot_bgcolor": "#E5ECF6",
          "polar": {
           "angularaxis": {
            "gridcolor": "white",
            "linecolor": "white",
            "ticks": ""
           },
           "bgcolor": "#E5ECF6",
           "radialaxis": {
            "gridcolor": "white",
            "linecolor": "white",
            "ticks": ""
           }
          },
          "scene": {
           "xaxis": {
            "backgroundcolor": "#E5ECF6",
            "gridcolor": "white",
            "gridwidth": 2,
            "linecolor": "white",
            "showbackground": true,
            "ticks": "",
            "zerolinecolor": "white"
           },
           "yaxis": {
            "backgroundcolor": "#E5ECF6",
            "gridcolor": "white",
            "gridwidth": 2,
            "linecolor": "white",
            "showbackground": true,
            "ticks": "",
            "zerolinecolor": "white"
           },
           "zaxis": {
            "backgroundcolor": "#E5ECF6",
            "gridcolor": "white",
            "gridwidth": 2,
            "linecolor": "white",
            "showbackground": true,
            "ticks": "",
            "zerolinecolor": "white"
           }
          },
          "shapedefaults": {
           "line": {
            "color": "#2a3f5f"
           }
          },
          "ternary": {
           "aaxis": {
            "gridcolor": "white",
            "linecolor": "white",
            "ticks": ""
           },
           "baxis": {
            "gridcolor": "white",
            "linecolor": "white",
            "ticks": ""
           },
           "bgcolor": "#E5ECF6",
           "caxis": {
            "gridcolor": "white",
            "linecolor": "white",
            "ticks": ""
           }
          },
          "title": {
           "x": 0.05
          },
          "xaxis": {
           "automargin": true,
           "gridcolor": "white",
           "linecolor": "white",
           "ticks": "",
           "title": {
            "standoff": 15
           },
           "zerolinecolor": "white",
           "zerolinewidth": 2
          },
          "yaxis": {
           "automargin": true,
           "gridcolor": "white",
           "linecolor": "white",
           "ticks": "",
           "title": {
            "standoff": 15
           },
           "zerolinecolor": "white",
           "zerolinewidth": 2
          }
         }
        }
       }
      }
     },
     "metadata": {},
     "output_type": "display_data"
    }
   ],
   "source": [
    "plot_3d(heart_data, 'target')"
   ]
  },
  {
   "cell_type": "markdown",
   "metadata": {},
   "source": [
    "#### Eliminerar extremvärden\n",
    "Vi tappar 56 rader, vilket verkar försumbart."
   ]
  },
  {
   "cell_type": "code",
   "execution_count": 10,
   "metadata": {},
   "outputs": [
    {
     "data": {
      "text/plain": [
       "'heart_data rows: 1025'"
      ]
     },
     "metadata": {},
     "output_type": "display_data"
    },
    {
     "data": {
      "text/plain": [
       "'heart2 rows: 969'"
      ]
     },
     "metadata": {},
     "output_type": "display_data"
    },
    {
     "data": {
      "text/plain": [
       "'rows lost: 56'"
      ]
     },
     "metadata": {},
     "output_type": "display_data"
    }
   ],
   "source": [
    "heart2 = heart_data[(np.abs(stats.zscore(heart_data)) < 3).all(axis = 1)]\n",
    "display(f'heart_data rows: {heart_data.__len__()}',\n",
    "        f'heart2 rows: {heart2.__len__()}',\n",
    "        f'rows lost: {heart_data.__len__() - heart2.__len__()}')"
   ]
  },
  {
   "cell_type": "markdown",
   "metadata": {},
   "source": [
    "#### Ritar ut transformerad data i 3D\n",
    "Vår skuggbild har nu fått en annan form. Beroende på vilket typ av modell vi vill använda kan vi behöva normalisera datan."
   ]
  },
  {
   "cell_type": "code",
   "execution_count": 11,
   "metadata": {},
   "outputs": [
    {
     "data": {
      "application/vnd.plotly.v1+json": {
       "config": {
        "plotlyServerURL": "https://plot.ly"
       },
       "data": [
        {
         "marker": {
          "size": 5
         },
         "mode": "markers",
         "type": "scatter3d",
         "x": [
          -33.37917778900234,
          -41.00592295655089,
          -68.04670124884564,
          -40.37912675772368,
          51.401819200589316,
          72.6873084750904,
          46.328149162615695,
          3.6680471901293537,
          41.83088721473838,
          96.24034737809266,
          54.60408244284477,
          22.220603868140685,
          -58.67858511599474,
          63.55908648157777,
          74.67262051667899,
          11.713247963042482,
          86.26561713611838,
          -76.16062453654027,
          -112.05103706341559,
          27.960722168437503,
          -12.527197193343655,
          -15.522649114872186,
          84.88218355120841,
          3.6680471901293537,
          -13.530675342418673,
          -15.370140260016761,
          -2.020386434501791,
          -56.870903718838434,
          -30.602569344083893,
          -11.350950227565125,
          53.68671637820975,
          45.677429281786964,
          70.84802739713592,
          84.133601994691,
          -36.19623588672032,
          4.374913822961984,
          -66.89680438656102,
          11.166360878165893,
          -56.227469439356135,
          -11.462910117899359,
          -95.48742691473593,
          -12.527197193343655,
          7.526020924736628,
          24.00509634226322,
          -49.71605635257801,
          -56.227469439356135,
          -76.16062453654027,
          38.48590146153717,
          2.3995882647353297,
          29.7870406694072,
          54.078191275340174,
          37.419461673681994,
          -21.624596222463303,
          -38.424557461606845,
          -49.83999466182832,
          11.166360878165893,
          89.25694103750291,
          -26.05761403916621,
          63.55908648157777,
          9.854582993580776,
          -67.51159641549131,
          -76.16062453654027,
          38.72177883532955,
          15.352871748436929,
          -16.764271753717814,
          32.65285530466213,
          -47.01304955155574,
          -9.862297037747492,
          -78.03555629466798,
          -74.31942619851523,
          72.6873084750904,
          54.495139335165945,
          86.0685660241213,
          59.50588456496752,
          59.50588456496752,
          28.262198769055335,
          4.374913822961984,
          84.133601994691,
          -58.83616019138186,
          39.789907251760184,
          -6.058541916068468,
          39.789907251760184,
          2.8191249720722977,
          -49.83999466182832,
          -56.227469439356135,
          48.54771170753724,
          47.34134055653579,
          -78.03555629466798,
          4.374913822961984,
          9.854582993580776,
          64.88343506876883,
          44.91567226217863,
          -12.39142102432816,
          -43.01302414164068,
          -26.05761403916621,
          37.419461673681994,
          53.68671637820975,
          0.16253582645848208,
          10.835259712351814,
          67.41923813811854,
          41.83088721473838,
          -9.130909886624655,
          9.854582993580776,
          -95.48742691473593,
          -13.530675342418673,
          54.495139335165945,
          13.596788085080691,
          -95.48742691473593,
          16.39728143176973,
          -15.370140260016761,
          0.863610110572791,
          -30.602569344083893,
          -58.67858511599474,
          67.41923813811854,
          29.7870406694072,
          108.79527435328616,
          47.34134055653579,
          -47.19311283349088,
          -15.723201943175532,
          -16.764271753717814,
          38.48590146153717,
          -20.89831941453274,
          -38.424557461606845,
          39.789907251760184,
          46.328149162615695,
          -20.89831941453274,
          -21.624596222463303,
          15.027295164090171,
          53.68671637820975,
          27.898408323136245,
          38.72177883532955,
          23.586810143007593,
          -26.05761403916621,
          15.352871748436929,
          11.166360878165893,
          27.960722168437503,
          -66.89680438656102,
          64.70958317435452,
          4.6392991522035585,
          33.81138890538178,
          79.05214177999578,
          22.80919273045388,
          -37.665206679522534,
          27.898408323136245,
          11.713247963042482,
          8.827380322620554,
          4.6392991522035585,
          0.16253582645848208,
          20.264831586768267,
          -43.01302414164068,
          89.25694103750291,
          16.39728143176973,
          -64.28372607716543,
          44.91567226217863,
          -40.354168412986105,
          -9.130909886624655,
          -15.910104813702073,
          -17.518271912857045,
          96.24034737809266,
          108.79527435328616,
          38.558641017125076,
          -24.004870751842144,
          -20.89831941453274,
          -6.335310397732858,
          27.898408323136245,
          36.1410921425416,
          59.50588456496752,
          2.8191249720722977,
          74.67262051667899,
          18.316499836818327,
          86.0685660241213,
          32.96339957520736,
          -78.03555629466798,
          -56.870903718838434,
          -36.19623588672032,
          11.713247963042482,
          -12.39142102432816,
          -12.527197193343655,
          4.374913822961984,
          33.81138890538178,
          79.05214177999578,
          45.677429281786964,
          74.67262051667899,
          64.70958317435452,
          60.36611282708209,
          -3.254219905382717,
          -30.602569344083893,
          -16.764108622515177,
          7.526020924736628,
          -14.983707875315044,
          38.558641017125076,
          0.863610110572791,
          48.54771170753724,
          32.65285530466213,
          46.328149162615695,
          -16.0000872660076,
          -13.530675342418673,
          -16.764108622515177,
          -3.254219905382717,
          10.73694813792612,
          29.7870406694072,
          44.91567226217863,
          -17.518271912857045,
          47.34134055653579,
          -15.522649114872186,
          -27.866509505129816,
          60.36611282708209,
          54.60408244284477,
          2.3995882647353297,
          37.419461673681994,
          -74.31942619851523,
          10.835259712351814,
          64.88343506876883,
          108.79527435328616,
          32.96339957520736,
          -11.350950227565125,
          -3.254219905382717,
          15.352871748436929,
          86.26561713611838,
          -67.51159641549131,
          43.70399218029378,
          -38.424557461606845,
          -56.870903718838434,
          -37.665206679522534,
          -56.870903718838434,
          -40.37912675772368,
          -66.89680438656102,
          -40.37912675772368,
          -15.910104813702073,
          14.658906131392488,
          -47.01304955155574,
          3.6680471901293537,
          15.027295164090171,
          -40.354168412986105,
          -17.518271912857045,
          79.05214177999578,
          10.73694813792612,
          41.83088721473838,
          96.24034737809266,
          -12.39142102432816,
          9.232233520289698,
          -66.89680438656102,
          43.70399218029378,
          -58.83616019138186,
          38.72177883532955,
          43.70399218029378,
          13.596788085080691,
          79.05214177999578,
          -24.004870751842144,
          -67.51159641549131,
          108.79527435328616,
          64.88343506876883,
          -64.28372607716543,
          63.55908648157777,
          41.83088721473838,
          22.80919273045388,
          27.960722168437503,
          22.80919273045388,
          -30.6077811229393,
          -40.37912675772368,
          38.558641017125076,
          20.264831586768267,
          67.41923813811854,
          -32.55621633049633,
          70.84802739713592,
          -30.6077811229393,
          86.26561713611838,
          96.24034737809266,
          -38.92767425015061,
          -16.764271753717814,
          60.36611282708209,
          2.3995882647353297,
          32.65285530466213,
          11.166360878165893,
          51.401819200589316,
          -9.862297037747492,
          10.73694813792612,
          -20.89831941453274,
          -15.723201943175532,
          37.52945677031359,
          18.316499836818327,
          -76.80415352397861,
          -33.37917778900243,
          7.526020924736628,
          37.52945677031359,
          0.16253582645848208,
          -3.254219905382717,
          23.586810143007593,
          39.789907251760184,
          -9.130909886624655,
          64.88343506876883,
          -76.80415352397861,
          72.6873084750904,
          16.39728143176973,
          4.6392991522035585,
          84.88218355120841,
          -33.37917778900243,
          86.0685660241213,
          -12.39142102432816,
          8.827380322620554,
          9.854582993580776,
          32.96339957520736,
          84.133601994691,
          -64.28372607716543,
          -67.51159641549131,
          -58.67858511599474,
          54.495139335165945,
          -41.00592295655089,
          -26.52062555045307,
          36.1410921425416,
          -30.602569344083893,
          -32.55621633049633,
          36.1410921425416,
          -47.19311283349088,
          -27.866509505129816,
          -15.522649114872186,
          18.316499836818327,
          -47.19311283349088,
          -38.92767425015061,
          11.713247963042482,
          90.91821854464833,
          14.658906131392488,
          28.262198769055335,
          67.41923813811854,
          -16.0000872660076,
          -6.335310397732858,
          -14.983707875315044,
          54.495139335165945,
          9.875488601328085,
          86.0685660241213,
          90.91821854464833,
          -15.370140260016761,
          2.8191249720722977,
          84.88218355120841,
          33.81138890538178,
          -56.227469439356135,
          89.25694103750291,
          89.25694103750291,
          -49.71605635257801,
          0.863610110572791,
          -16.764108622515177,
          63.55908648157777,
          38.48590146153717,
          -40.354168412986105,
          -76.16062453654027,
          -24.004870751842144,
          46.328149162615695,
          9.232233520289698,
          54.60408244284477,
          51.401819200589316,
          37.419461673681994,
          -6.058541916068468,
          -6.058541916068468,
          -49.71605635257801,
          -9.862297037747492,
          -16.764108622515177,
          45.677429281786964,
          -14.983707875315044,
          -47.01304955155574,
          -16.0000872660076,
          33.81138890538178,
          -78.03555629466798,
          16.39728143176973,
          24.00509634226322,
          -41.00592295655089,
          -16.764271753717814,
          -36.19623588672032,
          24.00509634226322,
          8.827380322620554,
          -76.80415352397861,
          -15.522649114872186,
          22.220603868140685,
          70.84802739713592,
          -95.48742691473593,
          -68.04670124884564,
          -15.910104813702073,
          31.117821063092016,
          48.54771170753724,
          -58.83616019138186,
          -76.80415352397861,
          9.875488601328085,
          38.558641017125076,
          9.875488601328085,
          -14.983707875315044,
          37.52945677031359,
          54.078191275340174,
          -16.0000872660076,
          90.91821854464833,
          45.677429281786964,
          -33.37917778900243,
          31.117821063092016,
          31.117821063092016,
          -37.665206679522534,
          -36.19623588672032,
          -55.902905740066664,
          -11.350950227565125,
          -112.05103706341559,
          28.262198769055335,
          -68.04670124884564,
          47.34134055653579,
          15.352871748436929,
          14.658906131392488,
          -38.92767425015061,
          -6.058541916068468,
          54.078191275340174,
          20.264831586768267,
          -9.862297037747492,
          24.00509634226322,
          -26.05761403916621,
          2.8191249720722977,
          23.586810143007593,
          -43.01302414164068,
          -11.462910117899359,
          74.67262051667899,
          -47.19311283349088,
          -32.55621633049633,
          3.6680471901293537,
          10.835259712351814,
          -40.354168412986105,
          -15.723201943175532,
          -26.52062555045307,
          -24.004870751842144,
          84.88218355120841,
          -112.05103706341559,
          -38.424557461606845,
          22.220603868140685,
          -37.665206679522534,
          10.835259712351814,
          -21.624596222463303,
          -15.723201943175532,
          90.91821854464833,
          -2.020386434501791,
          -13.530675342418673,
          -68.04670124884564,
          44.91567226217863,
          20.264831586768267,
          -11.462910117899359,
          -2.020386434501791,
          15.027295164090171,
          -41.00592295655089,
          -26.52062555045307,
          22.80919273045388,
          -49.83999466182832,
          64.70958317435452,
          -26.52062555045307,
          86.26561713611838,
          -11.350950227565125,
          48.54771170753724,
          -15.370140260016761,
          -6.335310397732858,
          -55.902905740066664,
          70.84802739713592,
          9.232233520289698,
          -30.6077811229393,
          -32.55621633049633,
          -38.92767425015061,
          -21.624596222463303,
          54.078191275340174,
          -17.518271912857045,
          72.6873084750904,
          -27.866509505129816,
          37.52945677031359,
          38.48590146153717,
          -74.31942619851523,
          13.596788085080691,
          29.7870406694072,
          -55.90290574006665
         ],
         "y": [
          -17.93324600126485,
          -2.9060392945853404,
          31.23298052733998,
          -6.474997099761856,
          42.33012349998802,
          4.68000935919346,
          5.752012863542515,
          2.1987715795820506,
          29.659715446596074,
          6.920425013189946,
          24.858325599478004,
          37.56007913208887,
          -0.9201261100965941,
          3.3289055095173175,
          -4.647781204144181,
          6.790008389676838,
          33.757997105554864,
          5.364069179511323,
          38.769279699266825,
          41.51304372498827,
          3.5461826398462457,
          0.09764748687207735,
          -21.878827730052514,
          2.1987715795820506,
          -7.053197537573233,
          -10.383246265298023,
          27.319725389907266,
          10.30105281867718,
          5.392354849572761,
          -10.696827451598024,
          20.06411908782389,
          -6.060574294325268,
          19.034161247274387,
          10.94130172946111,
          14.91027220246358,
          4.603332745833966,
          -7.597908875098225,
          -2.4258127821277307,
          10.331024077907806,
          -12.625687609296042,
          24.411019330940196,
          3.5461826398462457,
          11.738256528322706,
          -8.967812845551986,
          14.346568200265954,
          10.331024077907806,
          5.364069179511323,
          50.23831887241494,
          -9.151586263503058,
          25.494124654874707,
          -25.036165284789753,
          43.70086631475181,
          -30.168288856652488,
          39.47818997608377,
          -29.261050888997943,
          -2.4258127821277307,
          0.3307738305030427,
          16.336409247082766,
          3.3289055095173175,
          3.2895307205489814,
          28.245529585366388,
          5.364069179511323,
          8.193662175966868,
          8.390662890998316,
          9.283608936060803,
          61.45365422448711,
          15.764526097327224,
          6.202663912986878,
          32.8317215091919,
          -10.187299417106598,
          4.68000935919346,
          -23.615397857912324,
          14.65999611144376,
          -11.586015987489562,
          -11.586015987489562,
          -19.52353257891194,
          4.603332745833966,
          10.94130172946111,
          46.291320967853466,
          43.71609892296124,
          20.536772219316006,
          43.71609892296124,
          52.447592028172565,
          -29.261050888997943,
          10.331024077907806,
          -20.214401949422907,
          27.197340404082908,
          32.8317215091919,
          4.603332745833966,
          3.2895307205489814,
          16.093375760034228,
          44.1652617107005,
          -9.01930938527011,
          25.39254204204497,
          16.336409247082766,
          43.70086631475181,
          20.06411908782389,
          22.29207939479368,
          23.76260263319096,
          25.29561849443616,
          29.659715446596074,
          -23.38887504311044,
          3.2895307205489814,
          24.411019330940196,
          -7.053197537573233,
          -23.615397857912324,
          7.887479948416582,
          24.411019330940196,
          7.015706106890534,
          -10.383246265298023,
          -0.9864741096624812,
          5.392354849572761,
          -0.9201261100965941,
          25.29561849443616,
          25.494124654874707,
          12.433239789444652,
          27.197340404082908,
          16.128050057078536,
          -35.49708079979035,
          9.283608936060803,
          50.23831887241494,
          -21.433058249108168,
          39.47818997608377,
          43.71609892296124,
          5.752012863542515,
          -21.433058249108168,
          -30.168288856652488,
          18.580276429846375,
          20.06411908782389,
          39.107195078082306,
          8.193662175966868,
          48.248701949365646,
          16.336409247082766,
          8.390662890998316,
          -2.4258127821277307,
          41.51304372498827,
          -7.597908875098225,
          -0.9255966534476175,
          33.9688371458775,
          37.70558921390989,
          38.71018515593237,
          -21.343545746278867,
          19.50515035636849,
          39.107195078082306,
          6.790008389676838,
          5.718241047850184,
          33.9688371458775,
          22.29207939479368,
          51.470994024679676,
          25.39254204204497,
          0.3307738305030427,
          7.015706106890534,
          65.4913919990047,
          44.1652617107005,
          -9.48309943392778,
          -23.38887504311044,
          -16.21201059664583,
          -21.135903433209666,
          6.920425013189946,
          12.433239789444652,
          -12.765996879936889,
          46.78750745570613,
          -21.433058249108168,
          5.796033060898225,
          39.107195078082306,
          -12.223568380729459,
          -11.586015987489562,
          52.447592028172565,
          -4.647781204144181,
          11.900577759121619,
          14.65999611144376,
          6.139944708958643,
          32.8317215091919,
          10.30105281867718,
          14.91027220246358,
          6.790008389676838,
          -9.01930938527011,
          3.5461826398462457,
          4.603332745833966,
          37.70558921390989,
          38.71018515593237,
          -6.060574294325268,
          -4.647781204144181,
          -0.9255966534476175,
          3.796030543550514,
          -6.596471315249512,
          5.392354849572761,
          39.4275574651414,
          11.738256528322706,
          21.53814958532553,
          -12.765996879936889,
          -0.9864741096624812,
          -20.214401949422907,
          61.45365422448711,
          5.752012863542515,
          -12.44268076959486,
          -7.053197537573233,
          39.4275574651414,
          -6.596471315249512,
          6.505660729964407,
          25.494124654874707,
          44.1652617107005,
          -21.135903433209666,
          27.197340404082908,
          0.09764748687207735,
          19.467041998663806,
          3.796030543550514,
          24.858325599478004,
          -9.151586263503058,
          43.70086631475181,
          -10.187299417106598,
          23.76260263319096,
          16.093375760034228,
          12.433239789444652,
          6.139944708958643,
          -10.696827451598024,
          -6.596471315249512,
          8.390662890998316,
          33.757997105554864,
          28.245529585366388,
          -9.64588656092878,
          39.47818997608377,
          10.30105281867718,
          19.50515035636849,
          10.30105281867718,
          -6.474997099761856,
          -7.597908875098225,
          -6.474997099761856,
          -16.21201059664583,
          -4.835842561118521,
          15.764526097327224,
          2.1987715795820506,
          18.580276429846375,
          -9.48309943392778,
          -21.135903433209666,
          38.71018515593237,
          6.505660729964407,
          29.659715446596074,
          6.920425013189946,
          -9.01930938527011,
          -12.190891295550472,
          -7.597908875098225,
          -9.64588656092878,
          46.291320967853466,
          8.193662175966868,
          -9.64588656092878,
          7.887479948416582,
          38.71018515593237,
          46.78750745570613,
          28.245529585366388,
          12.433239789444652,
          16.093375760034228,
          65.4913919990047,
          3.3289055095173175,
          29.659715446596074,
          -21.343545746278867,
          41.51304372498827,
          -21.343545746278867,
          21.672942043372586,
          -6.474997099761856,
          -12.765996879936889,
          51.470994024679676,
          25.29561849443616,
          18.17535205851171,
          19.034161247274387,
          21.672942043372586,
          33.757997105554864,
          6.920425013189946,
          20.34905671794318,
          9.283608936060803,
          3.796030543550514,
          -9.151586263503058,
          61.45365422448711,
          -2.4258127821277307,
          42.33012349998802,
          6.202663912986878,
          6.505660729964407,
          -21.433058249108168,
          -35.49708079979035,
          -23.024321831699893,
          11.900577759121619,
          29.176875752301406,
          -17.933246001264898,
          11.738256528322706,
          -23.024321831699893,
          22.29207939479368,
          -6.596471315249512,
          48.248701949365646,
          43.71609892296124,
          -23.38887504311044,
          16.093375760034228,
          29.176875752301406,
          4.68000935919346,
          7.015706106890534,
          33.9688371458775,
          -21.878827730052514,
          -17.933246001264898,
          14.65999611144376,
          -9.01930938527011,
          5.718241047850184,
          3.2895307205489814,
          6.139944708958643,
          10.94130172946111,
          65.4913919990047,
          28.245529585366388,
          -0.9201261100965941,
          -23.615397857912324,
          -2.9060392945854128,
          5.932239475094684,
          -12.223568380729459,
          5.392354849572761,
          18.17535205851171,
          -12.223568380729459,
          16.128050057078536,
          19.467041998663806,
          0.09764748687207735,
          11.900577759121619,
          16.128050057078536,
          20.34905671794318,
          6.790008389676838,
          -9.696593739978267,
          -4.835842561118521,
          -19.52353257891194,
          25.29561849443616,
          -12.44268076959486,
          5.796033060898225,
          21.53814958532553,
          -23.615397857912324,
          -12.643295791860305,
          14.65999611144376,
          -9.696593739978267,
          -10.383246265298023,
          52.447592028172565,
          -21.878827730052514,
          37.70558921390989,
          10.331024077907806,
          0.3307738305030427,
          0.3307738305030427,
          14.346568200265954,
          -0.9864741096624812,
          39.4275574651414,
          3.3289055095173175,
          50.23831887241494,
          -9.48309943392778,
          5.364069179511323,
          46.78750745570613,
          5.752012863542515,
          -12.190891295550472,
          24.858325599478004,
          42.33012349998802,
          43.70086631475181,
          20.536772219316006,
          20.536772219316006,
          14.346568200265954,
          6.202663912986878,
          39.4275574651414,
          -6.060574294325268,
          21.53814958532553,
          15.764526097327224,
          -12.44268076959486,
          37.70558921390989,
          32.8317215091919,
          7.015706106890534,
          -8.967812845551986,
          -2.9060392945854128,
          9.283608936060803,
          14.91027220246358,
          -8.967812845551986,
          5.718241047850184,
          29.176875752301406,
          0.09764748687207735,
          37.56007913208887,
          19.034161247274387,
          24.411019330940196,
          31.23298052733998,
          -16.21201059664583,
          26.58964291747123,
          -20.214401949422907,
          46.291320967853466,
          29.176875752301406,
          -12.643295791860305,
          -12.765996879936889,
          -12.643295791860305,
          21.53814958532553,
          -23.024321831699893,
          -25.036165284789753,
          -12.44268076959486,
          -9.696593739978267,
          -6.060574294325268,
          -17.933246001264898,
          26.58964291747123,
          26.58964291747123,
          19.50515035636849,
          14.91027220246358,
          36.553056650283864,
          -10.696827451598024,
          38.769279699266825,
          -19.52353257891194,
          31.23298052733998,
          27.197340404082908,
          8.390662890998316,
          -4.835842561118521,
          20.34905671794318,
          20.536772219316006,
          -25.036165284789753,
          51.470994024679676,
          6.202663912986878,
          -8.967812845551986,
          16.336409247082766,
          52.447592028172565,
          48.248701949365646,
          25.39254204204497,
          -12.625687609296042,
          -4.647781204144181,
          16.128050057078536,
          18.17535205851171,
          2.1987715795820506,
          23.76260263319096,
          -9.48309943392778,
          -35.49708079979035,
          5.932239475094684,
          46.78750745570613,
          -21.878827730052514,
          38.769279699266825,
          39.47818997608377,
          37.56007913208887,
          19.50515035636849,
          23.76260263319096,
          -30.168288856652488,
          -35.49708079979035,
          -9.696593739978267,
          27.319725389907266,
          -7.053197537573233,
          31.23298052733998,
          44.1652617107005,
          51.470994024679676,
          -12.625687609296042,
          27.319725389907266,
          18.580276429846375,
          -2.9060392945854128,
          5.932239475094684,
          -21.343545746278867,
          -29.261050888997943,
          -0.9255966534476175,
          5.932239475094684,
          33.757997105554864,
          -10.696827451598024,
          -20.214401949422907,
          -10.383246265298023,
          5.796033060898225,
          36.553056650283864,
          19.034161247274387,
          -12.190891295550472,
          21.672942043372586,
          18.17535205851171,
          20.34905671794318,
          -30.168288856652488,
          -25.036165284789753,
          -21.135903433209666,
          4.68000935919346,
          19.467041998663806,
          -23.024321831699893,
          50.23831887241494,
          -10.187299417106598,
          7.887479948416582,
          25.494124654874707,
          36.55305665028387
         ],
         "z": [
          -1.5084015040822556,
          11.98383570162748,
          16.728908684700315,
          21.784723563682906,
          -1.3748598819874527,
          -21.95126665359877,
          25.061668612635877,
          -12.99350166210318,
          -16.2087489139321,
          -8.492048999217475,
          1.0861232127968916,
          -14.042223719860479,
          14.099625184423997,
          10.297530762003804,
          1.212119767122989,
          -2.4971063819767045,
          38.23065071831721,
          -8.348350020462533,
          1.4104617689812102,
          23.682135299252288,
          17.89297750520024,
          -1.4961984776409623,
          -2.455591781420377,
          -12.99350166210318,
          50.86462270871181,
          -10.44536969448583,
          5.569359518239315,
          -9.514696355672376,
          24.427844716113746,
          25.7391669788835,
          -35.366407685726486,
          37.51001590692213,
          -4.7302089274983325,
          32.41933021847594,
          10.407918297918101,
          -6.67663246844365,
          15.42503093806264,
          -2.500207461545002,
          12.801741777418313,
          10.86513783660646,
          -10.954658270388745,
          17.89297750520024,
          41.47732036883181,
          9.993310164336355,
          16.619856280046235,
          12.801741777418313,
          -8.348350020462533,
          -18.172700769674133,
          -17.973953695364827,
          -27.978569986888644,
          8.380616838515396,
          -18.596895716386474,
          24.363464244182133,
          -24.188959547207364,
          -15.085321723499861,
          -2.500207461545002,
          -26.622656255385316,
          -4.791331304048504,
          10.297530762003804,
          -0.669396444355509,
          -12.452785176055343,
          -8.348350020462533,
          11.123635553615042,
          -12.098917357125949,
          39.357906991485855,
          10.211118591740764,
          -4.626946185792202,
          3.9242334813374793,
          -22.90701774831225,
          -16.722375290282486,
          -21.95126665359877,
          -5.635110293405861,
          -7.507128315451069,
          -4.47642743159364,
          -4.47642743159364,
          -7.1574917901368975,
          -6.67663246844365,
          32.41933021847594,
          -1.4751228673079277,
          -9.806024986731588,
          -23.604346196291754,
          -9.806024986731588,
          -17.174796148182935,
          -15.085321723499861,
          12.801741777418313,
          9.60119163933863,
          27.20332301954255,
          -22.90701774831225,
          -6.67663246844365,
          -0.669396444355509,
          -11.094156108507962,
          21.611388433889207,
          -28.176985635181136,
          11.44133586283329,
          -4.791331304048504,
          -18.596895716386474,
          -35.366407685726486,
          14.95891688887418,
          1.6176276396969655,
          -0.7277754675808513,
          -16.2087489139321,
          3.488466214976986,
          -0.669396444355509,
          -10.954658270388745,
          50.86462270871181,
          -5.635110293405861,
          -7.089471028789161,
          -10.954658270388745,
          -8.686913780065018,
          -10.44536969448583,
          20.356766283094128,
          24.427844716113746,
          14.099625184423997,
          -0.7277754675808513,
          -27.978569986888644,
          -8.115714981210473,
          27.20332301954255,
          -13.44527342844125,
          -7.494675812757639,
          39.357906991485855,
          -18.172700769674133,
          6.201515416402985,
          -24.188959547207364,
          -9.806024986731588,
          25.061668612635877,
          6.201515416402985,
          24.363464244182133,
          -6.0927445692884685,
          -35.366407685726486,
          11.968667297958753,
          11.123635553615042,
          -18.32288394065327,
          -4.791331304048504,
          -12.098917357125949,
          -2.500207461545002,
          23.682135299252288,
          15.42503093806264,
          5.103889706600036,
          25.661559049400267,
          11.602815495634855,
          -9.341305196289682,
          -19.909207512799387,
          -0.30799622505330326,
          11.968667297958753,
          -2.4971063819767045,
          -1.4733489173282983,
          25.661559049400267,
          14.95891688887418,
          -8.57934853865298,
          11.44133586283329,
          -26.622656255385316,
          -8.686913780065018,
          28.5453451237322,
          21.611388433889207,
          7.931282697164301,
          3.488466214976986,
          -14.871049022451368,
          -17.772256742684174,
          -8.492048999217475,
          -8.115714981210473,
          -11.109443521450064,
          10.396961432525632,
          6.201515416402985,
          -20.58525467426136,
          11.968667297958753,
          -8.996728367323998,
          -4.47642743159364,
          -17.174796148182935,
          1.212119767122989,
          -25.540160799466474,
          -7.507128315451069,
          48.12576182299606,
          -22.90701774831225,
          -9.514696355672376,
          10.407918297918101,
          -2.4971063819767045,
          -28.176985635181136,
          17.89297750520024,
          -6.67663246844365,
          11.602815495634855,
          -9.341305196289682,
          37.51001590692213,
          1.212119767122989,
          5.103889706600036,
          -6.241310451587304,
          -23.042437109008684,
          24.427844716113746,
          16.172881004465964,
          41.47732036883181,
          -10.930267515924442,
          -11.109443521450064,
          20.356766283094128,
          9.60119163933863,
          10.211118591740764,
          25.061668612635877,
          -16.48116871971608,
          50.86462270871181,
          16.172881004465964,
          -23.042437109008684,
          9.832940918411696,
          -27.978569986888644,
          21.611388433889207,
          -17.772256742684174,
          27.20332301954255,
          -1.4961984776409623,
          -3.307301323519244,
          -6.241310451587304,
          1.0861232127968916,
          -17.973953695364827,
          -18.596895716386474,
          -16.722375290282486,
          1.6176276396969655,
          -11.094156108507962,
          -8.115714981210473,
          48.12576182299606,
          25.7391669788835,
          -23.042437109008684,
          -12.098917357125949,
          38.23065071831721,
          -12.452785176055343,
          -22.319953928793765,
          -24.188959547207364,
          -9.514696355672376,
          -0.30799622505330326,
          -9.514696355672376,
          21.784723563682903,
          15.42503093806264,
          21.784723563682903,
          -14.871049022451368,
          19.655211876240397,
          -4.626946185792202,
          -12.99350166210318,
          -6.0927445692884685,
          7.931282697164301,
          -17.772256742684174,
          -9.341305196289682,
          9.832940918411696,
          -16.2087489139321,
          -8.492048999217475,
          -28.176985635181136,
          -2.677512723154324,
          15.42503093806264,
          -22.319953928793765,
          -1.4751228673079277,
          11.123635553615042,
          -22.319953928793765,
          -7.089471028789161,
          -9.341305196289682,
          10.396961432525632,
          -12.452785176055343,
          -8.115714981210473,
          -11.094156108507962,
          28.5453451237322,
          10.297530762003804,
          -16.2087489139321,
          -19.909207512799387,
          23.682135299252288,
          -19.909207512799387,
          14.54973850362966,
          21.784723563682903,
          -11.109443521450064,
          -8.57934853865298,
          -0.7277754675808513,
          -17.42583492396428,
          -4.7302089274983325,
          14.54973850362966,
          38.23065071831721,
          -8.492048999217475,
          -3.2083963002887477,
          39.357906991485855,
          -6.241310451587304,
          -17.973953695364827,
          10.211118591740764,
          -2.500207461545002,
          -1.3748598819874527,
          3.9242334813374793,
          9.832940918411696,
          6.201515416402985,
          -7.494675812757639,
          9.642060663765829,
          -25.540160799466474,
          9.106099939965299,
          -1.5084015040822825,
          41.47732036883181,
          9.642060663765829,
          14.95891688887418,
          -23.042437109008684,
          -18.32288394065327,
          -9.806024986731588,
          3.488466214976986,
          -11.094156108507962,
          9.106099939965299,
          -21.95126665359877,
          -8.686913780065018,
          25.661559049400267,
          -2.455591781420377,
          -1.5084015040822825,
          -7.507128315451069,
          -28.176985635181136,
          -1.4733489173282983,
          -0.669396444355509,
          48.12576182299606,
          32.41933021847594,
          28.5453451237322,
          -12.452785176055343,
          14.099625184423997,
          -5.635110293405861,
          11.983835701627429,
          -14.677216422678725,
          -8.996728367323998,
          24.427844716113746,
          -17.42583492396428,
          -8.996728367323998,
          -13.44527342844125,
          -3.307301323519244,
          -1.4961984776409623,
          -25.540160799466474,
          -13.44527342844125,
          -3.2083963002887477,
          -2.4971063819767045,
          5.858278344517654,
          19.655211876240397,
          -7.1574917901368975,
          -0.7277754675808513,
          -16.48116871971608,
          -20.58525467426136,
          -10.930267515924442,
          -5.635110293405861,
          -2.2399292982765915,
          -7.507128315451069,
          5.858278344517654,
          -10.44536969448583,
          -17.174796148182935,
          -2.455591781420377,
          11.602815495634855,
          12.801741777418313,
          -26.622656255385316,
          -26.622656255385316,
          16.619856280046235,
          20.356766283094128,
          16.172881004465964,
          10.297530762003804,
          -18.172700769674133,
          7.931282697164301,
          -8.348350020462533,
          10.396961432525632,
          25.061668612635877,
          -2.677512723154324,
          1.0861232127968916,
          -1.3748598819874527,
          -18.596895716386474,
          -23.604346196291754,
          -23.604346196291754,
          16.619856280046235,
          3.9242334813374793,
          16.172881004465964,
          37.51001590692213,
          -10.930267515924442,
          -4.626946185792202,
          -16.48116871971608,
          11.602815495634855,
          -22.90701774831225,
          -8.686913780065018,
          9.993310164336355,
          11.983835701627429,
          39.357906991485855,
          10.407918297918101,
          9.993310164336355,
          -1.4733489173282983,
          9.106099939965299,
          -1.4961984776409623,
          -14.042223719860479,
          -4.7302089274983325,
          -10.954658270388745,
          16.72890868470034,
          -14.871049022451368,
          23.743431029015458,
          9.60119163933863,
          -1.4751228673079277,
          9.106099939965299,
          -2.2399292982765915,
          -11.109443521450064,
          -2.2399292982765915,
          -10.930267515924442,
          9.642060663765829,
          8.380616838515396,
          -16.48116871971608,
          5.858278344517654,
          37.51001590692213,
          -1.5084015040822825,
          23.743431029015458,
          23.743431029015458,
          -0.30799622505330326,
          10.407918297918101,
          -12.581577553298219,
          25.7391669788835,
          1.4104617689812102,
          -7.1574917901368975,
          16.72890868470034,
          27.20332301954255,
          -12.098917357125949,
          19.655211876240397,
          -3.2083963002887477,
          -23.604346196291754,
          8.380616838515396,
          -8.57934853865298,
          3.9242334813374793,
          9.993310164336355,
          -4.791331304048504,
          -17.174796148182935,
          -18.32288394065327,
          11.44133586283329,
          10.86513783660646,
          1.212119767122989,
          -13.44527342844125,
          -17.42583492396428,
          -12.99350166210318,
          1.6176276396969655,
          7.931282697164301,
          -7.494675812757639,
          -14.677216422678725,
          10.396961432525632,
          -2.455591781420377,
          1.4104617689812102,
          -24.188959547207364,
          -14.042223719860479,
          -0.30799622505330326,
          1.6176276396969655,
          24.363464244182133,
          -7.494675812757639,
          5.858278344517654,
          5.569359518239315,
          50.86462270871181,
          16.72890868470034,
          21.611388433889207,
          -8.57934853865298,
          10.86513783660646,
          5.569359518239315,
          -6.0927445692884685,
          11.983835701627429,
          -14.677216422678725,
          -19.909207512799387,
          -15.085321723499861,
          5.103889706600036,
          -14.677216422678725,
          38.23065071831721,
          25.7391669788835,
          9.60119163933863,
          -10.44536969448583,
          -20.58525467426136,
          -12.581577553298219,
          -4.7302089274983325,
          -2.677512723154324,
          14.54973850362966,
          -17.42583492396428,
          -3.2083963002887477,
          24.363464244182133,
          8.380616838515396,
          -17.772256742684174,
          -21.95126665359877,
          -3.307301323519244,
          9.642060663765829,
          -18.172700769674133,
          -16.72237529028249,
          -7.089471028789161,
          -27.978569986888644,
          -12.581577553298219
         ]
        },
        {
         "marker": {
          "size": 5
         },
         "mode": "markers",
         "type": "scatter3d",
         "x": [
          2.573401529583735,
          -94.95511124285737,
          -37.234880117370906,
          -37.234880117370906,
          63.96802044257996,
          -1.693751524176734,
          -33.13894877832958,
          -22.21346646615416,
          -38.340993611139886,
          7.4183049533625525,
          -37.231347703128534,
          -12.791393400179956,
          -1.693751524176734,
          -49.02626935037745,
          -31.154439342449237,
          26.091029148896414,
          19.987200022811088,
          117.31784724828059,
          12.863445608545575,
          96.81637474532558,
          -19.20259526185554,
          -41.116156247575375,
          34.726624732945794,
          39.33901629095393,
          -52.299618009840344,
          -0.6975402135244239,
          -42.9757756622078,
          34.726624732945794,
          -31.251004330408414,
          -42.9757756622078,
          -47.5200639972348,
          -31.359543817733776,
          12.42517126070788,
          9.052842548105316,
          -43.50185839854875,
          -43.50185839854875,
          -31.359543817733776,
          -26.096632624162496,
          -33.13894877832958,
          20.50625875112191,
          -35.89177494613392,
          -35.963652156200936,
          -8.462839123328543,
          57.984134925191604,
          -44.92814070740497,
          -32.844040155176266,
          -117.53464810908049,
          62.70172792472553,
          12.42517126070788,
          -60.39285242901429,
          -16.654276705709307,
          -42.9757756622078,
          48.827114485653475,
          62.70172792472553,
          -3.715658991500363,
          57.08726730328127,
          -47.5200639972348,
          -51.612142891241064,
          -3.715658991500363,
          11.305621147741613,
          -41.116156247575375,
          -49.02626935037745,
          62.70172792472553,
          96.81637474532558,
          83.52894743666509,
          12.42517126070788,
          -11.371916680568312,
          -64.619313916334,
          -41.61559523059965,
          49.333268349955276,
          53.70102208447713,
          75.25988264965362,
          12.863445608545575,
          62.70172792472553,
          -46.20116904896658,
          12.863445608545575,
          -89.3747549143893,
          -24.25156369318808,
          108.21348831883451,
          69.4202898457587,
          -85.41020779947989,
          2.59428629658656,
          -5.653258601747457,
          -49.0922732726815,
          -34.11817373525359,
          -64.84682356102385,
          62.1602718652701,
          2.9308080222416137,
          -23.800908237135143,
          -7.538831686413669,
          -31.251004330408414,
          13.070040154124406,
          71.42585466114674,
          -35.89177494613392,
          -64.619313916334,
          53.70102208447713,
          -14.814778079822922,
          34.726624732945794,
          -0.7676439225131491,
          2.9308080222416137,
          -6.950313565384309,
          69.4202898457587,
          62.1602718652701,
          20.542635823418873,
          -89.3747549143893,
          -34.11817373525359,
          -49.0922732726815,
          15.809996743113382,
          -11.74726841423511,
          -3.6632792686639655,
          -40.65665210305106,
          -9.90691572194665,
          60.09294928967667,
          23.773417038676897,
          -14.814778079822922,
          43.15621216084883,
          -0.4698297007234372,
          -27.012556542046088,
          -24.65768857344372,
          -64.84682356102385,
          -85.41020779947989,
          149.69284276845994,
          -62.58434241536394,
          83.52894743666509,
          57.08726730328127,
          -20.0879661422723,
          -11.74726841423511,
          -24.292532509235805,
          96.81637474532558,
          -38.340993611139886,
          20.409183979011726,
          -35.4519311080863,
          16.68087019388231,
          -24.65768857344372,
          -13.840825203010082,
          -37.74101858872987,
          -27.012556542046088,
          -49.00402873295596,
          -11.63211157606273,
          -54.36208777329062,
          -41.607354933455106,
          -34.11817373525359,
          20.409183979011726,
          69.73043367114144,
          59.416439860600384,
          94.02386620159166,
          0.3249193945604207,
          -31.251004330408414,
          -54.36208777329062,
          78.83382012983886,
          -42.945565456196825,
          -19.959691866037783,
          96.81637474532558,
          -48.69265565552549,
          -3.6632792686639655,
          -26.096632624162496,
          49.88349490461759,
          25.39935154493015,
          -46.20116904896658,
          -0.7676439225131491,
          69.73043367114144,
          7.4183049533625525,
          19.54236799162476,
          30.4223448603565,
          -0.6975402135244239,
          49.88349490461759,
          -31.359543817733776,
          3.6434706473750884,
          -31.93795302999069,
          -117.53464810908049,
          27.97718042909383,
          -20.0879661422723,
          26.3829768912084,
          -43.287132583144306,
          -89.3747549143893,
          20.50625875112191,
          57.08726730328127,
          -43.826298180081416,
          -1.445255233011297,
          -24.292532509235805,
          -13.083775471260582,
          -32.844040155176266,
          0.7103205321906643,
          0.7103205321906643,
          -6.048364884160808,
          -69.90005663013514,
          -31.93795302999069,
          -67.23383058690644,
          -13.840825203010082,
          -23.098919391294903,
          59.48529012863088,
          -60.39285242901429,
          -69.90005663013514,
          -37.231347703128534,
          -10.257924881813212,
          -69.90005663013514,
          34.726624732945794,
          -13.840825203010082,
          -10.257924881813212,
          -94.95511124285737,
          2.866919318575656,
          -42.945565456196825,
          -33.13894877832958,
          -1.445255233011297,
          -49.00402873295596,
          -41.607354933455106,
          27.97718042909383,
          -35.89177494613392,
          117.31784724828059,
          57.984134925191604,
          19.00797512613047,
          108.21348831883451,
          -41.97741808234469,
          -75.69716165283117,
          71.42585466114674,
          3.6434706473750884,
          21.08562694388634,
          108.21348831883451,
          7.263756851759659,
          -75.69716165283117,
          7.263756851759659,
          -40.65665210305106,
          0.7103205321906643,
          49.333268349955276,
          26.040079595410223,
          26.040079595410223,
          -7.538831686413669,
          -24.65768857344372,
          2.59428629658656,
          15.809996743113382,
          9.052842548105316,
          -60.39285242901429,
          -35.4519311080863,
          -27.012556542046088,
          0.3249193945604207,
          -3.715658991500363,
          69.73043367114144,
          -46.69527086430267,
          -31.522816698713147,
          -117.53464810908049,
          75.25988264965362,
          -54.36208777329062,
          43.15621216084883,
          0.3249193945604207,
          57.984134925191604,
          -75.69716165283117,
          -0.4698297007234372,
          -10.354653360849094,
          -5.232158362264443,
          -67.23383058690644,
          -94.95511124285737,
          -62.58434241536394,
          -67.23383058690644,
          -11.63211157606273,
          -3.6632792686639655,
          -41.607354933455106,
          43.15621216084883,
          -26.096632624162496,
          -49.00402873295596,
          33.54328516453005,
          11.305621147741613,
          -35.89177494613392,
          28.644181291988907,
          -7.538831686413669,
          26.3829768912084,
          -10.377771033327427,
          20.50625875112191,
          -44.92814070740497,
          -26.498693195554164,
          78.83382012983886,
          -14.814778079822922,
          -10.214036756472337,
          149.69284276845994,
          27.97718042909383,
          -22.21346646615416,
          49.333268349955276,
          32.12007753644868,
          -47.5200639972348,
          -24.292532509235805,
          -49.0922732726815,
          -46.69527086430267,
          26.3829768912084,
          -37.231347703128534,
          -10.377771033327427,
          7.752599902697024,
          -31.522816698713147,
          -41.97741808234469,
          -6.950313565384309,
          58.95731131388101,
          -64.619313916334,
          2.59428629658656,
          53.70102208447713,
          149.69284276845994,
          -49.69527421830592,
          -10.214036756472337,
          17.266819053525353,
          -46.20116904896658,
          25.39935154493015,
          -23.098919391294903,
          -49.29838731097256,
          94.02386620159166,
          -49.29838731097256,
          7.263756851759659,
          20.409183979011726,
          -26.498693195554164,
          55.975411208603205,
          60.09294928967667,
          20.542635823418873,
          28.644181291988907,
          -4.370025623669295,
          20.542635823418873,
          -11.63211157606273,
          19.54236799162476,
          94.02386620159166,
          -46.69527086430267,
          -1.445255233011297,
          19.987200022811088,
          -67.2365836147728,
          -20.0879661422723,
          59.48529012863088,
          -94.95511124285737,
          -11.63211157606273,
          -89.3747549143893,
          -15.74179276051731,
          60.09294928967667,
          -11.371916680568312,
          -24.65768857344372,
          26.091029148896414,
          -41.61559523059965,
          2.573401529583735,
          -15.74179276051731,
          -54.36208777329062,
          -42.9757756622078,
          32.12007753644868,
          12.863445608545575,
          21.08562694388634,
          48.827114485653475,
          58.95731131388101,
          -6.048364884160808,
          5.437339925212801,
          -49.29838731097256,
          -26.498693195554164,
          -31.522816698713147,
          59.416439860600384,
          -43.826298180081416,
          -19.959691866037783,
          49.88349490461759,
          -65.1375560502857,
          -23.800908237135143,
          -85.41020779947989,
          -15.74179276051731,
          -31.154439342449237,
          2.866919318575656,
          5.437339925212801,
          -12.863432637408087,
          13.070040154124406,
          33.54328516453005,
          -32.48381460767989,
          25.39935154493015,
          -23.800908237135143,
          5.437339925212801,
          -26.096632624162496,
          -19.959691866037783,
          -105.73458911731119,
          -49.02626935037745,
          -10.214036756472337,
          21.08562694388634,
          71.42585466114674,
          -24.25156369318808,
          -20.0879661422723,
          17.266819053525353,
          117.31784724828059,
          -0.6975402135244239,
          -67.2365836147728,
          11.305621147741613,
          9.052842548105316,
          -13.840825203010082,
          -42.945565456196825,
          23.773417038676897,
          -23.800908237135143,
          39.33901629095393,
          -49.69527421830592,
          20.409183979011726,
          -41.116156247575375,
          -8.462839123328543,
          30.4223448603565,
          -24.25156369318808,
          -37.234880117370906,
          59.48529012863088,
          -5.653258601747457,
          -11.74726841423511,
          -65.1375560502857,
          -35.963652156200936,
          -41.116156247575375,
          55.975411208603205,
          -10.257924881813212,
          -46.69527086430267,
          -16.654276705709307,
          -12.791393400179956,
          -19.959691866037783,
          -31.93795302999069,
          -35.963652156200936,
          -6.048364884160808,
          2.866919318575656,
          13.070040154124406,
          -0.7676439225131491,
          -5.232158362264443,
          7.4183049533625525,
          -64.84682356102385,
          -12.791393400179956,
          -24.25156369318808,
          32.12007753644868,
          -10.377771033327427,
          -43.287132583144306,
          -31.154439342449237,
          15.809996743113382,
          -62.58434241536394,
          -62.58434241536394,
          39.33901629095393,
          3.6434706473750884,
          -49.69527421830592,
          -32.48381460767989,
          55.975411208603205,
          -32.48381460767989,
          -3.715658991500363,
          2.9308080222416137,
          -11.371916680568312,
          -5.653258601747457,
          -9.90691572194665,
          30.4223448603565,
          75.25988264965362,
          -14.814778079822922,
          -51.612142891241064,
          -32.844040155176266,
          26.091029148896414,
          -37.74101858872987,
          -43.826298180081416,
          83.52894743666509,
          28.644181291988907,
          -43.50185839854875,
          19.00797512613047,
          -10.354653360849094,
          19.00797512613047,
          17.266819053525353,
          -19.20259526185554,
          -1.693751524176734,
          -38.340993611139886,
          7.263756851759659,
          16.68087019388231,
          -5.232158362264443,
          -6.950313565384309,
          63.96802044257996,
          -64.84682356102385,
          -5.653258601747457,
          69.4202898457587,
          -16.654276705709307,
          26.040079595410223,
          -48.69265565552549,
          -4.370025623669295,
          -67.2365836147728,
          -52.299618009840344,
          33.54328516453005,
          -41.97741808234469,
          -37.74101858872987,
          58.95731131388101,
          -8.462839123328543,
          19.54236799162476,
          -13.083775471260582,
          23.773417038676897,
          -4.370025623669295,
          -48.69265565552549,
          2.573401529583735,
          -12.863432637408087,
          -105.73458911731119,
          -44.92814070740497,
          -65.1375560502857,
          78.83382012983886,
          -43.287132583144306,
          -60.39285242901429,
          -0.4698297007234372,
          -35.4519311080863,
          -40.65665210305106,
          -51.612142891241064,
          -22.21346646615416,
          19.987200022811088,
          -10.354653360849094,
          -13.083775471260582,
          59.416439860600384,
          -9.90691572194665,
          7.752599902697024,
          16.68087019388231,
          -19.20259526185554,
          -12.863432637408087,
          63.96802044257996,
          -33.13894877832958,
          -52.299618009840344,
          48.827114485653475,
          62.1602718652701,
          -105.73458911731119,
          -41.61559523059965,
          -23.098919391294903,
          7.752599902697024
         ],
         "y": [
          23.556541563041588,
          28.644977088512753,
          -45.342706390346684,
          -45.342706390346684,
          4.793741454477388,
          -14.442294171243853,
          -12.224293706536159,
          7.433851213034287,
          -1.8996947401344129,
          -20.514028667441206,
          -25.112126461725314,
          -30.487373947955593,
          -14.442294171243853,
          -12.328643294812798,
          23.760116735181082,
          -31.43814591664965,
          43.80990334002571,
          -1.4475784578116422,
          0.2936037436475618,
          -20.309294730164726,
          -28.401835391618086,
          16.71277223278313,
          -0.29747119383125603,
          -11.259631024528748,
          -11.15140010008115,
          -31.253411826124793,
          -54.35876610520143,
          -0.29747119383125603,
          -3.102101964738247,
          -54.35876610520143,
          -0.9431123856051408,
          -23.35159639645026,
          -7.639944766101815,
          -27.503920955229074,
          -6.692348284036663,
          -6.692348284036663,
          -23.35159639645026,
          -22.300349190917075,
          -12.224293706536159,
          -21.016635525494994,
          -11.295406948218606,
          11.640254970731966,
          -3.139815371265276,
          -11.887262668813825,
          39.43915888268437,
          -17.066744059618816,
          -15.351887499024533,
          -12.089960680703424,
          -7.639944766101815,
          -39.15298329532318,
          39.180631537775234,
          -54.35876610520143,
          -18.10453383845883,
          -12.089960680703424,
          -17.821941149610556,
          -3.343951935309463,
          -0.9431123856051408,
          5.043252059482527,
          -17.821941149610556,
          -0.9665959136044763,
          16.71277223278313,
          -12.328643294812798,
          -12.089960680703424,
          -20.309294730164726,
          -0.7096147891727851,
          -7.639944766101815,
          -8.057009603181147,
          -26.60206505826523,
          4.363450343653275,
          -11.615233941104503,
          -28.34770300755303,
          -36.98325322031983,
          0.2936037436475618,
          -12.089960680703424,
          -27.591889972425967,
          0.2936037436475618,
          -31.81481334694937,
          2.926794517808901,
          -18.919939821685706,
          -17.60417972385106,
          10.785449302006045,
          -21.12238500947889,
          -20.02061613542958,
          -34.08289531119135,
          5.911748772565157,
          -0.2698213328960555,
          -25.01018909949351,
          -33.85538116772312,
          -12.204546702935714,
          24.243315808655865,
          -3.102101964738247,
          -39.052909576980916,
          -16.00454945094556,
          -11.295406948218606,
          -26.60206505826523,
          -28.34770300755303,
          1.3890148084906289,
          -0.29747119383125603,
          -28.2550990567332,
          -33.85538116772312,
          -46.91521239734023,
          -17.60417972385106,
          -25.01018909949351,
          -23.2086600355999,
          -31.81481334694937,
          5.911748772565157,
          -34.08289531119135,
          -36.10185000568426,
          -12.665932501361153,
          -2.981964773786643,
          -32.95130588986816,
          -28.6347375244039,
          -19.044442171842675,
          -15.532722843066423,
          1.3890148084906289,
          -11.316808353226836,
          -17.607803705609598,
          -38.66217031969387,
          -3.559439336247612,
          -0.2698213328960555,
          10.785449302006045,
          -11.579919772915774,
          -31.902450519630015,
          -0.7096147891727851,
          -3.343951935309463,
          -21.597291348163306,
          -12.665932501361153,
          -37.03549708013646,
          -20.309294730164726,
          -1.8996947401344129,
          18.45891050971826,
          -14.447887157995888,
          -27.08807322215694,
          -3.559439336247612,
          17.185919912726057,
          -16.0468686526859,
          -38.66217031969387,
          -21.653817267680143,
          -26.430123546219633,
          -26.37096567951888,
          -22.915957578378706,
          5.911748772565157,
          18.45891050971826,
          15.653418225417925,
          -8.56140661109747,
          -26.958134859979058,
          15.433173586804227,
          -3.102101964738247,
          -26.37096567951888,
          -27.36592006397027,
          -24.933053047487668,
          -8.730619427731497,
          -20.309294730164726,
          -17.00321758674543,
          -2.981964773786643,
          -22.300349190917075,
          -4.428678038426658,
          28.782114037557605,
          -27.591889972425967,
          -28.2550990567332,
          15.653418225417925,
          -20.514028667441206,
          4.932493562794384,
          7.421855958947221,
          -31.253411826124793,
          -4.428678038426658,
          -23.35159639645026,
          -40.21662465140119,
          -9.670780729302164,
          -15.351887499024533,
          -4.6357793733659545,
          -21.597291348163306,
          4.8448425703070725,
          -6.146785462377364,
          -31.81481334694937,
          -21.016635525494994,
          -3.343951935309463,
          22.680054816396407,
          -3.2675476792554456,
          -37.03549708013646,
          5.088443063328502,
          -17.066744059618816,
          -23.559610257823454,
          -23.559610257823454,
          -6.759633919881281,
          25.602803648119078,
          -9.670780729302164,
          -7.740072356182128,
          17.185919912726057,
          -11.48451051725528,
          25.753048338507327,
          -39.15298329532318,
          25.602803648119078,
          -25.112126461725314,
          2.9754717861879882,
          25.602803648119078,
          -0.29747119383125603,
          17.185919912726057,
          2.9754717861879882,
          28.644977088512753,
          11.775976286660388,
          -24.933053047487668,
          -12.224293706536159,
          -3.2675476792554456,
          -21.653817267680143,
          -22.915957578378706,
          -4.6357793733659545,
          -11.295406948218606,
          -1.4475784578116422,
          -11.887262668813825,
          20.176609323037052,
          -18.919939821685706,
          -8.237383995351681,
          -18.13962501530506,
          -16.00454945094556,
          -40.21662465140119,
          -27.797765674057068,
          -18.919939821685706,
          -30.831671125717918,
          -18.13962501530506,
          -30.831671125717918,
          -32.95130588986816,
          -23.559610257823454,
          -11.615233941104503,
          -14.18399300175294,
          -14.18399300175294,
          24.243315808655865,
          -3.559439336247612,
          -21.12238500947889,
          -36.10185000568426,
          -27.503920955229074,
          -39.15298329532318,
          -14.447887157995888,
          -38.66217031969387,
          15.433173586804227,
          -17.821941149610556,
          15.653418225417925,
          20.442212187198397,
          -19.437336507860614,
          -15.351887499024533,
          -36.98325322031983,
          -26.37096567951888,
          -11.316808353226836,
          15.433173586804227,
          -11.887262668813825,
          -18.13962501530506,
          -17.607803705609598,
          -9.671731453790846,
          -9.232549406892456,
          -7.740072356182128,
          28.644977088512753,
          -31.902450519630015,
          -7.740072356182128,
          -26.430123546219633,
          -2.981964773786643,
          -22.915957578378706,
          -11.316808353226836,
          -22.300349190917075,
          -21.653817267680143,
          -18.906798350214583,
          -0.9665959136044763,
          -11.295406948218606,
          9.382823994726579,
          24.243315808655865,
          4.8448425703070725,
          -9.446558397029918,
          -21.016635525494994,
          39.43915888268437,
          -9.449474452009873,
          -27.36592006397027,
          1.3890148084906289,
          -30.408302868718376,
          -11.579919772915774,
          -4.6357793733659545,
          7.433851213034287,
          -11.615233941104503,
          -2.1437375157875977,
          -0.9431123856051408,
          -37.03549708013646,
          -34.08289531119135,
          20.442212187198397,
          4.8448425703070725,
          -25.112126461725314,
          -9.446558397029918,
          -13.108802486122316,
          -19.437336507860614,
          -8.237383995351681,
          -46.91521239734023,
          -22.430501931745706,
          -26.60206505826523,
          -21.12238500947889,
          -28.34770300755303,
          -11.579919772915774,
          -9.476620543674569,
          -30.408302868718376,
          -6.360412517687773,
          -27.591889972425967,
          28.782114037557605,
          -11.48451051725528,
          -24.25937730891333,
          -26.958134859979058,
          -24.25937730891333,
          -30.831671125717918,
          18.45891050971826,
          -9.449474452009873,
          -37.342775804488305,
          -19.044442171842675,
          -23.2086600355999,
          9.382823994726579,
          2.2329476416687437,
          -23.2086600355999,
          -26.430123546219633,
          4.932493562794384,
          -26.958134859979058,
          20.442212187198397,
          -3.2675476792554456,
          43.80990334002571,
          12.618233043067077,
          -21.597291348163306,
          25.753048338507327,
          28.644977088512753,
          -26.430123546219633,
          -31.81481334694937,
          39.522003029334236,
          -19.044442171842675,
          -8.057009603181147,
          -3.559439336247612,
          -31.43814591664965,
          4.363450343653275,
          23.556541563041588,
          39.522003029334236,
          -26.37096567951888,
          -54.35876610520143,
          -2.1437375157875977,
          0.2936037436475618,
          -27.797765674057068,
          -18.10453383845883,
          -22.430501931745706,
          -6.759633919881281,
          -11.081418009507633,
          -24.25937730891333,
          -9.449474452009873,
          -19.437336507860614,
          -8.56140661109747,
          22.680054816396407,
          -8.730619427731497,
          -4.428678038426658,
          54.57135141942104,
          -12.204546702935714,
          10.785449302006045,
          39.522003029334236,
          23.760116735181082,
          11.775976286660388,
          -11.081418009507633,
          -0.32093781590589027,
          -39.052909576980916,
          -18.906798350214583,
          36.07500465029748,
          28.782114037557605,
          -12.204546702935714,
          -11.081418009507633,
          -22.300349190917075,
          -8.730619427731497,
          -25.13276572296362,
          -12.328643294812798,
          -30.408302868718376,
          -27.797765674057068,
          -16.00454945094556,
          2.926794517808901,
          -21.597291348163306,
          -6.360412517687773,
          -1.4475784578116422,
          -31.253411826124793,
          12.618233043067077,
          -0.9665959136044763,
          -27.503920955229074,
          17.185919912726057,
          -24.933053047487668,
          -15.532722843066423,
          -12.204546702935714,
          -11.259631024528748,
          -9.476620543674569,
          18.45891050971826,
          16.71277223278313,
          -3.139815371265276,
          7.421855958947221,
          2.926794517808901,
          -45.342706390346684,
          25.753048338507327,
          -20.02061613542958,
          -12.665932501361153,
          54.57135141942104,
          11.640254970731966,
          16.71277223278313,
          -37.342775804488305,
          2.9754717861879882,
          20.442212187198397,
          39.180631537775234,
          -30.487373947955593,
          -8.730619427731497,
          -9.670780729302164,
          11.640254970731966,
          -6.759633919881281,
          11.775976286660388,
          -39.052909576980916,
          -28.2550990567332,
          -9.232549406892456,
          -20.514028667441206,
          -0.2698213328960555,
          -30.487373947955593,
          2.926794517808901,
          -2.1437375157875977,
          -9.446558397029918,
          -6.146785462377364,
          23.760116735181082,
          -36.10185000568426,
          -31.902450519630015,
          -31.902450519630015,
          -11.259631024528748,
          -40.21662465140119,
          -9.476620543674569,
          36.07500465029748,
          -37.342775804488305,
          36.07500465029748,
          -17.821941149610556,
          -33.85538116772312,
          -8.057009603181147,
          -20.02061613542958,
          -28.6347375244039,
          7.421855958947221,
          -36.98325322031983,
          1.3890148084906289,
          5.043252059482527,
          -17.066744059618816,
          -31.43814591664965,
          -16.0468686526859,
          22.680054816396407,
          -0.7096147891727851,
          9.382823994726579,
          -6.692348284036663,
          20.176609323037052,
          -9.671731453790846,
          20.176609323037052,
          -6.360412517687773,
          -28.401835391618086,
          -14.442294171243853,
          -1.8996947401344129,
          -30.831671125717918,
          -27.08807322215694,
          -9.232549406892456,
          -46.91521239734023,
          4.793741454477388,
          -0.2698213328960555,
          -20.02061613542958,
          -17.60417972385106,
          39.180631537775234,
          -14.18399300175294,
          -17.00321758674543,
          2.2329476416687437,
          12.618233043067077,
          -11.15140010008115,
          -18.906798350214583,
          -8.237383995351681,
          -16.0468686526859,
          -22.430501931745706,
          -3.139815371265276,
          4.932493562794384,
          5.088443063328502,
          -15.532722843066423,
          2.2329476416687437,
          -17.00321758674543,
          23.556541563041588,
          -0.32093781590589027,
          -25.13276572296362,
          39.43915888268437,
          54.57135141942104,
          -27.36592006397027,
          -6.146785462377364,
          -39.15298329532318,
          -17.607803705609598,
          -14.447887157995888,
          -32.95130588986816,
          5.043252059482527,
          7.433851213034287,
          43.80990334002571,
          -9.671731453790846,
          5.088443063328502,
          -8.56140661109747,
          -28.6347375244039,
          -13.108802486122316,
          -27.08807322215694,
          -28.401835391618086,
          -0.32093781590589027,
          4.793741454477388,
          -12.224293706536159,
          -11.15140010008115,
          -18.10453383845883,
          -25.01018909949351,
          -25.13276572296362,
          4.363450343653275,
          -11.48451051725528,
          -13.108802486122316
         ],
         "z": [
          -33.943611991224884,
          -13.842873862154889,
          -7.312905858446236,
          -7.312905858446236,
          3.3668091135513674,
          -9.505603869573452,
          13.647937995727316,
          -22.376248038936282,
          -25.659252757671958,
          7.962154587986964,
          -6.898759164752842,
          2.5481292583175805,
          -9.505603869573452,
          2.3867388981143045,
          -7.900768124695696,
          10.583674441367089,
          -9.116067776594573,
          23.0033557620678,
          -11.958810549409707,
          -2.515472898177327,
          12.303859181840773,
          2.0496549235133457,
          14.650122437397163,
          18.57288899545799,
          -5.492039597193472,
          2.51973771496727,
          5.5135033845199315,
          14.650122437397163,
          22.350313132119563,
          5.5135033845199315,
          2.154292339322177,
          -8.414693248166392,
          5.9933307476923385,
          -4.673282964456051,
          6.523963356790198,
          6.523963356790198,
          -8.414693248166392,
          -7.734736850145542,
          13.647937995727316,
          -21.349314979478343,
          -1.6046073005012431,
          -0.946376896784313,
          6.408398533183823,
          -4.764160075722443,
          9.988738457141089,
          -6.203368913518085,
          29.66054326288814,
          -25.534621766186497,
          5.9933307476923385,
          -3.547606737556501,
          6.140826069582015,
          5.5135033845199315,
          -13.78862699911506,
          -25.534621766186497,
          22.796696365468314,
          -12.393642788074885,
          2.154292339322177,
          12.197773731290063,
          22.796696365468314,
          -2.2010466278318517,
          2.0496549235133457,
          2.3867388981143045,
          -25.534621766186497,
          -2.515472898177327,
          44.96747563024681,
          5.9933307476923385,
          -21.314016908121836,
          -8.179339401229697,
          -18.051736158386653,
          -13.2146037511093,
          21.0614480871338,
          6.630895218004418,
          -11.958810549409707,
          -25.534621766186497,
          13.710146054984024,
          -11.958810549409707,
          -2.552689822321191,
          -30.293242837070085,
          -15.140833674461321,
          -5.085589760253607,
          -16.343221534794548,
          19.92275063341897,
          -7.397995517669851,
          -31.252047457443318,
          -17.83504331548359,
          1.3293809081441992,
          -5.184309410591741,
          -16.515516751254463,
          2.6751607698609616,
          28.439294781605287,
          22.350313132119563,
          -12.775550632476875,
          -30.50847719168733,
          -1.6046073005012431,
          -8.179339401229697,
          21.0614480871338,
          41.39752502291518,
          14.650122437397163,
          19.046485460383845,
          -16.515516751254463,
          -5.762105446363899,
          -5.085589760253607,
          -5.184309410591741,
          0.06800994644108042,
          -2.552689822321191,
          -17.83504331548359,
          -31.252047457443318,
          12.591174405484116,
          21.563470168812767,
          -14.06516872682669,
          4.172098653922682,
          -5.849105005788483,
          -8.598426818592996,
          -1.2828430660683174,
          41.39752502291518,
          -0.34928139467002534,
          -3.9396242590036934,
          4.703353770973098,
          6.5513646797786445,
          1.3293809081441992,
          -16.343221534794548,
          1.795553341337278,
          12.584089491290134,
          44.96747563024681,
          -12.393642788074885,
          -8.240231809263607,
          21.563470168812767,
          -3.026297342785143,
          -2.515472898177327,
          -25.659252757671958,
          -22.19546185050075,
          -18.404924232387618,
          -9.945775249681624,
          6.5513646797786445,
          29.37522206139839,
          6.344365350161036,
          4.703353770973098,
          -21.75418056269583,
          2.049681315856496,
          -4.761783274486167,
          2.894419294964135,
          -17.83504331548359,
          -22.19546185050075,
          3.5995674963582194,
          29.003468599094532,
          -12.822543023532974,
          17.83459018751724,
          22.350313132119563,
          -4.761783274486167,
          -12.762881712204237,
          -20.833433048801908,
          -34.88092668296325,
          -2.515472898177327,
          10.384907170057428,
          -14.06516872682669,
          -7.734736850145542,
          6.521552727465671,
          -13.554680801889322,
          13.710146054984024,
          19.046485460383845,
          3.5995674963582194,
          7.962154587986964,
          -3.291073357311273,
          -5.246491373428505,
          2.51973771496727,
          6.521552727465671,
          -8.414693248166392,
          1.681739648234489,
          -17.429276794938566,
          29.66054326288814,
          -7.270100287922683,
          -8.240231809263607,
          23.277770960210773,
          44.368198046619355,
          -2.552689822321191,
          -21.349314979478343,
          -12.393642788074885,
          -20.84713073350276,
          6.119249491894565,
          -3.026297342785143,
          0.4750002941941311,
          -6.203368913518085,
          2.169440165139079,
          2.169440165139079,
          -23.92803173741116,
          -20.52536070623911,
          -17.429276794938566,
          15.26831155195683,
          29.37522206139839,
          13.015785623181506,
          -7.151796469294539,
          -3.547606737556501,
          -20.52536070623911,
          -6.898759164752842,
          15.747318228245373,
          -20.52536070623911,
          14.650122437397163,
          29.37522206139839,
          15.747318228245373,
          -13.842873862154889,
          25.70913079178914,
          -20.833433048801908,
          13.647937995727316,
          6.119249491894565,
          -21.75418056269583,
          2.894419294964135,
          -7.270100287922683,
          -1.6046073005012431,
          23.0033557620678,
          -4.764160075722443,
          -35.31545021661432,
          -15.140833674461321,
          32.944035338510446,
          27.22547814636075,
          -30.50847719168733,
          1.681739648234489,
          -18.63143246060592,
          -15.140833674461321,
          1.7440830251451453,
          27.22547814636075,
          1.7440830251451453,
          4.172098653922682,
          2.169440165139079,
          -13.2146037511093,
          2.367654361283289,
          2.367654361283289,
          28.439294781605287,
          6.5513646797786445,
          19.92275063341897,
          12.591174405484116,
          -4.673282964456051,
          -3.547606737556501,
          -18.404924232387618,
          4.703353770973098,
          17.83459018751724,
          22.796696365468314,
          3.5995674963582194,
          -0.19459381149973415,
          1.7122268787264374,
          29.66054326288814,
          6.630895218004418,
          -4.761783274486167,
          -0.34928139467002534,
          17.83459018751724,
          -4.764160075722443,
          27.22547814636075,
          -3.9396242590036934,
          6.893011580267796,
          10.617558949229107,
          15.26831155195683,
          -13.842873862154889,
          12.584089491290134,
          15.26831155195683,
          2.049681315856496,
          -14.06516872682669,
          2.894419294964135,
          -0.34928139467002534,
          -7.734736850145542,
          -21.75418056269583,
          23.60474225355072,
          -2.2010466278318517,
          -1.6046073005012431,
          44.43308011307906,
          28.439294781605287,
          23.277770960210773,
          8.825791371969041,
          -21.349314979478343,
          9.988738457141089,
          -8.534422759993637,
          -12.762881712204237,
          41.39752502291518,
          12.3429444773409,
          1.795553341337278,
          -7.270100287922683,
          -22.376248038936282,
          -13.2146037511093,
          -12.509690516035207,
          2.154292339322177,
          -3.026297342785143,
          -31.252047457443318,
          -0.19459381149973415,
          23.277770960210773,
          -6.898759164752842,
          8.825791371969041,
          -20.33766817016943,
          1.7122268787264374,
          32.944035338510446,
          -5.762105446363899,
          3.194316969982653,
          -8.179339401229697,
          19.92275063341897,
          21.0614480871338,
          1.795553341337278,
          -26.622635251624573,
          12.3429444773409,
          -1.1476177840111559,
          13.710146054984024,
          -13.554680801889322,
          13.015785623181506,
          17.356163683635735,
          -12.822543023532974,
          17.356163683635735,
          1.7440830251451453,
          -22.19546185050075,
          -8.534422759993637,
          -16.27816627114461,
          -8.598426818592996,
          0.06800994644108042,
          44.43308011307906,
          11.482558549963308,
          0.06800994644108042,
          2.049681315856496,
          -3.291073357311273,
          -12.822543023532974,
          -0.19459381149973415,
          6.119249491894565,
          -9.116067776594573,
          -6.442417346397455,
          -8.240231809263607,
          -7.151796469294539,
          -13.842873862154889,
          2.049681315856496,
          -2.552689822321191,
          16.283632661677153,
          -8.598426818592996,
          -21.314016908121836,
          6.5513646797786445,
          10.583674441367089,
          -18.051736158386653,
          -33.943611991224884,
          16.283632661677153,
          -4.761783274486167,
          5.5135033845199315,
          -12.509690516035207,
          -11.958810549409707,
          -18.63143246060592,
          -13.78862699911506,
          3.194316969982653,
          -23.92803173741116,
          5.3561868805001716,
          17.356163683635735,
          -8.534422759993637,
          1.7122268787264374,
          29.003468599094532,
          -20.84713073350276,
          -34.88092668296325,
          6.521552727465671,
          -13.557467891450948,
          2.6751607698609616,
          -16.343221534794548,
          16.283632661677153,
          -7.900768124695696,
          25.70913079178914,
          5.3561868805001716,
          -22.448719647518868,
          -12.775550632476875,
          23.60474225355072,
          -11.693046658016852,
          -13.554680801889322,
          2.6751607698609616,
          5.3561868805001716,
          -7.734736850145542,
          -34.88092668296325,
          -13.86598705705845,
          2.3867388981143045,
          12.3429444773409,
          -18.63143246060592,
          -30.50847719168733,
          -30.293242837070085,
          -8.240231809263607,
          -1.1476177840111559,
          23.0033557620678,
          2.51973771496727,
          -6.442417346397455,
          -2.2010466278318517,
          -4.673282964456051,
          29.37522206139839,
          -20.833433048801908,
          -1.2828430660683174,
          2.6751607698609616,
          18.57288899545799,
          -26.622635251624573,
          -22.19546185050075,
          2.0496549235133457,
          6.408398533183823,
          -5.246491373428505,
          -30.293242837070085,
          -7.312905858446236,
          -7.151796469294539,
          -7.397995517669851,
          21.563470168812767,
          -13.557467891450948,
          -0.946376896784313,
          2.0496549235133457,
          -16.27816627114461,
          15.747318228245373,
          -0.19459381149973415,
          6.140826069582015,
          2.5481292583175805,
          -34.88092668296325,
          -17.429276794938566,
          -0.946376896784313,
          -23.92803173741116,
          25.70913079178914,
          -12.775550632476875,
          19.046485460383845,
          10.617558949229107,
          7.962154587986964,
          1.3293809081441992,
          2.5481292583175805,
          -30.293242837070085,
          -12.509690516035207,
          8.825791371969041,
          44.368198046619355,
          -7.900768124695696,
          12.591174405484116,
          12.584089491290134,
          12.584089491290134,
          18.57288899545799,
          1.681739648234489,
          -26.622635251624573,
          -11.693046658016852,
          -16.27816627114461,
          -11.693046658016852,
          22.796696365468314,
          -16.515516751254463,
          -21.314016908121836,
          -7.397995517669851,
          -5.849105005788483,
          -5.246491373428505,
          6.630895218004418,
          41.39752502291518,
          12.197773731290063,
          -6.203368913518085,
          10.583674441367089,
          6.344365350161036,
          -20.84713073350276,
          44.96747563024681,
          44.43308011307906,
          6.523963356790198,
          -35.31545021661432,
          6.893011580267796,
          -35.31545021661432,
          -1.1476177840111559,
          12.303859181840773,
          -9.505603869573452,
          -25.659252757671958,
          1.7440830251451453,
          -9.945775249681624,
          10.617558949229107,
          -5.762105446363899,
          3.3668091135513674,
          1.3293809081441992,
          -7.397995517669851,
          -5.085589760253607,
          6.140826069582015,
          2.367654361283289,
          10.384907170057428,
          11.482558549963308,
          -6.442417346397455,
          -5.492039597193472,
          23.60474225355072,
          32.944035338510446,
          6.344365350161036,
          3.194316969982653,
          6.408398533183823,
          -3.291073357311273,
          0.4750002941941311,
          -1.2828430660683174,
          11.482558549963308,
          10.384907170057428,
          -33.943611991224884,
          -22.448719647518868,
          -13.86598705705845,
          9.988738457141089,
          -13.557467891450948,
          -12.762881712204237,
          44.368198046619355,
          -3.547606737556501,
          -3.9396242590036934,
          -18.404924232387618,
          4.172098653922682,
          12.197773731290063,
          -22.376248038936282,
          -9.116067776594573,
          6.893011580267796,
          0.4750002941941311,
          29.003468599094532,
          -5.849105005788483,
          -20.33766817016943,
          -9.945775249681624,
          12.303859181840773,
          -22.448719647518868,
          3.3668091135513674,
          13.647937995727316,
          -5.492039597193472,
          -13.78862699911506,
          -5.184309410591741,
          -13.86598705705845,
          -18.051736158386653,
          13.015785623181506,
          -20.33766817016943
         ]
        }
       ],
       "layout": {
        "template": {
         "data": {
          "bar": [
           {
            "error_x": {
             "color": "#2a3f5f"
            },
            "error_y": {
             "color": "#2a3f5f"
            },
            "marker": {
             "line": {
              "color": "#E5ECF6",
              "width": 0.5
             },
             "pattern": {
              "fillmode": "overlay",
              "size": 10,
              "solidity": 0.2
             }
            },
            "type": "bar"
           }
          ],
          "barpolar": [
           {
            "marker": {
             "line": {
              "color": "#E5ECF6",
              "width": 0.5
             },
             "pattern": {
              "fillmode": "overlay",
              "size": 10,
              "solidity": 0.2
             }
            },
            "type": "barpolar"
           }
          ],
          "carpet": [
           {
            "aaxis": {
             "endlinecolor": "#2a3f5f",
             "gridcolor": "white",
             "linecolor": "white",
             "minorgridcolor": "white",
             "startlinecolor": "#2a3f5f"
            },
            "baxis": {
             "endlinecolor": "#2a3f5f",
             "gridcolor": "white",
             "linecolor": "white",
             "minorgridcolor": "white",
             "startlinecolor": "#2a3f5f"
            },
            "type": "carpet"
           }
          ],
          "choropleth": [
           {
            "colorbar": {
             "outlinewidth": 0,
             "ticks": ""
            },
            "type": "choropleth"
           }
          ],
          "contour": [
           {
            "colorbar": {
             "outlinewidth": 0,
             "ticks": ""
            },
            "colorscale": [
             [
              0,
              "#0d0887"
             ],
             [
              0.1111111111111111,
              "#46039f"
             ],
             [
              0.2222222222222222,
              "#7201a8"
             ],
             [
              0.3333333333333333,
              "#9c179e"
             ],
             [
              0.4444444444444444,
              "#bd3786"
             ],
             [
              0.5555555555555556,
              "#d8576b"
             ],
             [
              0.6666666666666666,
              "#ed7953"
             ],
             [
              0.7777777777777778,
              "#fb9f3a"
             ],
             [
              0.8888888888888888,
              "#fdca26"
             ],
             [
              1,
              "#f0f921"
             ]
            ],
            "type": "contour"
           }
          ],
          "contourcarpet": [
           {
            "colorbar": {
             "outlinewidth": 0,
             "ticks": ""
            },
            "type": "contourcarpet"
           }
          ],
          "heatmap": [
           {
            "colorbar": {
             "outlinewidth": 0,
             "ticks": ""
            },
            "colorscale": [
             [
              0,
              "#0d0887"
             ],
             [
              0.1111111111111111,
              "#46039f"
             ],
             [
              0.2222222222222222,
              "#7201a8"
             ],
             [
              0.3333333333333333,
              "#9c179e"
             ],
             [
              0.4444444444444444,
              "#bd3786"
             ],
             [
              0.5555555555555556,
              "#d8576b"
             ],
             [
              0.6666666666666666,
              "#ed7953"
             ],
             [
              0.7777777777777778,
              "#fb9f3a"
             ],
             [
              0.8888888888888888,
              "#fdca26"
             ],
             [
              1,
              "#f0f921"
             ]
            ],
            "type": "heatmap"
           }
          ],
          "heatmapgl": [
           {
            "colorbar": {
             "outlinewidth": 0,
             "ticks": ""
            },
            "colorscale": [
             [
              0,
              "#0d0887"
             ],
             [
              0.1111111111111111,
              "#46039f"
             ],
             [
              0.2222222222222222,
              "#7201a8"
             ],
             [
              0.3333333333333333,
              "#9c179e"
             ],
             [
              0.4444444444444444,
              "#bd3786"
             ],
             [
              0.5555555555555556,
              "#d8576b"
             ],
             [
              0.6666666666666666,
              "#ed7953"
             ],
             [
              0.7777777777777778,
              "#fb9f3a"
             ],
             [
              0.8888888888888888,
              "#fdca26"
             ],
             [
              1,
              "#f0f921"
             ]
            ],
            "type": "heatmapgl"
           }
          ],
          "histogram": [
           {
            "marker": {
             "pattern": {
              "fillmode": "overlay",
              "size": 10,
              "solidity": 0.2
             }
            },
            "type": "histogram"
           }
          ],
          "histogram2d": [
           {
            "colorbar": {
             "outlinewidth": 0,
             "ticks": ""
            },
            "colorscale": [
             [
              0,
              "#0d0887"
             ],
             [
              0.1111111111111111,
              "#46039f"
             ],
             [
              0.2222222222222222,
              "#7201a8"
             ],
             [
              0.3333333333333333,
              "#9c179e"
             ],
             [
              0.4444444444444444,
              "#bd3786"
             ],
             [
              0.5555555555555556,
              "#d8576b"
             ],
             [
              0.6666666666666666,
              "#ed7953"
             ],
             [
              0.7777777777777778,
              "#fb9f3a"
             ],
             [
              0.8888888888888888,
              "#fdca26"
             ],
             [
              1,
              "#f0f921"
             ]
            ],
            "type": "histogram2d"
           }
          ],
          "histogram2dcontour": [
           {
            "colorbar": {
             "outlinewidth": 0,
             "ticks": ""
            },
            "colorscale": [
             [
              0,
              "#0d0887"
             ],
             [
              0.1111111111111111,
              "#46039f"
             ],
             [
              0.2222222222222222,
              "#7201a8"
             ],
             [
              0.3333333333333333,
              "#9c179e"
             ],
             [
              0.4444444444444444,
              "#bd3786"
             ],
             [
              0.5555555555555556,
              "#d8576b"
             ],
             [
              0.6666666666666666,
              "#ed7953"
             ],
             [
              0.7777777777777778,
              "#fb9f3a"
             ],
             [
              0.8888888888888888,
              "#fdca26"
             ],
             [
              1,
              "#f0f921"
             ]
            ],
            "type": "histogram2dcontour"
           }
          ],
          "mesh3d": [
           {
            "colorbar": {
             "outlinewidth": 0,
             "ticks": ""
            },
            "type": "mesh3d"
           }
          ],
          "parcoords": [
           {
            "line": {
             "colorbar": {
              "outlinewidth": 0,
              "ticks": ""
             }
            },
            "type": "parcoords"
           }
          ],
          "pie": [
           {
            "automargin": true,
            "type": "pie"
           }
          ],
          "scatter": [
           {
            "fillpattern": {
             "fillmode": "overlay",
             "size": 10,
             "solidity": 0.2
            },
            "type": "scatter"
           }
          ],
          "scatter3d": [
           {
            "line": {
             "colorbar": {
              "outlinewidth": 0,
              "ticks": ""
             }
            },
            "marker": {
             "colorbar": {
              "outlinewidth": 0,
              "ticks": ""
             }
            },
            "type": "scatter3d"
           }
          ],
          "scattercarpet": [
           {
            "marker": {
             "colorbar": {
              "outlinewidth": 0,
              "ticks": ""
             }
            },
            "type": "scattercarpet"
           }
          ],
          "scattergeo": [
           {
            "marker": {
             "colorbar": {
              "outlinewidth": 0,
              "ticks": ""
             }
            },
            "type": "scattergeo"
           }
          ],
          "scattergl": [
           {
            "marker": {
             "colorbar": {
              "outlinewidth": 0,
              "ticks": ""
             }
            },
            "type": "scattergl"
           }
          ],
          "scattermapbox": [
           {
            "marker": {
             "colorbar": {
              "outlinewidth": 0,
              "ticks": ""
             }
            },
            "type": "scattermapbox"
           }
          ],
          "scatterpolar": [
           {
            "marker": {
             "colorbar": {
              "outlinewidth": 0,
              "ticks": ""
             }
            },
            "type": "scatterpolar"
           }
          ],
          "scatterpolargl": [
           {
            "marker": {
             "colorbar": {
              "outlinewidth": 0,
              "ticks": ""
             }
            },
            "type": "scatterpolargl"
           }
          ],
          "scatterternary": [
           {
            "marker": {
             "colorbar": {
              "outlinewidth": 0,
              "ticks": ""
             }
            },
            "type": "scatterternary"
           }
          ],
          "surface": [
           {
            "colorbar": {
             "outlinewidth": 0,
             "ticks": ""
            },
            "colorscale": [
             [
              0,
              "#0d0887"
             ],
             [
              0.1111111111111111,
              "#46039f"
             ],
             [
              0.2222222222222222,
              "#7201a8"
             ],
             [
              0.3333333333333333,
              "#9c179e"
             ],
             [
              0.4444444444444444,
              "#bd3786"
             ],
             [
              0.5555555555555556,
              "#d8576b"
             ],
             [
              0.6666666666666666,
              "#ed7953"
             ],
             [
              0.7777777777777778,
              "#fb9f3a"
             ],
             [
              0.8888888888888888,
              "#fdca26"
             ],
             [
              1,
              "#f0f921"
             ]
            ],
            "type": "surface"
           }
          ],
          "table": [
           {
            "cells": {
             "fill": {
              "color": "#EBF0F8"
             },
             "line": {
              "color": "white"
             }
            },
            "header": {
             "fill": {
              "color": "#C8D4E3"
             },
             "line": {
              "color": "white"
             }
            },
            "type": "table"
           }
          ]
         },
         "layout": {
          "annotationdefaults": {
           "arrowcolor": "#2a3f5f",
           "arrowhead": 0,
           "arrowwidth": 1
          },
          "autotypenumbers": "strict",
          "coloraxis": {
           "colorbar": {
            "outlinewidth": 0,
            "ticks": ""
           }
          },
          "colorscale": {
           "diverging": [
            [
             0,
             "#8e0152"
            ],
            [
             0.1,
             "#c51b7d"
            ],
            [
             0.2,
             "#de77ae"
            ],
            [
             0.3,
             "#f1b6da"
            ],
            [
             0.4,
             "#fde0ef"
            ],
            [
             0.5,
             "#f7f7f7"
            ],
            [
             0.6,
             "#e6f5d0"
            ],
            [
             0.7,
             "#b8e186"
            ],
            [
             0.8,
             "#7fbc41"
            ],
            [
             0.9,
             "#4d9221"
            ],
            [
             1,
             "#276419"
            ]
           ],
           "sequential": [
            [
             0,
             "#0d0887"
            ],
            [
             0.1111111111111111,
             "#46039f"
            ],
            [
             0.2222222222222222,
             "#7201a8"
            ],
            [
             0.3333333333333333,
             "#9c179e"
            ],
            [
             0.4444444444444444,
             "#bd3786"
            ],
            [
             0.5555555555555556,
             "#d8576b"
            ],
            [
             0.6666666666666666,
             "#ed7953"
            ],
            [
             0.7777777777777778,
             "#fb9f3a"
            ],
            [
             0.8888888888888888,
             "#fdca26"
            ],
            [
             1,
             "#f0f921"
            ]
           ],
           "sequentialminus": [
            [
             0,
             "#0d0887"
            ],
            [
             0.1111111111111111,
             "#46039f"
            ],
            [
             0.2222222222222222,
             "#7201a8"
            ],
            [
             0.3333333333333333,
             "#9c179e"
            ],
            [
             0.4444444444444444,
             "#bd3786"
            ],
            [
             0.5555555555555556,
             "#d8576b"
            ],
            [
             0.6666666666666666,
             "#ed7953"
            ],
            [
             0.7777777777777778,
             "#fb9f3a"
            ],
            [
             0.8888888888888888,
             "#fdca26"
            ],
            [
             1,
             "#f0f921"
            ]
           ]
          },
          "colorway": [
           "#636efa",
           "#EF553B",
           "#00cc96",
           "#ab63fa",
           "#FFA15A",
           "#19d3f3",
           "#FF6692",
           "#B6E880",
           "#FF97FF",
           "#FECB52"
          ],
          "font": {
           "color": "#2a3f5f"
          },
          "geo": {
           "bgcolor": "white",
           "lakecolor": "white",
           "landcolor": "#E5ECF6",
           "showlakes": true,
           "showland": true,
           "subunitcolor": "white"
          },
          "hoverlabel": {
           "align": "left"
          },
          "hovermode": "closest",
          "mapbox": {
           "style": "light"
          },
          "paper_bgcolor": "white",
          "plot_bgcolor": "#E5ECF6",
          "polar": {
           "angularaxis": {
            "gridcolor": "white",
            "linecolor": "white",
            "ticks": ""
           },
           "bgcolor": "#E5ECF6",
           "radialaxis": {
            "gridcolor": "white",
            "linecolor": "white",
            "ticks": ""
           }
          },
          "scene": {
           "xaxis": {
            "backgroundcolor": "#E5ECF6",
            "gridcolor": "white",
            "gridwidth": 2,
            "linecolor": "white",
            "showbackground": true,
            "ticks": "",
            "zerolinecolor": "white"
           },
           "yaxis": {
            "backgroundcolor": "#E5ECF6",
            "gridcolor": "white",
            "gridwidth": 2,
            "linecolor": "white",
            "showbackground": true,
            "ticks": "",
            "zerolinecolor": "white"
           },
           "zaxis": {
            "backgroundcolor": "#E5ECF6",
            "gridcolor": "white",
            "gridwidth": 2,
            "linecolor": "white",
            "showbackground": true,
            "ticks": "",
            "zerolinecolor": "white"
           }
          },
          "shapedefaults": {
           "line": {
            "color": "#2a3f5f"
           }
          },
          "ternary": {
           "aaxis": {
            "gridcolor": "white",
            "linecolor": "white",
            "ticks": ""
           },
           "baxis": {
            "gridcolor": "white",
            "linecolor": "white",
            "ticks": ""
           },
           "bgcolor": "#E5ECF6",
           "caxis": {
            "gridcolor": "white",
            "linecolor": "white",
            "ticks": ""
           }
          },
          "title": {
           "x": 0.05
          },
          "xaxis": {
           "automargin": true,
           "gridcolor": "white",
           "linecolor": "white",
           "ticks": "",
           "title": {
            "standoff": 15
           },
           "zerolinecolor": "white",
           "zerolinewidth": 2
          },
          "yaxis": {
           "automargin": true,
           "gridcolor": "white",
           "linecolor": "white",
           "ticks": "",
           "title": {
            "standoff": 15
           },
           "zerolinecolor": "white",
           "zerolinewidth": 2
          }
         }
        }
       }
      }
     },
     "metadata": {},
     "output_type": "display_data"
    }
   ],
   "source": [
    "plot_3d(heart2, 'target')"
   ]
  },
  {
   "cell_type": "markdown",
   "metadata": {},
   "source": [
    "## Modellering: RandomForest\n",
    "Vi börjar med att bygga en klass som kan hålla reda på alla variabler för modellen."
   ]
  },
  {
   "cell_type": "code",
   "execution_count": 12,
   "metadata": {},
   "outputs": [],
   "source": [
    "class ForestWrap:\n",
    "    def __init__(self,\n",
    "                 df: pd.DataFrame,\n",
    "                 target_col: str,\n",
    "                 test_size: float = 0.3,\n",
    "                 n_estimators: int = 100,\n",
    "                 criterion: str = 'gini',\n",
    "                 max_depth: int = None,\n",
    "                 min_samples_split: int|float = 2,\n",
    "                 min_samples_leaf: int|float = 1,\n",
    "                 max_leaf_nodes: int = None,\n",
    "                 random_state: int = 309\n",
    "                 ) -> None:\n",
    "        self.df = df\n",
    "        self.X = df.drop(target_col, axis=1)\n",
    "        self.y = df[target_col]\n",
    "        self.X_train, self.X_test, self.y_train, self.y_test = train_test_split(self.X,\n",
    "                                                                                self.y,\n",
    "                                                                                test_size = test_size,\n",
    "                                                                                random_state = random_state\n",
    "                                                                                )\n",
    "\n",
    "        self.clf = RandomForestClassifier(n_estimators = n_estimators,\n",
    "                                          criterion = criterion,\n",
    "                                          max_depth = max_depth,\n",
    "                                          min_samples_split = min_samples_split,\n",
    "                                          min_samples_leaf = min_samples_leaf,\n",
    "                                          max_leaf_nodes = max_leaf_nodes,\n",
    "                                          random_state = random_state\n",
    "                                          )\n",
    "        self.clf.fit(self.X_train, self.y_train)\n",
    "\n",
    "        self.y_pred = self.clf.predict(self.X_test)\n",
    "        self.cv_results = cross_validate(self.clf, self.X, self.y)\n",
    "        self.feature_importance = pd.DataFrame(self.clf.feature_importances_.reshape(1, self.clf.n_features_in_),\n",
    "                                               columns = self.clf.feature_names_in_\n",
    "                                               )\n",
    "\n",
    "    def predict(self, X: pd.DataFrame):\n",
    "        return self.clf.predict(X)\n",
    "\n",
    "    def score(self, X: pd.DataFrame, y: pd.Series) -> float:\n",
    "         return self.clf.score(X, y)\n",
    "    \n",
    "    def cv_scores(self):\n",
    "        return self.cv_results['test_score']\n",
    "\n",
    "    def display_confusion(self, y_true, y_pred):\n",
    "        c_matrix = confusion_matrix(y_true, y_pred)\n",
    "        fig = px.imshow(c_matrix,\n",
    "                        text_auto = True,\n",
    "                        labels = dict(x = 'Predicted',\n",
    "                                      y = 'True'))\n",
    "        fig.show()\n"
   ]
  },
  {
   "cell_type": "markdown",
   "metadata": {},
   "source": [
    "#### Lastar in datan i modellen"
   ]
  },
  {
   "cell_type": "code",
   "execution_count": 13,
   "metadata": {},
   "outputs": [],
   "source": [
    "model_forest = ForestWrap(df = heart2, target_col = 'target')"
   ]
  },
  {
   "cell_type": "markdown",
   "metadata": {},
   "source": [
    "#### Läser ut resultaten\n",
    "Vi har fått en modell som har hög träffsäkerhet (0.976 - 1) och inte ser ut att ge några falska negativa diagnoser."
   ]
  },
  {
   "cell_type": "code",
   "execution_count": 14,
   "metadata": {},
   "outputs": [
    {
     "data": {
      "text/plain": [
       "'test score: 0.976'"
      ]
     },
     "metadata": {},
     "output_type": "display_data"
    },
    {
     "data": {
      "text/plain": [
       "'cv score: 1.000'"
      ]
     },
     "metadata": {},
     "output_type": "display_data"
    },
    {
     "data": {
      "text/plain": [
       "'cv score: 1.000'"
      ]
     },
     "metadata": {},
     "output_type": "display_data"
    },
    {
     "data": {
      "text/plain": [
       "'cv score: 0.985'"
      ]
     },
     "metadata": {},
     "output_type": "display_data"
    },
    {
     "data": {
      "text/plain": [
       "'cv score: 1.000'"
      ]
     },
     "metadata": {},
     "output_type": "display_data"
    },
    {
     "data": {
      "text/plain": [
       "'cv score: 0.984'"
      ]
     },
     "metadata": {},
     "output_type": "display_data"
    },
    {
     "data": {
      "application/vnd.plotly.v1+json": {
       "config": {
        "plotlyServerURL": "https://plot.ly"
       },
       "data": [
        {
         "coloraxis": "coloraxis",
         "hovertemplate": "Predicted: %{x}<br>True: %{y}<br>color: %{z}<extra></extra>",
         "name": "0",
         "texttemplate": "%{z}",
         "type": "heatmap",
         "xaxis": "x",
         "yaxis": "y",
         "z": [
          [
           138,
           7
          ],
          [
           0,
           146
          ]
         ]
        }
       ],
       "layout": {
        "coloraxis": {
         "colorscale": [
          [
           0,
           "#0d0887"
          ],
          [
           0.1111111111111111,
           "#46039f"
          ],
          [
           0.2222222222222222,
           "#7201a8"
          ],
          [
           0.3333333333333333,
           "#9c179e"
          ],
          [
           0.4444444444444444,
           "#bd3786"
          ],
          [
           0.5555555555555556,
           "#d8576b"
          ],
          [
           0.6666666666666666,
           "#ed7953"
          ],
          [
           0.7777777777777778,
           "#fb9f3a"
          ],
          [
           0.8888888888888888,
           "#fdca26"
          ],
          [
           1,
           "#f0f921"
          ]
         ]
        },
        "margin": {
         "t": 60
        },
        "template": {
         "data": {
          "bar": [
           {
            "error_x": {
             "color": "#2a3f5f"
            },
            "error_y": {
             "color": "#2a3f5f"
            },
            "marker": {
             "line": {
              "color": "#E5ECF6",
              "width": 0.5
             },
             "pattern": {
              "fillmode": "overlay",
              "size": 10,
              "solidity": 0.2
             }
            },
            "type": "bar"
           }
          ],
          "barpolar": [
           {
            "marker": {
             "line": {
              "color": "#E5ECF6",
              "width": 0.5
             },
             "pattern": {
              "fillmode": "overlay",
              "size": 10,
              "solidity": 0.2
             }
            },
            "type": "barpolar"
           }
          ],
          "carpet": [
           {
            "aaxis": {
             "endlinecolor": "#2a3f5f",
             "gridcolor": "white",
             "linecolor": "white",
             "minorgridcolor": "white",
             "startlinecolor": "#2a3f5f"
            },
            "baxis": {
             "endlinecolor": "#2a3f5f",
             "gridcolor": "white",
             "linecolor": "white",
             "minorgridcolor": "white",
             "startlinecolor": "#2a3f5f"
            },
            "type": "carpet"
           }
          ],
          "choropleth": [
           {
            "colorbar": {
             "outlinewidth": 0,
             "ticks": ""
            },
            "type": "choropleth"
           }
          ],
          "contour": [
           {
            "colorbar": {
             "outlinewidth": 0,
             "ticks": ""
            },
            "colorscale": [
             [
              0,
              "#0d0887"
             ],
             [
              0.1111111111111111,
              "#46039f"
             ],
             [
              0.2222222222222222,
              "#7201a8"
             ],
             [
              0.3333333333333333,
              "#9c179e"
             ],
             [
              0.4444444444444444,
              "#bd3786"
             ],
             [
              0.5555555555555556,
              "#d8576b"
             ],
             [
              0.6666666666666666,
              "#ed7953"
             ],
             [
              0.7777777777777778,
              "#fb9f3a"
             ],
             [
              0.8888888888888888,
              "#fdca26"
             ],
             [
              1,
              "#f0f921"
             ]
            ],
            "type": "contour"
           }
          ],
          "contourcarpet": [
           {
            "colorbar": {
             "outlinewidth": 0,
             "ticks": ""
            },
            "type": "contourcarpet"
           }
          ],
          "heatmap": [
           {
            "colorbar": {
             "outlinewidth": 0,
             "ticks": ""
            },
            "colorscale": [
             [
              0,
              "#0d0887"
             ],
             [
              0.1111111111111111,
              "#46039f"
             ],
             [
              0.2222222222222222,
              "#7201a8"
             ],
             [
              0.3333333333333333,
              "#9c179e"
             ],
             [
              0.4444444444444444,
              "#bd3786"
             ],
             [
              0.5555555555555556,
              "#d8576b"
             ],
             [
              0.6666666666666666,
              "#ed7953"
             ],
             [
              0.7777777777777778,
              "#fb9f3a"
             ],
             [
              0.8888888888888888,
              "#fdca26"
             ],
             [
              1,
              "#f0f921"
             ]
            ],
            "type": "heatmap"
           }
          ],
          "heatmapgl": [
           {
            "colorbar": {
             "outlinewidth": 0,
             "ticks": ""
            },
            "colorscale": [
             [
              0,
              "#0d0887"
             ],
             [
              0.1111111111111111,
              "#46039f"
             ],
             [
              0.2222222222222222,
              "#7201a8"
             ],
             [
              0.3333333333333333,
              "#9c179e"
             ],
             [
              0.4444444444444444,
              "#bd3786"
             ],
             [
              0.5555555555555556,
              "#d8576b"
             ],
             [
              0.6666666666666666,
              "#ed7953"
             ],
             [
              0.7777777777777778,
              "#fb9f3a"
             ],
             [
              0.8888888888888888,
              "#fdca26"
             ],
             [
              1,
              "#f0f921"
             ]
            ],
            "type": "heatmapgl"
           }
          ],
          "histogram": [
           {
            "marker": {
             "pattern": {
              "fillmode": "overlay",
              "size": 10,
              "solidity": 0.2
             }
            },
            "type": "histogram"
           }
          ],
          "histogram2d": [
           {
            "colorbar": {
             "outlinewidth": 0,
             "ticks": ""
            },
            "colorscale": [
             [
              0,
              "#0d0887"
             ],
             [
              0.1111111111111111,
              "#46039f"
             ],
             [
              0.2222222222222222,
              "#7201a8"
             ],
             [
              0.3333333333333333,
              "#9c179e"
             ],
             [
              0.4444444444444444,
              "#bd3786"
             ],
             [
              0.5555555555555556,
              "#d8576b"
             ],
             [
              0.6666666666666666,
              "#ed7953"
             ],
             [
              0.7777777777777778,
              "#fb9f3a"
             ],
             [
              0.8888888888888888,
              "#fdca26"
             ],
             [
              1,
              "#f0f921"
             ]
            ],
            "type": "histogram2d"
           }
          ],
          "histogram2dcontour": [
           {
            "colorbar": {
             "outlinewidth": 0,
             "ticks": ""
            },
            "colorscale": [
             [
              0,
              "#0d0887"
             ],
             [
              0.1111111111111111,
              "#46039f"
             ],
             [
              0.2222222222222222,
              "#7201a8"
             ],
             [
              0.3333333333333333,
              "#9c179e"
             ],
             [
              0.4444444444444444,
              "#bd3786"
             ],
             [
              0.5555555555555556,
              "#d8576b"
             ],
             [
              0.6666666666666666,
              "#ed7953"
             ],
             [
              0.7777777777777778,
              "#fb9f3a"
             ],
             [
              0.8888888888888888,
              "#fdca26"
             ],
             [
              1,
              "#f0f921"
             ]
            ],
            "type": "histogram2dcontour"
           }
          ],
          "mesh3d": [
           {
            "colorbar": {
             "outlinewidth": 0,
             "ticks": ""
            },
            "type": "mesh3d"
           }
          ],
          "parcoords": [
           {
            "line": {
             "colorbar": {
              "outlinewidth": 0,
              "ticks": ""
             }
            },
            "type": "parcoords"
           }
          ],
          "pie": [
           {
            "automargin": true,
            "type": "pie"
           }
          ],
          "scatter": [
           {
            "fillpattern": {
             "fillmode": "overlay",
             "size": 10,
             "solidity": 0.2
            },
            "type": "scatter"
           }
          ],
          "scatter3d": [
           {
            "line": {
             "colorbar": {
              "outlinewidth": 0,
              "ticks": ""
             }
            },
            "marker": {
             "colorbar": {
              "outlinewidth": 0,
              "ticks": ""
             }
            },
            "type": "scatter3d"
           }
          ],
          "scattercarpet": [
           {
            "marker": {
             "colorbar": {
              "outlinewidth": 0,
              "ticks": ""
             }
            },
            "type": "scattercarpet"
           }
          ],
          "scattergeo": [
           {
            "marker": {
             "colorbar": {
              "outlinewidth": 0,
              "ticks": ""
             }
            },
            "type": "scattergeo"
           }
          ],
          "scattergl": [
           {
            "marker": {
             "colorbar": {
              "outlinewidth": 0,
              "ticks": ""
             }
            },
            "type": "scattergl"
           }
          ],
          "scattermapbox": [
           {
            "marker": {
             "colorbar": {
              "outlinewidth": 0,
              "ticks": ""
             }
            },
            "type": "scattermapbox"
           }
          ],
          "scatterpolar": [
           {
            "marker": {
             "colorbar": {
              "outlinewidth": 0,
              "ticks": ""
             }
            },
            "type": "scatterpolar"
           }
          ],
          "scatterpolargl": [
           {
            "marker": {
             "colorbar": {
              "outlinewidth": 0,
              "ticks": ""
             }
            },
            "type": "scatterpolargl"
           }
          ],
          "scatterternary": [
           {
            "marker": {
             "colorbar": {
              "outlinewidth": 0,
              "ticks": ""
             }
            },
            "type": "scatterternary"
           }
          ],
          "surface": [
           {
            "colorbar": {
             "outlinewidth": 0,
             "ticks": ""
            },
            "colorscale": [
             [
              0,
              "#0d0887"
             ],
             [
              0.1111111111111111,
              "#46039f"
             ],
             [
              0.2222222222222222,
              "#7201a8"
             ],
             [
              0.3333333333333333,
              "#9c179e"
             ],
             [
              0.4444444444444444,
              "#bd3786"
             ],
             [
              0.5555555555555556,
              "#d8576b"
             ],
             [
              0.6666666666666666,
              "#ed7953"
             ],
             [
              0.7777777777777778,
              "#fb9f3a"
             ],
             [
              0.8888888888888888,
              "#fdca26"
             ],
             [
              1,
              "#f0f921"
             ]
            ],
            "type": "surface"
           }
          ],
          "table": [
           {
            "cells": {
             "fill": {
              "color": "#EBF0F8"
             },
             "line": {
              "color": "white"
             }
            },
            "header": {
             "fill": {
              "color": "#C8D4E3"
             },
             "line": {
              "color": "white"
             }
            },
            "type": "table"
           }
          ]
         },
         "layout": {
          "annotationdefaults": {
           "arrowcolor": "#2a3f5f",
           "arrowhead": 0,
           "arrowwidth": 1
          },
          "autotypenumbers": "strict",
          "coloraxis": {
           "colorbar": {
            "outlinewidth": 0,
            "ticks": ""
           }
          },
          "colorscale": {
           "diverging": [
            [
             0,
             "#8e0152"
            ],
            [
             0.1,
             "#c51b7d"
            ],
            [
             0.2,
             "#de77ae"
            ],
            [
             0.3,
             "#f1b6da"
            ],
            [
             0.4,
             "#fde0ef"
            ],
            [
             0.5,
             "#f7f7f7"
            ],
            [
             0.6,
             "#e6f5d0"
            ],
            [
             0.7,
             "#b8e186"
            ],
            [
             0.8,
             "#7fbc41"
            ],
            [
             0.9,
             "#4d9221"
            ],
            [
             1,
             "#276419"
            ]
           ],
           "sequential": [
            [
             0,
             "#0d0887"
            ],
            [
             0.1111111111111111,
             "#46039f"
            ],
            [
             0.2222222222222222,
             "#7201a8"
            ],
            [
             0.3333333333333333,
             "#9c179e"
            ],
            [
             0.4444444444444444,
             "#bd3786"
            ],
            [
             0.5555555555555556,
             "#d8576b"
            ],
            [
             0.6666666666666666,
             "#ed7953"
            ],
            [
             0.7777777777777778,
             "#fb9f3a"
            ],
            [
             0.8888888888888888,
             "#fdca26"
            ],
            [
             1,
             "#f0f921"
            ]
           ],
           "sequentialminus": [
            [
             0,
             "#0d0887"
            ],
            [
             0.1111111111111111,
             "#46039f"
            ],
            [
             0.2222222222222222,
             "#7201a8"
            ],
            [
             0.3333333333333333,
             "#9c179e"
            ],
            [
             0.4444444444444444,
             "#bd3786"
            ],
            [
             0.5555555555555556,
             "#d8576b"
            ],
            [
             0.6666666666666666,
             "#ed7953"
            ],
            [
             0.7777777777777778,
             "#fb9f3a"
            ],
            [
             0.8888888888888888,
             "#fdca26"
            ],
            [
             1,
             "#f0f921"
            ]
           ]
          },
          "colorway": [
           "#636efa",
           "#EF553B",
           "#00cc96",
           "#ab63fa",
           "#FFA15A",
           "#19d3f3",
           "#FF6692",
           "#B6E880",
           "#FF97FF",
           "#FECB52"
          ],
          "font": {
           "color": "#2a3f5f"
          },
          "geo": {
           "bgcolor": "white",
           "lakecolor": "white",
           "landcolor": "#E5ECF6",
           "showlakes": true,
           "showland": true,
           "subunitcolor": "white"
          },
          "hoverlabel": {
           "align": "left"
          },
          "hovermode": "closest",
          "mapbox": {
           "style": "light"
          },
          "paper_bgcolor": "white",
          "plot_bgcolor": "#E5ECF6",
          "polar": {
           "angularaxis": {
            "gridcolor": "white",
            "linecolor": "white",
            "ticks": ""
           },
           "bgcolor": "#E5ECF6",
           "radialaxis": {
            "gridcolor": "white",
            "linecolor": "white",
            "ticks": ""
           }
          },
          "scene": {
           "xaxis": {
            "backgroundcolor": "#E5ECF6",
            "gridcolor": "white",
            "gridwidth": 2,
            "linecolor": "white",
            "showbackground": true,
            "ticks": "",
            "zerolinecolor": "white"
           },
           "yaxis": {
            "backgroundcolor": "#E5ECF6",
            "gridcolor": "white",
            "gridwidth": 2,
            "linecolor": "white",
            "showbackground": true,
            "ticks": "",
            "zerolinecolor": "white"
           },
           "zaxis": {
            "backgroundcolor": "#E5ECF6",
            "gridcolor": "white",
            "gridwidth": 2,
            "linecolor": "white",
            "showbackground": true,
            "ticks": "",
            "zerolinecolor": "white"
           }
          },
          "shapedefaults": {
           "line": {
            "color": "#2a3f5f"
           }
          },
          "ternary": {
           "aaxis": {
            "gridcolor": "white",
            "linecolor": "white",
            "ticks": ""
           },
           "baxis": {
            "gridcolor": "white",
            "linecolor": "white",
            "ticks": ""
           },
           "bgcolor": "#E5ECF6",
           "caxis": {
            "gridcolor": "white",
            "linecolor": "white",
            "ticks": ""
           }
          },
          "title": {
           "x": 0.05
          },
          "xaxis": {
           "automargin": true,
           "gridcolor": "white",
           "linecolor": "white",
           "ticks": "",
           "title": {
            "standoff": 15
           },
           "zerolinecolor": "white",
           "zerolinewidth": 2
          },
          "yaxis": {
           "automargin": true,
           "gridcolor": "white",
           "linecolor": "white",
           "ticks": "",
           "title": {
            "standoff": 15
           },
           "zerolinecolor": "white",
           "zerolinewidth": 2
          }
         }
        },
        "xaxis": {
         "anchor": "y",
         "constrain": "domain",
         "domain": [
          0,
          1
         ],
         "scaleanchor": "y",
         "title": {
          "text": "Predicted"
         }
        },
        "yaxis": {
         "anchor": "x",
         "autorange": "reversed",
         "constrain": "domain",
         "domain": [
          0,
          1
         ],
         "title": {
          "text": "True"
         }
        }
       }
      }
     },
     "metadata": {},
     "output_type": "display_data"
    }
   ],
   "source": [
    "display('test score: {:.3f}'.format(model_forest.score(model_forest.X_test, model_forest.y_test)))\n",
    "for score in model_forest.cv_scores():\n",
    "    display('cv score: {:.3f}'.format(score))\n",
    "model_forest.display_confusion(model_forest.y_test, model_forest.y_pred)"
   ]
  },
  {
   "cell_type": "markdown",
   "metadata": {},
   "source": [
    "#### Testar diagnotisera hela datan\n",
    "När vi använder hela datasetet och försöker skapa en prediktion så sänks träffsäkerheten, vilket är att förväntas då det finns med extremvärden som vi tidigare tagit bort."
   ]
  },
  {
   "cell_type": "code",
   "execution_count": 15,
   "metadata": {},
   "outputs": [],
   "source": [
    "def predict(model: ForestWrap, df: pd.DataFrame, target_col: str):\n",
    "    X = df.drop(target_col, axis = 1)\n",
    "    y_true = df[target_col]\n",
    "    y_pred = model.predict(X)\n",
    "    display('accuracy score: {:.3f}'.format(model.score(X, y_true)))\n",
    "    model.display_confusion(y_true, y_pred)"
   ]
  },
  {
   "cell_type": "code",
   "execution_count": 16,
   "metadata": {},
   "outputs": [
    {
     "data": {
      "text/plain": [
       "'accuracy score: 0.976'"
      ]
     },
     "metadata": {},
     "output_type": "display_data"
    },
    {
     "data": {
      "application/vnd.plotly.v1+json": {
       "config": {
        "plotlyServerURL": "https://plot.ly"
       },
       "data": [
        {
         "coloraxis": "coloraxis",
         "hovertemplate": "Predicted: %{x}<br>True: %{y}<br>color: %{z}<extra></extra>",
         "name": "0",
         "texttemplate": "%{z}",
         "type": "heatmap",
         "xaxis": "x",
         "yaxis": "y",
         "z": [
          [
           481,
           18
          ],
          [
           7,
           519
          ]
         ]
        }
       ],
       "layout": {
        "coloraxis": {
         "colorscale": [
          [
           0,
           "#0d0887"
          ],
          [
           0.1111111111111111,
           "#46039f"
          ],
          [
           0.2222222222222222,
           "#7201a8"
          ],
          [
           0.3333333333333333,
           "#9c179e"
          ],
          [
           0.4444444444444444,
           "#bd3786"
          ],
          [
           0.5555555555555556,
           "#d8576b"
          ],
          [
           0.6666666666666666,
           "#ed7953"
          ],
          [
           0.7777777777777778,
           "#fb9f3a"
          ],
          [
           0.8888888888888888,
           "#fdca26"
          ],
          [
           1,
           "#f0f921"
          ]
         ]
        },
        "margin": {
         "t": 60
        },
        "template": {
         "data": {
          "bar": [
           {
            "error_x": {
             "color": "#2a3f5f"
            },
            "error_y": {
             "color": "#2a3f5f"
            },
            "marker": {
             "line": {
              "color": "#E5ECF6",
              "width": 0.5
             },
             "pattern": {
              "fillmode": "overlay",
              "size": 10,
              "solidity": 0.2
             }
            },
            "type": "bar"
           }
          ],
          "barpolar": [
           {
            "marker": {
             "line": {
              "color": "#E5ECF6",
              "width": 0.5
             },
             "pattern": {
              "fillmode": "overlay",
              "size": 10,
              "solidity": 0.2
             }
            },
            "type": "barpolar"
           }
          ],
          "carpet": [
           {
            "aaxis": {
             "endlinecolor": "#2a3f5f",
             "gridcolor": "white",
             "linecolor": "white",
             "minorgridcolor": "white",
             "startlinecolor": "#2a3f5f"
            },
            "baxis": {
             "endlinecolor": "#2a3f5f",
             "gridcolor": "white",
             "linecolor": "white",
             "minorgridcolor": "white",
             "startlinecolor": "#2a3f5f"
            },
            "type": "carpet"
           }
          ],
          "choropleth": [
           {
            "colorbar": {
             "outlinewidth": 0,
             "ticks": ""
            },
            "type": "choropleth"
           }
          ],
          "contour": [
           {
            "colorbar": {
             "outlinewidth": 0,
             "ticks": ""
            },
            "colorscale": [
             [
              0,
              "#0d0887"
             ],
             [
              0.1111111111111111,
              "#46039f"
             ],
             [
              0.2222222222222222,
              "#7201a8"
             ],
             [
              0.3333333333333333,
              "#9c179e"
             ],
             [
              0.4444444444444444,
              "#bd3786"
             ],
             [
              0.5555555555555556,
              "#d8576b"
             ],
             [
              0.6666666666666666,
              "#ed7953"
             ],
             [
              0.7777777777777778,
              "#fb9f3a"
             ],
             [
              0.8888888888888888,
              "#fdca26"
             ],
             [
              1,
              "#f0f921"
             ]
            ],
            "type": "contour"
           }
          ],
          "contourcarpet": [
           {
            "colorbar": {
             "outlinewidth": 0,
             "ticks": ""
            },
            "type": "contourcarpet"
           }
          ],
          "heatmap": [
           {
            "colorbar": {
             "outlinewidth": 0,
             "ticks": ""
            },
            "colorscale": [
             [
              0,
              "#0d0887"
             ],
             [
              0.1111111111111111,
              "#46039f"
             ],
             [
              0.2222222222222222,
              "#7201a8"
             ],
             [
              0.3333333333333333,
              "#9c179e"
             ],
             [
              0.4444444444444444,
              "#bd3786"
             ],
             [
              0.5555555555555556,
              "#d8576b"
             ],
             [
              0.6666666666666666,
              "#ed7953"
             ],
             [
              0.7777777777777778,
              "#fb9f3a"
             ],
             [
              0.8888888888888888,
              "#fdca26"
             ],
             [
              1,
              "#f0f921"
             ]
            ],
            "type": "heatmap"
           }
          ],
          "heatmapgl": [
           {
            "colorbar": {
             "outlinewidth": 0,
             "ticks": ""
            },
            "colorscale": [
             [
              0,
              "#0d0887"
             ],
             [
              0.1111111111111111,
              "#46039f"
             ],
             [
              0.2222222222222222,
              "#7201a8"
             ],
             [
              0.3333333333333333,
              "#9c179e"
             ],
             [
              0.4444444444444444,
              "#bd3786"
             ],
             [
              0.5555555555555556,
              "#d8576b"
             ],
             [
              0.6666666666666666,
              "#ed7953"
             ],
             [
              0.7777777777777778,
              "#fb9f3a"
             ],
             [
              0.8888888888888888,
              "#fdca26"
             ],
             [
              1,
              "#f0f921"
             ]
            ],
            "type": "heatmapgl"
           }
          ],
          "histogram": [
           {
            "marker": {
             "pattern": {
              "fillmode": "overlay",
              "size": 10,
              "solidity": 0.2
             }
            },
            "type": "histogram"
           }
          ],
          "histogram2d": [
           {
            "colorbar": {
             "outlinewidth": 0,
             "ticks": ""
            },
            "colorscale": [
             [
              0,
              "#0d0887"
             ],
             [
              0.1111111111111111,
              "#46039f"
             ],
             [
              0.2222222222222222,
              "#7201a8"
             ],
             [
              0.3333333333333333,
              "#9c179e"
             ],
             [
              0.4444444444444444,
              "#bd3786"
             ],
             [
              0.5555555555555556,
              "#d8576b"
             ],
             [
              0.6666666666666666,
              "#ed7953"
             ],
             [
              0.7777777777777778,
              "#fb9f3a"
             ],
             [
              0.8888888888888888,
              "#fdca26"
             ],
             [
              1,
              "#f0f921"
             ]
            ],
            "type": "histogram2d"
           }
          ],
          "histogram2dcontour": [
           {
            "colorbar": {
             "outlinewidth": 0,
             "ticks": ""
            },
            "colorscale": [
             [
              0,
              "#0d0887"
             ],
             [
              0.1111111111111111,
              "#46039f"
             ],
             [
              0.2222222222222222,
              "#7201a8"
             ],
             [
              0.3333333333333333,
              "#9c179e"
             ],
             [
              0.4444444444444444,
              "#bd3786"
             ],
             [
              0.5555555555555556,
              "#d8576b"
             ],
             [
              0.6666666666666666,
              "#ed7953"
             ],
             [
              0.7777777777777778,
              "#fb9f3a"
             ],
             [
              0.8888888888888888,
              "#fdca26"
             ],
             [
              1,
              "#f0f921"
             ]
            ],
            "type": "histogram2dcontour"
           }
          ],
          "mesh3d": [
           {
            "colorbar": {
             "outlinewidth": 0,
             "ticks": ""
            },
            "type": "mesh3d"
           }
          ],
          "parcoords": [
           {
            "line": {
             "colorbar": {
              "outlinewidth": 0,
              "ticks": ""
             }
            },
            "type": "parcoords"
           }
          ],
          "pie": [
           {
            "automargin": true,
            "type": "pie"
           }
          ],
          "scatter": [
           {
            "fillpattern": {
             "fillmode": "overlay",
             "size": 10,
             "solidity": 0.2
            },
            "type": "scatter"
           }
          ],
          "scatter3d": [
           {
            "line": {
             "colorbar": {
              "outlinewidth": 0,
              "ticks": ""
             }
            },
            "marker": {
             "colorbar": {
              "outlinewidth": 0,
              "ticks": ""
             }
            },
            "type": "scatter3d"
           }
          ],
          "scattercarpet": [
           {
            "marker": {
             "colorbar": {
              "outlinewidth": 0,
              "ticks": ""
             }
            },
            "type": "scattercarpet"
           }
          ],
          "scattergeo": [
           {
            "marker": {
             "colorbar": {
              "outlinewidth": 0,
              "ticks": ""
             }
            },
            "type": "scattergeo"
           }
          ],
          "scattergl": [
           {
            "marker": {
             "colorbar": {
              "outlinewidth": 0,
              "ticks": ""
             }
            },
            "type": "scattergl"
           }
          ],
          "scattermapbox": [
           {
            "marker": {
             "colorbar": {
              "outlinewidth": 0,
              "ticks": ""
             }
            },
            "type": "scattermapbox"
           }
          ],
          "scatterpolar": [
           {
            "marker": {
             "colorbar": {
              "outlinewidth": 0,
              "ticks": ""
             }
            },
            "type": "scatterpolar"
           }
          ],
          "scatterpolargl": [
           {
            "marker": {
             "colorbar": {
              "outlinewidth": 0,
              "ticks": ""
             }
            },
            "type": "scatterpolargl"
           }
          ],
          "scatterternary": [
           {
            "marker": {
             "colorbar": {
              "outlinewidth": 0,
              "ticks": ""
             }
            },
            "type": "scatterternary"
           }
          ],
          "surface": [
           {
            "colorbar": {
             "outlinewidth": 0,
             "ticks": ""
            },
            "colorscale": [
             [
              0,
              "#0d0887"
             ],
             [
              0.1111111111111111,
              "#46039f"
             ],
             [
              0.2222222222222222,
              "#7201a8"
             ],
             [
              0.3333333333333333,
              "#9c179e"
             ],
             [
              0.4444444444444444,
              "#bd3786"
             ],
             [
              0.5555555555555556,
              "#d8576b"
             ],
             [
              0.6666666666666666,
              "#ed7953"
             ],
             [
              0.7777777777777778,
              "#fb9f3a"
             ],
             [
              0.8888888888888888,
              "#fdca26"
             ],
             [
              1,
              "#f0f921"
             ]
            ],
            "type": "surface"
           }
          ],
          "table": [
           {
            "cells": {
             "fill": {
              "color": "#EBF0F8"
             },
             "line": {
              "color": "white"
             }
            },
            "header": {
             "fill": {
              "color": "#C8D4E3"
             },
             "line": {
              "color": "white"
             }
            },
            "type": "table"
           }
          ]
         },
         "layout": {
          "annotationdefaults": {
           "arrowcolor": "#2a3f5f",
           "arrowhead": 0,
           "arrowwidth": 1
          },
          "autotypenumbers": "strict",
          "coloraxis": {
           "colorbar": {
            "outlinewidth": 0,
            "ticks": ""
           }
          },
          "colorscale": {
           "diverging": [
            [
             0,
             "#8e0152"
            ],
            [
             0.1,
             "#c51b7d"
            ],
            [
             0.2,
             "#de77ae"
            ],
            [
             0.3,
             "#f1b6da"
            ],
            [
             0.4,
             "#fde0ef"
            ],
            [
             0.5,
             "#f7f7f7"
            ],
            [
             0.6,
             "#e6f5d0"
            ],
            [
             0.7,
             "#b8e186"
            ],
            [
             0.8,
             "#7fbc41"
            ],
            [
             0.9,
             "#4d9221"
            ],
            [
             1,
             "#276419"
            ]
           ],
           "sequential": [
            [
             0,
             "#0d0887"
            ],
            [
             0.1111111111111111,
             "#46039f"
            ],
            [
             0.2222222222222222,
             "#7201a8"
            ],
            [
             0.3333333333333333,
             "#9c179e"
            ],
            [
             0.4444444444444444,
             "#bd3786"
            ],
            [
             0.5555555555555556,
             "#d8576b"
            ],
            [
             0.6666666666666666,
             "#ed7953"
            ],
            [
             0.7777777777777778,
             "#fb9f3a"
            ],
            [
             0.8888888888888888,
             "#fdca26"
            ],
            [
             1,
             "#f0f921"
            ]
           ],
           "sequentialminus": [
            [
             0,
             "#0d0887"
            ],
            [
             0.1111111111111111,
             "#46039f"
            ],
            [
             0.2222222222222222,
             "#7201a8"
            ],
            [
             0.3333333333333333,
             "#9c179e"
            ],
            [
             0.4444444444444444,
             "#bd3786"
            ],
            [
             0.5555555555555556,
             "#d8576b"
            ],
            [
             0.6666666666666666,
             "#ed7953"
            ],
            [
             0.7777777777777778,
             "#fb9f3a"
            ],
            [
             0.8888888888888888,
             "#fdca26"
            ],
            [
             1,
             "#f0f921"
            ]
           ]
          },
          "colorway": [
           "#636efa",
           "#EF553B",
           "#00cc96",
           "#ab63fa",
           "#FFA15A",
           "#19d3f3",
           "#FF6692",
           "#B6E880",
           "#FF97FF",
           "#FECB52"
          ],
          "font": {
           "color": "#2a3f5f"
          },
          "geo": {
           "bgcolor": "white",
           "lakecolor": "white",
           "landcolor": "#E5ECF6",
           "showlakes": true,
           "showland": true,
           "subunitcolor": "white"
          },
          "hoverlabel": {
           "align": "left"
          },
          "hovermode": "closest",
          "mapbox": {
           "style": "light"
          },
          "paper_bgcolor": "white",
          "plot_bgcolor": "#E5ECF6",
          "polar": {
           "angularaxis": {
            "gridcolor": "white",
            "linecolor": "white",
            "ticks": ""
           },
           "bgcolor": "#E5ECF6",
           "radialaxis": {
            "gridcolor": "white",
            "linecolor": "white",
            "ticks": ""
           }
          },
          "scene": {
           "xaxis": {
            "backgroundcolor": "#E5ECF6",
            "gridcolor": "white",
            "gridwidth": 2,
            "linecolor": "white",
            "showbackground": true,
            "ticks": "",
            "zerolinecolor": "white"
           },
           "yaxis": {
            "backgroundcolor": "#E5ECF6",
            "gridcolor": "white",
            "gridwidth": 2,
            "linecolor": "white",
            "showbackground": true,
            "ticks": "",
            "zerolinecolor": "white"
           },
           "zaxis": {
            "backgroundcolor": "#E5ECF6",
            "gridcolor": "white",
            "gridwidth": 2,
            "linecolor": "white",
            "showbackground": true,
            "ticks": "",
            "zerolinecolor": "white"
           }
          },
          "shapedefaults": {
           "line": {
            "color": "#2a3f5f"
           }
          },
          "ternary": {
           "aaxis": {
            "gridcolor": "white",
            "linecolor": "white",
            "ticks": ""
           },
           "baxis": {
            "gridcolor": "white",
            "linecolor": "white",
            "ticks": ""
           },
           "bgcolor": "#E5ECF6",
           "caxis": {
            "gridcolor": "white",
            "linecolor": "white",
            "ticks": ""
           }
          },
          "title": {
           "x": 0.05
          },
          "xaxis": {
           "automargin": true,
           "gridcolor": "white",
           "linecolor": "white",
           "ticks": "",
           "title": {
            "standoff": 15
           },
           "zerolinecolor": "white",
           "zerolinewidth": 2
          },
          "yaxis": {
           "automargin": true,
           "gridcolor": "white",
           "linecolor": "white",
           "ticks": "",
           "title": {
            "standoff": 15
           },
           "zerolinecolor": "white",
           "zerolinewidth": 2
          }
         }
        },
        "xaxis": {
         "anchor": "y",
         "constrain": "domain",
         "domain": [
          0,
          1
         ],
         "scaleanchor": "y",
         "title": {
          "text": "Predicted"
         }
        },
        "yaxis": {
         "anchor": "x",
         "autorange": "reversed",
         "constrain": "domain",
         "domain": [
          0,
          1
         ],
         "title": {
          "text": "True"
         }
        }
       }
      }
     },
     "metadata": {},
     "output_type": "display_data"
    }
   ],
   "source": [
    "predict(model_forest, heart_data, 'target')"
   ]
  }
 ],
 "metadata": {
  "kernelspec": {
   "display_name": "jupyter-venv",
   "language": "python",
   "name": "python3"
  },
  "language_info": {
   "codemirror_mode": {
    "name": "ipython",
    "version": 3
   },
   "file_extension": ".py",
   "mimetype": "text/x-python",
   "name": "python",
   "nbconvert_exporter": "python",
   "pygments_lexer": "ipython3",
   "version": "3.11.5"
  }
 },
 "nbformat": 4,
 "nbformat_minor": 2
}
