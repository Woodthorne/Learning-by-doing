{
 "cells": [
  {
   "cell_type": "markdown",
   "metadata": {},
   "source": [
    "# Regression Party - Neural Network\n",
    "Denna notebook täcker en analys av datan i hemnet_data_clean.csv samt en regression med hjälp av maskininlärning."
   ]
  },
  {
   "cell_type": "code",
   "execution_count": 64,
   "metadata": {},
   "outputs": [],
   "source": [
    "from math import sqrt\n",
    "\n",
    "import pandas as pd\n",
    "import plotly.graph_objects as go\n",
    "from sklearn.metrics import mean_absolute_error, mean_squared_error, r2_score\n",
    "from sklearn.model_selection import GridSearchCV, train_test_split\n",
    "from sklearn.neural_network import MLPRegressor"
   ]
  },
  {
   "cell_type": "code",
   "execution_count": 22,
   "metadata": {},
   "outputs": [],
   "source": [
    "hemnet_data = pd.read_csv('hemnet_data_clean.csv')"
   ]
  },
  {
   "cell_type": "code",
   "execution_count": 23,
   "metadata": {},
   "outputs": [],
   "source": [
    "def prepare_data(df: pd.DataFrame, drop_cols: list[str], target_col:str, adjust_price: bool = False):\n",
    "    new_df = df.copy()\n",
    "    \n",
    "    # TODO: If adjust price_price == True: Adjust sell price by inflation\n",
    "    new_df = new_df.dropna()\n",
    "    new_df = new_df.drop(drop_cols, axis = 1)\n",
    "    new_df = new_df.drop_duplicates()\n",
    "    if 'coordinate' in new_df.columns:\n",
    "        new_df[['latitude', 'longitude']] = new_df['coordinate'].str.strip('[]').str.split(', ', expand=True)\n",
    "        new_df = new_df.drop('coordinate', axis = 1)\n",
    "\n",
    "    X = new_df.drop(target_col, axis = 1)\n",
    "    y = new_df[target_col]\n",
    "    \n",
    "    return X, y"
   ]
  },
  {
   "cell_type": "code",
   "execution_count": 24,
   "metadata": {},
   "outputs": [],
   "source": [
    "X, y = prepare_data(hemnet_data,\n",
    "                    ['Unnamed: 0',\n",
    "                     'address',\n",
    "                     'pourcentage_difference',\n",
    "                     'commune', 'price_per_area',\n",
    "                     'sale_date'\n",
    "                     ],\n",
    "                    target_col = 'final_price')"
   ]
  },
  {
   "cell_type": "code",
   "execution_count": 25,
   "metadata": {},
   "outputs": [],
   "source": [
    "X_train, X_test, y_train, y_test = train_test_split(X, y, test_size=0.3, random_state=309)"
   ]
  },
  {
   "cell_type": "code",
   "execution_count": 26,
   "metadata": {},
   "outputs": [],
   "source": [
    "reg = MLPRegressor(random_state=309)\n",
    "reg.fit(X_train, y_train)\n",
    "y_pred = reg.predict(X_test)"
   ]
  },
  {
   "cell_type": "code",
   "execution_count": 27,
   "metadata": {},
   "outputs": [
    {
     "data": {
      "text/plain": [
       "'R2 score: 0.9339899378252882'"
      ]
     },
     "metadata": {},
     "output_type": "display_data"
    }
   ],
   "source": [
    "display(f'R2 score: {r2_score(y_test, y_pred)}')"
   ]
  },
  {
   "cell_type": "code",
   "execution_count": 44,
   "metadata": {},
   "outputs": [
    {
     "data": {
      "text/html": [
       "<style>#sk-container-id-6 {\n",
       "  /* Definition of color scheme common for light and dark mode */\n",
       "  --sklearn-color-text: black;\n",
       "  --sklearn-color-line: gray;\n",
       "  /* Definition of color scheme for unfitted estimators */\n",
       "  --sklearn-color-unfitted-level-0: #fff5e6;\n",
       "  --sklearn-color-unfitted-level-1: #f6e4d2;\n",
       "  --sklearn-color-unfitted-level-2: #ffe0b3;\n",
       "  --sklearn-color-unfitted-level-3: chocolate;\n",
       "  /* Definition of color scheme for fitted estimators */\n",
       "  --sklearn-color-fitted-level-0: #f0f8ff;\n",
       "  --sklearn-color-fitted-level-1: #d4ebff;\n",
       "  --sklearn-color-fitted-level-2: #b3dbfd;\n",
       "  --sklearn-color-fitted-level-3: cornflowerblue;\n",
       "\n",
       "  /* Specific color for light theme */\n",
       "  --sklearn-color-text-on-default-background: var(--sg-text-color, var(--theme-code-foreground, var(--jp-content-font-color1, black)));\n",
       "  --sklearn-color-background: var(--sg-background-color, var(--theme-background, var(--jp-layout-color0, white)));\n",
       "  --sklearn-color-border-box: var(--sg-text-color, var(--theme-code-foreground, var(--jp-content-font-color1, black)));\n",
       "  --sklearn-color-icon: #696969;\n",
       "\n",
       "  @media (prefers-color-scheme: dark) {\n",
       "    /* Redefinition of color scheme for dark theme */\n",
       "    --sklearn-color-text-on-default-background: var(--sg-text-color, var(--theme-code-foreground, var(--jp-content-font-color1, white)));\n",
       "    --sklearn-color-background: var(--sg-background-color, var(--theme-background, var(--jp-layout-color0, #111)));\n",
       "    --sklearn-color-border-box: var(--sg-text-color, var(--theme-code-foreground, var(--jp-content-font-color1, white)));\n",
       "    --sklearn-color-icon: #878787;\n",
       "  }\n",
       "}\n",
       "\n",
       "#sk-container-id-6 {\n",
       "  color: var(--sklearn-color-text);\n",
       "}\n",
       "\n",
       "#sk-container-id-6 pre {\n",
       "  padding: 0;\n",
       "}\n",
       "\n",
       "#sk-container-id-6 input.sk-hidden--visually {\n",
       "  border: 0;\n",
       "  clip: rect(1px 1px 1px 1px);\n",
       "  clip: rect(1px, 1px, 1px, 1px);\n",
       "  height: 1px;\n",
       "  margin: -1px;\n",
       "  overflow: hidden;\n",
       "  padding: 0;\n",
       "  position: absolute;\n",
       "  width: 1px;\n",
       "}\n",
       "\n",
       "#sk-container-id-6 div.sk-dashed-wrapped {\n",
       "  border: 1px dashed var(--sklearn-color-line);\n",
       "  margin: 0 0.4em 0.5em 0.4em;\n",
       "  box-sizing: border-box;\n",
       "  padding-bottom: 0.4em;\n",
       "  background-color: var(--sklearn-color-background);\n",
       "}\n",
       "\n",
       "#sk-container-id-6 div.sk-container {\n",
       "  /* jupyter's `normalize.less` sets `[hidden] { display: none; }`\n",
       "     but bootstrap.min.css set `[hidden] { display: none !important; }`\n",
       "     so we also need the `!important` here to be able to override the\n",
       "     default hidden behavior on the sphinx rendered scikit-learn.org.\n",
       "     See: https://github.com/scikit-learn/scikit-learn/issues/21755 */\n",
       "  display: inline-block !important;\n",
       "  position: relative;\n",
       "}\n",
       "\n",
       "#sk-container-id-6 div.sk-text-repr-fallback {\n",
       "  display: none;\n",
       "}\n",
       "\n",
       "div.sk-parallel-item,\n",
       "div.sk-serial,\n",
       "div.sk-item {\n",
       "  /* draw centered vertical line to link estimators */\n",
       "  background-image: linear-gradient(var(--sklearn-color-text-on-default-background), var(--sklearn-color-text-on-default-background));\n",
       "  background-size: 2px 100%;\n",
       "  background-repeat: no-repeat;\n",
       "  background-position: center center;\n",
       "}\n",
       "\n",
       "/* Parallel-specific style estimator block */\n",
       "\n",
       "#sk-container-id-6 div.sk-parallel-item::after {\n",
       "  content: \"\";\n",
       "  width: 100%;\n",
       "  border-bottom: 2px solid var(--sklearn-color-text-on-default-background);\n",
       "  flex-grow: 1;\n",
       "}\n",
       "\n",
       "#sk-container-id-6 div.sk-parallel {\n",
       "  display: flex;\n",
       "  align-items: stretch;\n",
       "  justify-content: center;\n",
       "  background-color: var(--sklearn-color-background);\n",
       "  position: relative;\n",
       "}\n",
       "\n",
       "#sk-container-id-6 div.sk-parallel-item {\n",
       "  display: flex;\n",
       "  flex-direction: column;\n",
       "}\n",
       "\n",
       "#sk-container-id-6 div.sk-parallel-item:first-child::after {\n",
       "  align-self: flex-end;\n",
       "  width: 50%;\n",
       "}\n",
       "\n",
       "#sk-container-id-6 div.sk-parallel-item:last-child::after {\n",
       "  align-self: flex-start;\n",
       "  width: 50%;\n",
       "}\n",
       "\n",
       "#sk-container-id-6 div.sk-parallel-item:only-child::after {\n",
       "  width: 0;\n",
       "}\n",
       "\n",
       "/* Serial-specific style estimator block */\n",
       "\n",
       "#sk-container-id-6 div.sk-serial {\n",
       "  display: flex;\n",
       "  flex-direction: column;\n",
       "  align-items: center;\n",
       "  background-color: var(--sklearn-color-background);\n",
       "  padding-right: 1em;\n",
       "  padding-left: 1em;\n",
       "}\n",
       "\n",
       "\n",
       "/* Toggleable style: style used for estimator/Pipeline/ColumnTransformer box that is\n",
       "clickable and can be expanded/collapsed.\n",
       "- Pipeline and ColumnTransformer use this feature and define the default style\n",
       "- Estimators will overwrite some part of the style using the `sk-estimator` class\n",
       "*/\n",
       "\n",
       "/* Pipeline and ColumnTransformer style (default) */\n",
       "\n",
       "#sk-container-id-6 div.sk-toggleable {\n",
       "  /* Default theme specific background. It is overwritten whether we have a\n",
       "  specific estimator or a Pipeline/ColumnTransformer */\n",
       "  background-color: var(--sklearn-color-background);\n",
       "}\n",
       "\n",
       "/* Toggleable label */\n",
       "#sk-container-id-6 label.sk-toggleable__label {\n",
       "  cursor: pointer;\n",
       "  display: block;\n",
       "  width: 100%;\n",
       "  margin-bottom: 0;\n",
       "  padding: 0.5em;\n",
       "  box-sizing: border-box;\n",
       "  text-align: center;\n",
       "}\n",
       "\n",
       "#sk-container-id-6 label.sk-toggleable__label-arrow:before {\n",
       "  /* Arrow on the left of the label */\n",
       "  content: \"▸\";\n",
       "  float: left;\n",
       "  margin-right: 0.25em;\n",
       "  color: var(--sklearn-color-icon);\n",
       "}\n",
       "\n",
       "#sk-container-id-6 label.sk-toggleable__label-arrow:hover:before {\n",
       "  color: var(--sklearn-color-text);\n",
       "}\n",
       "\n",
       "/* Toggleable content - dropdown */\n",
       "\n",
       "#sk-container-id-6 div.sk-toggleable__content {\n",
       "  max-height: 0;\n",
       "  max-width: 0;\n",
       "  overflow: hidden;\n",
       "  text-align: left;\n",
       "  /* unfitted */\n",
       "  background-color: var(--sklearn-color-unfitted-level-0);\n",
       "}\n",
       "\n",
       "#sk-container-id-6 div.sk-toggleable__content.fitted {\n",
       "  /* fitted */\n",
       "  background-color: var(--sklearn-color-fitted-level-0);\n",
       "}\n",
       "\n",
       "#sk-container-id-6 div.sk-toggleable__content pre {\n",
       "  margin: 0.2em;\n",
       "  border-radius: 0.25em;\n",
       "  color: var(--sklearn-color-text);\n",
       "  /* unfitted */\n",
       "  background-color: var(--sklearn-color-unfitted-level-0);\n",
       "}\n",
       "\n",
       "#sk-container-id-6 div.sk-toggleable__content.fitted pre {\n",
       "  /* unfitted */\n",
       "  background-color: var(--sklearn-color-fitted-level-0);\n",
       "}\n",
       "\n",
       "#sk-container-id-6 input.sk-toggleable__control:checked~div.sk-toggleable__content {\n",
       "  /* Expand drop-down */\n",
       "  max-height: 200px;\n",
       "  max-width: 100%;\n",
       "  overflow: auto;\n",
       "}\n",
       "\n",
       "#sk-container-id-6 input.sk-toggleable__control:checked~label.sk-toggleable__label-arrow:before {\n",
       "  content: \"▾\";\n",
       "}\n",
       "\n",
       "/* Pipeline/ColumnTransformer-specific style */\n",
       "\n",
       "#sk-container-id-6 div.sk-label input.sk-toggleable__control:checked~label.sk-toggleable__label {\n",
       "  color: var(--sklearn-color-text);\n",
       "  background-color: var(--sklearn-color-unfitted-level-2);\n",
       "}\n",
       "\n",
       "#sk-container-id-6 div.sk-label.fitted input.sk-toggleable__control:checked~label.sk-toggleable__label {\n",
       "  background-color: var(--sklearn-color-fitted-level-2);\n",
       "}\n",
       "\n",
       "/* Estimator-specific style */\n",
       "\n",
       "/* Colorize estimator box */\n",
       "#sk-container-id-6 div.sk-estimator input.sk-toggleable__control:checked~label.sk-toggleable__label {\n",
       "  /* unfitted */\n",
       "  background-color: var(--sklearn-color-unfitted-level-2);\n",
       "}\n",
       "\n",
       "#sk-container-id-6 div.sk-estimator.fitted input.sk-toggleable__control:checked~label.sk-toggleable__label {\n",
       "  /* fitted */\n",
       "  background-color: var(--sklearn-color-fitted-level-2);\n",
       "}\n",
       "\n",
       "#sk-container-id-6 div.sk-label label.sk-toggleable__label,\n",
       "#sk-container-id-6 div.sk-label label {\n",
       "  /* The background is the default theme color */\n",
       "  color: var(--sklearn-color-text-on-default-background);\n",
       "}\n",
       "\n",
       "/* On hover, darken the color of the background */\n",
       "#sk-container-id-6 div.sk-label:hover label.sk-toggleable__label {\n",
       "  color: var(--sklearn-color-text);\n",
       "  background-color: var(--sklearn-color-unfitted-level-2);\n",
       "}\n",
       "\n",
       "/* Label box, darken color on hover, fitted */\n",
       "#sk-container-id-6 div.sk-label.fitted:hover label.sk-toggleable__label.fitted {\n",
       "  color: var(--sklearn-color-text);\n",
       "  background-color: var(--sklearn-color-fitted-level-2);\n",
       "}\n",
       "\n",
       "/* Estimator label */\n",
       "\n",
       "#sk-container-id-6 div.sk-label label {\n",
       "  font-family: monospace;\n",
       "  font-weight: bold;\n",
       "  display: inline-block;\n",
       "  line-height: 1.2em;\n",
       "}\n",
       "\n",
       "#sk-container-id-6 div.sk-label-container {\n",
       "  text-align: center;\n",
       "}\n",
       "\n",
       "/* Estimator-specific */\n",
       "#sk-container-id-6 div.sk-estimator {\n",
       "  font-family: monospace;\n",
       "  border: 1px dotted var(--sklearn-color-border-box);\n",
       "  border-radius: 0.25em;\n",
       "  box-sizing: border-box;\n",
       "  margin-bottom: 0.5em;\n",
       "  /* unfitted */\n",
       "  background-color: var(--sklearn-color-unfitted-level-0);\n",
       "}\n",
       "\n",
       "#sk-container-id-6 div.sk-estimator.fitted {\n",
       "  /* fitted */\n",
       "  background-color: var(--sklearn-color-fitted-level-0);\n",
       "}\n",
       "\n",
       "/* on hover */\n",
       "#sk-container-id-6 div.sk-estimator:hover {\n",
       "  /* unfitted */\n",
       "  background-color: var(--sklearn-color-unfitted-level-2);\n",
       "}\n",
       "\n",
       "#sk-container-id-6 div.sk-estimator.fitted:hover {\n",
       "  /* fitted */\n",
       "  background-color: var(--sklearn-color-fitted-level-2);\n",
       "}\n",
       "\n",
       "/* Specification for estimator info (e.g. \"i\" and \"?\") */\n",
       "\n",
       "/* Common style for \"i\" and \"?\" */\n",
       "\n",
       ".sk-estimator-doc-link,\n",
       "a:link.sk-estimator-doc-link,\n",
       "a:visited.sk-estimator-doc-link {\n",
       "  float: right;\n",
       "  font-size: smaller;\n",
       "  line-height: 1em;\n",
       "  font-family: monospace;\n",
       "  background-color: var(--sklearn-color-background);\n",
       "  border-radius: 1em;\n",
       "  height: 1em;\n",
       "  width: 1em;\n",
       "  text-decoration: none !important;\n",
       "  margin-left: 1ex;\n",
       "  /* unfitted */\n",
       "  border: var(--sklearn-color-unfitted-level-1) 1pt solid;\n",
       "  color: var(--sklearn-color-unfitted-level-1);\n",
       "}\n",
       "\n",
       ".sk-estimator-doc-link.fitted,\n",
       "a:link.sk-estimator-doc-link.fitted,\n",
       "a:visited.sk-estimator-doc-link.fitted {\n",
       "  /* fitted */\n",
       "  border: var(--sklearn-color-fitted-level-1) 1pt solid;\n",
       "  color: var(--sklearn-color-fitted-level-1);\n",
       "}\n",
       "\n",
       "/* On hover */\n",
       "div.sk-estimator:hover .sk-estimator-doc-link:hover,\n",
       ".sk-estimator-doc-link:hover,\n",
       "div.sk-label-container:hover .sk-estimator-doc-link:hover,\n",
       ".sk-estimator-doc-link:hover {\n",
       "  /* unfitted */\n",
       "  background-color: var(--sklearn-color-unfitted-level-3);\n",
       "  color: var(--sklearn-color-background);\n",
       "  text-decoration: none;\n",
       "}\n",
       "\n",
       "div.sk-estimator.fitted:hover .sk-estimator-doc-link.fitted:hover,\n",
       ".sk-estimator-doc-link.fitted:hover,\n",
       "div.sk-label-container:hover .sk-estimator-doc-link.fitted:hover,\n",
       ".sk-estimator-doc-link.fitted:hover {\n",
       "  /* fitted */\n",
       "  background-color: var(--sklearn-color-fitted-level-3);\n",
       "  color: var(--sklearn-color-background);\n",
       "  text-decoration: none;\n",
       "}\n",
       "\n",
       "/* Span, style for the box shown on hovering the info icon */\n",
       ".sk-estimator-doc-link span {\n",
       "  display: none;\n",
       "  z-index: 9999;\n",
       "  position: relative;\n",
       "  font-weight: normal;\n",
       "  right: .2ex;\n",
       "  padding: .5ex;\n",
       "  margin: .5ex;\n",
       "  width: min-content;\n",
       "  min-width: 20ex;\n",
       "  max-width: 50ex;\n",
       "  color: var(--sklearn-color-text);\n",
       "  box-shadow: 2pt 2pt 4pt #999;\n",
       "  /* unfitted */\n",
       "  background: var(--sklearn-color-unfitted-level-0);\n",
       "  border: .5pt solid var(--sklearn-color-unfitted-level-3);\n",
       "}\n",
       "\n",
       ".sk-estimator-doc-link.fitted span {\n",
       "  /* fitted */\n",
       "  background: var(--sklearn-color-fitted-level-0);\n",
       "  border: var(--sklearn-color-fitted-level-3);\n",
       "}\n",
       "\n",
       ".sk-estimator-doc-link:hover span {\n",
       "  display: block;\n",
       "}\n",
       "\n",
       "/* \"?\"-specific style due to the `<a>` HTML tag */\n",
       "\n",
       "#sk-container-id-6 a.estimator_doc_link {\n",
       "  float: right;\n",
       "  font-size: 1rem;\n",
       "  line-height: 1em;\n",
       "  font-family: monospace;\n",
       "  background-color: var(--sklearn-color-background);\n",
       "  border-radius: 1rem;\n",
       "  height: 1rem;\n",
       "  width: 1rem;\n",
       "  text-decoration: none;\n",
       "  /* unfitted */\n",
       "  color: var(--sklearn-color-unfitted-level-1);\n",
       "  border: var(--sklearn-color-unfitted-level-1) 1pt solid;\n",
       "}\n",
       "\n",
       "#sk-container-id-6 a.estimator_doc_link.fitted {\n",
       "  /* fitted */\n",
       "  border: var(--sklearn-color-fitted-level-1) 1pt solid;\n",
       "  color: var(--sklearn-color-fitted-level-1);\n",
       "}\n",
       "\n",
       "/* On hover */\n",
       "#sk-container-id-6 a.estimator_doc_link:hover {\n",
       "  /* unfitted */\n",
       "  background-color: var(--sklearn-color-unfitted-level-3);\n",
       "  color: var(--sklearn-color-background);\n",
       "  text-decoration: none;\n",
       "}\n",
       "\n",
       "#sk-container-id-6 a.estimator_doc_link.fitted:hover {\n",
       "  /* fitted */\n",
       "  background-color: var(--sklearn-color-fitted-level-3);\n",
       "}\n",
       "</style><div id=\"sk-container-id-6\" class=\"sk-top-container\"><div class=\"sk-text-repr-fallback\"><pre>GridSearchCV(cv=5, estimator=MLPRegressor(random_state=309), n_jobs=-1,\n",
       "             param_grid={&#x27;hidden_layer_sizes&#x27;: [(50,), (100,), (200,), (300,)],\n",
       "                         &#x27;learning_rate&#x27;: [&#x27;constant&#x27;, &#x27;invscaling&#x27;,\n",
       "                                           &#x27;adaptive&#x27;],\n",
       "                         &#x27;learning_rate_init&#x27;: [0.0005, 0.001, 0.002, 0.005],\n",
       "                         &#x27;max_iter&#x27;: [200, 300], &#x27;shuffle&#x27;: [True, False],\n",
       "                         &#x27;solver&#x27;: [&#x27;lbfgs&#x27;, &#x27;sgd&#x27;, &#x27;adam&#x27;]},\n",
       "             scoring=&#x27;r2&#x27;)</pre><b>In a Jupyter environment, please rerun this cell to show the HTML representation or trust the notebook. <br />On GitHub, the HTML representation is unable to render, please try loading this page with nbviewer.org.</b></div><div class=\"sk-container\" hidden><div class=\"sk-item sk-dashed-wrapped\"><div class=\"sk-label-container\"><div class=\"sk-label fitted sk-toggleable\"><input class=\"sk-toggleable__control sk-hidden--visually\" id=\"sk-estimator-id-16\" type=\"checkbox\" ><label for=\"sk-estimator-id-16\" class=\"sk-toggleable__label fitted sk-toggleable__label-arrow fitted\">&nbsp;&nbsp;GridSearchCV<a class=\"sk-estimator-doc-link fitted\" rel=\"noreferrer\" target=\"_blank\" href=\"https://scikit-learn.org/1.4/modules/generated/sklearn.model_selection.GridSearchCV.html\">?<span>Documentation for GridSearchCV</span></a><span class=\"sk-estimator-doc-link fitted\">i<span>Fitted</span></span></label><div class=\"sk-toggleable__content fitted\"><pre>GridSearchCV(cv=5, estimator=MLPRegressor(random_state=309), n_jobs=-1,\n",
       "             param_grid={&#x27;hidden_layer_sizes&#x27;: [(50,), (100,), (200,), (300,)],\n",
       "                         &#x27;learning_rate&#x27;: [&#x27;constant&#x27;, &#x27;invscaling&#x27;,\n",
       "                                           &#x27;adaptive&#x27;],\n",
       "                         &#x27;learning_rate_init&#x27;: [0.0005, 0.001, 0.002, 0.005],\n",
       "                         &#x27;max_iter&#x27;: [200, 300], &#x27;shuffle&#x27;: [True, False],\n",
       "                         &#x27;solver&#x27;: [&#x27;lbfgs&#x27;, &#x27;sgd&#x27;, &#x27;adam&#x27;]},\n",
       "             scoring=&#x27;r2&#x27;)</pre></div> </div></div><div class=\"sk-parallel\"><div class=\"sk-parallel-item\"><div class=\"sk-item\"><div class=\"sk-label-container\"><div class=\"sk-label fitted sk-toggleable\"><input class=\"sk-toggleable__control sk-hidden--visually\" id=\"sk-estimator-id-17\" type=\"checkbox\" ><label for=\"sk-estimator-id-17\" class=\"sk-toggleable__label fitted sk-toggleable__label-arrow fitted\">estimator: MLPRegressor</label><div class=\"sk-toggleable__content fitted\"><pre>MLPRegressor(random_state=309)</pre></div> </div></div><div class=\"sk-serial\"><div class=\"sk-item\"><div class=\"sk-estimator fitted sk-toggleable\"><input class=\"sk-toggleable__control sk-hidden--visually\" id=\"sk-estimator-id-18\" type=\"checkbox\" ><label for=\"sk-estimator-id-18\" class=\"sk-toggleable__label fitted sk-toggleable__label-arrow fitted\">&nbsp;MLPRegressor<a class=\"sk-estimator-doc-link fitted\" rel=\"noreferrer\" target=\"_blank\" href=\"https://scikit-learn.org/1.4/modules/generated/sklearn.neural_network.MLPRegressor.html\">?<span>Documentation for MLPRegressor</span></a></label><div class=\"sk-toggleable__content fitted\"><pre>MLPRegressor(random_state=309)</pre></div> </div></div></div></div></div></div></div></div></div>"
      ],
      "text/plain": [
       "GridSearchCV(cv=5, estimator=MLPRegressor(random_state=309), n_jobs=-1,\n",
       "             param_grid={'hidden_layer_sizes': [(50,), (100,), (200,), (300,)],\n",
       "                         'learning_rate': ['constant', 'invscaling',\n",
       "                                           'adaptive'],\n",
       "                         'learning_rate_init': [0.0005, 0.001, 0.002, 0.005],\n",
       "                         'max_iter': [200, 300], 'shuffle': [True, False],\n",
       "                         'solver': ['lbfgs', 'sgd', 'adam']},\n",
       "             scoring='r2')"
      ]
     },
     "execution_count": 44,
     "metadata": {},
     "output_type": "execute_result"
    }
   ],
   "source": [
    "param_grid = {\n",
    "    'hidden_layer_sizes': [(50,), (100,), (200,), (300,)],\n",
    "    'solver': ['lbfgs', 'sgd', 'adam'],\n",
    "    'learning_rate': ['constant', 'invscaling', 'adaptive'],\n",
    "    'learning_rate_init': [0.0005, 0.001, 0.002, 0.005],\n",
    "    'max_iter': [200, 300],\n",
    "    'shuffle': [True, False]\n",
    "}\n",
    "grid = GridSearchCV(estimator = MLPRegressor(random_state = 309),\n",
    "                    param_grid = param_grid,\n",
    "                    cv = 5,\n",
    "                    n_jobs = -1,\n",
    "                    scoring = 'r2')\n",
    "grid.fit(X_train, y_train)"
   ]
  },
  {
   "cell_type": "code",
   "execution_count": 60,
   "metadata": {},
   "outputs": [
    {
     "data": {
      "text/plain": [
       "{'hidden_layer_sizes': (100,),\n",
       " 'learning_rate': 'constant',\n",
       " 'learning_rate_init': 0.0005,\n",
       " 'max_iter': 200,\n",
       " 'shuffle': True,\n",
       " 'solver': 'lbfgs'}"
      ]
     },
     "metadata": {},
     "output_type": "display_data"
    }
   ],
   "source": [
    "display(grid.best_params_)"
   ]
  },
  {
   "cell_type": "code",
   "execution_count": 46,
   "metadata": {},
   "outputs": [],
   "source": [
    "best_model = grid.best_estimator_\n",
    "best_y_pred = best_model.predict(X_test)"
   ]
  },
  {
   "cell_type": "code",
   "execution_count": 61,
   "metadata": {},
   "outputs": [
    {
     "name": "stdout",
     "output_type": "stream",
     "text": [
      "MAE: 733193.3153801258\n",
      "sqrt(MSE): 961709.2286110331\n",
      "R2: 0.9334185196983958\n"
     ]
    }
   ],
   "source": [
    "print(f'MAE: {mean_absolute_error(y_test, best_y_pred)}')\n",
    "print(f'sqrt(MSE): {sqrt(mean_squared_error(y_test, best_y_pred))}')\n",
    "print(f'R2: {r2_score(y_test, best_y_pred)}')"
   ]
  },
  {
   "cell_type": "code",
   "execution_count": 93,
   "metadata": {},
   "outputs": [
    {
     "data": {
      "application/vnd.plotly.v1+json": {
       "config": {
        "plotlyServerURL": "https://plot.ly"
       },
       "data": [
        {
         "mode": "markers",
         "type": "scatter",
         "x": [
          9750000,
          5700000,
          9400000,
          8350000,
          8300000,
          7200000,
          7550000,
          16100000,
          8525000,
          9000000,
          11760000,
          8650000,
          10525000,
          11875000,
          17800000,
          17750000,
          9850000,
          15500000,
          5250000,
          10600000,
          14500000,
          11575000,
          9900000,
          8700000,
          12975000,
          6800000,
          8900000,
          10300000,
          11700000,
          31100000,
          6650000,
          7960000,
          12000000,
          9700000,
          13400000,
          14000000,
          6800000,
          8400000,
          15000000,
          7550000,
          9000000,
          7450000,
          9500000,
          7000000,
          14000000,
          12500000,
          8500000,
          11350000,
          7150000,
          16900000,
          10450000,
          8400000,
          15000000,
          11750000,
          7125000,
          8250000,
          15000000,
          7800000,
          9500000,
          7495000,
          9750000,
          7485000,
          10500000,
          8015000,
          7975000,
          15700000,
          7850000,
          8100000,
          6790000,
          7060000,
          4700000,
          9525000,
          10850000,
          7525000,
          8490000,
          9840000,
          13750000,
          7310000,
          8650000,
          6200000,
          14650000,
          9425000,
          4200000,
          8250000,
          8700000,
          13500000,
          9700000,
          5750000,
          17000000,
          9500000,
          6250000,
          20000000,
          9200000,
          8000000,
          7595000,
          8550000,
          9100000,
          6650000,
          7225000,
          12600000,
          6800000,
          6500000,
          9575000,
          11200000,
          8400000,
          6800000,
          21200000,
          12150000,
          8800000,
          7475000,
          7850000,
          16400000,
          8500000,
          7900000,
          8650000,
          7430000,
          10170000,
          8835000,
          17350000,
          11000000,
          11025000,
          8000000,
          6200000,
          8575000,
          6200000,
          8500000,
          10300000,
          7150000,
          12177000,
          8650000,
          6875000
         ],
         "y": [
          802074.3018814083,
          -960064.8443317339,
          -511633.51454914734,
          -79717.9646141883,
          -709735.445730282,
          801565.7962291604,
          692239.1500257449,
          3384106.9974830486,
          69734.35761555657,
          1210372.8951863553,
          1711481.6772817317,
          209530.29923998006,
          1169338.718217358,
          2403926.361235136,
          2226839.2623529974,
          -930898.1334750243,
          -587454.2282654885,
          1758792.4508022293,
          -322555.63691623695,
          1632961.6103459764,
          1777481.770142736,
          2053077.8583245035,
          354183.34094096534,
          -223659.24444544502,
          1520587.0512600746,
          -856120.475382993,
          599042.3798921304,
          404245.0781019982,
          1183862.7514215913,
          -355828.32797737047,
          -218682.56672558375,
          1020387.3144351263,
          -623397.4815356862,
          130829.88778910972,
          -275349.65502391197,
          -211953.71425693296,
          -366485.56070875376,
          234584.98262514547,
          -834168.5806764252,
          -65287.89806532301,
          -1066431.9102083761,
          536680.2937128004,
          579989.119662445,
          -207484.85012170672,
          516045.7730908487,
          980718.2268749904,
          -598152.4648925886,
          1864066.8895398285,
          442675.311378357,
          -959812.303972505,
          583476.2818571646,
          976350.3031304982,
          2620148.493249301,
          1177526.132257821,
          533004.2469880003,
          -496522.57755786367,
          -1313687.605178751,
          370989.36068857275,
          704684.9022192731,
          -492042.42270981707,
          236928.20196392015,
          -207230.2485494148,
          -82990.66112358123,
          718535.1617353167,
          -459355.1024731565,
          -1048559.9967992976,
          667632.0486188289,
          -218285.11777181737,
          -408922.81207625754,
          167879.44494992867,
          -81543.53091693483,
          475395.01350019686,
          -595790.5644274149,
          654134.5524813067,
          -7707.018630279228,
          969817.2602212783,
          -957936.990982296,
          -94368.70874647796,
          726241.2637198893,
          378005.1815298889,
          1995863.6748943757,
          934036.6162471864,
          382767.9437374077,
          -190132.5017877277,
          386784.62045039516,
          -648421.5165947322,
          -1241406.9938405622,
          484786.7885580603,
          -902742.5894688852,
          695183.8004993964,
          -20359.670129615813,
          101243.52202102914,
          1795474.3360440014,
          328330.23574382253,
          -318258.71097991057,
          595866.6730906963,
          -234476.19150676765,
          839459.1858611666,
          -730645.8741245009,
          238459.70010625012,
          -298660.0325893797,
          105031.21356380731,
          1679759.7650066968,
          711996.5142675731,
          -261942.94396737032,
          1204558.3426463753,
          -3303985.383956179,
          -696686.9367265571,
          -454288.2423588447,
          -489367.36089317687,
          403370.24395116884,
          1139635.739142565,
          522072.7914607972,
          -488502.8373624338,
          417185.5210801987,
          239160.0692656245,
          1169915.892633995,
          525693.8207039861,
          1096097.2809751723,
          457108.71682909876,
          -630059.697131075,
          -776239.2921269704,
          270710.9294837378,
          -435281.9568878617,
          -23258.33063149266,
          494196.58681777306,
          -85346.88301907666,
          332535.13044977933,
          1626223.652130248,
          -501726.07121118717,
          -481037.0738201961
         ]
        },
        {
         "marker": {
          "color": "green"
         },
         "type": "scatter",
         "x": [
          9750000,
          5700000,
          9400000,
          8350000,
          8300000,
          7200000,
          7550000,
          16100000,
          8525000,
          9000000,
          11760000,
          8650000,
          10525000,
          11875000,
          17800000,
          17750000,
          9850000,
          15500000,
          5250000,
          10600000,
          14500000,
          11575000,
          9900000,
          8700000,
          12975000,
          6800000,
          8900000,
          10300000,
          11700000,
          31100000,
          6650000,
          7960000,
          12000000,
          9700000,
          13400000,
          14000000,
          6800000,
          8400000,
          15000000,
          7550000,
          9000000,
          7450000,
          9500000,
          7000000,
          14000000,
          12500000,
          8500000,
          11350000,
          7150000,
          16900000,
          10450000,
          8400000,
          15000000,
          11750000,
          7125000,
          8250000,
          15000000,
          7800000,
          9500000,
          7495000,
          9750000,
          7485000,
          10500000,
          8015000,
          7975000,
          15700000,
          7850000,
          8100000,
          6790000,
          7060000,
          4700000,
          9525000,
          10850000,
          7525000,
          8490000,
          9840000,
          13750000,
          7310000,
          8650000,
          6200000,
          14650000,
          9425000,
          4200000,
          8250000,
          8700000,
          13500000,
          9700000,
          5750000,
          17000000,
          9500000,
          6250000,
          20000000,
          9200000,
          8000000,
          7595000,
          8550000,
          9100000,
          6650000,
          7225000,
          12600000,
          6800000,
          6500000,
          9575000,
          11200000,
          8400000,
          6800000,
          21200000,
          12150000,
          8800000,
          7475000,
          7850000,
          16400000,
          8500000,
          7900000,
          8650000,
          7430000,
          10170000,
          8835000,
          17350000,
          11000000,
          11025000,
          8000000,
          6200000,
          8575000,
          6200000,
          8500000,
          10300000,
          7150000,
          12177000,
          8650000,
          6875000
         ],
         "y": [
          0,
          0,
          0,
          0,
          0,
          0,
          0,
          0,
          0,
          0,
          0,
          0,
          0,
          0,
          0,
          0,
          0,
          0,
          0,
          0,
          0,
          0,
          0,
          0,
          0,
          0,
          0,
          0,
          0,
          0,
          0,
          0,
          0,
          0,
          0,
          0,
          0,
          0,
          0,
          0,
          0,
          0,
          0,
          0,
          0,
          0,
          0,
          0,
          0,
          0,
          0,
          0,
          0,
          0,
          0,
          0,
          0,
          0,
          0,
          0,
          0,
          0,
          0,
          0,
          0,
          0,
          0,
          0,
          0,
          0,
          0,
          0,
          0,
          0,
          0,
          0,
          0,
          0,
          0,
          0,
          0,
          0,
          0,
          0,
          0,
          0,
          0,
          0,
          0,
          0,
          0,
          0,
          0,
          0,
          0,
          0,
          0,
          0,
          0,
          0,
          0,
          0,
          0,
          0,
          0,
          0,
          0,
          0,
          0,
          0,
          0,
          0,
          0,
          0,
          0,
          0,
          0,
          0,
          0,
          0,
          0,
          0,
          0,
          0,
          0,
          0,
          0,
          0,
          0,
          0,
          0
         ]
        },
        {
         "line": {
          "color": "red"
         },
         "name": "upper MAE",
         "type": "scatter",
         "x": [
          9750000,
          5700000,
          9400000,
          8350000,
          8300000,
          7200000,
          7550000,
          16100000,
          8525000,
          9000000,
          11760000,
          8650000,
          10525000,
          11875000,
          17800000,
          17750000,
          9850000,
          15500000,
          5250000,
          10600000,
          14500000,
          11575000,
          9900000,
          8700000,
          12975000,
          6800000,
          8900000,
          10300000,
          11700000,
          31100000,
          6650000,
          7960000,
          12000000,
          9700000,
          13400000,
          14000000,
          6800000,
          8400000,
          15000000,
          7550000,
          9000000,
          7450000,
          9500000,
          7000000,
          14000000,
          12500000,
          8500000,
          11350000,
          7150000,
          16900000,
          10450000,
          8400000,
          15000000,
          11750000,
          7125000,
          8250000,
          15000000,
          7800000,
          9500000,
          7495000,
          9750000,
          7485000,
          10500000,
          8015000,
          7975000,
          15700000,
          7850000,
          8100000,
          6790000,
          7060000,
          4700000,
          9525000,
          10850000,
          7525000,
          8490000,
          9840000,
          13750000,
          7310000,
          8650000,
          6200000,
          14650000,
          9425000,
          4200000,
          8250000,
          8700000,
          13500000,
          9700000,
          5750000,
          17000000,
          9500000,
          6250000,
          20000000,
          9200000,
          8000000,
          7595000,
          8550000,
          9100000,
          6650000,
          7225000,
          12600000,
          6800000,
          6500000,
          9575000,
          11200000,
          8400000,
          6800000,
          21200000,
          12150000,
          8800000,
          7475000,
          7850000,
          16400000,
          8500000,
          7900000,
          8650000,
          7430000,
          10170000,
          8835000,
          17350000,
          11000000,
          11025000,
          8000000,
          6200000,
          8575000,
          6200000,
          8500000,
          10300000,
          7150000,
          12177000,
          8650000,
          6875000
         ],
         "y": [
          733193.3153801258,
          733193.3153801258,
          733193.3153801258,
          733193.3153801258,
          733193.3153801258,
          733193.3153801258,
          733193.3153801258,
          733193.3153801258,
          733193.3153801258,
          733193.3153801258,
          733193.3153801258,
          733193.3153801258,
          733193.3153801258,
          733193.3153801258,
          733193.3153801258,
          733193.3153801258,
          733193.3153801258,
          733193.3153801258,
          733193.3153801258,
          733193.3153801258,
          733193.3153801258,
          733193.3153801258,
          733193.3153801258,
          733193.3153801258,
          733193.3153801258,
          733193.3153801258,
          733193.3153801258,
          733193.3153801258,
          733193.3153801258,
          733193.3153801258,
          733193.3153801258,
          733193.3153801258,
          733193.3153801258,
          733193.3153801258,
          733193.3153801258,
          733193.3153801258,
          733193.3153801258,
          733193.3153801258,
          733193.3153801258,
          733193.3153801258,
          733193.3153801258,
          733193.3153801258,
          733193.3153801258,
          733193.3153801258,
          733193.3153801258,
          733193.3153801258,
          733193.3153801258,
          733193.3153801258,
          733193.3153801258,
          733193.3153801258,
          733193.3153801258,
          733193.3153801258,
          733193.3153801258,
          733193.3153801258,
          733193.3153801258,
          733193.3153801258,
          733193.3153801258,
          733193.3153801258,
          733193.3153801258,
          733193.3153801258,
          733193.3153801258,
          733193.3153801258,
          733193.3153801258,
          733193.3153801258,
          733193.3153801258,
          733193.3153801258,
          733193.3153801258,
          733193.3153801258,
          733193.3153801258,
          733193.3153801258,
          733193.3153801258,
          733193.3153801258,
          733193.3153801258,
          733193.3153801258,
          733193.3153801258,
          733193.3153801258,
          733193.3153801258,
          733193.3153801258,
          733193.3153801258,
          733193.3153801258,
          733193.3153801258,
          733193.3153801258,
          733193.3153801258,
          733193.3153801258,
          733193.3153801258,
          733193.3153801258,
          733193.3153801258,
          733193.3153801258,
          733193.3153801258,
          733193.3153801258,
          733193.3153801258,
          733193.3153801258,
          733193.3153801258,
          733193.3153801258,
          733193.3153801258,
          733193.3153801258,
          733193.3153801258,
          733193.3153801258,
          733193.3153801258,
          733193.3153801258,
          733193.3153801258,
          733193.3153801258,
          733193.3153801258,
          733193.3153801258,
          733193.3153801258,
          733193.3153801258,
          733193.3153801258,
          733193.3153801258,
          733193.3153801258,
          733193.3153801258,
          733193.3153801258,
          733193.3153801258,
          733193.3153801258,
          733193.3153801258,
          733193.3153801258,
          733193.3153801258,
          733193.3153801258,
          733193.3153801258,
          733193.3153801258,
          733193.3153801258,
          733193.3153801258,
          733193.3153801258,
          733193.3153801258,
          733193.3153801258,
          733193.3153801258,
          733193.3153801258,
          733193.3153801258,
          733193.3153801258,
          733193.3153801258,
          733193.3153801258,
          733193.3153801258
         ]
        },
        {
         "line": {
          "color": "red"
         },
         "name": "lower MAE",
         "type": "scatter",
         "x": [
          9750000,
          5700000,
          9400000,
          8350000,
          8300000,
          7200000,
          7550000,
          16100000,
          8525000,
          9000000,
          11760000,
          8650000,
          10525000,
          11875000,
          17800000,
          17750000,
          9850000,
          15500000,
          5250000,
          10600000,
          14500000,
          11575000,
          9900000,
          8700000,
          12975000,
          6800000,
          8900000,
          10300000,
          11700000,
          31100000,
          6650000,
          7960000,
          12000000,
          9700000,
          13400000,
          14000000,
          6800000,
          8400000,
          15000000,
          7550000,
          9000000,
          7450000,
          9500000,
          7000000,
          14000000,
          12500000,
          8500000,
          11350000,
          7150000,
          16900000,
          10450000,
          8400000,
          15000000,
          11750000,
          7125000,
          8250000,
          15000000,
          7800000,
          9500000,
          7495000,
          9750000,
          7485000,
          10500000,
          8015000,
          7975000,
          15700000,
          7850000,
          8100000,
          6790000,
          7060000,
          4700000,
          9525000,
          10850000,
          7525000,
          8490000,
          9840000,
          13750000,
          7310000,
          8650000,
          6200000,
          14650000,
          9425000,
          4200000,
          8250000,
          8700000,
          13500000,
          9700000,
          5750000,
          17000000,
          9500000,
          6250000,
          20000000,
          9200000,
          8000000,
          7595000,
          8550000,
          9100000,
          6650000,
          7225000,
          12600000,
          6800000,
          6500000,
          9575000,
          11200000,
          8400000,
          6800000,
          21200000,
          12150000,
          8800000,
          7475000,
          7850000,
          16400000,
          8500000,
          7900000,
          8650000,
          7430000,
          10170000,
          8835000,
          17350000,
          11000000,
          11025000,
          8000000,
          6200000,
          8575000,
          6200000,
          8500000,
          10300000,
          7150000,
          12177000,
          8650000,
          6875000
         ],
         "y": [
          -733193.3153801258,
          -733193.3153801258,
          -733193.3153801258,
          -733193.3153801258,
          -733193.3153801258,
          -733193.3153801258,
          -733193.3153801258,
          -733193.3153801258,
          -733193.3153801258,
          -733193.3153801258,
          -733193.3153801258,
          -733193.3153801258,
          -733193.3153801258,
          -733193.3153801258,
          -733193.3153801258,
          -733193.3153801258,
          -733193.3153801258,
          -733193.3153801258,
          -733193.3153801258,
          -733193.3153801258,
          -733193.3153801258,
          -733193.3153801258,
          -733193.3153801258,
          -733193.3153801258,
          -733193.3153801258,
          -733193.3153801258,
          -733193.3153801258,
          -733193.3153801258,
          -733193.3153801258,
          -733193.3153801258,
          -733193.3153801258,
          -733193.3153801258,
          -733193.3153801258,
          -733193.3153801258,
          -733193.3153801258,
          -733193.3153801258,
          -733193.3153801258,
          -733193.3153801258,
          -733193.3153801258,
          -733193.3153801258,
          -733193.3153801258,
          -733193.3153801258,
          -733193.3153801258,
          -733193.3153801258,
          -733193.3153801258,
          -733193.3153801258,
          -733193.3153801258,
          -733193.3153801258,
          -733193.3153801258,
          -733193.3153801258,
          -733193.3153801258,
          -733193.3153801258,
          -733193.3153801258,
          -733193.3153801258,
          -733193.3153801258,
          -733193.3153801258,
          -733193.3153801258,
          -733193.3153801258,
          -733193.3153801258,
          -733193.3153801258,
          -733193.3153801258,
          -733193.3153801258,
          -733193.3153801258,
          -733193.3153801258,
          -733193.3153801258,
          -733193.3153801258,
          -733193.3153801258,
          -733193.3153801258,
          -733193.3153801258,
          -733193.3153801258,
          -733193.3153801258,
          -733193.3153801258,
          -733193.3153801258,
          -733193.3153801258,
          -733193.3153801258,
          -733193.3153801258,
          -733193.3153801258,
          -733193.3153801258,
          -733193.3153801258,
          -733193.3153801258,
          -733193.3153801258,
          -733193.3153801258,
          -733193.3153801258,
          -733193.3153801258,
          -733193.3153801258,
          -733193.3153801258,
          -733193.3153801258,
          -733193.3153801258,
          -733193.3153801258,
          -733193.3153801258,
          -733193.3153801258,
          -733193.3153801258,
          -733193.3153801258,
          -733193.3153801258,
          -733193.3153801258,
          -733193.3153801258,
          -733193.3153801258,
          -733193.3153801258,
          -733193.3153801258,
          -733193.3153801258,
          -733193.3153801258,
          -733193.3153801258,
          -733193.3153801258,
          -733193.3153801258,
          -733193.3153801258,
          -733193.3153801258,
          -733193.3153801258,
          -733193.3153801258,
          -733193.3153801258,
          -733193.3153801258,
          -733193.3153801258,
          -733193.3153801258,
          -733193.3153801258,
          -733193.3153801258,
          -733193.3153801258,
          -733193.3153801258,
          -733193.3153801258,
          -733193.3153801258,
          -733193.3153801258,
          -733193.3153801258,
          -733193.3153801258,
          -733193.3153801258,
          -733193.3153801258,
          -733193.3153801258,
          -733193.3153801258,
          -733193.3153801258,
          -733193.3153801258,
          -733193.3153801258,
          -733193.3153801258,
          -733193.3153801258,
          -733193.3153801258
         ]
        }
       ],
       "layout": {
        "template": {
         "data": {
          "bar": [
           {
            "error_x": {
             "color": "#2a3f5f"
            },
            "error_y": {
             "color": "#2a3f5f"
            },
            "marker": {
             "line": {
              "color": "#E5ECF6",
              "width": 0.5
             },
             "pattern": {
              "fillmode": "overlay",
              "size": 10,
              "solidity": 0.2
             }
            },
            "type": "bar"
           }
          ],
          "barpolar": [
           {
            "marker": {
             "line": {
              "color": "#E5ECF6",
              "width": 0.5
             },
             "pattern": {
              "fillmode": "overlay",
              "size": 10,
              "solidity": 0.2
             }
            },
            "type": "barpolar"
           }
          ],
          "carpet": [
           {
            "aaxis": {
             "endlinecolor": "#2a3f5f",
             "gridcolor": "white",
             "linecolor": "white",
             "minorgridcolor": "white",
             "startlinecolor": "#2a3f5f"
            },
            "baxis": {
             "endlinecolor": "#2a3f5f",
             "gridcolor": "white",
             "linecolor": "white",
             "minorgridcolor": "white",
             "startlinecolor": "#2a3f5f"
            },
            "type": "carpet"
           }
          ],
          "choropleth": [
           {
            "colorbar": {
             "outlinewidth": 0,
             "ticks": ""
            },
            "type": "choropleth"
           }
          ],
          "contour": [
           {
            "colorbar": {
             "outlinewidth": 0,
             "ticks": ""
            },
            "colorscale": [
             [
              0,
              "#0d0887"
             ],
             [
              0.1111111111111111,
              "#46039f"
             ],
             [
              0.2222222222222222,
              "#7201a8"
             ],
             [
              0.3333333333333333,
              "#9c179e"
             ],
             [
              0.4444444444444444,
              "#bd3786"
             ],
             [
              0.5555555555555556,
              "#d8576b"
             ],
             [
              0.6666666666666666,
              "#ed7953"
             ],
             [
              0.7777777777777778,
              "#fb9f3a"
             ],
             [
              0.8888888888888888,
              "#fdca26"
             ],
             [
              1,
              "#f0f921"
             ]
            ],
            "type": "contour"
           }
          ],
          "contourcarpet": [
           {
            "colorbar": {
             "outlinewidth": 0,
             "ticks": ""
            },
            "type": "contourcarpet"
           }
          ],
          "heatmap": [
           {
            "colorbar": {
             "outlinewidth": 0,
             "ticks": ""
            },
            "colorscale": [
             [
              0,
              "#0d0887"
             ],
             [
              0.1111111111111111,
              "#46039f"
             ],
             [
              0.2222222222222222,
              "#7201a8"
             ],
             [
              0.3333333333333333,
              "#9c179e"
             ],
             [
              0.4444444444444444,
              "#bd3786"
             ],
             [
              0.5555555555555556,
              "#d8576b"
             ],
             [
              0.6666666666666666,
              "#ed7953"
             ],
             [
              0.7777777777777778,
              "#fb9f3a"
             ],
             [
              0.8888888888888888,
              "#fdca26"
             ],
             [
              1,
              "#f0f921"
             ]
            ],
            "type": "heatmap"
           }
          ],
          "heatmapgl": [
           {
            "colorbar": {
             "outlinewidth": 0,
             "ticks": ""
            },
            "colorscale": [
             [
              0,
              "#0d0887"
             ],
             [
              0.1111111111111111,
              "#46039f"
             ],
             [
              0.2222222222222222,
              "#7201a8"
             ],
             [
              0.3333333333333333,
              "#9c179e"
             ],
             [
              0.4444444444444444,
              "#bd3786"
             ],
             [
              0.5555555555555556,
              "#d8576b"
             ],
             [
              0.6666666666666666,
              "#ed7953"
             ],
             [
              0.7777777777777778,
              "#fb9f3a"
             ],
             [
              0.8888888888888888,
              "#fdca26"
             ],
             [
              1,
              "#f0f921"
             ]
            ],
            "type": "heatmapgl"
           }
          ],
          "histogram": [
           {
            "marker": {
             "pattern": {
              "fillmode": "overlay",
              "size": 10,
              "solidity": 0.2
             }
            },
            "type": "histogram"
           }
          ],
          "histogram2d": [
           {
            "colorbar": {
             "outlinewidth": 0,
             "ticks": ""
            },
            "colorscale": [
             [
              0,
              "#0d0887"
             ],
             [
              0.1111111111111111,
              "#46039f"
             ],
             [
              0.2222222222222222,
              "#7201a8"
             ],
             [
              0.3333333333333333,
              "#9c179e"
             ],
             [
              0.4444444444444444,
              "#bd3786"
             ],
             [
              0.5555555555555556,
              "#d8576b"
             ],
             [
              0.6666666666666666,
              "#ed7953"
             ],
             [
              0.7777777777777778,
              "#fb9f3a"
             ],
             [
              0.8888888888888888,
              "#fdca26"
             ],
             [
              1,
              "#f0f921"
             ]
            ],
            "type": "histogram2d"
           }
          ],
          "histogram2dcontour": [
           {
            "colorbar": {
             "outlinewidth": 0,
             "ticks": ""
            },
            "colorscale": [
             [
              0,
              "#0d0887"
             ],
             [
              0.1111111111111111,
              "#46039f"
             ],
             [
              0.2222222222222222,
              "#7201a8"
             ],
             [
              0.3333333333333333,
              "#9c179e"
             ],
             [
              0.4444444444444444,
              "#bd3786"
             ],
             [
              0.5555555555555556,
              "#d8576b"
             ],
             [
              0.6666666666666666,
              "#ed7953"
             ],
             [
              0.7777777777777778,
              "#fb9f3a"
             ],
             [
              0.8888888888888888,
              "#fdca26"
             ],
             [
              1,
              "#f0f921"
             ]
            ],
            "type": "histogram2dcontour"
           }
          ],
          "mesh3d": [
           {
            "colorbar": {
             "outlinewidth": 0,
             "ticks": ""
            },
            "type": "mesh3d"
           }
          ],
          "parcoords": [
           {
            "line": {
             "colorbar": {
              "outlinewidth": 0,
              "ticks": ""
             }
            },
            "type": "parcoords"
           }
          ],
          "pie": [
           {
            "automargin": true,
            "type": "pie"
           }
          ],
          "scatter": [
           {
            "fillpattern": {
             "fillmode": "overlay",
             "size": 10,
             "solidity": 0.2
            },
            "type": "scatter"
           }
          ],
          "scatter3d": [
           {
            "line": {
             "colorbar": {
              "outlinewidth": 0,
              "ticks": ""
             }
            },
            "marker": {
             "colorbar": {
              "outlinewidth": 0,
              "ticks": ""
             }
            },
            "type": "scatter3d"
           }
          ],
          "scattercarpet": [
           {
            "marker": {
             "colorbar": {
              "outlinewidth": 0,
              "ticks": ""
             }
            },
            "type": "scattercarpet"
           }
          ],
          "scattergeo": [
           {
            "marker": {
             "colorbar": {
              "outlinewidth": 0,
              "ticks": ""
             }
            },
            "type": "scattergeo"
           }
          ],
          "scattergl": [
           {
            "marker": {
             "colorbar": {
              "outlinewidth": 0,
              "ticks": ""
             }
            },
            "type": "scattergl"
           }
          ],
          "scattermapbox": [
           {
            "marker": {
             "colorbar": {
              "outlinewidth": 0,
              "ticks": ""
             }
            },
            "type": "scattermapbox"
           }
          ],
          "scatterpolar": [
           {
            "marker": {
             "colorbar": {
              "outlinewidth": 0,
              "ticks": ""
             }
            },
            "type": "scatterpolar"
           }
          ],
          "scatterpolargl": [
           {
            "marker": {
             "colorbar": {
              "outlinewidth": 0,
              "ticks": ""
             }
            },
            "type": "scatterpolargl"
           }
          ],
          "scatterternary": [
           {
            "marker": {
             "colorbar": {
              "outlinewidth": 0,
              "ticks": ""
             }
            },
            "type": "scatterternary"
           }
          ],
          "surface": [
           {
            "colorbar": {
             "outlinewidth": 0,
             "ticks": ""
            },
            "colorscale": [
             [
              0,
              "#0d0887"
             ],
             [
              0.1111111111111111,
              "#46039f"
             ],
             [
              0.2222222222222222,
              "#7201a8"
             ],
             [
              0.3333333333333333,
              "#9c179e"
             ],
             [
              0.4444444444444444,
              "#bd3786"
             ],
             [
              0.5555555555555556,
              "#d8576b"
             ],
             [
              0.6666666666666666,
              "#ed7953"
             ],
             [
              0.7777777777777778,
              "#fb9f3a"
             ],
             [
              0.8888888888888888,
              "#fdca26"
             ],
             [
              1,
              "#f0f921"
             ]
            ],
            "type": "surface"
           }
          ],
          "table": [
           {
            "cells": {
             "fill": {
              "color": "#EBF0F8"
             },
             "line": {
              "color": "white"
             }
            },
            "header": {
             "fill": {
              "color": "#C8D4E3"
             },
             "line": {
              "color": "white"
             }
            },
            "type": "table"
           }
          ]
         },
         "layout": {
          "annotationdefaults": {
           "arrowcolor": "#2a3f5f",
           "arrowhead": 0,
           "arrowwidth": 1
          },
          "autotypenumbers": "strict",
          "coloraxis": {
           "colorbar": {
            "outlinewidth": 0,
            "ticks": ""
           }
          },
          "colorscale": {
           "diverging": [
            [
             0,
             "#8e0152"
            ],
            [
             0.1,
             "#c51b7d"
            ],
            [
             0.2,
             "#de77ae"
            ],
            [
             0.3,
             "#f1b6da"
            ],
            [
             0.4,
             "#fde0ef"
            ],
            [
             0.5,
             "#f7f7f7"
            ],
            [
             0.6,
             "#e6f5d0"
            ],
            [
             0.7,
             "#b8e186"
            ],
            [
             0.8,
             "#7fbc41"
            ],
            [
             0.9,
             "#4d9221"
            ],
            [
             1,
             "#276419"
            ]
           ],
           "sequential": [
            [
             0,
             "#0d0887"
            ],
            [
             0.1111111111111111,
             "#46039f"
            ],
            [
             0.2222222222222222,
             "#7201a8"
            ],
            [
             0.3333333333333333,
             "#9c179e"
            ],
            [
             0.4444444444444444,
             "#bd3786"
            ],
            [
             0.5555555555555556,
             "#d8576b"
            ],
            [
             0.6666666666666666,
             "#ed7953"
            ],
            [
             0.7777777777777778,
             "#fb9f3a"
            ],
            [
             0.8888888888888888,
             "#fdca26"
            ],
            [
             1,
             "#f0f921"
            ]
           ],
           "sequentialminus": [
            [
             0,
             "#0d0887"
            ],
            [
             0.1111111111111111,
             "#46039f"
            ],
            [
             0.2222222222222222,
             "#7201a8"
            ],
            [
             0.3333333333333333,
             "#9c179e"
            ],
            [
             0.4444444444444444,
             "#bd3786"
            ],
            [
             0.5555555555555556,
             "#d8576b"
            ],
            [
             0.6666666666666666,
             "#ed7953"
            ],
            [
             0.7777777777777778,
             "#fb9f3a"
            ],
            [
             0.8888888888888888,
             "#fdca26"
            ],
            [
             1,
             "#f0f921"
            ]
           ]
          },
          "colorway": [
           "#636efa",
           "#EF553B",
           "#00cc96",
           "#ab63fa",
           "#FFA15A",
           "#19d3f3",
           "#FF6692",
           "#B6E880",
           "#FF97FF",
           "#FECB52"
          ],
          "font": {
           "color": "#2a3f5f"
          },
          "geo": {
           "bgcolor": "white",
           "lakecolor": "white",
           "landcolor": "#E5ECF6",
           "showlakes": true,
           "showland": true,
           "subunitcolor": "white"
          },
          "hoverlabel": {
           "align": "left"
          },
          "hovermode": "closest",
          "mapbox": {
           "style": "light"
          },
          "paper_bgcolor": "white",
          "plot_bgcolor": "#E5ECF6",
          "polar": {
           "angularaxis": {
            "gridcolor": "white",
            "linecolor": "white",
            "ticks": ""
           },
           "bgcolor": "#E5ECF6",
           "radialaxis": {
            "gridcolor": "white",
            "linecolor": "white",
            "ticks": ""
           }
          },
          "scene": {
           "xaxis": {
            "backgroundcolor": "#E5ECF6",
            "gridcolor": "white",
            "gridwidth": 2,
            "linecolor": "white",
            "showbackground": true,
            "ticks": "",
            "zerolinecolor": "white"
           },
           "yaxis": {
            "backgroundcolor": "#E5ECF6",
            "gridcolor": "white",
            "gridwidth": 2,
            "linecolor": "white",
            "showbackground": true,
            "ticks": "",
            "zerolinecolor": "white"
           },
           "zaxis": {
            "backgroundcolor": "#E5ECF6",
            "gridcolor": "white",
            "gridwidth": 2,
            "linecolor": "white",
            "showbackground": true,
            "ticks": "",
            "zerolinecolor": "white"
           }
          },
          "shapedefaults": {
           "line": {
            "color": "#2a3f5f"
           }
          },
          "ternary": {
           "aaxis": {
            "gridcolor": "white",
            "linecolor": "white",
            "ticks": ""
           },
           "baxis": {
            "gridcolor": "white",
            "linecolor": "white",
            "ticks": ""
           },
           "bgcolor": "#E5ECF6",
           "caxis": {
            "gridcolor": "white",
            "linecolor": "white",
            "ticks": ""
           }
          },
          "title": {
           "x": 0.05
          },
          "xaxis": {
           "automargin": true,
           "gridcolor": "white",
           "linecolor": "white",
           "ticks": "",
           "title": {
            "standoff": 15
           },
           "zerolinecolor": "white",
           "zerolinewidth": 2
          },
          "yaxis": {
           "automargin": true,
           "gridcolor": "white",
           "linecolor": "white",
           "ticks": "",
           "title": {
            "standoff": 15
           },
           "zerolinecolor": "white",
           "zerolinewidth": 2
          }
         }
        },
        "title": {
         "text": ""
        }
       }
      }
     },
     "metadata": {},
     "output_type": "display_data"
    }
   ],
   "source": [
    "fig = go.Figure((go.Scatter(x = y_test, y = y_test - best_y_pred, mode='markers'),\n",
    "                 go.Scatter(x = y_test, y = [0 for _ in y_test], marker= dict(color = 'green')),\n",
    "                 go.Scatter(x = y_test, y = [mean_absolute_error(y_test, best_y_pred) for _ in y_test], name = 'upper MAE', line = dict(color = 'red')),\n",
    "                 go.Scatter(x = y_test, y = [-mean_absolute_error(y_test, best_y_pred) for _ in y_test], name = 'lower MAE', line = dict(color = 'red'))\n",
    "                 ),\n",
    "                 layout = go.Layout(title = '')\n",
    "                )\n",
    "fig.show()"
   ]
  }
 ],
 "metadata": {
  "kernelspec": {
   "display_name": "jupyter-venv",
   "language": "python",
   "name": "python3"
  },
  "language_info": {
   "codemirror_mode": {
    "name": "ipython",
    "version": 3
   },
   "file_extension": ".py",
   "mimetype": "text/x-python",
   "name": "python",
   "nbconvert_exporter": "python",
   "pygments_lexer": "ipython3",
   "version": "3.11.5"
  }
 },
 "nbformat": 4,
 "nbformat_minor": 2
}
