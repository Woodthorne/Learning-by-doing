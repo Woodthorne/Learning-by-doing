{
 "cells": [
  {
   "cell_type": "markdown",
   "metadata": {},
   "source": [
    "# Titanic med CatBoost"
   ]
  },
  {
   "cell_type": "markdown",
   "metadata": {},
   "source": [
    "## Frågeställningar\n",
    "1) Vad för typ av boosting är det?\n",
    "2) Behövs encoding för kategoriska värden?\n",
    "3) Kan den hantera missing values? (NaN/None etc)\n",
    "4) Hur lång tid tar det att träna en modell\n",
    "5) Hur många hyperparametrar finns det och vilka är de viktigaste\n",
    "6) Hur bra fungerar den på större dataset?"
   ]
  },
  {
   "cell_type": "markdown",
   "metadata": {},
   "source": [
    "#### Importerar bibliotek"
   ]
  },
  {
   "cell_type": "code",
   "execution_count": null,
   "metadata": {},
   "outputs": [],
   "source": []
  }
 ],
 "metadata": {
  "language_info": {
   "name": "python"
  }
 },
 "nbformat": 4,
 "nbformat_minor": 2
}
